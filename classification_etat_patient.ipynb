{
 "cells": [
  {
   "cell_type": "code",
   "execution_count": 11,
   "metadata": {},
   "outputs": [
    {
     "name": "stdout",
     "output_type": "stream",
     "text": [
      "La dernière valeur de 'blood_pressure' est : 14.96\n"
     ]
    }
   ],
   "source": [
    "from pymongo import MongoClient\n",
    "\n",
    "# Configuration MongoDB\n",
    "mongo_client = MongoClient('mongodb://localhost:27017/')\n",
    "\n",
    "# Nom de la base de données et de la collection\n",
    "db_name = \"hopital\"\n",
    "collection_name = \"blood_pressure\"\n",
    "\n",
    "# Fonction pour récupérer la dernière valeur de \"value\" dans la collection \"blood_pressure\"\n",
    "def get_latest_blood_pressure_value():\n",
    "    db = mongo_client[db_name]\n",
    "    collection = db[collection_name]\n",
    "    \n",
    "    # Trouver le dernier document inséré (trié par timestamp décroissant)\n",
    "    latest_document = collection.find_one(sort=[(\"timestamp\", -1)])\n",
    "    \n",
    "    if latest_document:\n",
    "        latest_value = latest_document.get(\"value\", None)\n",
    "        if latest_value:\n",
    "            print(f\"La dernière valeur de 'blood_pressure' est : {latest_value}\")\n",
    "        else:\n",
    "            print(\"La dernière valeur de 'blood_pressure' est introuvable.\")\n",
    "    else:\n",
    "        print(\"Aucun document trouvé dans la collection 'blood_pressure'.\")\n",
    "\n",
    "# Appeler la fonction pour obtenir et afficher la dernière valeur\n",
    "get_latest_blood_pressure_value()\n",
    "\n"
   ]
  },
  {
   "cell_type": "code",
   "execution_count": 25,
   "metadata": {},
   "outputs": [
    {
     "name": "stderr",
     "output_type": "stream",
     "text": [
      "c:\\Users\\dell\\AppData\\Local\\Programs\\Python\\Python310\\lib\\site-packages\\sklearn\\base.py:329: UserWarning: Trying to unpickle estimator DecisionTreeClassifier from version 1.0.2 when using version 1.1.1. This might lead to breaking code or invalid results. Use at your own risk. For more info please refer to:\n",
      "https://scikit-learn.org/stable/model_persistence.html#security-maintainability-limitations\n",
      "  warnings.warn(\n",
      "C:\\Users\\dell\\AppData\\Local\\Temp\\ipykernel_18264\\3436011793.py:200: DeprecationWarning: Callback API version 1 is deprecated, update to latest version\n",
      "  client = mqtt.Client()\n",
      "c:\\Users\\dell\\AppData\\Local\\Programs\\Python\\Python310\\lib\\site-packages\\sklearn\\base.py:450: UserWarning: X does not have valid feature names, but DecisionTreeClassifier was fitted with feature names\n",
      "  warnings.warn(\n",
      "c:\\Users\\dell\\AppData\\Local\\Programs\\Python\\Python310\\lib\\site-packages\\sklearn\\base.py:450: UserWarning: X does not have valid feature names, but DecisionTreeClassifier was fitted with feature names\n",
      "  warnings.warn(\n",
      "c:\\Users\\dell\\AppData\\Local\\Programs\\Python\\Python310\\lib\\site-packages\\sklearn\\base.py:450: UserWarning: X does not have valid feature names, but DecisionTreeClassifier was fitted with feature names\n",
      "  warnings.warn(\n"
     ]
    },
    {
     "name": "stdout",
     "output_type": "stream",
     "text": [
      "Connected to MQTT broker\n",
      "Received `25.83` from `vital_signs/bed1/temperature` topic\n",
      "Received `-999` from `vital_signs/bed1/heart_rate` topic\n",
      "Received `-999` from `vital_signs/bed1/spo2` topic\n",
      "Received `22` from `vital_signs/bed1/breath_rate` topic\n",
      "La dernière valeur de 'blood_pressure' est : 5.47\n",
      "État de santé prédit: Pas Normal\n",
      "Règles pour l'échantillon 0:\n",
      "Decision node 0: (X[respiratory_rate] > 18.50)\n",
      "Tableau des signaux vitaux: [-999.0, 5.47, -999.0, 22.0, 25.83]\n",
      "Data inserted into collection 'temperature' in database 'hopital'\n",
      "Data inserted into collection 'heart_rate' in database 'hopital'\n",
      "Data inserted into collection 'spo2' in database 'hopital'\n",
      "Data inserted into collection 'breath_rate' in database 'hopital'\n",
      "Data inserted into collection 'etat_patient' in database 'hopital'\n",
      "Received `25.80` from `vital_signs/bed1/temperature` topic\n",
      "Received `-999` from `vital_signs/bed1/heart_rate` topic\n",
      "Received `-999` from `vital_signs/bed1/spo2` topic\n",
      "Received `29` from `vital_signs/bed1/breath_rate` topic\n",
      "La dernière valeur de 'blood_pressure' est : 5.47\n",
      "État de santé prédit: Pas Normal\n",
      "Règles pour l'échantillon 0:\n",
      "Decision node 0: (X[respiratory_rate] > 18.50)\n",
      "Tableau des signaux vitaux: [-999.0, 5.47, -999.0, 29.0, 25.8]\n",
      "Data inserted into collection 'temperature' in database 'hopital'\n",
      "Data inserted into collection 'heart_rate' in database 'hopital'\n",
      "Data inserted into collection 'spo2' in database 'hopital'\n",
      "Data inserted into collection 'breath_rate' in database 'hopital'\n",
      "Data inserted into collection 'etat_patient' in database 'hopital'\n"
     ]
    },
    {
     "name": "stderr",
     "output_type": "stream",
     "text": [
      "c:\\Users\\dell\\AppData\\Local\\Programs\\Python\\Python310\\lib\\site-packages\\sklearn\\base.py:450: UserWarning: X does not have valid feature names, but DecisionTreeClassifier was fitted with feature names\n",
      "  warnings.warn(\n",
      "c:\\Users\\dell\\AppData\\Local\\Programs\\Python\\Python310\\lib\\site-packages\\sklearn\\base.py:450: UserWarning: X does not have valid feature names, but DecisionTreeClassifier was fitted with feature names\n",
      "  warnings.warn(\n",
      "c:\\Users\\dell\\AppData\\Local\\Programs\\Python\\Python310\\lib\\site-packages\\sklearn\\base.py:450: UserWarning: X does not have valid feature names, but DecisionTreeClassifier was fitted with feature names\n",
      "  warnings.warn(\n"
     ]
    },
    {
     "name": "stdout",
     "output_type": "stream",
     "text": [
      "Received `25.81` from `vital_signs/bed1/temperature` topic\n",
      "Received `-999` from `vital_signs/bed1/heart_rate` topic\n",
      "Received `-999` from `vital_signs/bed1/spo2` topic\n",
      "Received `18` from `vital_signs/bed1/breath_rate` topic\n",
      "La dernière valeur de 'blood_pressure' est : 5.47\n",
      "État de santé prédit: Pas Normal\n",
      "Règles pour l'échantillon 0:\n",
      "Decision node 0: (X[respiratory_rate] <= 18.50)\n",
      "Decision node 1: (X[blood_pressure] <= 121.00)\n",
      "Decision node 2: (X[blood_pressure] <= 89.50)\n",
      "Tableau des signaux vitaux: [-999.0, 5.47, -999.0, 18.0, 25.81]\n",
      "Data inserted into collection 'temperature' in database 'hopital'\n",
      "Data inserted into collection 'heart_rate' in database 'hopital'\n",
      "Data inserted into collection 'spo2' in database 'hopital'\n",
      "Data inserted into collection 'breath_rate' in database 'hopital'\n",
      "Data inserted into collection 'etat_patient' in database 'hopital'\n"
     ]
    },
    {
     "name": "stderr",
     "output_type": "stream",
     "text": [
      "c:\\Users\\dell\\AppData\\Local\\Programs\\Python\\Python310\\lib\\site-packages\\sklearn\\base.py:450: UserWarning: X does not have valid feature names, but DecisionTreeClassifier was fitted with feature names\n",
      "  warnings.warn(\n",
      "c:\\Users\\dell\\AppData\\Local\\Programs\\Python\\Python310\\lib\\site-packages\\sklearn\\base.py:450: UserWarning: X does not have valid feature names, but DecisionTreeClassifier was fitted with feature names\n",
      "  warnings.warn(\n",
      "c:\\Users\\dell\\AppData\\Local\\Programs\\Python\\Python310\\lib\\site-packages\\sklearn\\base.py:450: UserWarning: X does not have valid feature names, but DecisionTreeClassifier was fitted with feature names\n",
      "  warnings.warn(\n"
     ]
    },
    {
     "name": "stdout",
     "output_type": "stream",
     "text": [
      "Received `25.80` from `vital_signs/bed1/temperature` topic\n",
      "Received `-999` from `vital_signs/bed1/heart_rate` topic\n",
      "Received `-999` from `vital_signs/bed1/spo2` topic\n",
      "Received `13` from `vital_signs/bed1/breath_rate` topic\n",
      "La dernière valeur de 'blood_pressure' est : 5.47\n",
      "État de santé prédit: Pas Normal\n",
      "Règles pour l'échantillon 0:\n",
      "Decision node 0: (X[respiratory_rate] <= 18.50)\n",
      "Decision node 1: (X[blood_pressure] <= 121.00)\n",
      "Decision node 2: (X[blood_pressure] <= 89.50)\n",
      "Tableau des signaux vitaux: [-999.0, 5.47, -999.0, 13.0, 25.8]\n",
      "Data inserted into collection 'temperature' in database 'hopital'\n",
      "Data inserted into collection 'heart_rate' in database 'hopital'\n",
      "Data inserted into collection 'spo2' in database 'hopital'\n",
      "Data inserted into collection 'breath_rate' in database 'hopital'\n",
      "Data inserted into collection 'etat_patient' in database 'hopital'\n"
     ]
    },
    {
     "name": "stderr",
     "output_type": "stream",
     "text": [
      "c:\\Users\\dell\\AppData\\Local\\Programs\\Python\\Python310\\lib\\site-packages\\sklearn\\base.py:450: UserWarning: X does not have valid feature names, but DecisionTreeClassifier was fitted with feature names\n",
      "  warnings.warn(\n",
      "c:\\Users\\dell\\AppData\\Local\\Programs\\Python\\Python310\\lib\\site-packages\\sklearn\\base.py:450: UserWarning: X does not have valid feature names, but DecisionTreeClassifier was fitted with feature names\n",
      "  warnings.warn(\n",
      "c:\\Users\\dell\\AppData\\Local\\Programs\\Python\\Python310\\lib\\site-packages\\sklearn\\base.py:450: UserWarning: X does not have valid feature names, but DecisionTreeClassifier was fitted with feature names\n",
      "  warnings.warn(\n"
     ]
    },
    {
     "name": "stdout",
     "output_type": "stream",
     "text": [
      "Received `25.81` from `vital_signs/bed1/temperature` topic\n",
      "Received `-999` from `vital_signs/bed1/heart_rate` topic\n",
      "Received `-999` from `vital_signs/bed1/spo2` topic\n",
      "Received `20` from `vital_signs/bed1/breath_rate` topic\n",
      "La dernière valeur de 'blood_pressure' est : 5.47\n",
      "État de santé prédit: Pas Normal\n",
      "Règles pour l'échantillon 0:\n",
      "Decision node 0: (X[respiratory_rate] > 18.50)\n",
      "Tableau des signaux vitaux: [-999.0, 5.47, -999.0, 20.0, 25.81]\n",
      "Data inserted into collection 'temperature' in database 'hopital'\n",
      "Data inserted into collection 'heart_rate' in database 'hopital'\n",
      "Data inserted into collection 'spo2' in database 'hopital'\n",
      "Data inserted into collection 'breath_rate' in database 'hopital'\n",
      "Data inserted into collection 'etat_patient' in database 'hopital'\n"
     ]
    },
    {
     "name": "stderr",
     "output_type": "stream",
     "text": [
      "c:\\Users\\dell\\AppData\\Local\\Programs\\Python\\Python310\\lib\\site-packages\\sklearn\\base.py:450: UserWarning: X does not have valid feature names, but DecisionTreeClassifier was fitted with feature names\n",
      "  warnings.warn(\n",
      "c:\\Users\\dell\\AppData\\Local\\Programs\\Python\\Python310\\lib\\site-packages\\sklearn\\base.py:450: UserWarning: X does not have valid feature names, but DecisionTreeClassifier was fitted with feature names\n",
      "  warnings.warn(\n",
      "c:\\Users\\dell\\AppData\\Local\\Programs\\Python\\Python310\\lib\\site-packages\\sklearn\\base.py:450: UserWarning: X does not have valid feature names, but DecisionTreeClassifier was fitted with feature names\n",
      "  warnings.warn(\n"
     ]
    },
    {
     "name": "stdout",
     "output_type": "stream",
     "text": [
      "Received `25.85` from `vital_signs/bed1/temperature` topic\n",
      "Received `-999` from `vital_signs/bed1/heart_rate` topic\n",
      "Received `-999` from `vital_signs/bed1/spo2` topic\n",
      "Received `27` from `vital_signs/bed1/breath_rate` topic\n",
      "La dernière valeur de 'blood_pressure' est : 5.47\n",
      "État de santé prédit: Pas Normal\n",
      "Règles pour l'échantillon 0:\n",
      "Decision node 0: (X[respiratory_rate] > 18.50)\n",
      "Tableau des signaux vitaux: [-999.0, 5.47, -999.0, 27.0, 25.85]\n",
      "Data inserted into collection 'temperature' in database 'hopital'\n",
      "Data inserted into collection 'heart_rate' in database 'hopital'\n",
      "Data inserted into collection 'spo2' in database 'hopital'\n",
      "Data inserted into collection 'breath_rate' in database 'hopital'\n",
      "Data inserted into collection 'etat_patient' in database 'hopital'\n"
     ]
    },
    {
     "name": "stderr",
     "output_type": "stream",
     "text": [
      "c:\\Users\\dell\\AppData\\Local\\Programs\\Python\\Python310\\lib\\site-packages\\sklearn\\base.py:450: UserWarning: X does not have valid feature names, but DecisionTreeClassifier was fitted with feature names\n",
      "  warnings.warn(\n",
      "c:\\Users\\dell\\AppData\\Local\\Programs\\Python\\Python310\\lib\\site-packages\\sklearn\\base.py:450: UserWarning: X does not have valid feature names, but DecisionTreeClassifier was fitted with feature names\n",
      "  warnings.warn(\n",
      "c:\\Users\\dell\\AppData\\Local\\Programs\\Python\\Python310\\lib\\site-packages\\sklearn\\base.py:450: UserWarning: X does not have valid feature names, but DecisionTreeClassifier was fitted with feature names\n",
      "  warnings.warn(\n"
     ]
    },
    {
     "name": "stdout",
     "output_type": "stream",
     "text": [
      "Received `25.84` from `vital_signs/bed1/temperature` topic\n",
      "Received `-999` from `vital_signs/bed1/heart_rate` topic\n",
      "Received `-999` from `vital_signs/bed1/spo2` topic\n",
      "Received `16` from `vital_signs/bed1/breath_rate` topic\n",
      "La dernière valeur de 'blood_pressure' est : 5.47\n",
      "État de santé prédit: Pas Normal\n",
      "Règles pour l'échantillon 0:\n",
      "Decision node 0: (X[respiratory_rate] <= 18.50)\n",
      "Decision node 1: (X[blood_pressure] <= 121.00)\n",
      "Decision node 2: (X[blood_pressure] <= 89.50)\n",
      "Tableau des signaux vitaux: [-999.0, 5.47, -999.0, 16.0, 25.84]\n",
      "Data inserted into collection 'temperature' in database 'hopital'\n",
      "Data inserted into collection 'heart_rate' in database 'hopital'\n",
      "Data inserted into collection 'spo2' in database 'hopital'\n",
      "Data inserted into collection 'breath_rate' in database 'hopital'\n",
      "Data inserted into collection 'etat_patient' in database 'hopital'\n"
     ]
    },
    {
     "name": "stderr",
     "output_type": "stream",
     "text": [
      "c:\\Users\\dell\\AppData\\Local\\Programs\\Python\\Python310\\lib\\site-packages\\sklearn\\base.py:450: UserWarning: X does not have valid feature names, but DecisionTreeClassifier was fitted with feature names\n",
      "  warnings.warn(\n",
      "c:\\Users\\dell\\AppData\\Local\\Programs\\Python\\Python310\\lib\\site-packages\\sklearn\\base.py:450: UserWarning: X does not have valid feature names, but DecisionTreeClassifier was fitted with feature names\n",
      "  warnings.warn(\n",
      "c:\\Users\\dell\\AppData\\Local\\Programs\\Python\\Python310\\lib\\site-packages\\sklearn\\base.py:450: UserWarning: X does not have valid feature names, but DecisionTreeClassifier was fitted with feature names\n",
      "  warnings.warn(\n"
     ]
    },
    {
     "name": "stdout",
     "output_type": "stream",
     "text": [
      "Received `25.85` from `vital_signs/bed1/temperature` topic\n",
      "Received `-560` from `vital_signs/bed1/heart_rate` topic\n",
      "Received `-559` from `vital_signs/bed1/spo2` topic\n",
      "Received `22` from `vital_signs/bed1/breath_rate` topic\n",
      "La dernière valeur de 'blood_pressure' est : 5.47\n",
      "État de santé prédit: Pas Normal\n",
      "Règles pour l'échantillon 0:\n",
      "Decision node 0: (X[respiratory_rate] > 18.50)\n",
      "Tableau des signaux vitaux: [-560.0, 5.47, -559.0, 22.0, 25.85]\n",
      "Data inserted into collection 'temperature' in database 'hopital'\n",
      "Data inserted into collection 'heart_rate' in database 'hopital'\n",
      "Data inserted into collection 'spo2' in database 'hopital'\n",
      "Data inserted into collection 'breath_rate' in database 'hopital'\n",
      "Data inserted into collection 'etat_patient' in database 'hopital'\n"
     ]
    },
    {
     "name": "stderr",
     "output_type": "stream",
     "text": [
      "c:\\Users\\dell\\AppData\\Local\\Programs\\Python\\Python310\\lib\\site-packages\\sklearn\\base.py:450: UserWarning: X does not have valid feature names, but DecisionTreeClassifier was fitted with feature names\n",
      "  warnings.warn(\n",
      "c:\\Users\\dell\\AppData\\Local\\Programs\\Python\\Python310\\lib\\site-packages\\sklearn\\base.py:450: UserWarning: X does not have valid feature names, but DecisionTreeClassifier was fitted with feature names\n",
      "  warnings.warn(\n",
      "c:\\Users\\dell\\AppData\\Local\\Programs\\Python\\Python310\\lib\\site-packages\\sklearn\\base.py:450: UserWarning: X does not have valid feature names, but DecisionTreeClassifier was fitted with feature names\n",
      "  warnings.warn(\n"
     ]
    },
    {
     "name": "stdout",
     "output_type": "stream",
     "text": [
      "Received `25.85` from `vital_signs/bed1/temperature` topic\n",
      "Received `92` from `vital_signs/bed1/heart_rate` topic\n",
      "Received `99` from `vital_signs/bed1/spo2` topic\n",
      "Received `20` from `vital_signs/bed1/breath_rate` topic\n",
      "La dernière valeur de 'blood_pressure' est : 5.47\n",
      "État de santé prédit: Pas Normal\n",
      "Règles pour l'échantillon 0:\n",
      "Decision node 0: (X[respiratory_rate] > 18.50)\n",
      "Tableau des signaux vitaux: [92.0, 5.47, 99.0, 20.0, 25.85]\n",
      "Data inserted into collection 'temperature' in database 'hopital'\n",
      "Data inserted into collection 'heart_rate' in database 'hopital'\n",
      "Data inserted into collection 'spo2' in database 'hopital'\n",
      "Data inserted into collection 'breath_rate' in database 'hopital'\n",
      "Data inserted into collection 'etat_patient' in database 'hopital'\n"
     ]
    },
    {
     "name": "stderr",
     "output_type": "stream",
     "text": [
      "c:\\Users\\dell\\AppData\\Local\\Programs\\Python\\Python310\\lib\\site-packages\\sklearn\\base.py:450: UserWarning: X does not have valid feature names, but DecisionTreeClassifier was fitted with feature names\n",
      "  warnings.warn(\n",
      "c:\\Users\\dell\\AppData\\Local\\Programs\\Python\\Python310\\lib\\site-packages\\sklearn\\base.py:450: UserWarning: X does not have valid feature names, but DecisionTreeClassifier was fitted with feature names\n",
      "  warnings.warn(\n",
      "c:\\Users\\dell\\AppData\\Local\\Programs\\Python\\Python310\\lib\\site-packages\\sklearn\\base.py:450: UserWarning: X does not have valid feature names, but DecisionTreeClassifier was fitted with feature names\n",
      "  warnings.warn(\n"
     ]
    },
    {
     "name": "stdout",
     "output_type": "stream",
     "text": [
      "Received `25.88` from `vital_signs/bed1/temperature` topic\n",
      "Received `-999` from `vital_signs/bed1/heart_rate` topic\n",
      "Received `-999` from `vital_signs/bed1/spo2` topic\n",
      "Received `15` from `vital_signs/bed1/breath_rate` topic\n",
      "La dernière valeur de 'blood_pressure' est : 5.47\n",
      "État de santé prédit: Pas Normal\n",
      "Règles pour l'échantillon 0:\n",
      "Decision node 0: (X[respiratory_rate] <= 18.50)\n",
      "Decision node 1: (X[blood_pressure] <= 121.00)\n",
      "Decision node 2: (X[blood_pressure] <= 89.50)\n",
      "Tableau des signaux vitaux: [-999.0, 5.47, -999.0, 15.0, 25.88]\n",
      "Data inserted into collection 'temperature' in database 'hopital'\n",
      "Data inserted into collection 'heart_rate' in database 'hopital'\n",
      "Data inserted into collection 'spo2' in database 'hopital'\n",
      "Data inserted into collection 'breath_rate' in database 'hopital'\n",
      "Data inserted into collection 'etat_patient' in database 'hopital'\n"
     ]
    },
    {
     "name": "stderr",
     "output_type": "stream",
     "text": [
      "c:\\Users\\dell\\AppData\\Local\\Programs\\Python\\Python310\\lib\\site-packages\\sklearn\\base.py:450: UserWarning: X does not have valid feature names, but DecisionTreeClassifier was fitted with feature names\n",
      "  warnings.warn(\n",
      "c:\\Users\\dell\\AppData\\Local\\Programs\\Python\\Python310\\lib\\site-packages\\sklearn\\base.py:450: UserWarning: X does not have valid feature names, but DecisionTreeClassifier was fitted with feature names\n",
      "  warnings.warn(\n",
      "c:\\Users\\dell\\AppData\\Local\\Programs\\Python\\Python310\\lib\\site-packages\\sklearn\\base.py:450: UserWarning: X does not have valid feature names, but DecisionTreeClassifier was fitted with feature names\n",
      "  warnings.warn(\n"
     ]
    },
    {
     "name": "stdout",
     "output_type": "stream",
     "text": [
      "Received `25.84` from `vital_signs/bed1/temperature` topic\n",
      "Received `-999` from `vital_signs/bed1/heart_rate` topic\n",
      "Received `-999` from `vital_signs/bed1/spo2` topic\n",
      "Received `17` from `vital_signs/bed1/breath_rate` topic\n",
      "La dernière valeur de 'blood_pressure' est : 5.47\n",
      "État de santé prédit: Pas Normal\n",
      "Règles pour l'échantillon 0:\n",
      "Decision node 0: (X[respiratory_rate] <= 18.50)\n",
      "Decision node 1: (X[blood_pressure] <= 121.00)\n",
      "Decision node 2: (X[blood_pressure] <= 89.50)\n",
      "Tableau des signaux vitaux: [-999.0, 5.47, -999.0, 17.0, 25.84]\n",
      "Data inserted into collection 'temperature' in database 'hopital'\n",
      "Data inserted into collection 'heart_rate' in database 'hopital'\n",
      "Data inserted into collection 'spo2' in database 'hopital'\n",
      "Data inserted into collection 'breath_rate' in database 'hopital'\n",
      "Data inserted into collection 'etat_patient' in database 'hopital'\n"
     ]
    },
    {
     "name": "stderr",
     "output_type": "stream",
     "text": [
      "c:\\Users\\dell\\AppData\\Local\\Programs\\Python\\Python310\\lib\\site-packages\\sklearn\\base.py:450: UserWarning: X does not have valid feature names, but DecisionTreeClassifier was fitted with feature names\n",
      "  warnings.warn(\n",
      "c:\\Users\\dell\\AppData\\Local\\Programs\\Python\\Python310\\lib\\site-packages\\sklearn\\base.py:450: UserWarning: X does not have valid feature names, but DecisionTreeClassifier was fitted with feature names\n",
      "  warnings.warn(\n",
      "c:\\Users\\dell\\AppData\\Local\\Programs\\Python\\Python310\\lib\\site-packages\\sklearn\\base.py:450: UserWarning: X does not have valid feature names, but DecisionTreeClassifier was fitted with feature names\n",
      "  warnings.warn(\n"
     ]
    },
    {
     "name": "stdout",
     "output_type": "stream",
     "text": [
      "Received `25.85` from `vital_signs/bed1/temperature` topic\n",
      "Received `-999` from `vital_signs/bed1/heart_rate` topic\n",
      "Received `-999` from `vital_signs/bed1/spo2` topic\n",
      "Received `18` from `vital_signs/bed1/breath_rate` topic\n",
      "La dernière valeur de 'blood_pressure' est : 5.47\n",
      "État de santé prédit: Pas Normal\n",
      "Règles pour l'échantillon 0:\n",
      "Decision node 0: (X[respiratory_rate] <= 18.50)\n",
      "Decision node 1: (X[blood_pressure] <= 121.00)\n",
      "Decision node 2: (X[blood_pressure] <= 89.50)\n",
      "Tableau des signaux vitaux: [-999.0, 5.47, -999.0, 18.0, 25.85]\n",
      "Data inserted into collection 'temperature' in database 'hopital'\n",
      "Data inserted into collection 'heart_rate' in database 'hopital'\n",
      "Data inserted into collection 'spo2' in database 'hopital'\n",
      "Data inserted into collection 'breath_rate' in database 'hopital'\n",
      "Data inserted into collection 'etat_patient' in database 'hopital'\n"
     ]
    },
    {
     "name": "stderr",
     "output_type": "stream",
     "text": [
      "c:\\Users\\dell\\AppData\\Local\\Programs\\Python\\Python310\\lib\\site-packages\\sklearn\\base.py:450: UserWarning: X does not have valid feature names, but DecisionTreeClassifier was fitted with feature names\n",
      "  warnings.warn(\n",
      "c:\\Users\\dell\\AppData\\Local\\Programs\\Python\\Python310\\lib\\site-packages\\sklearn\\base.py:450: UserWarning: X does not have valid feature names, but DecisionTreeClassifier was fitted with feature names\n",
      "  warnings.warn(\n",
      "c:\\Users\\dell\\AppData\\Local\\Programs\\Python\\Python310\\lib\\site-packages\\sklearn\\base.py:450: UserWarning: X does not have valid feature names, but DecisionTreeClassifier was fitted with feature names\n",
      "  warnings.warn(\n"
     ]
    },
    {
     "name": "stdout",
     "output_type": "stream",
     "text": [
      "Received `25.83` from `vital_signs/bed1/temperature` topic\n",
      "Received `-999` from `vital_signs/bed1/heart_rate` topic\n",
      "Received `-999` from `vital_signs/bed1/spo2` topic\n",
      "Received `23` from `vital_signs/bed1/breath_rate` topic\n",
      "La dernière valeur de 'blood_pressure' est : 5.47\n",
      "État de santé prédit: Pas Normal\n",
      "Règles pour l'échantillon 0:\n",
      "Decision node 0: (X[respiratory_rate] > 18.50)\n",
      "Tableau des signaux vitaux: [-999.0, 5.47, -999.0, 23.0, 25.83]\n",
      "Data inserted into collection 'temperature' in database 'hopital'\n",
      "Data inserted into collection 'heart_rate' in database 'hopital'\n",
      "Data inserted into collection 'spo2' in database 'hopital'\n",
      "Data inserted into collection 'breath_rate' in database 'hopital'\n",
      "Data inserted into collection 'etat_patient' in database 'hopital'\n"
     ]
    },
    {
     "name": "stderr",
     "output_type": "stream",
     "text": [
      "c:\\Users\\dell\\AppData\\Local\\Programs\\Python\\Python310\\lib\\site-packages\\sklearn\\base.py:450: UserWarning: X does not have valid feature names, but DecisionTreeClassifier was fitted with feature names\n",
      "  warnings.warn(\n",
      "c:\\Users\\dell\\AppData\\Local\\Programs\\Python\\Python310\\lib\\site-packages\\sklearn\\base.py:450: UserWarning: X does not have valid feature names, but DecisionTreeClassifier was fitted with feature names\n",
      "  warnings.warn(\n",
      "c:\\Users\\dell\\AppData\\Local\\Programs\\Python\\Python310\\lib\\site-packages\\sklearn\\base.py:450: UserWarning: X does not have valid feature names, but DecisionTreeClassifier was fitted with feature names\n",
      "  warnings.warn(\n"
     ]
    },
    {
     "name": "stdout",
     "output_type": "stream",
     "text": [
      "Received `25.83` from `vital_signs/bed1/temperature` topic\n",
      "Received `-999` from `vital_signs/bed1/heart_rate` topic\n",
      "Received `-999` from `vital_signs/bed1/spo2` topic\n",
      "Received `23` from `vital_signs/bed1/breath_rate` topic\n",
      "La dernière valeur de 'blood_pressure' est : 5.47\n",
      "État de santé prédit: Pas Normal\n",
      "Règles pour l'échantillon 0:\n",
      "Decision node 0: (X[respiratory_rate] > 18.50)\n",
      "Tableau des signaux vitaux: [-999.0, 5.47, -999.0, 23.0, 25.83]\n"
     ]
    },
    {
     "name": "stderr",
     "output_type": "stream",
     "text": [
      "c:\\Users\\dell\\AppData\\Local\\Programs\\Python\\Python310\\lib\\site-packages\\sklearn\\base.py:450: UserWarning: X does not have valid feature names, but DecisionTreeClassifier was fitted with feature names\n",
      "  warnings.warn(\n",
      "c:\\Users\\dell\\AppData\\Local\\Programs\\Python\\Python310\\lib\\site-packages\\sklearn\\base.py:450: UserWarning: X does not have valid feature names, but DecisionTreeClassifier was fitted with feature names\n",
      "  warnings.warn(\n",
      "c:\\Users\\dell\\AppData\\Local\\Programs\\Python\\Python310\\lib\\site-packages\\sklearn\\base.py:450: UserWarning: X does not have valid feature names, but DecisionTreeClassifier was fitted with feature names\n",
      "  warnings.warn(\n"
     ]
    },
    {
     "name": "stdout",
     "output_type": "stream",
     "text": [
      "Data inserted into collection 'temperature' in database 'hopital'\n",
      "Data inserted into collection 'heart_rate' in database 'hopital'\n",
      "Data inserted into collection 'spo2' in database 'hopital'\n",
      "Data inserted into collection 'breath_rate' in database 'hopital'\n",
      "Data inserted into collection 'etat_patient' in database 'hopital'\n",
      "Received `25.85` from `vital_signs/bed1/temperature` topic\n",
      "Received `-999` from `vital_signs/bed1/heart_rate` topic\n",
      "Received `-999` from `vital_signs/bed1/spo2` topic\n",
      "Received `21` from `vital_signs/bed1/breath_rate` topic\n",
      "La dernière valeur de 'blood_pressure' est : 5.47\n",
      "État de santé prédit: Pas Normal\n",
      "Règles pour l'échantillon 0:\n",
      "Decision node 0: (X[respiratory_rate] > 18.50)\n",
      "Tableau des signaux vitaux: [-999.0, 5.47, -999.0, 21.0, 25.85]\n",
      "Data inserted into collection 'temperature' in database 'hopital'\n",
      "Data inserted into collection 'heart_rate' in database 'hopital'\n",
      "Data inserted into collection 'spo2' in database 'hopital'\n",
      "Data inserted into collection 'breath_rate' in database 'hopital'\n",
      "Data inserted into collection 'etat_patient' in database 'hopital'\n"
     ]
    },
    {
     "name": "stderr",
     "output_type": "stream",
     "text": [
      "c:\\Users\\dell\\AppData\\Local\\Programs\\Python\\Python310\\lib\\site-packages\\sklearn\\base.py:450: UserWarning: X does not have valid feature names, but DecisionTreeClassifier was fitted with feature names\n",
      "  warnings.warn(\n",
      "c:\\Users\\dell\\AppData\\Local\\Programs\\Python\\Python310\\lib\\site-packages\\sklearn\\base.py:450: UserWarning: X does not have valid feature names, but DecisionTreeClassifier was fitted with feature names\n",
      "  warnings.warn(\n",
      "c:\\Users\\dell\\AppData\\Local\\Programs\\Python\\Python310\\lib\\site-packages\\sklearn\\base.py:450: UserWarning: X does not have valid feature names, but DecisionTreeClassifier was fitted with feature names\n",
      "  warnings.warn(\n"
     ]
    },
    {
     "name": "stdout",
     "output_type": "stream",
     "text": [
      "Received `25.83` from `vital_signs/bed1/temperature` topic\n",
      "Received `-999` from `vital_signs/bed1/heart_rate` topic\n",
      "Received `-999` from `vital_signs/bed1/spo2` topic\n",
      "Received `26` from `vital_signs/bed1/breath_rate` topic\n",
      "La dernière valeur de 'blood_pressure' est : 5.47\n",
      "État de santé prédit: Pas Normal\n",
      "Règles pour l'échantillon 0:\n",
      "Decision node 0: (X[respiratory_rate] > 18.50)\n",
      "Tableau des signaux vitaux: [-999.0, 5.47, -999.0, 26.0, 25.83]\n",
      "Data inserted into collection 'temperature' in database 'hopital'\n",
      "Data inserted into collection 'heart_rate' in database 'hopital'\n",
      "Data inserted into collection 'spo2' in database 'hopital'\n",
      "Data inserted into collection 'breath_rate' in database 'hopital'\n",
      "Data inserted into collection 'etat_patient' in database 'hopital'\n"
     ]
    },
    {
     "name": "stderr",
     "output_type": "stream",
     "text": [
      "c:\\Users\\dell\\AppData\\Local\\Programs\\Python\\Python310\\lib\\site-packages\\sklearn\\base.py:450: UserWarning: X does not have valid feature names, but DecisionTreeClassifier was fitted with feature names\n",
      "  warnings.warn(\n",
      "c:\\Users\\dell\\AppData\\Local\\Programs\\Python\\Python310\\lib\\site-packages\\sklearn\\base.py:450: UserWarning: X does not have valid feature names, but DecisionTreeClassifier was fitted with feature names\n",
      "  warnings.warn(\n",
      "c:\\Users\\dell\\AppData\\Local\\Programs\\Python\\Python310\\lib\\site-packages\\sklearn\\base.py:450: UserWarning: X does not have valid feature names, but DecisionTreeClassifier was fitted with feature names\n",
      "  warnings.warn(\n"
     ]
    },
    {
     "name": "stdout",
     "output_type": "stream",
     "text": [
      "Received `25.88` from `vital_signs/bed1/temperature` topic\n",
      "Received `25.90` from `vital_signs/bed1/temperature` topic\n",
      "Received `-999` from `vital_signs/bed1/heart_rate` topic\n",
      "Received `-999` from `vital_signs/bed1/spo2` topic\n",
      "Received `23` from `vital_signs/bed1/breath_rate` topic\n",
      "La dernière valeur de 'blood_pressure' est : 5.47\n",
      "État de santé prédit: Pas Normal\n",
      "Règles pour l'échantillon 0:\n",
      "Decision node 0: (X[respiratory_rate] > 18.50)\n",
      "Tableau des signaux vitaux: [-999.0, 5.47, -999.0, 23.0, 25.9]\n",
      "Data inserted into collection 'temperature' in database 'hopital'\n",
      "Data inserted into collection 'heart_rate' in database 'hopital'\n",
      "Data inserted into collection 'spo2' in database 'hopital'\n",
      "Data inserted into collection 'breath_rate' in database 'hopital'\n",
      "Data inserted into collection 'etat_patient' in database 'hopital'\n"
     ]
    },
    {
     "name": "stderr",
     "output_type": "stream",
     "text": [
      "c:\\Users\\dell\\AppData\\Local\\Programs\\Python\\Python310\\lib\\site-packages\\sklearn\\base.py:450: UserWarning: X does not have valid feature names, but DecisionTreeClassifier was fitted with feature names\n",
      "  warnings.warn(\n",
      "c:\\Users\\dell\\AppData\\Local\\Programs\\Python\\Python310\\lib\\site-packages\\sklearn\\base.py:450: UserWarning: X does not have valid feature names, but DecisionTreeClassifier was fitted with feature names\n",
      "  warnings.warn(\n",
      "c:\\Users\\dell\\AppData\\Local\\Programs\\Python\\Python310\\lib\\site-packages\\sklearn\\base.py:450: UserWarning: X does not have valid feature names, but DecisionTreeClassifier was fitted with feature names\n",
      "  warnings.warn(\n"
     ]
    },
    {
     "name": "stdout",
     "output_type": "stream",
     "text": [
      "Received `25.88` from `vital_signs/bed1/temperature` topic\n",
      "Received `-999` from `vital_signs/bed1/heart_rate` topic\n",
      "Received `-999` from `vital_signs/bed1/spo2` topic\n",
      "Received `16` from `vital_signs/bed1/breath_rate` topic\n",
      "La dernière valeur de 'blood_pressure' est : 5.47\n",
      "État de santé prédit: Pas Normal\n",
      "Règles pour l'échantillon 0:\n",
      "Decision node 0: (X[respiratory_rate] <= 18.50)\n",
      "Decision node 1: (X[blood_pressure] <= 121.00)\n",
      "Decision node 2: (X[blood_pressure] <= 89.50)\n",
      "Tableau des signaux vitaux: [-999.0, 5.47, -999.0, 16.0, 25.88]\n",
      "Data inserted into collection 'temperature' in database 'hopital'\n",
      "Data inserted into collection 'heart_rate' in database 'hopital'\n",
      "Data inserted into collection 'spo2' in database 'hopital'\n",
      "Data inserted into collection 'breath_rate' in database 'hopital'\n",
      "Data inserted into collection 'etat_patient' in database 'hopital'\n"
     ]
    },
    {
     "name": "stderr",
     "output_type": "stream",
     "text": [
      "c:\\Users\\dell\\AppData\\Local\\Programs\\Python\\Python310\\lib\\site-packages\\sklearn\\base.py:450: UserWarning: X does not have valid feature names, but DecisionTreeClassifier was fitted with feature names\n",
      "  warnings.warn(\n",
      "c:\\Users\\dell\\AppData\\Local\\Programs\\Python\\Python310\\lib\\site-packages\\sklearn\\base.py:450: UserWarning: X does not have valid feature names, but DecisionTreeClassifier was fitted with feature names\n",
      "  warnings.warn(\n",
      "c:\\Users\\dell\\AppData\\Local\\Programs\\Python\\Python310\\lib\\site-packages\\sklearn\\base.py:450: UserWarning: X does not have valid feature names, but DecisionTreeClassifier was fitted with feature names\n",
      "  warnings.warn(\n"
     ]
    },
    {
     "name": "stdout",
     "output_type": "stream",
     "text": [
      "Received `25.88` from `vital_signs/bed1/temperature` topic\n",
      "Received `-999` from `vital_signs/bed1/heart_rate` topic\n",
      "Received `-999` from `vital_signs/bed1/spo2` topic\n",
      "Received `25` from `vital_signs/bed1/breath_rate` topic\n",
      "La dernière valeur de 'blood_pressure' est : 5.47\n",
      "État de santé prédit: Pas Normal\n",
      "Règles pour l'échantillon 0:\n",
      "Decision node 0: (X[respiratory_rate] > 18.50)\n",
      "Tableau des signaux vitaux: [-999.0, 5.47, -999.0, 25.0, 25.88]\n",
      "Data inserted into collection 'temperature' in database 'hopital'\n",
      "Data inserted into collection 'heart_rate' in database 'hopital'\n",
      "Data inserted into collection 'spo2' in database 'hopital'\n",
      "Data inserted into collection 'breath_rate' in database 'hopital'\n",
      "Data inserted into collection 'etat_patient' in database 'hopital'\n"
     ]
    },
    {
     "name": "stderr",
     "output_type": "stream",
     "text": [
      "c:\\Users\\dell\\AppData\\Local\\Programs\\Python\\Python310\\lib\\site-packages\\sklearn\\base.py:450: UserWarning: X does not have valid feature names, but DecisionTreeClassifier was fitted with feature names\n",
      "  warnings.warn(\n",
      "c:\\Users\\dell\\AppData\\Local\\Programs\\Python\\Python310\\lib\\site-packages\\sklearn\\base.py:450: UserWarning: X does not have valid feature names, but DecisionTreeClassifier was fitted with feature names\n",
      "  warnings.warn(\n",
      "c:\\Users\\dell\\AppData\\Local\\Programs\\Python\\Python310\\lib\\site-packages\\sklearn\\base.py:450: UserWarning: X does not have valid feature names, but DecisionTreeClassifier was fitted with feature names\n",
      "  warnings.warn(\n"
     ]
    },
    {
     "name": "stdout",
     "output_type": "stream",
     "text": [
      "Received `25.86` from `vital_signs/bed1/temperature` topic\n",
      "Received `-999` from `vital_signs/bed1/heart_rate` topic\n",
      "Received `-999` from `vital_signs/bed1/spo2` topic\n",
      "Received `21` from `vital_signs/bed1/breath_rate` topic\n",
      "La dernière valeur de 'blood_pressure' est : 5.47\n",
      "État de santé prédit: Pas Normal\n",
      "Règles pour l'échantillon 0:\n",
      "Decision node 0: (X[respiratory_rate] > 18.50)\n",
      "Tableau des signaux vitaux: [-999.0, 5.47, -999.0, 21.0, 25.86]\n",
      "Data inserted into collection 'temperature' in database 'hopital'\n",
      "Data inserted into collection 'heart_rate' in database 'hopital'\n",
      "Data inserted into collection 'spo2' in database 'hopital'\n",
      "Data inserted into collection 'breath_rate' in database 'hopital'\n",
      "Data inserted into collection 'etat_patient' in database 'hopital'\n"
     ]
    },
    {
     "name": "stderr",
     "output_type": "stream",
     "text": [
      "c:\\Users\\dell\\AppData\\Local\\Programs\\Python\\Python310\\lib\\site-packages\\sklearn\\base.py:450: UserWarning: X does not have valid feature names, but DecisionTreeClassifier was fitted with feature names\n",
      "  warnings.warn(\n",
      "c:\\Users\\dell\\AppData\\Local\\Programs\\Python\\Python310\\lib\\site-packages\\sklearn\\base.py:450: UserWarning: X does not have valid feature names, but DecisionTreeClassifier was fitted with feature names\n",
      "  warnings.warn(\n",
      "c:\\Users\\dell\\AppData\\Local\\Programs\\Python\\Python310\\lib\\site-packages\\sklearn\\base.py:450: UserWarning: X does not have valid feature names, but DecisionTreeClassifier was fitted with feature names\n",
      "  warnings.warn(\n"
     ]
    },
    {
     "name": "stdout",
     "output_type": "stream",
     "text": [
      "Received `25.88` from `vital_signs/bed1/temperature` topic\n",
      "Received `-999` from `vital_signs/bed1/heart_rate` topic\n",
      "Received `-999` from `vital_signs/bed1/spo2` topic\n",
      "Received `17` from `vital_signs/bed1/breath_rate` topic\n",
      "La dernière valeur de 'blood_pressure' est : 5.47\n"
     ]
    },
    {
     "name": "stderr",
     "output_type": "stream",
     "text": [
      "c:\\Users\\dell\\AppData\\Local\\Programs\\Python\\Python310\\lib\\site-packages\\sklearn\\base.py:450: UserWarning: X does not have valid feature names, but DecisionTreeClassifier was fitted with feature names\n",
      "  warnings.warn(\n",
      "c:\\Users\\dell\\AppData\\Local\\Programs\\Python\\Python310\\lib\\site-packages\\sklearn\\base.py:450: UserWarning: X does not have valid feature names, but DecisionTreeClassifier was fitted with feature names\n",
      "  warnings.warn(\n",
      "c:\\Users\\dell\\AppData\\Local\\Programs\\Python\\Python310\\lib\\site-packages\\sklearn\\base.py:450: UserWarning: X does not have valid feature names, but DecisionTreeClassifier was fitted with feature names\n",
      "  warnings.warn(\n"
     ]
    },
    {
     "name": "stdout",
     "output_type": "stream",
     "text": [
      "État de santé prédit: Pas Normal\n",
      "Règles pour l'échantillon 0:\n",
      "Decision node 0: (X[respiratory_rate] <= 18.50)\n",
      "Decision node 1: (X[blood_pressure] <= 121.00)\n",
      "Decision node 2: (X[blood_pressure] <= 89.50)\n",
      "Tableau des signaux vitaux: [-999.0, 5.47, -999.0, 17.0, 25.88]\n",
      "Data inserted into collection 'temperature' in database 'hopital'\n",
      "Data inserted into collection 'heart_rate' in database 'hopital'\n",
      "Data inserted into collection 'spo2' in database 'hopital'\n",
      "Data inserted into collection 'breath_rate' in database 'hopital'\n",
      "Data inserted into collection 'etat_patient' in database 'hopital'\n",
      "Received `25.81` from `vital_signs/bed1/temperature` topic\n",
      "Received `-999` from `vital_signs/bed1/heart_rate` topic\n",
      "Received `-999` from `vital_signs/bed1/spo2` topic\n",
      "Received `13` from `vital_signs/bed1/breath_rate` topic\n",
      "La dernière valeur de 'blood_pressure' est : 5.06\n",
      "État de santé prédit: Pas Normal\n",
      "Règles pour l'échantillon 0:\n",
      "Decision node 0: (X[respiratory_rate] <= 18.50)\n",
      "Decision node 1: (X[blood_pressure] <= 121.00)\n",
      "Decision node 2: (X[blood_pressure] <= 89.50)\n",
      "Tableau des signaux vitaux: [-999.0, 5.06, -999.0, 13.0, 25.81]\n",
      "Data inserted into collection 'temperature' in database 'hopital'\n",
      "Data inserted into collection 'heart_rate' in database 'hopital'\n",
      "Data inserted into collection 'spo2' in database 'hopital'\n",
      "Data inserted into collection 'breath_rate' in database 'hopital'\n",
      "Data inserted into collection 'etat_patient' in database 'hopital'\n"
     ]
    },
    {
     "name": "stderr",
     "output_type": "stream",
     "text": [
      "c:\\Users\\dell\\AppData\\Local\\Programs\\Python\\Python310\\lib\\site-packages\\sklearn\\base.py:450: UserWarning: X does not have valid feature names, but DecisionTreeClassifier was fitted with feature names\n",
      "  warnings.warn(\n",
      "c:\\Users\\dell\\AppData\\Local\\Programs\\Python\\Python310\\lib\\site-packages\\sklearn\\base.py:450: UserWarning: X does not have valid feature names, but DecisionTreeClassifier was fitted with feature names\n",
      "  warnings.warn(\n",
      "c:\\Users\\dell\\AppData\\Local\\Programs\\Python\\Python310\\lib\\site-packages\\sklearn\\base.py:450: UserWarning: X does not have valid feature names, but DecisionTreeClassifier was fitted with feature names\n",
      "  warnings.warn(\n"
     ]
    },
    {
     "name": "stdout",
     "output_type": "stream",
     "text": [
      "Received `25.75` from `vital_signs/bed1/temperature` topic\n",
      "Received `-999` from `vital_signs/bed1/heart_rate` topic\n",
      "Received `-999` from `vital_signs/bed1/spo2` topic\n",
      "Received `18` from `vital_signs/bed1/breath_rate` topic\n",
      "La dernière valeur de 'blood_pressure' est : 5.06\n"
     ]
    },
    {
     "name": "stderr",
     "output_type": "stream",
     "text": [
      "c:\\Users\\dell\\AppData\\Local\\Programs\\Python\\Python310\\lib\\site-packages\\sklearn\\base.py:450: UserWarning: X does not have valid feature names, but DecisionTreeClassifier was fitted with feature names\n",
      "  warnings.warn(\n",
      "c:\\Users\\dell\\AppData\\Local\\Programs\\Python\\Python310\\lib\\site-packages\\sklearn\\base.py:450: UserWarning: X does not have valid feature names, but DecisionTreeClassifier was fitted with feature names\n",
      "  warnings.warn(\n",
      "c:\\Users\\dell\\AppData\\Local\\Programs\\Python\\Python310\\lib\\site-packages\\sklearn\\base.py:450: UserWarning: X does not have valid feature names, but DecisionTreeClassifier was fitted with feature names\n",
      "  warnings.warn(\n"
     ]
    },
    {
     "name": "stdout",
     "output_type": "stream",
     "text": [
      "État de santé prédit: Pas Normal\n",
      "Règles pour l'échantillon 0:\n",
      "Decision node 0: (X[respiratory_rate] <= 18.50)\n",
      "Decision node 1: (X[blood_pressure] <= 121.00)\n",
      "Decision node 2: (X[blood_pressure] <= 89.50)\n",
      "Tableau des signaux vitaux: [-999.0, 5.06, -999.0, 18.0, 25.75]\n",
      "Data inserted into collection 'temperature' in database 'hopital'\n",
      "Data inserted into collection 'heart_rate' in database 'hopital'\n",
      "Data inserted into collection 'spo2' in database 'hopital'\n",
      "Data inserted into collection 'breath_rate' in database 'hopital'\n",
      "Data inserted into collection 'etat_patient' in database 'hopital'\n",
      "Received `25.77` from `vital_signs/bed1/temperature` topic\n",
      "Received `-999` from `vital_signs/bed1/heart_rate` topic\n",
      "Received `-999` from `vital_signs/bed1/spo2` topic\n",
      "Received `19` from `vital_signs/bed1/breath_rate` topic\n",
      "La dernière valeur de 'blood_pressure' est : 5.06\n",
      "État de santé prédit: Pas Normal\n",
      "Règles pour l'échantillon 0:\n",
      "Decision node 0: (X[respiratory_rate] > 18.50)\n",
      "Tableau des signaux vitaux: [-999.0, 5.06, -999.0, 19.0, 25.77]\n",
      "Data inserted into collection 'temperature' in database 'hopital'\n",
      "Data inserted into collection 'heart_rate' in database 'hopital'\n",
      "Data inserted into collection 'spo2' in database 'hopital'\n",
      "Data inserted into collection 'breath_rate' in database 'hopital'\n",
      "Data inserted into collection 'etat_patient' in database 'hopital'\n"
     ]
    },
    {
     "name": "stderr",
     "output_type": "stream",
     "text": [
      "c:\\Users\\dell\\AppData\\Local\\Programs\\Python\\Python310\\lib\\site-packages\\sklearn\\base.py:450: UserWarning: X does not have valid feature names, but DecisionTreeClassifier was fitted with feature names\n",
      "  warnings.warn(\n",
      "c:\\Users\\dell\\AppData\\Local\\Programs\\Python\\Python310\\lib\\site-packages\\sklearn\\base.py:450: UserWarning: X does not have valid feature names, but DecisionTreeClassifier was fitted with feature names\n",
      "  warnings.warn(\n",
      "c:\\Users\\dell\\AppData\\Local\\Programs\\Python\\Python310\\lib\\site-packages\\sklearn\\base.py:450: UserWarning: X does not have valid feature names, but DecisionTreeClassifier was fitted with feature names\n",
      "  warnings.warn(\n"
     ]
    },
    {
     "name": "stdout",
     "output_type": "stream",
     "text": [
      "Received `25.73` from `vital_signs/bed1/temperature` topic\n",
      "Received `-999` from `vital_signs/bed1/heart_rate` topic\n",
      "Received `-999` from `vital_signs/bed1/spo2` topic\n",
      "Received `21` from `vital_signs/bed1/breath_rate` topic\n",
      "La dernière valeur de 'blood_pressure' est : 5.06\n",
      "État de santé prédit: Pas Normal\n",
      "Règles pour l'échantillon 0:\n",
      "Decision node 0: (X[respiratory_rate] > 18.50)\n",
      "Tableau des signaux vitaux: [-999.0, 5.06, -999.0, 21.0, 25.73]\n",
      "Data inserted into collection 'temperature' in database 'hopital'\n",
      "Data inserted into collection 'heart_rate' in database 'hopital'\n",
      "Data inserted into collection 'spo2' in database 'hopital'\n",
      "Data inserted into collection 'breath_rate' in database 'hopital'\n",
      "Data inserted into collection 'etat_patient' in database 'hopital'\n"
     ]
    },
    {
     "name": "stderr",
     "output_type": "stream",
     "text": [
      "c:\\Users\\dell\\AppData\\Local\\Programs\\Python\\Python310\\lib\\site-packages\\sklearn\\base.py:450: UserWarning: X does not have valid feature names, but DecisionTreeClassifier was fitted with feature names\n",
      "  warnings.warn(\n",
      "c:\\Users\\dell\\AppData\\Local\\Programs\\Python\\Python310\\lib\\site-packages\\sklearn\\base.py:450: UserWarning: X does not have valid feature names, but DecisionTreeClassifier was fitted with feature names\n",
      "  warnings.warn(\n",
      "c:\\Users\\dell\\AppData\\Local\\Programs\\Python\\Python310\\lib\\site-packages\\sklearn\\base.py:450: UserWarning: X does not have valid feature names, but DecisionTreeClassifier was fitted with feature names\n",
      "  warnings.warn(\n"
     ]
    },
    {
     "name": "stdout",
     "output_type": "stream",
     "text": [
      "Received `25.75` from `vital_signs/bed1/temperature` topic\n",
      "Received `25.78` from `vital_signs/bed1/temperature` topic\n",
      "Received `-999` from `vital_signs/bed1/heart_rate` topic\n",
      "Received `-999` from `vital_signs/bed1/spo2` topic\n",
      "Received `24` from `vital_signs/bed1/breath_rate` topic\n",
      "La dernière valeur de 'blood_pressure' est : 5.01\n",
      "État de santé prédit: Pas Normal\n",
      "Règles pour l'échantillon 0:\n",
      "Decision node 0: (X[respiratory_rate] > 18.50)\n",
      "Tableau des signaux vitaux: [-999.0, 5.01, -999.0, 24.0, 25.78]\n",
      "Data inserted into collection 'temperature' in database 'hopital'\n",
      "Data inserted into collection 'heart_rate' in database 'hopital'\n",
      "Data inserted into collection 'spo2' in database 'hopital'\n",
      "Data inserted into collection 'breath_rate' in database 'hopital'\n",
      "Data inserted into collection 'etat_patient' in database 'hopital'\n"
     ]
    },
    {
     "name": "stderr",
     "output_type": "stream",
     "text": [
      "c:\\Users\\dell\\AppData\\Local\\Programs\\Python\\Python310\\lib\\site-packages\\sklearn\\base.py:450: UserWarning: X does not have valid feature names, but DecisionTreeClassifier was fitted with feature names\n",
      "  warnings.warn(\n",
      "c:\\Users\\dell\\AppData\\Local\\Programs\\Python\\Python310\\lib\\site-packages\\sklearn\\base.py:450: UserWarning: X does not have valid feature names, but DecisionTreeClassifier was fitted with feature names\n",
      "  warnings.warn(\n",
      "c:\\Users\\dell\\AppData\\Local\\Programs\\Python\\Python310\\lib\\site-packages\\sklearn\\base.py:450: UserWarning: X does not have valid feature names, but DecisionTreeClassifier was fitted with feature names\n",
      "  warnings.warn(\n"
     ]
    },
    {
     "name": "stdout",
     "output_type": "stream",
     "text": [
      "Received `25.72` from `vital_signs/bed1/temperature` topic\n",
      "Received `-999` from `vital_signs/bed1/heart_rate` topic\n",
      "Received `-999` from `vital_signs/bed1/spo2` topic\n",
      "Received `29` from `vital_signs/bed1/breath_rate` topic\n",
      "La dernière valeur de 'blood_pressure' est : 5.01\n",
      "État de santé prédit: Pas Normal\n",
      "Règles pour l'échantillon 0:\n",
      "Decision node 0: (X[respiratory_rate] > 18.50)\n",
      "Tableau des signaux vitaux: [-999.0, 5.01, -999.0, 29.0, 25.72]\n",
      "Data inserted into collection 'temperature' in database 'hopital'\n",
      "Data inserted into collection 'heart_rate' in database 'hopital'\n",
      "Data inserted into collection 'spo2' in database 'hopital'\n",
      "Data inserted into collection 'breath_rate' in database 'hopital'\n",
      "Data inserted into collection 'etat_patient' in database 'hopital'\n"
     ]
    },
    {
     "name": "stderr",
     "output_type": "stream",
     "text": [
      "c:\\Users\\dell\\AppData\\Local\\Programs\\Python\\Python310\\lib\\site-packages\\sklearn\\base.py:450: UserWarning: X does not have valid feature names, but DecisionTreeClassifier was fitted with feature names\n",
      "  warnings.warn(\n",
      "c:\\Users\\dell\\AppData\\Local\\Programs\\Python\\Python310\\lib\\site-packages\\sklearn\\base.py:450: UserWarning: X does not have valid feature names, but DecisionTreeClassifier was fitted with feature names\n",
      "  warnings.warn(\n",
      "c:\\Users\\dell\\AppData\\Local\\Programs\\Python\\Python310\\lib\\site-packages\\sklearn\\base.py:450: UserWarning: X does not have valid feature names, but DecisionTreeClassifier was fitted with feature names\n",
      "  warnings.warn(\n"
     ]
    },
    {
     "name": "stdout",
     "output_type": "stream",
     "text": [
      "Received `25.75` from `vital_signs/bed1/temperature` topic\n",
      "Received `-999` from `vital_signs/bed1/heart_rate` topic\n",
      "Received `-999` from `vital_signs/bed1/spo2` topic\n",
      "Received `24` from `vital_signs/bed1/breath_rate` topic\n",
      "La dernière valeur de 'blood_pressure' est : 5.01\n",
      "État de santé prédit: Pas Normal\n",
      "Règles pour l'échantillon 0:\n",
      "Decision node 0: (X[respiratory_rate] > 18.50)\n",
      "Tableau des signaux vitaux: [-999.0, 5.01, -999.0, 24.0, 25.75]\n",
      "Data inserted into collection 'temperature' in database 'hopital'\n",
      "Data inserted into collection 'heart_rate' in database 'hopital'\n",
      "Data inserted into collection 'spo2' in database 'hopital'\n",
      "Data inserted into collection 'breath_rate' in database 'hopital'\n",
      "Data inserted into collection 'etat_patient' in database 'hopital'\n"
     ]
    },
    {
     "name": "stderr",
     "output_type": "stream",
     "text": [
      "c:\\Users\\dell\\AppData\\Local\\Programs\\Python\\Python310\\lib\\site-packages\\sklearn\\base.py:450: UserWarning: X does not have valid feature names, but DecisionTreeClassifier was fitted with feature names\n",
      "  warnings.warn(\n",
      "c:\\Users\\dell\\AppData\\Local\\Programs\\Python\\Python310\\lib\\site-packages\\sklearn\\base.py:450: UserWarning: X does not have valid feature names, but DecisionTreeClassifier was fitted with feature names\n",
      "  warnings.warn(\n",
      "c:\\Users\\dell\\AppData\\Local\\Programs\\Python\\Python310\\lib\\site-packages\\sklearn\\base.py:450: UserWarning: X does not have valid feature names, but DecisionTreeClassifier was fitted with feature names\n",
      "  warnings.warn(\n"
     ]
    },
    {
     "name": "stdout",
     "output_type": "stream",
     "text": [
      "Received `25.75` from `vital_signs/bed1/temperature` topic\n",
      "Received `-999` from `vital_signs/bed1/heart_rate` topic\n",
      "Received `-999` from `vital_signs/bed1/spo2` topic\n",
      "Received `18` from `vital_signs/bed1/breath_rate` topic\n",
      "La dernière valeur de 'blood_pressure' est : 5.01\n",
      "État de santé prédit: Pas Normal\n",
      "Règles pour l'échantillon 0:\n",
      "Decision node 0: (X[respiratory_rate] <= 18.50)\n",
      "Decision node 1: (X[blood_pressure] <= 121.00)\n",
      "Decision node 2: (X[blood_pressure] <= 89.50)\n",
      "Tableau des signaux vitaux: [-999.0, 5.01, -999.0, 18.0, 25.75]\n",
      "Data inserted into collection 'temperature' in database 'hopital'\n",
      "Data inserted into collection 'heart_rate' in database 'hopital'\n",
      "Data inserted into collection 'spo2' in database 'hopital'\n",
      "Data inserted into collection 'breath_rate' in database 'hopital'\n",
      "Data inserted into collection 'etat_patient' in database 'hopital'\n"
     ]
    },
    {
     "name": "stderr",
     "output_type": "stream",
     "text": [
      "c:\\Users\\dell\\AppData\\Local\\Programs\\Python\\Python310\\lib\\site-packages\\sklearn\\base.py:450: UserWarning: X does not have valid feature names, but DecisionTreeClassifier was fitted with feature names\n",
      "  warnings.warn(\n",
      "c:\\Users\\dell\\AppData\\Local\\Programs\\Python\\Python310\\lib\\site-packages\\sklearn\\base.py:450: UserWarning: X does not have valid feature names, but DecisionTreeClassifier was fitted with feature names\n",
      "  warnings.warn(\n",
      "c:\\Users\\dell\\AppData\\Local\\Programs\\Python\\Python310\\lib\\site-packages\\sklearn\\base.py:450: UserWarning: X does not have valid feature names, but DecisionTreeClassifier was fitted with feature names\n",
      "  warnings.warn(\n"
     ]
    },
    {
     "name": "stdout",
     "output_type": "stream",
     "text": [
      "Received `25.75` from `vital_signs/bed1/temperature` topic\n",
      "Received `-999` from `vital_signs/bed1/heart_rate` topic\n",
      "Received `-999` from `vital_signs/bed1/spo2` topic\n",
      "Received `15` from `vital_signs/bed1/breath_rate` topic\n",
      "La dernière valeur de 'blood_pressure' est : 5.01\n",
      "État de santé prédit: Pas Normal\n",
      "Règles pour l'échantillon 0:\n",
      "Decision node 0: (X[respiratory_rate] <= 18.50)\n",
      "Decision node 1: (X[blood_pressure] <= 121.00)\n",
      "Decision node 2: (X[blood_pressure] <= 89.50)\n",
      "Tableau des signaux vitaux: [-999.0, 5.01, -999.0, 15.0, 25.75]\n",
      "Data inserted into collection 'temperature' in database 'hopital'\n",
      "Data inserted into collection 'heart_rate' in database 'hopital'\n",
      "Data inserted into collection 'spo2' in database 'hopital'\n",
      "Data inserted into collection 'breath_rate' in database 'hopital'\n",
      "Data inserted into collection 'etat_patient' in database 'hopital'\n"
     ]
    },
    {
     "name": "stderr",
     "output_type": "stream",
     "text": [
      "c:\\Users\\dell\\AppData\\Local\\Programs\\Python\\Python310\\lib\\site-packages\\sklearn\\base.py:450: UserWarning: X does not have valid feature names, but DecisionTreeClassifier was fitted with feature names\n",
      "  warnings.warn(\n",
      "c:\\Users\\dell\\AppData\\Local\\Programs\\Python\\Python310\\lib\\site-packages\\sklearn\\base.py:450: UserWarning: X does not have valid feature names, but DecisionTreeClassifier was fitted with feature names\n",
      "  warnings.warn(\n",
      "c:\\Users\\dell\\AppData\\Local\\Programs\\Python\\Python310\\lib\\site-packages\\sklearn\\base.py:450: UserWarning: X does not have valid feature names, but DecisionTreeClassifier was fitted with feature names\n",
      "  warnings.warn(\n"
     ]
    },
    {
     "name": "stdout",
     "output_type": "stream",
     "text": [
      "Received `25.73` from `vital_signs/bed1/temperature` topic\n",
      "Received `-999` from `vital_signs/bed1/heart_rate` topic\n",
      "Received `-999` from `vital_signs/bed1/spo2` topic\n",
      "Received `16` from `vital_signs/bed1/breath_rate` topic\n",
      "La dernière valeur de 'blood_pressure' est : 5.01\n",
      "État de santé prédit: Pas Normal\n",
      "Règles pour l'échantillon 0:\n",
      "Decision node 0: (X[respiratory_rate] <= 18.50)\n",
      "Decision node 1: (X[blood_pressure] <= 121.00)\n",
      "Decision node 2: (X[blood_pressure] <= 89.50)\n",
      "Tableau des signaux vitaux: [-999.0, 5.01, -999.0, 16.0, 25.73]\n",
      "Data inserted into collection 'temperature' in database 'hopital'\n",
      "Data inserted into collection 'heart_rate' in database 'hopital'\n",
      "Data inserted into collection 'spo2' in database 'hopital'\n",
      "Data inserted into collection 'breath_rate' in database 'hopital'\n",
      "Data inserted into collection 'etat_patient' in database 'hopital'\n"
     ]
    },
    {
     "name": "stderr",
     "output_type": "stream",
     "text": [
      "c:\\Users\\dell\\AppData\\Local\\Programs\\Python\\Python310\\lib\\site-packages\\sklearn\\base.py:450: UserWarning: X does not have valid feature names, but DecisionTreeClassifier was fitted with feature names\n",
      "  warnings.warn(\n",
      "c:\\Users\\dell\\AppData\\Local\\Programs\\Python\\Python310\\lib\\site-packages\\sklearn\\base.py:450: UserWarning: X does not have valid feature names, but DecisionTreeClassifier was fitted with feature names\n",
      "  warnings.warn(\n",
      "c:\\Users\\dell\\AppData\\Local\\Programs\\Python\\Python310\\lib\\site-packages\\sklearn\\base.py:450: UserWarning: X does not have valid feature names, but DecisionTreeClassifier was fitted with feature names\n",
      "  warnings.warn(\n"
     ]
    },
    {
     "name": "stdout",
     "output_type": "stream",
     "text": [
      "Received `25.70` from `vital_signs/bed1/temperature` topic\n",
      "Received `-999` from `vital_signs/bed1/heart_rate` topic\n",
      "Received `-999` from `vital_signs/bed1/spo2` topic\n",
      "Received `23` from `vital_signs/bed1/breath_rate` topic\n",
      "La dernière valeur de 'blood_pressure' est : 5.01\n",
      "État de santé prédit: Pas Normal\n",
      "Règles pour l'échantillon 0:\n",
      "Decision node 0: (X[respiratory_rate] > 18.50)\n",
      "Tableau des signaux vitaux: [-999.0, 5.01, -999.0, 23.0, 25.7]\n",
      "Data inserted into collection 'temperature' in database 'hopital'\n",
      "Data inserted into collection 'heart_rate' in database 'hopital'\n",
      "Data inserted into collection 'spo2' in database 'hopital'\n",
      "Data inserted into collection 'breath_rate' in database 'hopital'\n",
      "Data inserted into collection 'etat_patient' in database 'hopital'\n"
     ]
    },
    {
     "name": "stderr",
     "output_type": "stream",
     "text": [
      "c:\\Users\\dell\\AppData\\Local\\Programs\\Python\\Python310\\lib\\site-packages\\sklearn\\base.py:450: UserWarning: X does not have valid feature names, but DecisionTreeClassifier was fitted with feature names\n",
      "  warnings.warn(\n",
      "c:\\Users\\dell\\AppData\\Local\\Programs\\Python\\Python310\\lib\\site-packages\\sklearn\\base.py:450: UserWarning: X does not have valid feature names, but DecisionTreeClassifier was fitted with feature names\n",
      "  warnings.warn(\n",
      "c:\\Users\\dell\\AppData\\Local\\Programs\\Python\\Python310\\lib\\site-packages\\sklearn\\base.py:450: UserWarning: X does not have valid feature names, but DecisionTreeClassifier was fitted with feature names\n",
      "  warnings.warn(\n"
     ]
    },
    {
     "name": "stdout",
     "output_type": "stream",
     "text": [
      "Received `25.70` from `vital_signs/bed1/temperature` topic\n",
      "Received `-999` from `vital_signs/bed1/heart_rate` topic\n",
      "Received `-999` from `vital_signs/bed1/spo2` topic\n",
      "Received `18` from `vital_signs/bed1/breath_rate` topic\n",
      "La dernière valeur de 'blood_pressure' est : 5.01\n",
      "État de santé prédit: Pas Normal\n",
      "Règles pour l'échantillon 0:\n",
      "Decision node 0: (X[respiratory_rate] <= 18.50)\n",
      "Decision node 1: (X[blood_pressure] <= 121.00)\n",
      "Decision node 2: (X[blood_pressure] <= 89.50)\n",
      "Tableau des signaux vitaux: [-999.0, 5.01, -999.0, 18.0, 25.7]\n",
      "Data inserted into collection 'temperature' in database 'hopital'\n",
      "Data inserted into collection 'heart_rate' in database 'hopital'\n",
      "Data inserted into collection 'spo2' in database 'hopital'\n",
      "Data inserted into collection 'breath_rate' in database 'hopital'\n",
      "Data inserted into collection 'etat_patient' in database 'hopital'\n"
     ]
    },
    {
     "name": "stderr",
     "output_type": "stream",
     "text": [
      "c:\\Users\\dell\\AppData\\Local\\Programs\\Python\\Python310\\lib\\site-packages\\sklearn\\base.py:450: UserWarning: X does not have valid feature names, but DecisionTreeClassifier was fitted with feature names\n",
      "  warnings.warn(\n",
      "c:\\Users\\dell\\AppData\\Local\\Programs\\Python\\Python310\\lib\\site-packages\\sklearn\\base.py:450: UserWarning: X does not have valid feature names, but DecisionTreeClassifier was fitted with feature names\n",
      "  warnings.warn(\n",
      "c:\\Users\\dell\\AppData\\Local\\Programs\\Python\\Python310\\lib\\site-packages\\sklearn\\base.py:450: UserWarning: X does not have valid feature names, but DecisionTreeClassifier was fitted with feature names\n",
      "  warnings.warn(\n"
     ]
    },
    {
     "name": "stdout",
     "output_type": "stream",
     "text": [
      "Received `25.66` from `vital_signs/bed1/temperature` topic\n",
      "Received `-999` from `vital_signs/bed1/heart_rate` topic\n",
      "Received `-999` from `vital_signs/bed1/spo2` topic\n",
      "Received `15` from `vital_signs/bed1/breath_rate` topic\n",
      "La dernière valeur de 'blood_pressure' est : 5.01\n",
      "État de santé prédit: Pas Normal\n",
      "Règles pour l'échantillon 0:\n",
      "Decision node 0: (X[respiratory_rate] <= 18.50)\n",
      "Decision node 1: (X[blood_pressure] <= 121.00)\n",
      "Decision node 2: (X[blood_pressure] <= 89.50)\n",
      "Tableau des signaux vitaux: [-999.0, 5.01, -999.0, 15.0, 25.66]\n",
      "Data inserted into collection 'temperature' in database 'hopital'\n",
      "Data inserted into collection 'heart_rate' in database 'hopital'\n",
      "Data inserted into collection 'spo2' in database 'hopital'\n",
      "Data inserted into collection 'breath_rate' in database 'hopital'\n",
      "Data inserted into collection 'etat_patient' in database 'hopital'\n"
     ]
    },
    {
     "name": "stderr",
     "output_type": "stream",
     "text": [
      "c:\\Users\\dell\\AppData\\Local\\Programs\\Python\\Python310\\lib\\site-packages\\sklearn\\base.py:450: UserWarning: X does not have valid feature names, but DecisionTreeClassifier was fitted with feature names\n",
      "  warnings.warn(\n",
      "c:\\Users\\dell\\AppData\\Local\\Programs\\Python\\Python310\\lib\\site-packages\\sklearn\\base.py:450: UserWarning: X does not have valid feature names, but DecisionTreeClassifier was fitted with feature names\n",
      "  warnings.warn(\n",
      "c:\\Users\\dell\\AppData\\Local\\Programs\\Python\\Python310\\lib\\site-packages\\sklearn\\base.py:450: UserWarning: X does not have valid feature names, but DecisionTreeClassifier was fitted with feature names\n",
      "  warnings.warn(\n"
     ]
    }
   ],
   "source": [
    "import paho.mqtt.client as mqtt\n",
    "from pymongo import MongoClient\n",
    "import datetime\n",
    "import joblib\n",
    "from sklearn.tree import DecisionTreeClassifier\n",
    "import numpy as np\n",
    "\n",
    "# Charger le modèle enregistré\n",
    "model = joblib.load('C:/Users/dell/Downloads/prediction etat de santé.pkl')\n",
    "\n",
    "# Vérifier si le modèle est bien un arbre de décision\n",
    "if isinstance(model, DecisionTreeClassifier):\n",
    "\n",
    "    def predict_health_state(heart_rate, blood_pressure, oxygen_saturation, respiratory_rate, temperature):\n",
    "        # Convertir les entrées en entiers\n",
    "        heart_rate = float(heart_rate)\n",
    "        blood_pressure = float(blood_pressure)\n",
    "        oxygen_saturation = float(oxygen_saturation)\n",
    "        respiratory_rate = float(respiratory_rate)\n",
    "        temperature = float(temperature)\n",
    "\n",
    "        # Exemple de données d'entrée\n",
    "        data = np.array([[heart_rate, blood_pressure, oxygen_saturation, respiratory_rate, temperature]])\n",
    "\n",
    "        # Effectuer une prédiction\n",
    "        predicted_state = model.predict(data)\n",
    "        health_prediction = \"Normal\" if predicted_state[0] == 0 else \"Pas Normal\"\n",
    "        print(\"État de santé prédit:\", health_prediction)\n",
    "\n",
    "        # Afficher les règles de l'arbre de décision\n",
    "        feature_names = ['heart_rate', 'blood_pressure', 'oxygen_saturation', 'respiratory_rate', 'temperature']\n",
    "\n",
    "        # Obtenir le chemin de décision pour l'exemple de données d'entrée\n",
    "        node_indicator = model.decision_path(data)\n",
    "        leaf_id = model.apply(data)\n",
    "\n",
    "        # Extraire les règles de décision\n",
    "        rules = []\n",
    "        for sample_id in range(len(data)):\n",
    "            node_index = node_indicator.indices[node_indicator.indptr[sample_id]:node_indicator.indptr[sample_id + 1]]\n",
    "\n",
    "            print(f\"Règles pour l'échantillon {sample_id}:\")\n",
    "            for node_id in node_index:\n",
    "                if leaf_id[sample_id] == node_id:\n",
    "                    continue\n",
    "\n",
    "                # Extraire la règle de décision\n",
    "                if data[sample_id, model.tree_.feature[node_id]] <= model.tree_.threshold[node_id]:\n",
    "                    threshold_sign = \"<=\"\n",
    "                else:\n",
    "                    threshold_sign = \">\"\n",
    "\n",
    "                rules.append(f\"Decision node {node_id}: (X[{feature_names[model.tree_.feature[node_id]]}] {threshold_sign} {model.tree_.threshold[node_id]:.2f})\")\n",
    "\n",
    "        # Afficher les règles extraites\n",
    "        print(\"\\n\".join(rules))\n",
    "\n",
    "        return health_prediction, rules\n",
    "\n",
    "else:\n",
    "    print(\"Le modèle chargé n'est pas un arbre de décision.\")\n",
    "\n",
    "# Configuration MongoDB\n",
    "mongo_client = MongoClient('mongodb://localhost:27017/')\n",
    "\n",
    "# Configuration MQTT\n",
    "mqtt_broker = \"192.168.1.40\"  # L'adresse IP de votre broker MQTT\n",
    "mqtt_port = 1883\n",
    "\n",
    "# Initialiser le dictionnaire pour stocker les valeurs des signaux vitaux\n",
    "vital_signs_data = {\n",
    "    \"temperature\": None,\n",
    "    \"heart_rate\": None,\n",
    "    \"spo2\": None,\n",
    "    \"breath_rate\": None\n",
    "}\n",
    "\n",
    "# Initialiser la liste pour stocker les ensembles de données complets\n",
    "complete_vital_signs_data = []\n",
    "\n",
    "# Callback pour la connexion\n",
    "def on_connect(client, userdata, flags, rc):\n",
    "    if rc == 0:\n",
    "        print(\"Connected to MQTT broker\")\n",
    "    else:\n",
    "        print(f\"Failed to connect to MQTT broker with result code {rc}\")\n",
    "\n",
    "    # S'abonner aux topics spécifiés\n",
    "    client.subscribe(\"vital_signs/+/temperature\", qos=1)\n",
    "    client.subscribe(\"vital_signs/+/heart_rate\", qos=1)\n",
    "    client.subscribe(\"vital_signs/+/spo2\", qos=1)\n",
    "    client.subscribe(\"vital_signs/+/breath_rate\", qos=1)\n",
    "\n",
    "# Fonction pour récupérer la dernière valeur de \"blood_pressure\" dans MongoDB\n",
    "def get_latest_blood_pressure_value():\n",
    "    db = mongo_client[\"hopital\"]\n",
    "    collection = db[\"blood_pressure\"]\n",
    "\n",
    "    # Trouver le dernier document inséré (trié par timestamp décroissant)\n",
    "    latest_document = collection.find_one(sort=[(\"timestamp\", -1)])\n",
    "\n",
    "    if latest_document:\n",
    "        latest_value = latest_document.get(\"value\", None)\n",
    "        if latest_value:\n",
    "            print(f\"La dernière valeur de 'blood_pressure' est : {latest_value}\")\n",
    "            return latest_value\n",
    "        else:\n",
    "            print(\"La dernière valeur de 'blood_pressure' est introuvable.\")\n",
    "            return None\n",
    "    else:\n",
    "        print(\"Aucun document trouvé dans la collection 'blood_pressure'.\")\n",
    "        return None\n",
    "\n",
    "# Callback pour la réception de messages\n",
    "def on_message(client, userdata, msg):\n",
    "    print(f\"Received `{msg.payload.decode()}` from `{msg.topic}` topic\")\n",
    "\n",
    "    # Analyser la topic pour extraire le nom du signal vital\n",
    "    topic_parts = msg.topic.split('/')\n",
    "    signal_type = topic_parts[2]  # e.g., 'temperature'\n",
    "\n",
    "    if signal_type in vital_signs_data:\n",
    "        # Stocker la valeur du signal vital dans le dictionnaire\n",
    "        vital_signs_data[signal_type] = msg.payload.decode()\n",
    "\n",
    "        # Vérifier si toutes les valeurs des signaux vitaux sont présentes\n",
    "        if all(value is not None for value in vital_signs_data.values()):\n",
    "            # Récupérer la dernière valeur de \"blood_pressure\"\n",
    "            blood_pressure_value = get_latest_blood_pressure_value()\n",
    "\n",
    "            # Extraire le numéro de lit\n",
    "            bed_number_str = topic_parts[1]  # e.g., 'bed1'\n",
    "            bed_number = int(bed_number_str.replace('bed', ''))\n",
    "\n",
    "            # Créer un ensemble de données complet\n",
    "            complete_data = {\n",
    "                \"bed\": bed_number,\n",
    "                \"temperature\": vital_signs_data[\"temperature\"],\n",
    "                \"heart_rate\": vital_signs_data[\"heart_rate\"],\n",
    "                \"spo2\": vital_signs_data[\"spo2\"],\n",
    "                \"breath_rate\": vital_signs_data[\"breath_rate\"],\n",
    "                \"blood_pressure\": blood_pressure_value,\n",
    "                \"timestamp\": datetime.datetime.now()\n",
    "            }\n",
    "\n",
    "            # Ajouter l'ensemble de données complet à la liste\n",
    "            complete_vital_signs_data.append(complete_data)\n",
    "\n",
    "            try:\n",
    "                # Convertir les valeurs en float pour la prédiction\n",
    "                val_heart_rate = float(vital_signs_data[\"heart_rate\"])\n",
    "                val_spo2 = float(vital_signs_data[\"spo2\"])\n",
    "                val_breath_rate = float(vital_signs_data[\"breath_rate\"])\n",
    "                val_temperature = float(vital_signs_data[\"temperature\"])\n",
    "\n",
    "                # Prédire l'état de santé\n",
    "                health_prediction, rules = predict_health_state(val_heart_rate, blood_pressure_value, val_spo2, val_breath_rate, val_temperature)\n",
    "\n",
    "                # Afficher le tableau des valeurs des signaux vitaux\n",
    "                vital_signs_table = [\n",
    "                    val_heart_rate,\n",
    "                    blood_pressure_value,\n",
    "                    val_spo2,\n",
    "                    val_breath_rate,\n",
    "                    val_temperature\n",
    "                ]\n",
    "                print(\"Tableau des signaux vitaux:\", vital_signs_table)\n",
    "\n",
    "                # Stocker les données dans MongoDB\n",
    "                db = mongo_client[\"hopital\"]\n",
    "                for signal, value in vital_signs_data.items():\n",
    "                    collection = db[signal]\n",
    "                    data = {\n",
    "                        \"bed\": bed_number,\n",
    "                        \"value\": value,\n",
    "                        \"timestamp\": datetime.datetime.now()\n",
    "                    }\n",
    "                    collection.insert_one(data)\n",
    "                    print(f\"Data inserted into collection '{signal}' in database 'hopital'\")\n",
    "\n",
    "                # Insérer dans la collection etat_patient\n",
    "                collection = db[\"etat_patient\"]\n",
    "                patient_data = {\n",
    "                    \"bed\": bed_number,\n",
    "                    \"health_prediction\": health_prediction,\n",
    "                    \"rules\": rules,\n",
    "                    \"timestamp\": datetime.datetime.now()\n",
    "                }\n",
    "                collection.insert_one(patient_data)\n",
    "                print(\"Data inserted into collection 'etat_patient' in database 'hopital'\")\n",
    "\n",
    "                # Réinitialiser le dictionnaire des signaux vitaux pour le prochain ensemble de valeurs\n",
    "                for key in vital_signs_data:\n",
    "                    vital_signs_data[key] = None\n",
    "\n",
    "            except ValueError as e:\n",
    "                                print(f\"Erreur de conversion de la valeur: {e}\")\n",
    "\n",
    "# Configuration du client MQTT\n",
    "client = mqtt.Client()\n",
    "client.on_connect = on_connect\n",
    "client.on_message = on_message\n",
    "\n",
    "client.connect(mqtt_broker, mqtt_port, 60)\n",
    "\n",
    "# Boucle infinie pour maintenir la connexion MQTT\n",
    "client.loop_forever()\n",
    "\n",
    "                      \n"
   ]
  }
 ],
 "metadata": {
  "kernelspec": {
   "display_name": "Python 3",
   "language": "python",
   "name": "python3"
  },
  "language_info": {
   "codemirror_mode": {
    "name": "ipython",
    "version": 3
   },
   "file_extension": ".py",
   "mimetype": "text/x-python",
   "name": "python",
   "nbconvert_exporter": "python",
   "pygments_lexer": "ipython3",
   "version": "3.10.4"
  }
 },
 "nbformat": 4,
 "nbformat_minor": 2
}
