{
 "cells": [
  {
   "cell_type": "code",
   "execution_count": 1,
   "metadata": {},
   "outputs": [],
   "source": [
    "import cv2\n",
    "import numpy as np\n",
    "from pymongo import MongoClient\n",
    "import datetime\n",
    "\n",
    "# Connexion à MongoDB\n",
    "mongo_client = MongoClient('mongodb://localhost:27017/')\n",
    "db = mongo_client[\"hopital\"]\n",
    "collection = db[\"video\"]\n",
    "\n",
    "def retrieve_images_from_mongodb():\n",
    "    images = collection.find()\n",
    "    for image_document in images:\n",
    "        image_bytes = image_document[\"image\"]\n",
    "        np_arr = np.frombuffer(image_bytes, np.uint8)\n",
    "        image_np = cv2.imdecode(np_arr, cv2.IMREAD_COLOR)\n",
    "        timestamp = image_document[\"timestamp\"]\n",
    "        \n",
    "        cv2.imshow(f\"Image at {timestamp}\", image_np)\n",
    "        cv2.waitKey(0)\n",
    "\n",
    "    cv2.destroyAllWindows()\n",
    "\n",
    "retrieve_images_from_mongodb()\n"
   ]
  }
 ],
 "metadata": {
  "kernelspec": {
   "display_name": "Python 3",
   "language": "python",
   "name": "python3"
  },
  "language_info": {
   "codemirror_mode": {
    "name": "ipython",
    "version": 3
   },
   "file_extension": ".py",
   "mimetype": "text/x-python",
   "name": "python",
   "nbconvert_exporter": "python",
   "pygments_lexer": "ipython3",
   "version": "3.10.4"
  }
 },
 "nbformat": 4,
 "nbformat_minor": 2
}
