{
 "cells": [
  {
   "cell_type": "code",
   "execution_count": 13,
   "metadata": {},
   "outputs": [
    {
     "name": "stdout",
     "output_type": "stream",
     "text": [
      "Connected to MQTT broker\n"
     ]
    },
    {
     "name": "stderr",
     "output_type": "stream",
     "text": [
      "C:\\Users\\dell\\AppData\\Local\\Temp\\ipykernel_18092\\1254255285.py:82: DeprecationWarning: Callback API version 1 is deprecated, update to latest version\n",
      "  mqtt_client = mqtt.Client()\n"
     ]
    },
    {
     "ename": "RuntimeError",
     "evalue": "Cannot run the event loop while another loop is running",
     "output_type": "error",
     "traceback": [
      "\u001b[1;31m---------------------------------------------------------------------------\u001b[0m",
      "\u001b[1;31mRuntimeError\u001b[0m                              Traceback (most recent call last)",
      "Input \u001b[1;32mIn [13]\u001b[0m, in \u001b[0;36m<cell line: 99>\u001b[1;34m()\u001b[0m\n\u001b[0;32m     97\u001b[0m     loop\u001b[38;5;241m.\u001b[39mrun_until_complete(main())\n\u001b[0;32m     99\u001b[0m \u001b[38;5;28;01mif\u001b[39;00m \u001b[38;5;18m__name__\u001b[39m \u001b[38;5;241m==\u001b[39m \u001b[38;5;124m\"\u001b[39m\u001b[38;5;124m__main__\u001b[39m\u001b[38;5;124m\"\u001b[39m:\n\u001b[1;32m--> 100\u001b[0m     \u001b[43mrun_server\u001b[49m\u001b[43m(\u001b[49m\u001b[43m)\u001b[49m\n",
      "Input \u001b[1;32mIn [13]\u001b[0m, in \u001b[0;36mrun_server\u001b[1;34m()\u001b[0m\n\u001b[0;32m     95\u001b[0m loop \u001b[38;5;241m=\u001b[39m asyncio\u001b[38;5;241m.\u001b[39mnew_event_loop()\n\u001b[0;32m     96\u001b[0m asyncio\u001b[38;5;241m.\u001b[39mset_event_loop(loop)\n\u001b[1;32m---> 97\u001b[0m \u001b[43mloop\u001b[49m\u001b[38;5;241;43m.\u001b[39;49m\u001b[43mrun_until_complete\u001b[49m\u001b[43m(\u001b[49m\u001b[43mmain\u001b[49m\u001b[43m(\u001b[49m\u001b[43m)\u001b[49m\u001b[43m)\u001b[49m\n",
      "File \u001b[1;32mc:\\Users\\dell\\AppData\\Local\\Programs\\Python\\Python310\\lib\\asyncio\\base_events.py:622\u001b[0m, in \u001b[0;36mBaseEventLoop.run_until_complete\u001b[1;34m(self, future)\u001b[0m\n\u001b[0;32m    611\u001b[0m \u001b[38;5;124;03m\"\"\"Run until the Future is done.\u001b[39;00m\n\u001b[0;32m    612\u001b[0m \n\u001b[0;32m    613\u001b[0m \u001b[38;5;124;03mIf the argument is a coroutine, it is wrapped in a Task.\u001b[39;00m\n\u001b[1;32m   (...)\u001b[0m\n\u001b[0;32m    619\u001b[0m \u001b[38;5;124;03mReturn the Future's result, or raise its exception.\u001b[39;00m\n\u001b[0;32m    620\u001b[0m \u001b[38;5;124;03m\"\"\"\u001b[39;00m\n\u001b[0;32m    621\u001b[0m \u001b[38;5;28mself\u001b[39m\u001b[38;5;241m.\u001b[39m_check_closed()\n\u001b[1;32m--> 622\u001b[0m \u001b[38;5;28;43mself\u001b[39;49m\u001b[38;5;241;43m.\u001b[39;49m\u001b[43m_check_running\u001b[49m\u001b[43m(\u001b[49m\u001b[43m)\u001b[49m\n\u001b[0;32m    624\u001b[0m new_task \u001b[38;5;241m=\u001b[39m \u001b[38;5;129;01mnot\u001b[39;00m futures\u001b[38;5;241m.\u001b[39misfuture(future)\n\u001b[0;32m    625\u001b[0m future \u001b[38;5;241m=\u001b[39m tasks\u001b[38;5;241m.\u001b[39mensure_future(future, loop\u001b[38;5;241m=\u001b[39m\u001b[38;5;28mself\u001b[39m)\n",
      "File \u001b[1;32mc:\\Users\\dell\\AppData\\Local\\Programs\\Python\\Python310\\lib\\asyncio\\base_events.py:584\u001b[0m, in \u001b[0;36mBaseEventLoop._check_running\u001b[1;34m(self)\u001b[0m\n\u001b[0;32m    582\u001b[0m     \u001b[38;5;28;01mraise\u001b[39;00m \u001b[38;5;167;01mRuntimeError\u001b[39;00m(\u001b[38;5;124m'\u001b[39m\u001b[38;5;124mThis event loop is already running\u001b[39m\u001b[38;5;124m'\u001b[39m)\n\u001b[0;32m    583\u001b[0m \u001b[38;5;28;01mif\u001b[39;00m events\u001b[38;5;241m.\u001b[39m_get_running_loop() \u001b[38;5;129;01mis\u001b[39;00m \u001b[38;5;129;01mnot\u001b[39;00m \u001b[38;5;28;01mNone\u001b[39;00m:\n\u001b[1;32m--> 584\u001b[0m     \u001b[38;5;28;01mraise\u001b[39;00m \u001b[38;5;167;01mRuntimeError\u001b[39;00m(\n\u001b[0;32m    585\u001b[0m         \u001b[38;5;124m'\u001b[39m\u001b[38;5;124mCannot run the event loop while another loop is running\u001b[39m\u001b[38;5;124m'\u001b[39m)\n",
      "\u001b[1;31mRuntimeError\u001b[0m: Cannot run the event loop while another loop is running"
     ]
    }
   ],
   "source": [
    "import asyncio\n",
    "import websockets\n",
    "import json\n",
    "from datetime import datetime\n",
    "from pymongo import MongoClient\n",
    "import paho.mqtt.client as mqtt\n",
    "\n",
    "# Configuration MongoDB\n",
    "mongo_client = MongoClient('mongodb://localhost:27017/')\n",
    "db_name = \"hopital\"\n",
    "\n",
    "# Configuration MQTT\n",
    "mqtt_broker = \"127.0.0.1\"\n",
    "mqtt_port = 1883\n",
    "\n",
    "# Liste des clients WebSocket connectés\n",
    "connected_clients = set()\n",
    "\n",
    "# Callback pour la connexion MQTT\n",
    "def on_connect(client, userdata, flags, rc):\n",
    "    if rc == 0:\n",
    "        print(\"Connected to MQTT broker\")\n",
    "    else:\n",
    "        print(f\"Failed to connect to MQTT broker with result code {rc}\")\n",
    "\n",
    "    client.subscribe(\"vital_signs/+/temperature\", qos=1)\n",
    "    client.subscribe(\"vital_signs/+/heart_rate\", qos=1)\n",
    "    client.subscribe(\"vital_signs/+/spo2\", qos=1)\n",
    "    client.subscribe(\"vital_signs/+/breath_rate\", qos=1)\n",
    "    client.subscribe(\"vital_signs/+/ecg\", qos=2)\n",
    "\n",
    "# Callback pour la réception de messages MQTT\n",
    "def on_message(client, userdata, msg):\n",
    "    print(f\"Received `{msg.payload.decode()}` from `{msg.topic}` topic\")\n",
    "    \n",
    "    # Envoyer les données à tous les clients WebSocket connectés\n",
    "    data = {\n",
    "        \"topic\": msg.topic,\n",
    "        \"value\": msg.payload.decode(),\n",
    "        \"timestamp\": datetime.now().isoformat()\n",
    "    }\n",
    "    asyncio.create_task(send_to_clients(data))\n",
    "    \n",
    "    # Enregistrer les données dans MongoDB\n",
    "    topic_parts = msg.topic.split('/')\n",
    "    bed_number_str = topic_parts[1]\n",
    "    collection_name = topic_parts[2]\n",
    "\n",
    "    bed_number = int(bed_number_str.replace('bed', ''))\n",
    "\n",
    "    # Stocker les données dans la collection correspondante\n",
    "    db = mongo_client[db_name]\n",
    "    collection = db[collection_name]\n",
    "    data = {\n",
    "        \"bed\": bed_number,\n",
    "        \"value\": msg.payload.decode(),\n",
    "        \"timestamp\": datetime.now()\n",
    "    }\n",
    "    try:\n",
    "        collection.insert_one(data)\n",
    "        print(f\"Data inserted into collection '{collection_name}' in database '{db_name}'\")\n",
    "    except Exception as e:\n",
    "        print(f\"Error inserting data into MongoDB: {e}\")\n",
    "\n",
    "# Fonction pour envoyer des données à tous les clients WebSocket\n",
    "async def send_to_clients(data):\n",
    "    if connected_clients:\n",
    "        message = json.dumps(data)\n",
    "        await asyncio.wait([client.send(message) for client in connected_clients])\n",
    "\n",
    "# Gestion des connexions WebSocket\n",
    "async def websocket_handler(websocket, path):\n",
    "    # Ajouter le client à la liste des clients connectés\n",
    "    connected_clients.add(websocket)\n",
    "    try:\n",
    "        await asyncio.sleep(3600)  # Garder le gestionnaire actif\n",
    "    finally:\n",
    "        # Retirer le client de la liste des clients connectés\n",
    "        connected_clients.remove(websocket)\n",
    "\n",
    "# Configuration du client MQTT\n",
    "mqtt_client = mqtt.Client()\n",
    "mqtt_client.on_connect = on_connect\n",
    "mqtt_client.on_message = on_message\n",
    "\n",
    "mqtt_client.connect(mqtt_broker, mqtt_port, 60)\n",
    "mqtt_client.loop_start()\n",
    "\n",
    "# Lancer le serveur WebSocket\n",
    "async def main():\n",
    "    await websockets.serve(websocket_handler, \"0.0.0.0\", 3003)\n",
    "\n",
    "# Fonction principale avec asyncio\n",
    "def run_server():\n",
    "    loop = asyncio.new_event_loop()\n",
    "    asyncio.set_event_loop(loop)\n",
    "    loop.run_until_complete(main())\n",
    "\n",
    "if __name__ == \"__main__\":\n",
    "    run_server()\n"
   ]
  },
  {
   "cell_type": "code",
   "execution_count": 9,
   "metadata": {},
   "outputs": [
    {
     "data": {
      "text/plain": [
       "{<Task pending name='Task-3' coro=<Kernel.dispatch_queue() running at c:\\Users\\dell\\AppData\\Local\\Programs\\Python\\Python310\\lib\\site-packages\\ipykernel\\kernelbase.py:542> cb=[IOLoop.add_future.<locals>.<lambda>() at c:\\Users\\dell\\AppData\\Local\\Programs\\Python\\Python310\\lib\\site-packages\\tornado\\ioloop.py:688]>}"
      ]
     },
     "execution_count": 9,
     "metadata": {},
     "output_type": "execute_result"
    }
   ],
   "source": [
    "asyncio.all_tasks()"
   ]
  },
  {
   "cell_type": "code",
   "execution_count": 11,
   "metadata": {},
   "outputs": [
    {
     "ename": "NameError",
     "evalue": "name 'loop' is not defined",
     "output_type": "error",
     "traceback": [
      "\u001b[1;31m---------------------------------------------------------------------------\u001b[0m",
      "\u001b[1;31mNameError\u001b[0m                                 Traceback (most recent call last)",
      "Input \u001b[1;32mIn [11]\u001b[0m, in \u001b[0;36m<cell line: 1>\u001b[1;34m()\u001b[0m\n\u001b[1;32m----> 1\u001b[0m \u001b[43mloop\u001b[49m\u001b[38;5;241m.\u001b[39mstop(\u001b[38;5;124m'\u001b[39m\u001b[38;5;124mTask-3\u001b[39m\u001b[38;5;124m'\u001b[39m)\n",
      "\u001b[1;31mNameError\u001b[0m: name 'loop' is not defined"
     ]
    }
   ],
   "source": [
    "loop.stop('Task-3')"
   ]
  }
 ],
 "metadata": {
  "kernelspec": {
   "display_name": "Python 3",
   "language": "python",
   "name": "python3"
  },
  "language_info": {
   "codemirror_mode": {
    "name": "ipython",
    "version": 3
   },
   "file_extension": ".py",
   "mimetype": "text/x-python",
   "name": "python",
   "nbconvert_exporter": "python",
   "pygments_lexer": "ipython3",
   "version": "3.10.4"
  }
 },
 "nbformat": 4,
 "nbformat_minor": 2
}
