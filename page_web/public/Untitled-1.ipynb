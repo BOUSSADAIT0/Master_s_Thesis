{
 "cells": [
  {
   "cell_type": "code",
   "execution_count": 27,
   "metadata": {},
   "outputs": [],
   "source": [
    "import cv2\n",
    "import torch\n",
    "import requests\n",
    "from ultralytics import YOLO\n",
    "\n",
    "model = YOLO('C:/Users/dell/OneDrive/Bureau/mastere2/projet_fin_etude/runs/detect/train9/weights/best.pt')\n",
    "url = 'http://<IP_de_votre_ESP32>:81/stream'\n",
    "server_url = 'http://<IP_de_votre_serveur>:5000/upload'\n",
    "\n",
    "cap = cv2.VideoCapture(url)\n",
    "\n",
    "while True:\n",
    "    ret, frame = cap.read()\n",
    "    if not ret:\n",
    "        break\n",
    "\n",
    "    results = model(frame)\n",
    "    detections = []\n",
    "\n",
    "    for result in results:\n",
    "        for box in result.boxes:\n",
    "            x1, y1, x2, y2 = map(int, box.xyxy)\n",
    "            detections.append({'x1': x1, 'y1': y1, 'x2': x2, 'y2': y2})\n",
    "            cv2.rectangle(frame, (x1, y1), (x2, y2), (0, 255, 0), 2)\n",
    "\n",
    "    # Envoyer les résultats au serveur\n",
    "    response = requests.post(server_url, json={'detections': detections})\n",
    "\n",
    "    cv2.imshow('ESP32-CAM Stream', frame)\n",
    "\n",
    "    if cv2.waitKey(1) & 0xFF == ord('q'):\n",
    "        break\n",
    "\n",
    "cap.release()\n",
    "cv2.destroyAllWindows()\n"
   ]
  },
  {
   "cell_type": "code",
   "execution_count": null,
   "metadata": {},
   "outputs": [],
   "source": []
  }
 ],
 "metadata": {
  "kernelspec": {
   "display_name": "Python 3",
   "language": "python",
   "name": "python3"
  },
  "language_info": {
   "codemirror_mode": {
    "name": "ipython",
    "version": 3
   },
   "file_extension": ".py",
   "mimetype": "text/x-python",
   "name": "python",
   "nbconvert_exporter": "python",
   "pygments_lexer": "ipython3",
   "version": "3.10.4"
  }
 },
 "nbformat": 4,
 "nbformat_minor": 2
}
