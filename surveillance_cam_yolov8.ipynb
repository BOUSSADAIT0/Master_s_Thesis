{
 "cells": [
  {
   "cell_type": "code",
   "execution_count": 2,
   "metadata": {},
   "outputs": [
    {
     "name": "stderr",
     "output_type": "stream",
     "text": [
      "c:\\Users\\dell\\AppData\\Local\\Programs\\Python\\Python310\\lib\\site-packages\\transformers\\utils\\generic.py:441: UserWarning: torch.utils._pytree._register_pytree_node is deprecated. Please use torch.utils._pytree.register_pytree_node instead.\n",
      "  _torch_pytree._register_pytree_node(\n"
     ]
    },
    {
     "name": "stdout",
     "output_type": "stream",
     "text": [
      "Transferred 355/355 items from pretrained weights\n"
     ]
    }
   ],
   "source": [
    "from ultralytics import YOLO\n",
    "\n",
    "\n",
    "# Load a model\n",
    "model = YOLO('yolov8n.yaml')  # build a new model from YAML\n",
    "model = YOLO('yolov8n.pt')  # load a pretrained model (recommended for training)\n",
    "model = YOLO('yolov8n.yaml').load('yolov8n.pt')  # build from YAML and transfer weights\n"
   ]
  },
  {
   "cell_type": "code",
   "execution_count": 5,
   "metadata": {},
   "outputs": [
    {
     "name": "stdout",
     "output_type": "stream",
     "text": [
      "New https://pypi.org/project/ultralytics/8.1.19 available 😃 Update with 'pip install -U ultralytics'\n",
      "Ultralytics YOLOv8.1.13 🚀 Python-3.10.4 torch-2.2.0+cpu CPU (Intel Core(TM) i5-10310U 1.70GHz)\n",
      "\u001b[34m\u001b[1mengine\\trainer: \u001b[0mtask=detect, mode=train, model=yolov8n.yaml, data=C:/Users/dell/OneDrive/Bureau/mastere2/projet_fin_etude/sleep_position.v1i.yolov8/data.yaml, epochs=100, time=None, patience=50, batch=16, imgsz=640, save=True, save_period=-1, cache=False, device=None, workers=8, project=None, name=train7, exist_ok=False, pretrained=True, optimizer=auto, verbose=True, seed=0, deterministic=True, single_cls=False, rect=False, cos_lr=False, close_mosaic=10, resume=False, amp=True, fraction=1.0, profile=False, freeze=None, multi_scale=False, overlap_mask=True, mask_ratio=4, dropout=0.0, val=True, split=val, save_json=False, save_hybrid=False, conf=None, iou=0.7, max_det=300, half=False, dnn=False, plots=True, source=None, vid_stride=1, stream_buffer=False, visualize=False, augment=False, agnostic_nms=False, classes=None, retina_masks=False, embed=None, show=False, save_frames=False, save_txt=False, save_conf=False, save_crop=False, show_labels=True, show_conf=True, show_boxes=True, line_width=None, format=torchscript, keras=False, optimize=False, int8=False, dynamic=False, simplify=False, opset=None, workspace=4, nms=False, lr0=0.01, lrf=0.01, momentum=0.937, weight_decay=0.0005, warmup_epochs=3.0, warmup_momentum=0.8, warmup_bias_lr=0.1, box=7.5, cls=0.5, dfl=1.5, pose=12.0, kobj=1.0, label_smoothing=0.0, nbs=64, hsv_h=0.015, hsv_s=0.7, hsv_v=0.4, degrees=0.0, translate=0.1, scale=0.5, shear=0.0, perspective=0.0, flipud=0.0, fliplr=0.5, mosaic=1.0, mixup=0.0, copy_paste=0.0, auto_augment=randaugment, erasing=0.4, crop_fraction=1.0, cfg=None, tracker=botsort.yaml, save_dir=runs\\detect\\train7\n",
      "Overriding model.yaml nc=80 with nc=4\n",
      "\n",
      "                   from  n    params  module                                       arguments                     \n",
      "  0                  -1  1       464  ultralytics.nn.modules.conv.Conv             [3, 16, 3, 2]                 \n",
      "  1                  -1  1      4672  ultralytics.nn.modules.conv.Conv             [16, 32, 3, 2]                \n",
      "  2                  -1  1      7360  ultralytics.nn.modules.block.C2f             [32, 32, 1, True]             \n",
      "  3                  -1  1     18560  ultralytics.nn.modules.conv.Conv             [32, 64, 3, 2]                \n",
      "  4                  -1  2     49664  ultralytics.nn.modules.block.C2f             [64, 64, 2, True]             \n",
      "  5                  -1  1     73984  ultralytics.nn.modules.conv.Conv             [64, 128, 3, 2]               \n",
      "  6                  -1  2    197632  ultralytics.nn.modules.block.C2f             [128, 128, 2, True]           \n",
      "  7                  -1  1    295424  ultralytics.nn.modules.conv.Conv             [128, 256, 3, 2]              \n",
      "  8                  -1  1    460288  ultralytics.nn.modules.block.C2f             [256, 256, 1, True]           \n",
      "  9                  -1  1    164608  ultralytics.nn.modules.block.SPPF            [256, 256, 5]                 \n",
      " 10                  -1  1         0  torch.nn.modules.upsampling.Upsample         [None, 2, 'nearest']          \n",
      " 11             [-1, 6]  1         0  ultralytics.nn.modules.conv.Concat           [1]                           \n",
      " 12                  -1  1    148224  ultralytics.nn.modules.block.C2f             [384, 128, 1]                 \n",
      " 13                  -1  1         0  torch.nn.modules.upsampling.Upsample         [None, 2, 'nearest']          \n",
      " 14             [-1, 4]  1         0  ultralytics.nn.modules.conv.Concat           [1]                           \n",
      " 15                  -1  1     37248  ultralytics.nn.modules.block.C2f             [192, 64, 1]                  \n",
      " 16                  -1  1     36992  ultralytics.nn.modules.conv.Conv             [64, 64, 3, 2]                \n",
      " 17            [-1, 12]  1         0  ultralytics.nn.modules.conv.Concat           [1]                           \n",
      " 18                  -1  1    123648  ultralytics.nn.modules.block.C2f             [192, 128, 1]                 \n",
      " 19                  -1  1    147712  ultralytics.nn.modules.conv.Conv             [128, 128, 3, 2]              \n",
      " 20             [-1, 9]  1         0  ultralytics.nn.modules.conv.Concat           [1]                           \n",
      " 21                  -1  1    493056  ultralytics.nn.modules.block.C2f             [384, 256, 1]                 \n",
      " 22        [15, 18, 21]  1    752092  ultralytics.nn.modules.head.Detect           [4, [64, 128, 256]]           \n",
      "YOLOv8n summary: 225 layers, 3011628 parameters, 3011612 gradients, 8.2 GFLOPs\n",
      "\n",
      "Transferred 319/355 items from pretrained weights\n",
      "\u001b[34m\u001b[1mTensorBoard: \u001b[0mStart with 'tensorboard --logdir runs\\detect\\train7', view at http://localhost:6006/\n",
      "Freezing layer 'model.22.dfl.conv.weight'\n"
     ]
    },
    {
     "name": "stderr",
     "output_type": "stream",
     "text": [
      "\u001b[34m\u001b[1mtrain: \u001b[0mScanning C:\\Users\\dell\\OneDrive\\Bureau\\mastere2\\projet_fin_etude\\sleep_position.v1i.yolov8\\train\\labels.cache... 775 images, 6 backgrounds, 0 corrupt: 100%|██████████| 775/775 [00:00<?, ?it/s]\n",
      "\u001b[34m\u001b[1mval: \u001b[0mScanning C:\\Users\\dell\\OneDrive\\Bureau\\mastere2\\projet_fin_etude\\sleep_position.v1i.yolov8\\valid\\labels.cache... 221 images, 1 backgrounds, 0 corrupt: 100%|██████████| 221/221 [00:00<?, ?it/s]"
     ]
    },
    {
     "name": "stdout",
     "output_type": "stream",
     "text": [
      "Plotting labels to runs\\detect\\train7\\labels.jpg... \n"
     ]
    },
    {
     "name": "stderr",
     "output_type": "stream",
     "text": [
      "\n"
     ]
    },
    {
     "name": "stdout",
     "output_type": "stream",
     "text": [
      "\u001b[34m\u001b[1moptimizer:\u001b[0m 'optimizer=auto' found, ignoring 'lr0=0.01' and 'momentum=0.937' and determining best 'optimizer', 'lr0' and 'momentum' automatically... \n",
      "\u001b[34m\u001b[1moptimizer:\u001b[0m AdamW(lr=0.00125, momentum=0.9) with parameter groups 57 weight(decay=0.0), 64 weight(decay=0.0005), 63 bias(decay=0.0)\n",
      "\u001b[34m\u001b[1mTensorBoard: \u001b[0mmodel graph visualization added ✅\n",
      "Image sizes 640 train, 640 val\n",
      "Using 0 dataloader workers\n",
      "Logging results to \u001b[1mruns\\detect\\train7\u001b[0m\n",
      "Starting training for 100 epochs...\n",
      "\n",
      "      Epoch    GPU_mem   box_loss   cls_loss   dfl_loss  Instances       Size\n"
     ]
    },
    {
     "name": "stderr",
     "output_type": "stream",
     "text": [
      "      1/100         0G      1.322      2.929      1.592         15        640: 100%|██████████| 49/49 [11:32<00:00, 14.13s/it]\n",
      "                 Class     Images  Instances      Box(P          R      mAP50  mAP50-95): 100%|██████████| 7/7 [00:59<00:00,  8.52s/it]"
     ]
    },
    {
     "name": "stdout",
     "output_type": "stream",
     "text": [
      "                   all        221        221    0.00413       0.98      0.171     0.0917\n"
     ]
    },
    {
     "name": "stderr",
     "output_type": "stream",
     "text": [
      "\n"
     ]
    },
    {
     "name": "stdout",
     "output_type": "stream",
     "text": [
      "\n",
      "      Epoch    GPU_mem   box_loss   cls_loss   dfl_loss  Instances       Size\n"
     ]
    },
    {
     "name": "stderr",
     "output_type": "stream",
     "text": [
      "      2/100         0G       1.28      2.318      1.502         15        640: 100%|██████████| 49/49 [10:30<00:00, 12.86s/it]\n",
      "                 Class     Images  Instances      Box(P          R      mAP50  mAP50-95): 100%|██████████| 7/7 [00:59<00:00,  8.44s/it]"
     ]
    },
    {
     "name": "stdout",
     "output_type": "stream",
     "text": [
      "                   all        221        221      0.249      0.498      0.315      0.143\n"
     ]
    },
    {
     "name": "stderr",
     "output_type": "stream",
     "text": [
      "\n"
     ]
    },
    {
     "name": "stdout",
     "output_type": "stream",
     "text": [
      "\n",
      "      Epoch    GPU_mem   box_loss   cls_loss   dfl_loss  Instances       Size\n"
     ]
    },
    {
     "name": "stderr",
     "output_type": "stream",
     "text": [
      "      3/100         0G       1.34       2.18      1.547         14        640: 100%|██████████| 49/49 [10:20<00:00, 12.66s/it]\n",
      "                 Class     Images  Instances      Box(P          R      mAP50  mAP50-95): 100%|██████████| 7/7 [00:59<00:00,  8.52s/it]"
     ]
    },
    {
     "name": "stdout",
     "output_type": "stream",
     "text": [
      "                   all        221        221      0.308      0.237      0.199     0.0997\n"
     ]
    },
    {
     "name": "stderr",
     "output_type": "stream",
     "text": [
      "\n"
     ]
    },
    {
     "name": "stdout",
     "output_type": "stream",
     "text": [
      "\n",
      "      Epoch    GPU_mem   box_loss   cls_loss   dfl_loss  Instances       Size\n"
     ]
    },
    {
     "name": "stderr",
     "output_type": "stream",
     "text": [
      "      4/100         0G      1.405       2.09      1.577         20        640: 100%|██████████| 49/49 [10:04<00:00, 12.34s/it]\n",
      "                 Class     Images  Instances      Box(P          R      mAP50  mAP50-95): 100%|██████████| 7/7 [00:57<00:00,  8.24s/it]"
     ]
    },
    {
     "name": "stdout",
     "output_type": "stream",
     "text": [
      "                   all        221        221        0.4      0.441      0.398       0.18\n"
     ]
    },
    {
     "name": "stderr",
     "output_type": "stream",
     "text": [
      "\n"
     ]
    },
    {
     "name": "stdout",
     "output_type": "stream",
     "text": [
      "\n",
      "      Epoch    GPU_mem   box_loss   cls_loss   dfl_loss  Instances       Size\n"
     ]
    },
    {
     "name": "stderr",
     "output_type": "stream",
     "text": [
      "      5/100         0G      1.345      1.949      1.509         19        640: 100%|██████████| 49/49 [10:00<00:00, 12.26s/it]\n",
      "                 Class     Images  Instances      Box(P          R      mAP50  mAP50-95): 100%|██████████| 7/7 [00:59<00:00,  8.52s/it]"
     ]
    },
    {
     "name": "stdout",
     "output_type": "stream",
     "text": [
      "                   all        221        221      0.484      0.502      0.463      0.237\n"
     ]
    },
    {
     "name": "stderr",
     "output_type": "stream",
     "text": [
      "\n"
     ]
    },
    {
     "name": "stdout",
     "output_type": "stream",
     "text": [
      "\n",
      "      Epoch    GPU_mem   box_loss   cls_loss   dfl_loss  Instances       Size\n"
     ]
    },
    {
     "name": "stderr",
     "output_type": "stream",
     "text": [
      "      6/100         0G      1.345      1.863      1.515         24        640: 100%|██████████| 49/49 [09:56<00:00, 12.18s/it]\n",
      "                 Class     Images  Instances      Box(P          R      mAP50  mAP50-95): 100%|██████████| 7/7 [00:57<00:00,  8.19s/it]"
     ]
    },
    {
     "name": "stdout",
     "output_type": "stream",
     "text": [
      "                   all        221        221       0.32      0.519      0.415      0.233\n"
     ]
    },
    {
     "name": "stderr",
     "output_type": "stream",
     "text": [
      "\n"
     ]
    },
    {
     "name": "stdout",
     "output_type": "stream",
     "text": [
      "\n",
      "      Epoch    GPU_mem   box_loss   cls_loss   dfl_loss  Instances       Size\n"
     ]
    },
    {
     "name": "stderr",
     "output_type": "stream",
     "text": [
      "      7/100         0G      1.365      1.749      1.496         14        640: 100%|██████████| 49/49 [10:45<00:00, 13.17s/it]\n",
      "                 Class     Images  Instances      Box(P          R      mAP50  mAP50-95): 100%|██████████| 7/7 [00:59<00:00,  8.44s/it]"
     ]
    },
    {
     "name": "stdout",
     "output_type": "stream",
     "text": [
      "                   all        221        221      0.478      0.513      0.527      0.278\n"
     ]
    },
    {
     "name": "stderr",
     "output_type": "stream",
     "text": [
      "\n"
     ]
    },
    {
     "name": "stdout",
     "output_type": "stream",
     "text": [
      "\n",
      "      Epoch    GPU_mem   box_loss   cls_loss   dfl_loss  Instances       Size\n"
     ]
    },
    {
     "name": "stderr",
     "output_type": "stream",
     "text": [
      "      8/100         0G      1.282      1.677      1.443         21        640: 100%|██████████| 49/49 [10:00<00:00, 12.26s/it]\n",
      "                 Class     Images  Instances      Box(P          R      mAP50  mAP50-95): 100%|██████████| 7/7 [00:57<00:00,  8.26s/it]"
     ]
    },
    {
     "name": "stdout",
     "output_type": "stream",
     "text": [
      "                   all        221        221      0.476      0.549       0.52      0.289\n"
     ]
    },
    {
     "name": "stderr",
     "output_type": "stream",
     "text": [
      "\n"
     ]
    },
    {
     "name": "stdout",
     "output_type": "stream",
     "text": [
      "\n",
      "      Epoch    GPU_mem   box_loss   cls_loss   dfl_loss  Instances       Size\n"
     ]
    },
    {
     "name": "stderr",
     "output_type": "stream",
     "text": [
      "      9/100         0G        1.3       1.67      1.458         19        640: 100%|██████████| 49/49 [09:26<00:00, 11.57s/it]\n",
      "                 Class     Images  Instances      Box(P          R      mAP50  mAP50-95): 100%|██████████| 7/7 [00:57<00:00,  8.25s/it]"
     ]
    },
    {
     "name": "stdout",
     "output_type": "stream",
     "text": [
      "                   all        221        221      0.424      0.576      0.482       0.25\n"
     ]
    },
    {
     "name": "stderr",
     "output_type": "stream",
     "text": [
      "\n"
     ]
    },
    {
     "name": "stdout",
     "output_type": "stream",
     "text": [
      "\n",
      "      Epoch    GPU_mem   box_loss   cls_loss   dfl_loss  Instances       Size\n"
     ]
    },
    {
     "name": "stderr",
     "output_type": "stream",
     "text": [
      "     10/100         0G      1.282      1.589      1.461         20        640: 100%|██████████| 49/49 [09:16<00:00, 11.36s/it]\n",
      "                 Class     Images  Instances      Box(P          R      mAP50  mAP50-95): 100%|██████████| 7/7 [00:56<00:00,  8.08s/it]"
     ]
    },
    {
     "name": "stdout",
     "output_type": "stream",
     "text": [
      "                   all        221        221      0.487      0.507      0.571       0.33\n"
     ]
    },
    {
     "name": "stderr",
     "output_type": "stream",
     "text": [
      "\n"
     ]
    },
    {
     "name": "stdout",
     "output_type": "stream",
     "text": [
      "\n",
      "      Epoch    GPU_mem   box_loss   cls_loss   dfl_loss  Instances       Size\n"
     ]
    },
    {
     "name": "stderr",
     "output_type": "stream",
     "text": [
      "     11/100         0G      1.293      1.571      1.459         20        640: 100%|██████████| 49/49 [09:24<00:00, 11.52s/it]\n",
      "                 Class     Images  Instances      Box(P          R      mAP50  mAP50-95): 100%|██████████| 7/7 [00:57<00:00,  8.18s/it]"
     ]
    },
    {
     "name": "stdout",
     "output_type": "stream",
     "text": [
      "                   all        221        221      0.498      0.663      0.561      0.327\n"
     ]
    },
    {
     "name": "stderr",
     "output_type": "stream",
     "text": [
      "\n"
     ]
    },
    {
     "name": "stdout",
     "output_type": "stream",
     "text": [
      "\n",
      "      Epoch    GPU_mem   box_loss   cls_loss   dfl_loss  Instances       Size\n"
     ]
    },
    {
     "name": "stderr",
     "output_type": "stream",
     "text": [
      "     12/100         0G      1.234      1.516      1.425         17        640: 100%|██████████| 49/49 [09:19<00:00, 11.43s/it]\n",
      "                 Class     Images  Instances      Box(P          R      mAP50  mAP50-95): 100%|██████████| 7/7 [00:57<00:00,  8.18s/it]"
     ]
    },
    {
     "name": "stdout",
     "output_type": "stream",
     "text": [
      "                   all        221        221       0.49      0.734      0.599      0.361\n"
     ]
    },
    {
     "name": "stderr",
     "output_type": "stream",
     "text": [
      "\n"
     ]
    },
    {
     "name": "stdout",
     "output_type": "stream",
     "text": [
      "\n",
      "      Epoch    GPU_mem   box_loss   cls_loss   dfl_loss  Instances       Size\n"
     ]
    },
    {
     "name": "stderr",
     "output_type": "stream",
     "text": [
      "     13/100         0G      1.265      1.514      1.458         16        640: 100%|██████████| 49/49 [09:19<00:00, 11.42s/it]\n",
      "                 Class     Images  Instances      Box(P          R      mAP50  mAP50-95): 100%|██████████| 7/7 [00:56<00:00,  8.10s/it]"
     ]
    },
    {
     "name": "stdout",
     "output_type": "stream",
     "text": [
      "                   all        221        221      0.465      0.653      0.527      0.293\n"
     ]
    },
    {
     "name": "stderr",
     "output_type": "stream",
     "text": [
      "\n"
     ]
    },
    {
     "name": "stdout",
     "output_type": "stream",
     "text": [
      "\n",
      "      Epoch    GPU_mem   box_loss   cls_loss   dfl_loss  Instances       Size\n"
     ]
    },
    {
     "name": "stderr",
     "output_type": "stream",
     "text": [
      "     14/100         0G      1.236       1.46      1.425         23        640: 100%|██████████| 49/49 [09:15<00:00, 11.35s/it]\n",
      "                 Class     Images  Instances      Box(P          R      mAP50  mAP50-95): 100%|██████████| 7/7 [00:55<00:00,  7.95s/it]"
     ]
    },
    {
     "name": "stdout",
     "output_type": "stream",
     "text": [
      "                   all        221        221       0.48      0.767      0.647      0.406\n"
     ]
    },
    {
     "name": "stderr",
     "output_type": "stream",
     "text": [
      "\n"
     ]
    },
    {
     "name": "stdout",
     "output_type": "stream",
     "text": [
      "\n",
      "      Epoch    GPU_mem   box_loss   cls_loss   dfl_loss  Instances       Size\n"
     ]
    },
    {
     "name": "stderr",
     "output_type": "stream",
     "text": [
      "     15/100         0G      1.226      1.441       1.42         22        640: 100%|██████████| 49/49 [09:21<00:00, 11.45s/it]\n",
      "                 Class     Images  Instances      Box(P          R      mAP50  mAP50-95): 100%|██████████| 7/7 [00:56<00:00,  8.12s/it]"
     ]
    },
    {
     "name": "stdout",
     "output_type": "stream",
     "text": [
      "                   all        221        221      0.501      0.741      0.652      0.409\n"
     ]
    },
    {
     "name": "stderr",
     "output_type": "stream",
     "text": [
      "\n"
     ]
    },
    {
     "name": "stdout",
     "output_type": "stream",
     "text": [
      "\n",
      "      Epoch    GPU_mem   box_loss   cls_loss   dfl_loss  Instances       Size\n"
     ]
    },
    {
     "name": "stderr",
     "output_type": "stream",
     "text": [
      "     16/100         0G      1.217       1.37      1.408         13        640: 100%|██████████| 49/49 [09:20<00:00, 11.43s/it]\n",
      "                 Class     Images  Instances      Box(P          R      mAP50  mAP50-95): 100%|██████████| 7/7 [00:57<00:00,  8.20s/it]"
     ]
    },
    {
     "name": "stdout",
     "output_type": "stream",
     "text": [
      "                   all        221        221      0.502      0.806       0.61      0.367\n"
     ]
    },
    {
     "name": "stderr",
     "output_type": "stream",
     "text": [
      "\n"
     ]
    },
    {
     "name": "stdout",
     "output_type": "stream",
     "text": [
      "\n",
      "      Epoch    GPU_mem   box_loss   cls_loss   dfl_loss  Instances       Size\n"
     ]
    },
    {
     "name": "stderr",
     "output_type": "stream",
     "text": [
      "     17/100         0G      1.202      1.399      1.401         17        640: 100%|██████████| 49/49 [09:19<00:00, 11.42s/it]\n",
      "                 Class     Images  Instances      Box(P          R      mAP50  mAP50-95): 100%|██████████| 7/7 [00:58<00:00,  8.37s/it]"
     ]
    },
    {
     "name": "stdout",
     "output_type": "stream",
     "text": [
      "                   all        221        221      0.621      0.566      0.641      0.353\n"
     ]
    },
    {
     "name": "stderr",
     "output_type": "stream",
     "text": [
      "\n"
     ]
    },
    {
     "name": "stdout",
     "output_type": "stream",
     "text": [
      "\n",
      "      Epoch    GPU_mem   box_loss   cls_loss   dfl_loss  Instances       Size\n"
     ]
    },
    {
     "name": "stderr",
     "output_type": "stream",
     "text": [
      "     18/100         0G      1.202      1.373      1.397         23        640: 100%|██████████| 49/49 [09:17<00:00, 11.38s/it]\n",
      "                 Class     Images  Instances      Box(P          R      mAP50  mAP50-95): 100%|██████████| 7/7 [00:57<00:00,  8.14s/it]"
     ]
    },
    {
     "name": "stdout",
     "output_type": "stream",
     "text": [
      "                   all        221        221      0.553       0.81      0.637      0.396\n"
     ]
    },
    {
     "name": "stderr",
     "output_type": "stream",
     "text": [
      "\n"
     ]
    },
    {
     "name": "stdout",
     "output_type": "stream",
     "text": [
      "\n",
      "      Epoch    GPU_mem   box_loss   cls_loss   dfl_loss  Instances       Size\n"
     ]
    },
    {
     "name": "stderr",
     "output_type": "stream",
     "text": [
      "     19/100         0G      1.184      1.312       1.37         21        640: 100%|██████████| 49/49 [09:20<00:00, 11.43s/it]\n",
      "                 Class     Images  Instances      Box(P          R      mAP50  mAP50-95): 100%|██████████| 7/7 [00:57<00:00,  8.18s/it]"
     ]
    },
    {
     "name": "stdout",
     "output_type": "stream",
     "text": [
      "                   all        221        221      0.569      0.756      0.645      0.412\n"
     ]
    },
    {
     "name": "stderr",
     "output_type": "stream",
     "text": [
      "\n"
     ]
    },
    {
     "name": "stdout",
     "output_type": "stream",
     "text": [
      "\n",
      "      Epoch    GPU_mem   box_loss   cls_loss   dfl_loss  Instances       Size\n"
     ]
    },
    {
     "name": "stderr",
     "output_type": "stream",
     "text": [
      "     20/100         0G      1.202      1.334      1.415         13        640: 100%|██████████| 49/49 [09:18<00:00, 11.40s/it]\n",
      "                 Class     Images  Instances      Box(P          R      mAP50  mAP50-95): 100%|██████████| 7/7 [00:58<00:00,  8.30s/it]"
     ]
    },
    {
     "name": "stdout",
     "output_type": "stream",
     "text": [
      "                   all        221        221      0.513      0.687      0.656      0.437\n"
     ]
    },
    {
     "name": "stderr",
     "output_type": "stream",
     "text": [
      "\n"
     ]
    },
    {
     "name": "stdout",
     "output_type": "stream",
     "text": [
      "\n",
      "      Epoch    GPU_mem   box_loss   cls_loss   dfl_loss  Instances       Size\n"
     ]
    },
    {
     "name": "stderr",
     "output_type": "stream",
     "text": [
      "     21/100         0G      1.182      1.301      1.387         17        640: 100%|██████████| 49/49 [09:19<00:00, 11.42s/it]\n",
      "                 Class     Images  Instances      Box(P          R      mAP50  mAP50-95): 100%|██████████| 7/7 [00:57<00:00,  8.17s/it]"
     ]
    },
    {
     "name": "stdout",
     "output_type": "stream",
     "text": [
      "                   all        221        221      0.444       0.73      0.608      0.401\n"
     ]
    },
    {
     "name": "stderr",
     "output_type": "stream",
     "text": [
      "\n"
     ]
    },
    {
     "name": "stdout",
     "output_type": "stream",
     "text": [
      "\n",
      "      Epoch    GPU_mem   box_loss   cls_loss   dfl_loss  Instances       Size\n"
     ]
    },
    {
     "name": "stderr",
     "output_type": "stream",
     "text": [
      "     22/100         0G      1.208      1.276      1.389         20        640: 100%|██████████| 49/49 [09:27<00:00, 11.59s/it]\n",
      "                 Class     Images  Instances      Box(P          R      mAP50  mAP50-95): 100%|██████████| 7/7 [00:57<00:00,  8.28s/it]"
     ]
    },
    {
     "name": "stdout",
     "output_type": "stream",
     "text": [
      "                   all        221        221      0.572      0.765      0.649      0.428\n"
     ]
    },
    {
     "name": "stderr",
     "output_type": "stream",
     "text": [
      "\n"
     ]
    },
    {
     "name": "stdout",
     "output_type": "stream",
     "text": [
      "\n",
      "      Epoch    GPU_mem   box_loss   cls_loss   dfl_loss  Instances       Size\n"
     ]
    },
    {
     "name": "stderr",
     "output_type": "stream",
     "text": [
      "     23/100         0G       1.14      1.243      1.356         17        640: 100%|██████████| 49/49 [09:27<00:00, 11.58s/it]\n",
      "                 Class     Images  Instances      Box(P          R      mAP50  mAP50-95): 100%|██████████| 7/7 [00:57<00:00,  8.18s/it]"
     ]
    },
    {
     "name": "stdout",
     "output_type": "stream",
     "text": [
      "                   all        221        221      0.589      0.773      0.699      0.453\n"
     ]
    },
    {
     "name": "stderr",
     "output_type": "stream",
     "text": [
      "\n"
     ]
    },
    {
     "name": "stdout",
     "output_type": "stream",
     "text": [
      "\n",
      "      Epoch    GPU_mem   box_loss   cls_loss   dfl_loss  Instances       Size\n"
     ]
    },
    {
     "name": "stderr",
     "output_type": "stream",
     "text": [
      "     24/100         0G      1.157      1.244      1.378         17        640: 100%|██████████| 49/49 [09:23<00:00, 11.51s/it]\n",
      "                 Class     Images  Instances      Box(P          R      mAP50  mAP50-95): 100%|██████████| 7/7 [00:56<00:00,  8.12s/it]"
     ]
    },
    {
     "name": "stdout",
     "output_type": "stream",
     "text": [
      "                   all        221        221      0.512       0.85      0.647      0.438\n"
     ]
    },
    {
     "name": "stderr",
     "output_type": "stream",
     "text": [
      "\n"
     ]
    },
    {
     "name": "stdout",
     "output_type": "stream",
     "text": [
      "\n",
      "      Epoch    GPU_mem   box_loss   cls_loss   dfl_loss  Instances       Size\n"
     ]
    },
    {
     "name": "stderr",
     "output_type": "stream",
     "text": [
      "     25/100         0G      1.163       1.27      1.365         17        640: 100%|██████████| 49/49 [09:20<00:00, 11.44s/it]\n",
      "                 Class     Images  Instances      Box(P          R      mAP50  mAP50-95): 100%|██████████| 7/7 [00:56<00:00,  8.09s/it]"
     ]
    },
    {
     "name": "stdout",
     "output_type": "stream",
     "text": [
      "                   all        221        221       0.48      0.797      0.691      0.423\n"
     ]
    },
    {
     "name": "stderr",
     "output_type": "stream",
     "text": [
      "\n"
     ]
    },
    {
     "name": "stdout",
     "output_type": "stream",
     "text": [
      "\n",
      "      Epoch    GPU_mem   box_loss   cls_loss   dfl_loss  Instances       Size\n"
     ]
    },
    {
     "name": "stderr",
     "output_type": "stream",
     "text": [
      "     26/100         0G      1.119      1.233       1.34         25        640: 100%|██████████| 49/49 [09:21<00:00, 11.47s/it]\n",
      "                 Class     Images  Instances      Box(P          R      mAP50  mAP50-95): 100%|██████████| 7/7 [00:57<00:00,  8.22s/it]"
     ]
    },
    {
     "name": "stdout",
     "output_type": "stream",
     "text": [
      "                   all        221        221       0.51       0.72      0.708      0.432\n"
     ]
    },
    {
     "name": "stderr",
     "output_type": "stream",
     "text": [
      "\n"
     ]
    },
    {
     "name": "stdout",
     "output_type": "stream",
     "text": [
      "\n",
      "      Epoch    GPU_mem   box_loss   cls_loss   dfl_loss  Instances       Size\n"
     ]
    },
    {
     "name": "stderr",
     "output_type": "stream",
     "text": [
      "     27/100         0G      1.131      1.218      1.355         23        640: 100%|██████████| 49/49 [09:23<00:00, 11.51s/it]\n",
      "                 Class     Images  Instances      Box(P          R      mAP50  mAP50-95): 100%|██████████| 7/7 [00:57<00:00,  8.17s/it]"
     ]
    },
    {
     "name": "stdout",
     "output_type": "stream",
     "text": [
      "                   all        221        221      0.651      0.781       0.74      0.482\n"
     ]
    },
    {
     "name": "stderr",
     "output_type": "stream",
     "text": [
      "\n"
     ]
    },
    {
     "name": "stdout",
     "output_type": "stream",
     "text": [
      "\n",
      "      Epoch    GPU_mem   box_loss   cls_loss   dfl_loss  Instances       Size\n"
     ]
    },
    {
     "name": "stderr",
     "output_type": "stream",
     "text": [
      "     28/100         0G      1.127      1.171      1.344         15        640: 100%|██████████| 49/49 [09:20<00:00, 11.44s/it]\n",
      "                 Class     Images  Instances      Box(P          R      mAP50  mAP50-95): 100%|██████████| 7/7 [00:58<00:00,  8.29s/it]"
     ]
    },
    {
     "name": "stdout",
     "output_type": "stream",
     "text": [
      "                   all        221        221      0.548      0.762      0.686      0.445\n"
     ]
    },
    {
     "name": "stderr",
     "output_type": "stream",
     "text": [
      "\n"
     ]
    },
    {
     "name": "stdout",
     "output_type": "stream",
     "text": [
      "\n",
      "      Epoch    GPU_mem   box_loss   cls_loss   dfl_loss  Instances       Size\n"
     ]
    },
    {
     "name": "stderr",
     "output_type": "stream",
     "text": [
      "     29/100         0G      1.138      1.176      1.345         20        640: 100%|██████████| 49/49 [09:23<00:00, 11.51s/it]\n",
      "                 Class     Images  Instances      Box(P          R      mAP50  mAP50-95): 100%|██████████| 7/7 [00:58<00:00,  8.41s/it]"
     ]
    },
    {
     "name": "stdout",
     "output_type": "stream",
     "text": [
      "                   all        221        221      0.548      0.743      0.652      0.439\n"
     ]
    },
    {
     "name": "stderr",
     "output_type": "stream",
     "text": [
      "\n"
     ]
    },
    {
     "name": "stdout",
     "output_type": "stream",
     "text": [
      "\n",
      "      Epoch    GPU_mem   box_loss   cls_loss   dfl_loss  Instances       Size\n"
     ]
    },
    {
     "name": "stderr",
     "output_type": "stream",
     "text": [
      "     30/100         0G      1.112      1.148      1.331         15        640: 100%|██████████| 49/49 [09:20<00:00, 11.43s/it]\n",
      "                 Class     Images  Instances      Box(P          R      mAP50  mAP50-95): 100%|██████████| 7/7 [00:58<00:00,  8.33s/it]"
     ]
    },
    {
     "name": "stdout",
     "output_type": "stream",
     "text": [
      "                   all        221        221      0.536      0.851      0.674      0.442\n"
     ]
    },
    {
     "name": "stderr",
     "output_type": "stream",
     "text": [
      "\n"
     ]
    },
    {
     "name": "stdout",
     "output_type": "stream",
     "text": [
      "\n",
      "      Epoch    GPU_mem   box_loss   cls_loss   dfl_loss  Instances       Size\n"
     ]
    },
    {
     "name": "stderr",
     "output_type": "stream",
     "text": [
      "     31/100         0G      1.109      1.133       1.32         19        640: 100%|██████████| 49/49 [09:24<00:00, 11.51s/it]\n",
      "                 Class     Images  Instances      Box(P          R      mAP50  mAP50-95): 100%|██████████| 7/7 [00:57<00:00,  8.20s/it]"
     ]
    },
    {
     "name": "stdout",
     "output_type": "stream",
     "text": [
      "                   all        221        221      0.614      0.841      0.751      0.497\n"
     ]
    },
    {
     "name": "stderr",
     "output_type": "stream",
     "text": [
      "\n"
     ]
    },
    {
     "name": "stdout",
     "output_type": "stream",
     "text": [
      "\n",
      "      Epoch    GPU_mem   box_loss   cls_loss   dfl_loss  Instances       Size\n"
     ]
    },
    {
     "name": "stderr",
     "output_type": "stream",
     "text": [
      "     32/100         0G      1.123      1.152      1.346         14        640: 100%|██████████| 49/49 [09:21<00:00, 11.47s/it]\n",
      "                 Class     Images  Instances      Box(P          R      mAP50  mAP50-95): 100%|██████████| 7/7 [00:58<00:00,  8.34s/it]"
     ]
    },
    {
     "name": "stdout",
     "output_type": "stream",
     "text": [
      "                   all        221        221      0.539      0.808      0.625      0.402\n"
     ]
    },
    {
     "name": "stderr",
     "output_type": "stream",
     "text": [
      "\n"
     ]
    },
    {
     "name": "stdout",
     "output_type": "stream",
     "text": [
      "\n",
      "      Epoch    GPU_mem   box_loss   cls_loss   dfl_loss  Instances       Size\n"
     ]
    },
    {
     "name": "stderr",
     "output_type": "stream",
     "text": [
      "     33/100         0G      1.108      1.126      1.331         21        640: 100%|██████████| 49/49 [09:20<00:00, 11.43s/it]\n",
      "                 Class     Images  Instances      Box(P          R      mAP50  mAP50-95): 100%|██████████| 7/7 [00:57<00:00,  8.21s/it]"
     ]
    },
    {
     "name": "stdout",
     "output_type": "stream",
     "text": [
      "                   all        221        221      0.615      0.857      0.745      0.478\n"
     ]
    },
    {
     "name": "stderr",
     "output_type": "stream",
     "text": [
      "\n"
     ]
    },
    {
     "name": "stdout",
     "output_type": "stream",
     "text": [
      "\n",
      "      Epoch    GPU_mem   box_loss   cls_loss   dfl_loss  Instances       Size\n"
     ]
    },
    {
     "name": "stderr",
     "output_type": "stream",
     "text": [
      "     34/100         0G        1.1      1.103      1.317         18        640: 100%|██████████| 49/49 [09:24<00:00, 11.51s/it]\n",
      "                 Class     Images  Instances      Box(P          R      mAP50  mAP50-95): 100%|██████████| 7/7 [00:57<00:00,  8.27s/it]"
     ]
    },
    {
     "name": "stdout",
     "output_type": "stream",
     "text": [
      "                   all        221        221      0.579       0.83      0.728      0.459\n"
     ]
    },
    {
     "name": "stderr",
     "output_type": "stream",
     "text": [
      "\n"
     ]
    },
    {
     "name": "stdout",
     "output_type": "stream",
     "text": [
      "\n",
      "      Epoch    GPU_mem   box_loss   cls_loss   dfl_loss  Instances       Size\n"
     ]
    },
    {
     "name": "stderr",
     "output_type": "stream",
     "text": [
      "     35/100         0G      1.092      1.104      1.305         21        640: 100%|██████████| 49/49 [09:21<00:00, 11.45s/it]\n",
      "                 Class     Images  Instances      Box(P          R      mAP50  mAP50-95): 100%|██████████| 7/7 [00:58<00:00,  8.33s/it]"
     ]
    },
    {
     "name": "stdout",
     "output_type": "stream",
     "text": [
      "                   all        221        221      0.573      0.777      0.747      0.482\n"
     ]
    },
    {
     "name": "stderr",
     "output_type": "stream",
     "text": [
      "\n"
     ]
    },
    {
     "name": "stdout",
     "output_type": "stream",
     "text": [
      "\n",
      "      Epoch    GPU_mem   box_loss   cls_loss   dfl_loss  Instances       Size\n"
     ]
    },
    {
     "name": "stderr",
     "output_type": "stream",
     "text": [
      "     36/100         0G      1.072      1.073      1.298         20        640: 100%|██████████| 49/49 [09:21<00:00, 11.45s/it]\n",
      "                 Class     Images  Instances      Box(P          R      mAP50  mAP50-95): 100%|██████████| 7/7 [00:57<00:00,  8.17s/it]"
     ]
    },
    {
     "name": "stdout",
     "output_type": "stream",
     "text": [
      "                   all        221        221      0.579      0.839      0.733      0.481\n"
     ]
    },
    {
     "name": "stderr",
     "output_type": "stream",
     "text": [
      "\n"
     ]
    },
    {
     "name": "stdout",
     "output_type": "stream",
     "text": [
      "\n",
      "      Epoch    GPU_mem   box_loss   cls_loss   dfl_loss  Instances       Size\n"
     ]
    },
    {
     "name": "stderr",
     "output_type": "stream",
     "text": [
      "     37/100         0G      1.048      1.096      1.305         17        640: 100%|██████████| 49/49 [09:25<00:00, 11.54s/it]\n",
      "                 Class     Images  Instances      Box(P          R      mAP50  mAP50-95): 100%|██████████| 7/7 [00:56<00:00,  8.12s/it]"
     ]
    },
    {
     "name": "stdout",
     "output_type": "stream",
     "text": [
      "                   all        221        221       0.64       0.82      0.768      0.517\n"
     ]
    },
    {
     "name": "stderr",
     "output_type": "stream",
     "text": [
      "\n"
     ]
    },
    {
     "name": "stdout",
     "output_type": "stream",
     "text": [
      "\n",
      "      Epoch    GPU_mem   box_loss   cls_loss   dfl_loss  Instances       Size\n"
     ]
    },
    {
     "name": "stderr",
     "output_type": "stream",
     "text": [
      "     38/100         0G      1.036      1.058      1.272         18        640: 100%|██████████| 49/49 [09:23<00:00, 11.49s/it]\n",
      "                 Class     Images  Instances      Box(P          R      mAP50  mAP50-95): 100%|██████████| 7/7 [00:57<00:00,  8.28s/it]"
     ]
    },
    {
     "name": "stdout",
     "output_type": "stream",
     "text": [
      "                   all        221        221      0.615      0.812      0.774      0.511\n"
     ]
    },
    {
     "name": "stderr",
     "output_type": "stream",
     "text": [
      "\n"
     ]
    },
    {
     "name": "stdout",
     "output_type": "stream",
     "text": [
      "\n",
      "      Epoch    GPU_mem   box_loss   cls_loss   dfl_loss  Instances       Size\n"
     ]
    },
    {
     "name": "stderr",
     "output_type": "stream",
     "text": [
      "     39/100         0G      1.051      1.047        1.3         23        640: 100%|██████████| 49/49 [09:20<00:00, 11.43s/it]\n",
      "                 Class     Images  Instances      Box(P          R      mAP50  mAP50-95): 100%|██████████| 7/7 [00:57<00:00,  8.26s/it]"
     ]
    },
    {
     "name": "stdout",
     "output_type": "stream",
     "text": [
      "                   all        221        221      0.675      0.815      0.821       0.55\n"
     ]
    },
    {
     "name": "stderr",
     "output_type": "stream",
     "text": [
      "\n"
     ]
    },
    {
     "name": "stdout",
     "output_type": "stream",
     "text": [
      "\n",
      "      Epoch    GPU_mem   box_loss   cls_loss   dfl_loss  Instances       Size\n"
     ]
    },
    {
     "name": "stderr",
     "output_type": "stream",
     "text": [
      "     40/100         0G      1.053      1.053      1.302         23        640: 100%|██████████| 49/49 [09:25<00:00, 11.54s/it]\n",
      "                 Class     Images  Instances      Box(P          R      mAP50  mAP50-95): 100%|██████████| 7/7 [00:57<00:00,  8.25s/it]"
     ]
    },
    {
     "name": "stdout",
     "output_type": "stream",
     "text": [
      "                   all        221        221      0.673      0.825      0.823       0.54\n"
     ]
    },
    {
     "name": "stderr",
     "output_type": "stream",
     "text": [
      "\n"
     ]
    },
    {
     "name": "stdout",
     "output_type": "stream",
     "text": [
      "\n",
      "      Epoch    GPU_mem   box_loss   cls_loss   dfl_loss  Instances       Size\n"
     ]
    },
    {
     "name": "stderr",
     "output_type": "stream",
     "text": [
      "     41/100         0G      1.046       1.02      1.303         11        640: 100%|██████████| 49/49 [09:23<00:00, 11.50s/it]\n",
      "                 Class     Images  Instances      Box(P          R      mAP50  mAP50-95): 100%|██████████| 7/7 [00:57<00:00,  8.24s/it]"
     ]
    },
    {
     "name": "stdout",
     "output_type": "stream",
     "text": [
      "                   all        221        221      0.815      0.766      0.877      0.603\n"
     ]
    },
    {
     "name": "stderr",
     "output_type": "stream",
     "text": [
      "\n"
     ]
    },
    {
     "name": "stdout",
     "output_type": "stream",
     "text": [
      "\n",
      "      Epoch    GPU_mem   box_loss   cls_loss   dfl_loss  Instances       Size\n"
     ]
    },
    {
     "name": "stderr",
     "output_type": "stream",
     "text": [
      "     42/100         0G      1.054      1.013       1.29         18        640: 100%|██████████| 49/49 [09:23<00:00, 11.50s/it]\n",
      "                 Class     Images  Instances      Box(P          R      mAP50  mAP50-95): 100%|██████████| 7/7 [00:57<00:00,  8.25s/it]"
     ]
    },
    {
     "name": "stdout",
     "output_type": "stream",
     "text": [
      "                   all        221        221      0.726      0.804      0.849      0.563\n"
     ]
    },
    {
     "name": "stderr",
     "output_type": "stream",
     "text": [
      "\n"
     ]
    },
    {
     "name": "stdout",
     "output_type": "stream",
     "text": [
      "\n",
      "      Epoch    GPU_mem   box_loss   cls_loss   dfl_loss  Instances       Size\n"
     ]
    },
    {
     "name": "stderr",
     "output_type": "stream",
     "text": [
      "     43/100         0G      1.028     0.9631      1.269         22        640: 100%|██████████| 49/49 [09:36<00:00, 11.77s/it]\n",
      "                 Class     Images  Instances      Box(P          R      mAP50  mAP50-95): 100%|██████████| 7/7 [00:56<00:00,  8.06s/it]"
     ]
    },
    {
     "name": "stdout",
     "output_type": "stream",
     "text": [
      "                   all        221        221      0.743      0.835       0.87       0.59\n"
     ]
    },
    {
     "name": "stderr",
     "output_type": "stream",
     "text": [
      "\n"
     ]
    },
    {
     "name": "stdout",
     "output_type": "stream",
     "text": [
      "\n",
      "      Epoch    GPU_mem   box_loss   cls_loss   dfl_loss  Instances       Size\n"
     ]
    },
    {
     "name": "stderr",
     "output_type": "stream",
     "text": [
      "     44/100         0G      1.017     0.9692      1.276         23        640: 100%|██████████| 49/49 [09:21<00:00, 11.45s/it]\n",
      "                 Class     Images  Instances      Box(P          R      mAP50  mAP50-95): 100%|██████████| 7/7 [00:56<00:00,  8.00s/it]"
     ]
    },
    {
     "name": "stdout",
     "output_type": "stream",
     "text": [
      "                   all        221        221      0.786      0.813      0.891      0.623\n"
     ]
    },
    {
     "name": "stderr",
     "output_type": "stream",
     "text": [
      "\n"
     ]
    },
    {
     "name": "stdout",
     "output_type": "stream",
     "text": [
      "\n",
      "      Epoch    GPU_mem   box_loss   cls_loss   dfl_loss  Instances       Size\n"
     ]
    },
    {
     "name": "stderr",
     "output_type": "stream",
     "text": [
      "     45/100         0G      1.032       0.98      1.285         20        640: 100%|██████████| 49/49 [09:04<00:00, 11.12s/it]\n",
      "                 Class     Images  Instances      Box(P          R      mAP50  mAP50-95): 100%|██████████| 7/7 [00:56<00:00,  8.09s/it]"
     ]
    },
    {
     "name": "stdout",
     "output_type": "stream",
     "text": [
      "                   all        221        221      0.785      0.744       0.81      0.545\n"
     ]
    },
    {
     "name": "stderr",
     "output_type": "stream",
     "text": [
      "\n"
     ]
    },
    {
     "name": "stdout",
     "output_type": "stream",
     "text": [
      "\n",
      "      Epoch    GPU_mem   box_loss   cls_loss   dfl_loss  Instances       Size\n"
     ]
    },
    {
     "name": "stderr",
     "output_type": "stream",
     "text": [
      "     46/100         0G      1.007     0.9612      1.273         19        640: 100%|██████████| 49/49 [09:19<00:00, 11.43s/it]\n",
      "                 Class     Images  Instances      Box(P          R      mAP50  mAP50-95): 100%|██████████| 7/7 [00:58<00:00,  8.32s/it]"
     ]
    },
    {
     "name": "stdout",
     "output_type": "stream",
     "text": [
      "                   all        221        221      0.788      0.793      0.871      0.582\n"
     ]
    },
    {
     "name": "stderr",
     "output_type": "stream",
     "text": [
      "\n"
     ]
    },
    {
     "name": "stdout",
     "output_type": "stream",
     "text": [
      "\n",
      "      Epoch    GPU_mem   box_loss   cls_loss   dfl_loss  Instances       Size\n"
     ]
    },
    {
     "name": "stderr",
     "output_type": "stream",
     "text": [
      "     47/100         0G     0.9845     0.9761      1.265         23        640: 100%|██████████| 49/49 [12:34<00:00, 15.41s/it]\n",
      "                 Class     Images  Instances      Box(P          R      mAP50  mAP50-95): 100%|██████████| 7/7 [01:11<00:00, 10.28s/it]"
     ]
    },
    {
     "name": "stdout",
     "output_type": "stream",
     "text": [
      "                   all        221        221      0.743      0.782      0.836      0.574\n"
     ]
    },
    {
     "name": "stderr",
     "output_type": "stream",
     "text": [
      "\n"
     ]
    },
    {
     "name": "stdout",
     "output_type": "stream",
     "text": [
      "\n",
      "      Epoch    GPU_mem   box_loss   cls_loss   dfl_loss  Instances       Size\n"
     ]
    },
    {
     "name": "stderr",
     "output_type": "stream",
     "text": [
      "     48/100         0G      1.007     0.8971      1.267         21        640: 100%|██████████| 49/49 [11:55<00:00, 14.61s/it]\n",
      "                 Class     Images  Instances      Box(P          R      mAP50  mAP50-95): 100%|██████████| 7/7 [01:07<00:00,  9.67s/it]"
     ]
    },
    {
     "name": "stdout",
     "output_type": "stream",
     "text": [
      "                   all        221        221      0.812      0.848      0.917      0.625\n"
     ]
    },
    {
     "name": "stderr",
     "output_type": "stream",
     "text": [
      "\n"
     ]
    },
    {
     "name": "stdout",
     "output_type": "stream",
     "text": [
      "\n",
      "      Epoch    GPU_mem   box_loss   cls_loss   dfl_loss  Instances       Size\n"
     ]
    },
    {
     "name": "stderr",
     "output_type": "stream",
     "text": [
      "     49/100         0G      1.007     0.8968      1.261         20        640: 100%|██████████| 49/49 [12:23<00:00, 15.17s/it]\n",
      "                 Class     Images  Instances      Box(P          R      mAP50  mAP50-95): 100%|██████████| 7/7 [01:08<00:00,  9.72s/it]"
     ]
    },
    {
     "name": "stdout",
     "output_type": "stream",
     "text": [
      "                   all        221        221      0.844      0.871      0.906      0.614\n"
     ]
    },
    {
     "name": "stderr",
     "output_type": "stream",
     "text": [
      "\n"
     ]
    },
    {
     "name": "stdout",
     "output_type": "stream",
     "text": [
      "\n",
      "      Epoch    GPU_mem   box_loss   cls_loss   dfl_loss  Instances       Size\n"
     ]
    },
    {
     "name": "stderr",
     "output_type": "stream",
     "text": [
      "     50/100         0G       1.01     0.8991      1.269         16        640: 100%|██████████| 49/49 [11:24<00:00, 13.97s/it]\n",
      "                 Class     Images  Instances      Box(P          R      mAP50  mAP50-95): 100%|██████████| 7/7 [01:06<00:00,  9.51s/it]"
     ]
    },
    {
     "name": "stdout",
     "output_type": "stream",
     "text": [
      "                   all        221        221      0.856      0.805      0.898      0.621\n"
     ]
    },
    {
     "name": "stderr",
     "output_type": "stream",
     "text": [
      "\n"
     ]
    },
    {
     "name": "stdout",
     "output_type": "stream",
     "text": [
      "\n",
      "      Epoch    GPU_mem   box_loss   cls_loss   dfl_loss  Instances       Size\n"
     ]
    },
    {
     "name": "stderr",
     "output_type": "stream",
     "text": [
      "     51/100         0G     0.9829     0.8871      1.251         17        640: 100%|██████████| 49/49 [11:22<00:00, 13.93s/it]\n",
      "                 Class     Images  Instances      Box(P          R      mAP50  mAP50-95): 100%|██████████| 7/7 [01:05<00:00,  9.41s/it]"
     ]
    },
    {
     "name": "stdout",
     "output_type": "stream",
     "text": [
      "                   all        221        221      0.775      0.845      0.893      0.612\n"
     ]
    },
    {
     "name": "stderr",
     "output_type": "stream",
     "text": [
      "\n"
     ]
    },
    {
     "name": "stdout",
     "output_type": "stream",
     "text": [
      "\n",
      "      Epoch    GPU_mem   box_loss   cls_loss   dfl_loss  Instances       Size\n"
     ]
    },
    {
     "name": "stderr",
     "output_type": "stream",
     "text": [
      "     52/100         0G     0.9799     0.8746       1.24         16        640: 100%|██████████| 49/49 [11:58<00:00, 14.66s/it]\n",
      "                 Class     Images  Instances      Box(P          R      mAP50  mAP50-95): 100%|██████████| 7/7 [01:05<00:00,  9.34s/it]"
     ]
    },
    {
     "name": "stdout",
     "output_type": "stream",
     "text": [
      "                   all        221        221      0.827      0.798      0.912      0.642\n"
     ]
    },
    {
     "name": "stderr",
     "output_type": "stream",
     "text": [
      "\n"
     ]
    },
    {
     "name": "stdout",
     "output_type": "stream",
     "text": [
      "\n",
      "      Epoch    GPU_mem   box_loss   cls_loss   dfl_loss  Instances       Size\n"
     ]
    },
    {
     "name": "stderr",
     "output_type": "stream",
     "text": [
      "     53/100         0G     0.9936     0.8609      1.255         19        640: 100%|██████████| 49/49 [11:44<00:00, 14.39s/it]\n",
      "                 Class     Images  Instances      Box(P          R      mAP50  mAP50-95): 100%|██████████| 7/7 [01:05<00:00,  9.42s/it]"
     ]
    },
    {
     "name": "stdout",
     "output_type": "stream",
     "text": [
      "                   all        221        221      0.789      0.758      0.881      0.609\n"
     ]
    },
    {
     "name": "stderr",
     "output_type": "stream",
     "text": [
      "\n"
     ]
    },
    {
     "name": "stdout",
     "output_type": "stream",
     "text": [
      "\n",
      "      Epoch    GPU_mem   box_loss   cls_loss   dfl_loss  Instances       Size\n"
     ]
    },
    {
     "name": "stderr",
     "output_type": "stream",
     "text": [
      "     54/100         0G     0.9603     0.8558      1.237         18        640: 100%|██████████| 49/49 [11:12<00:00, 13.72s/it]\n",
      "                 Class     Images  Instances      Box(P          R      mAP50  mAP50-95): 100%|██████████| 7/7 [01:04<00:00,  9.23s/it]"
     ]
    },
    {
     "name": "stdout",
     "output_type": "stream",
     "text": [
      "                   all        221        221       0.77      0.838      0.878      0.606\n"
     ]
    },
    {
     "name": "stderr",
     "output_type": "stream",
     "text": [
      "\n"
     ]
    },
    {
     "name": "stdout",
     "output_type": "stream",
     "text": [
      "\n",
      "      Epoch    GPU_mem   box_loss   cls_loss   dfl_loss  Instances       Size\n"
     ]
    },
    {
     "name": "stderr",
     "output_type": "stream",
     "text": [
      "     55/100         0G     0.9668     0.8482      1.252         16        640: 100%|██████████| 49/49 [11:16<00:00, 13.80s/it]\n",
      "                 Class     Images  Instances      Box(P          R      mAP50  mAP50-95): 100%|██████████| 7/7 [01:05<00:00,  9.40s/it]"
     ]
    },
    {
     "name": "stdout",
     "output_type": "stream",
     "text": [
      "                   all        221        221      0.836      0.847      0.899      0.629\n"
     ]
    },
    {
     "name": "stderr",
     "output_type": "stream",
     "text": [
      "\n"
     ]
    },
    {
     "name": "stdout",
     "output_type": "stream",
     "text": [
      "\n",
      "      Epoch    GPU_mem   box_loss   cls_loss   dfl_loss  Instances       Size\n"
     ]
    },
    {
     "name": "stderr",
     "output_type": "stream",
     "text": [
      "     56/100         0G     0.9482     0.8166       1.22         14        640: 100%|██████████| 49/49 [11:14<00:00, 13.76s/it]\n",
      "                 Class     Images  Instances      Box(P          R      mAP50  mAP50-95): 100%|██████████| 7/7 [01:04<00:00,  9.28s/it]"
     ]
    },
    {
     "name": "stdout",
     "output_type": "stream",
     "text": [
      "                   all        221        221      0.766      0.857      0.893      0.619\n"
     ]
    },
    {
     "name": "stderr",
     "output_type": "stream",
     "text": [
      "\n"
     ]
    },
    {
     "name": "stdout",
     "output_type": "stream",
     "text": [
      "\n",
      "      Epoch    GPU_mem   box_loss   cls_loss   dfl_loss  Instances       Size\n"
     ]
    },
    {
     "name": "stderr",
     "output_type": "stream",
     "text": [
      "     57/100         0G     0.9505     0.8259      1.236         17        640: 100%|██████████| 49/49 [11:11<00:00, 13.70s/it]\n",
      "                 Class     Images  Instances      Box(P          R      mAP50  mAP50-95): 100%|██████████| 7/7 [01:05<00:00,  9.36s/it]"
     ]
    },
    {
     "name": "stdout",
     "output_type": "stream",
     "text": [
      "                   all        221        221      0.754       0.79      0.798      0.536\n"
     ]
    },
    {
     "name": "stderr",
     "output_type": "stream",
     "text": [
      "\n"
     ]
    },
    {
     "name": "stdout",
     "output_type": "stream",
     "text": [
      "\n",
      "      Epoch    GPU_mem   box_loss   cls_loss   dfl_loss  Instances       Size\n"
     ]
    },
    {
     "name": "stderr",
     "output_type": "stream",
     "text": [
      "     58/100         0G     0.9712     0.8287      1.248         14        640: 100%|██████████| 49/49 [11:53<00:00, 14.56s/it]\n",
      "                 Class     Images  Instances      Box(P          R      mAP50  mAP50-95): 100%|██████████| 7/7 [01:06<00:00,  9.45s/it]"
     ]
    },
    {
     "name": "stdout",
     "output_type": "stream",
     "text": [
      "                   all        221        221      0.804      0.846      0.899      0.614\n"
     ]
    },
    {
     "name": "stderr",
     "output_type": "stream",
     "text": [
      "\n"
     ]
    },
    {
     "name": "stdout",
     "output_type": "stream",
     "text": [
      "\n",
      "      Epoch    GPU_mem   box_loss   cls_loss   dfl_loss  Instances       Size\n"
     ]
    },
    {
     "name": "stderr",
     "output_type": "stream",
     "text": [
      "     59/100         0G     0.9398     0.8263      1.228         17        640: 100%|██████████| 49/49 [11:06<00:00, 13.60s/it]\n",
      "                 Class     Images  Instances      Box(P          R      mAP50  mAP50-95): 100%|██████████| 7/7 [01:05<00:00,  9.35s/it]"
     ]
    },
    {
     "name": "stdout",
     "output_type": "stream",
     "text": [
      "                   all        221        221      0.844      0.807      0.919      0.651\n"
     ]
    },
    {
     "name": "stderr",
     "output_type": "stream",
     "text": [
      "\n"
     ]
    },
    {
     "name": "stdout",
     "output_type": "stream",
     "text": [
      "\n",
      "      Epoch    GPU_mem   box_loss   cls_loss   dfl_loss  Instances       Size\n"
     ]
    },
    {
     "name": "stderr",
     "output_type": "stream",
     "text": [
      "     60/100         0G      0.936      0.825       1.23         16        640: 100%|██████████| 49/49 [11:40<00:00, 14.30s/it]\n",
      "                 Class     Images  Instances      Box(P          R      mAP50  mAP50-95): 100%|██████████| 7/7 [01:04<00:00,  9.24s/it]"
     ]
    },
    {
     "name": "stdout",
     "output_type": "stream",
     "text": [
      "                   all        221        221      0.854      0.871      0.934       0.66\n"
     ]
    },
    {
     "name": "stderr",
     "output_type": "stream",
     "text": [
      "\n"
     ]
    },
    {
     "name": "stdout",
     "output_type": "stream",
     "text": [
      "\n",
      "      Epoch    GPU_mem   box_loss   cls_loss   dfl_loss  Instances       Size\n"
     ]
    },
    {
     "name": "stderr",
     "output_type": "stream",
     "text": [
      "     61/100         0G     0.9351     0.7949      1.223         15        640: 100%|██████████| 49/49 [11:38<00:00, 14.25s/it]\n",
      "                 Class     Images  Instances      Box(P          R      mAP50  mAP50-95): 100%|██████████| 7/7 [01:04<00:00,  9.25s/it]"
     ]
    },
    {
     "name": "stdout",
     "output_type": "stream",
     "text": [
      "                   all        221        221       0.81      0.872      0.922      0.653\n"
     ]
    },
    {
     "name": "stderr",
     "output_type": "stream",
     "text": [
      "\n"
     ]
    },
    {
     "name": "stdout",
     "output_type": "stream",
     "text": [
      "\n",
      "      Epoch    GPU_mem   box_loss   cls_loss   dfl_loss  Instances       Size\n"
     ]
    },
    {
     "name": "stderr",
     "output_type": "stream",
     "text": [
      "     62/100         0G     0.9481     0.8172      1.228         13        640: 100%|██████████| 49/49 [11:11<00:00, 13.70s/it]\n",
      "                 Class     Images  Instances      Box(P          R      mAP50  mAP50-95): 100%|██████████| 7/7 [00:57<00:00,  8.28s/it]"
     ]
    },
    {
     "name": "stdout",
     "output_type": "stream",
     "text": [
      "                   all        221        221      0.888      0.831      0.914      0.646\n"
     ]
    },
    {
     "name": "stderr",
     "output_type": "stream",
     "text": [
      "\n"
     ]
    },
    {
     "name": "stdout",
     "output_type": "stream",
     "text": [
      "\n",
      "      Epoch    GPU_mem   box_loss   cls_loss   dfl_loss  Instances       Size\n"
     ]
    },
    {
     "name": "stderr",
     "output_type": "stream",
     "text": [
      "     63/100         0G     0.9301     0.7817       1.23         18        640: 100%|██████████| 49/49 [10:03<00:00, 12.32s/it]\n",
      "                 Class     Images  Instances      Box(P          R      mAP50  mAP50-95): 100%|██████████| 7/7 [00:57<00:00,  8.23s/it]"
     ]
    },
    {
     "name": "stdout",
     "output_type": "stream",
     "text": [
      "                   all        221        221      0.859      0.865      0.932      0.646\n"
     ]
    },
    {
     "name": "stderr",
     "output_type": "stream",
     "text": [
      "\n"
     ]
    },
    {
     "name": "stdout",
     "output_type": "stream",
     "text": [
      "\n",
      "      Epoch    GPU_mem   box_loss   cls_loss   dfl_loss  Instances       Size\n"
     ]
    },
    {
     "name": "stderr",
     "output_type": "stream",
     "text": [
      "     64/100         0G     0.9299     0.7859      1.227         17        640: 100%|██████████| 49/49 [10:02<00:00, 12.29s/it]\n",
      "                 Class     Images  Instances      Box(P          R      mAP50  mAP50-95): 100%|██████████| 7/7 [00:58<00:00,  8.31s/it]"
     ]
    },
    {
     "name": "stdout",
     "output_type": "stream",
     "text": [
      "                   all        221        221      0.858      0.784      0.891       0.63\n"
     ]
    },
    {
     "name": "stderr",
     "output_type": "stream",
     "text": [
      "\n"
     ]
    },
    {
     "name": "stdout",
     "output_type": "stream",
     "text": [
      "\n",
      "      Epoch    GPU_mem   box_loss   cls_loss   dfl_loss  Instances       Size\n"
     ]
    },
    {
     "name": "stderr",
     "output_type": "stream",
     "text": [
      "     65/100         0G     0.9232     0.7782      1.201         19        640: 100%|██████████| 49/49 [10:06<00:00, 12.37s/it]\n",
      "                 Class     Images  Instances      Box(P          R      mAP50  mAP50-95): 100%|██████████| 7/7 [00:59<00:00,  8.48s/it]"
     ]
    },
    {
     "name": "stdout",
     "output_type": "stream",
     "text": [
      "                   all        221        221      0.857      0.873      0.914      0.654\n"
     ]
    },
    {
     "name": "stderr",
     "output_type": "stream",
     "text": [
      "\n"
     ]
    },
    {
     "name": "stdout",
     "output_type": "stream",
     "text": [
      "\n",
      "      Epoch    GPU_mem   box_loss   cls_loss   dfl_loss  Instances       Size\n"
     ]
    },
    {
     "name": "stderr",
     "output_type": "stream",
     "text": [
      "     66/100         0G     0.9169     0.7824      1.206         16        640: 100%|██████████| 49/49 [10:07<00:00, 12.40s/it]\n",
      "                 Class     Images  Instances      Box(P          R      mAP50  mAP50-95): 100%|██████████| 7/7 [00:58<00:00,  8.38s/it]"
     ]
    },
    {
     "name": "stdout",
     "output_type": "stream",
     "text": [
      "                   all        221        221      0.839       0.82      0.908      0.642\n"
     ]
    },
    {
     "name": "stderr",
     "output_type": "stream",
     "text": [
      "\n"
     ]
    },
    {
     "name": "stdout",
     "output_type": "stream",
     "text": [
      "\n",
      "      Epoch    GPU_mem   box_loss   cls_loss   dfl_loss  Instances       Size\n"
     ]
    },
    {
     "name": "stderr",
     "output_type": "stream",
     "text": [
      "     67/100         0G     0.9001     0.7348      1.197         10        640: 100%|██████████| 49/49 [10:06<00:00, 12.37s/it]\n",
      "                 Class     Images  Instances      Box(P          R      mAP50  mAP50-95): 100%|██████████| 7/7 [00:58<00:00,  8.37s/it]"
     ]
    },
    {
     "name": "stdout",
     "output_type": "stream",
     "text": [
      "                   all        221        221      0.878      0.834      0.919      0.651\n"
     ]
    },
    {
     "name": "stderr",
     "output_type": "stream",
     "text": [
      "\n"
     ]
    },
    {
     "name": "stdout",
     "output_type": "stream",
     "text": [
      "\n",
      "      Epoch    GPU_mem   box_loss   cls_loss   dfl_loss  Instances       Size\n"
     ]
    },
    {
     "name": "stderr",
     "output_type": "stream",
     "text": [
      "     68/100         0G     0.8924     0.7381        1.2         20        640: 100%|██████████| 49/49 [10:35<00:00, 12.97s/it]\n",
      "                 Class     Images  Instances      Box(P          R      mAP50  mAP50-95): 100%|██████████| 7/7 [00:58<00:00,  8.38s/it]"
     ]
    },
    {
     "name": "stdout",
     "output_type": "stream",
     "text": [
      "                   all        221        221      0.875      0.884      0.936       0.67\n"
     ]
    },
    {
     "name": "stderr",
     "output_type": "stream",
     "text": [
      "\n"
     ]
    },
    {
     "name": "stdout",
     "output_type": "stream",
     "text": [
      "\n",
      "      Epoch    GPU_mem   box_loss   cls_loss   dfl_loss  Instances       Size\n"
     ]
    },
    {
     "name": "stderr",
     "output_type": "stream",
     "text": [
      "     69/100         0G     0.9053     0.7237      1.194         24        640: 100%|██████████| 49/49 [10:05<00:00, 12.36s/it]\n",
      "                 Class     Images  Instances      Box(P          R      mAP50  mAP50-95): 100%|██████████| 7/7 [00:58<00:00,  8.32s/it]"
     ]
    },
    {
     "name": "stdout",
     "output_type": "stream",
     "text": [
      "                   all        221        221      0.847      0.911      0.943      0.669\n"
     ]
    },
    {
     "name": "stderr",
     "output_type": "stream",
     "text": [
      "\n"
     ]
    },
    {
     "name": "stdout",
     "output_type": "stream",
     "text": [
      "\n",
      "      Epoch    GPU_mem   box_loss   cls_loss   dfl_loss  Instances       Size\n"
     ]
    },
    {
     "name": "stderr",
     "output_type": "stream",
     "text": [
      "     70/100         0G     0.8781     0.7148      1.201         17        640: 100%|██████████| 49/49 [10:15<00:00, 12.57s/it]\n",
      "                 Class     Images  Instances      Box(P          R      mAP50  mAP50-95): 100%|██████████| 7/7 [00:58<00:00,  8.31s/it]"
     ]
    },
    {
     "name": "stdout",
     "output_type": "stream",
     "text": [
      "                   all        221        221      0.906      0.867      0.948      0.678\n"
     ]
    },
    {
     "name": "stderr",
     "output_type": "stream",
     "text": [
      "\n"
     ]
    },
    {
     "name": "stdout",
     "output_type": "stream",
     "text": [
      "\n",
      "      Epoch    GPU_mem   box_loss   cls_loss   dfl_loss  Instances       Size\n"
     ]
    },
    {
     "name": "stderr",
     "output_type": "stream",
     "text": [
      "     71/100         0G     0.8824      0.701      1.191         15        640: 100%|██████████| 49/49 [10:05<00:00, 12.36s/it]\n",
      "                 Class     Images  Instances      Box(P          R      mAP50  mAP50-95): 100%|██████████| 7/7 [00:58<00:00,  8.29s/it]"
     ]
    },
    {
     "name": "stdout",
     "output_type": "stream",
     "text": [
      "                   all        221        221      0.818      0.903      0.922      0.652\n"
     ]
    },
    {
     "name": "stderr",
     "output_type": "stream",
     "text": [
      "\n"
     ]
    },
    {
     "name": "stdout",
     "output_type": "stream",
     "text": [
      "\n",
      "      Epoch    GPU_mem   box_loss   cls_loss   dfl_loss  Instances       Size\n"
     ]
    },
    {
     "name": "stderr",
     "output_type": "stream",
     "text": [
      "     72/100         0G      0.878     0.7021       1.19         20        640: 100%|██████████| 49/49 [10:36<00:00, 13.00s/it]\n",
      "                 Class     Images  Instances      Box(P          R      mAP50  mAP50-95): 100%|██████████| 7/7 [00:58<00:00,  8.43s/it]"
     ]
    },
    {
     "name": "stdout",
     "output_type": "stream",
     "text": [
      "                   all        221        221      0.862      0.881      0.924      0.652\n"
     ]
    },
    {
     "name": "stderr",
     "output_type": "stream",
     "text": [
      "\n"
     ]
    },
    {
     "name": "stdout",
     "output_type": "stream",
     "text": [
      "\n",
      "      Epoch    GPU_mem   box_loss   cls_loss   dfl_loss  Instances       Size\n"
     ]
    },
    {
     "name": "stderr",
     "output_type": "stream",
     "text": [
      "     73/100         0G     0.8759      0.725      1.177         15        640: 100%|██████████| 49/49 [10:02<00:00, 12.29s/it]\n",
      "                 Class     Images  Instances      Box(P          R      mAP50  mAP50-95): 100%|██████████| 7/7 [00:58<00:00,  8.37s/it]"
     ]
    },
    {
     "name": "stdout",
     "output_type": "stream",
     "text": [
      "                   all        221        221       0.91      0.853       0.93      0.677\n"
     ]
    },
    {
     "name": "stderr",
     "output_type": "stream",
     "text": [
      "\n"
     ]
    },
    {
     "name": "stdout",
     "output_type": "stream",
     "text": [
      "\n",
      "      Epoch    GPU_mem   box_loss   cls_loss   dfl_loss  Instances       Size\n"
     ]
    },
    {
     "name": "stderr",
     "output_type": "stream",
     "text": [
      "     74/100         0G     0.8629     0.7093      1.177         13        640: 100%|██████████| 49/49 [10:03<00:00, 12.31s/it]\n",
      "                 Class     Images  Instances      Box(P          R      mAP50  mAP50-95): 100%|██████████| 7/7 [00:57<00:00,  8.20s/it]"
     ]
    },
    {
     "name": "stdout",
     "output_type": "stream",
     "text": [
      "                   all        221        221      0.876      0.849      0.928      0.679\n"
     ]
    },
    {
     "name": "stderr",
     "output_type": "stream",
     "text": [
      "\n"
     ]
    },
    {
     "name": "stdout",
     "output_type": "stream",
     "text": [
      "\n",
      "      Epoch    GPU_mem   box_loss   cls_loss   dfl_loss  Instances       Size\n"
     ]
    },
    {
     "name": "stderr",
     "output_type": "stream",
     "text": [
      "     75/100         0G      0.862     0.6879      1.179         18        640: 100%|██████████| 49/49 [10:20<00:00, 12.66s/it]\n",
      "                 Class     Images  Instances      Box(P          R      mAP50  mAP50-95): 100%|██████████| 7/7 [00:59<00:00,  8.45s/it]"
     ]
    },
    {
     "name": "stdout",
     "output_type": "stream",
     "text": [
      "                   all        221        221      0.873      0.842      0.925      0.664\n"
     ]
    },
    {
     "name": "stderr",
     "output_type": "stream",
     "text": [
      "\n"
     ]
    },
    {
     "name": "stdout",
     "output_type": "stream",
     "text": [
      "\n",
      "      Epoch    GPU_mem   box_loss   cls_loss   dfl_loss  Instances       Size\n"
     ]
    },
    {
     "name": "stderr",
     "output_type": "stream",
     "text": [
      "     76/100         0G     0.8415     0.6658       1.18         14        640: 100%|██████████| 49/49 [10:11<00:00, 12.47s/it]\n",
      "                 Class     Images  Instances      Box(P          R      mAP50  mAP50-95): 100%|██████████| 7/7 [00:58<00:00,  8.37s/it]"
     ]
    },
    {
     "name": "stdout",
     "output_type": "stream",
     "text": [
      "                   all        221        221      0.856      0.911      0.941      0.673\n"
     ]
    },
    {
     "name": "stderr",
     "output_type": "stream",
     "text": [
      "\n"
     ]
    },
    {
     "name": "stdout",
     "output_type": "stream",
     "text": [
      "\n",
      "      Epoch    GPU_mem   box_loss   cls_loss   dfl_loss  Instances       Size\n"
     ]
    },
    {
     "name": "stderr",
     "output_type": "stream",
     "text": [
      "     77/100         0G     0.8739     0.6835      1.195         17        640: 100%|██████████| 49/49 [10:09<00:00, 12.44s/it]\n",
      "                 Class     Images  Instances      Box(P          R      mAP50  mAP50-95): 100%|██████████| 7/7 [00:58<00:00,  8.40s/it]"
     ]
    },
    {
     "name": "stdout",
     "output_type": "stream",
     "text": [
      "                   all        221        221      0.845      0.908      0.932      0.664\n"
     ]
    },
    {
     "name": "stderr",
     "output_type": "stream",
     "text": [
      "\n"
     ]
    },
    {
     "name": "stdout",
     "output_type": "stream",
     "text": [
      "\n",
      "      Epoch    GPU_mem   box_loss   cls_loss   dfl_loss  Instances       Size\n"
     ]
    },
    {
     "name": "stderr",
     "output_type": "stream",
     "text": [
      "     78/100         0G     0.8466      0.645      1.177         14        640: 100%|██████████| 49/49 [10:35<00:00, 12.97s/it]\n",
      "                 Class     Images  Instances      Box(P          R      mAP50  mAP50-95): 100%|██████████| 7/7 [00:58<00:00,  8.37s/it]"
     ]
    },
    {
     "name": "stdout",
     "output_type": "stream",
     "text": [
      "                   all        221        221      0.905      0.882      0.936       0.68\n"
     ]
    },
    {
     "name": "stderr",
     "output_type": "stream",
     "text": [
      "\n"
     ]
    },
    {
     "name": "stdout",
     "output_type": "stream",
     "text": [
      "\n",
      "      Epoch    GPU_mem   box_loss   cls_loss   dfl_loss  Instances       Size\n"
     ]
    },
    {
     "name": "stderr",
     "output_type": "stream",
     "text": [
      "     79/100         0G     0.8596     0.6745      1.187         16        640: 100%|██████████| 49/49 [1:11:18<00:00, 87.32s/it]    \n",
      "                 Class     Images  Instances      Box(P          R      mAP50  mAP50-95): 100%|██████████| 7/7 [00:56<00:00,  8.10s/it]"
     ]
    },
    {
     "name": "stdout",
     "output_type": "stream",
     "text": [
      "                   all        221        221       0.94      0.856      0.949      0.687\n"
     ]
    },
    {
     "name": "stderr",
     "output_type": "stream",
     "text": [
      "\n"
     ]
    },
    {
     "name": "stdout",
     "output_type": "stream",
     "text": [
      "\n",
      "      Epoch    GPU_mem   box_loss   cls_loss   dfl_loss  Instances       Size\n"
     ]
    },
    {
     "name": "stderr",
     "output_type": "stream",
     "text": [
      "     80/100         0G     0.8465     0.6685      1.176         20        640: 100%|██████████| 49/49 [09:48<00:00, 12.01s/it]\n",
      "                 Class     Images  Instances      Box(P          R      mAP50  mAP50-95): 100%|██████████| 7/7 [00:56<00:00,  8.14s/it]"
     ]
    },
    {
     "name": "stdout",
     "output_type": "stream",
     "text": [
      "                   all        221        221      0.907      0.869      0.946      0.691\n"
     ]
    },
    {
     "name": "stderr",
     "output_type": "stream",
     "text": [
      "\n"
     ]
    },
    {
     "name": "stdout",
     "output_type": "stream",
     "text": [
      "\n",
      "      Epoch    GPU_mem   box_loss   cls_loss   dfl_loss  Instances       Size\n"
     ]
    },
    {
     "name": "stderr",
     "output_type": "stream",
     "text": [
      "     81/100         0G     0.8359     0.6775      1.188         16        640: 100%|██████████| 49/49 [10:33<00:00, 12.92s/it]\n",
      "                 Class     Images  Instances      Box(P          R      mAP50  mAP50-95): 100%|██████████| 7/7 [00:56<00:00,  8.03s/it]"
     ]
    },
    {
     "name": "stdout",
     "output_type": "stream",
     "text": [
      "                   all        221        221       0.86      0.897      0.915      0.659\n"
     ]
    },
    {
     "name": "stderr",
     "output_type": "stream",
     "text": [
      "\n"
     ]
    },
    {
     "name": "stdout",
     "output_type": "stream",
     "text": [
      "\n",
      "      Epoch    GPU_mem   box_loss   cls_loss   dfl_loss  Instances       Size\n"
     ]
    },
    {
     "name": "stderr",
     "output_type": "stream",
     "text": [
      "     82/100         0G     0.8307     0.6643      1.171         16        640: 100%|██████████| 49/49 [10:30<00:00, 12.86s/it]\n",
      "                 Class     Images  Instances      Box(P          R      mAP50  mAP50-95): 100%|██████████| 7/7 [00:58<00:00,  8.32s/it]"
     ]
    },
    {
     "name": "stdout",
     "output_type": "stream",
     "text": [
      "                   all        221        221      0.896      0.895      0.941      0.681\n"
     ]
    },
    {
     "name": "stderr",
     "output_type": "stream",
     "text": [
      "\n"
     ]
    },
    {
     "name": "stdout",
     "output_type": "stream",
     "text": [
      "\n",
      "      Epoch    GPU_mem   box_loss   cls_loss   dfl_loss  Instances       Size\n"
     ]
    },
    {
     "name": "stderr",
     "output_type": "stream",
     "text": [
      "     83/100         0G     0.8029      0.636      1.163         15        640: 100%|██████████| 49/49 [09:59<00:00, 12.22s/it]\n",
      "                 Class     Images  Instances      Box(P          R      mAP50  mAP50-95): 100%|██████████| 7/7 [00:58<00:00,  8.34s/it]"
     ]
    },
    {
     "name": "stdout",
     "output_type": "stream",
     "text": [
      "                   all        221        221      0.852      0.898      0.928      0.672\n"
     ]
    },
    {
     "name": "stderr",
     "output_type": "stream",
     "text": [
      "\n"
     ]
    },
    {
     "name": "stdout",
     "output_type": "stream",
     "text": [
      "\n",
      "      Epoch    GPU_mem   box_loss   cls_loss   dfl_loss  Instances       Size\n"
     ]
    },
    {
     "name": "stderr",
     "output_type": "stream",
     "text": [
      "     84/100         0G     0.8046     0.6453      1.147         15        640: 100%|██████████| 49/49 [10:02<00:00, 12.29s/it]\n",
      "                 Class     Images  Instances      Box(P          R      mAP50  mAP50-95): 100%|██████████| 7/7 [00:59<00:00,  8.48s/it]"
     ]
    },
    {
     "name": "stdout",
     "output_type": "stream",
     "text": [
      "                   all        221        221      0.905      0.904      0.922      0.669\n"
     ]
    },
    {
     "name": "stderr",
     "output_type": "stream",
     "text": [
      "\n"
     ]
    },
    {
     "name": "stdout",
     "output_type": "stream",
     "text": [
      "\n",
      "      Epoch    GPU_mem   box_loss   cls_loss   dfl_loss  Instances       Size\n"
     ]
    },
    {
     "name": "stderr",
     "output_type": "stream",
     "text": [
      "     85/100         0G     0.8077     0.6299      1.155         17        640: 100%|██████████| 49/49 [10:05<00:00, 12.35s/it]\n",
      "                 Class     Images  Instances      Box(P          R      mAP50  mAP50-95): 100%|██████████| 7/7 [00:57<00:00,  8.23s/it]"
     ]
    },
    {
     "name": "stdout",
     "output_type": "stream",
     "text": [
      "                   all        221        221      0.897      0.902      0.938       0.66\n"
     ]
    },
    {
     "name": "stderr",
     "output_type": "stream",
     "text": [
      "\n"
     ]
    },
    {
     "name": "stdout",
     "output_type": "stream",
     "text": [
      "\n",
      "      Epoch    GPU_mem   box_loss   cls_loss   dfl_loss  Instances       Size\n"
     ]
    },
    {
     "name": "stderr",
     "output_type": "stream",
     "text": [
      "     86/100         0G     0.8035     0.6251      1.157         12        640: 100%|██████████| 49/49 [10:06<00:00, 12.37s/it]\n",
      "                 Class     Images  Instances      Box(P          R      mAP50  mAP50-95): 100%|██████████| 7/7 [00:59<00:00,  8.43s/it]"
     ]
    },
    {
     "name": "stdout",
     "output_type": "stream",
     "text": [
      "                   all        221        221      0.853      0.896       0.94      0.682\n"
     ]
    },
    {
     "name": "stderr",
     "output_type": "stream",
     "text": [
      "\n"
     ]
    },
    {
     "name": "stdout",
     "output_type": "stream",
     "text": [
      "\n",
      "      Epoch    GPU_mem   box_loss   cls_loss   dfl_loss  Instances       Size\n"
     ]
    },
    {
     "name": "stderr",
     "output_type": "stream",
     "text": [
      "     87/100         0G     0.7857     0.6035      1.152         17        640: 100%|██████████| 49/49 [10:06<00:00, 12.37s/it]\n",
      "                 Class     Images  Instances      Box(P          R      mAP50  mAP50-95): 100%|██████████| 7/7 [00:58<00:00,  8.31s/it]"
     ]
    },
    {
     "name": "stdout",
     "output_type": "stream",
     "text": [
      "                   all        221        221      0.904      0.897      0.936      0.681\n"
     ]
    },
    {
     "name": "stderr",
     "output_type": "stream",
     "text": [
      "\n"
     ]
    },
    {
     "name": "stdout",
     "output_type": "stream",
     "text": [
      "\n",
      "      Epoch    GPU_mem   box_loss   cls_loss   dfl_loss  Instances       Size\n"
     ]
    },
    {
     "name": "stderr",
     "output_type": "stream",
     "text": [
      "     88/100         0G     0.7952     0.6015      1.142         23        640: 100%|██████████| 49/49 [10:33<00:00, 12.93s/it]\n",
      "                 Class     Images  Instances      Box(P          R      mAP50  mAP50-95): 100%|██████████| 7/7 [00:57<00:00,  8.27s/it]"
     ]
    },
    {
     "name": "stdout",
     "output_type": "stream",
     "text": [
      "                   all        221        221      0.841      0.922       0.94      0.684\n"
     ]
    },
    {
     "name": "stderr",
     "output_type": "stream",
     "text": [
      "\n"
     ]
    },
    {
     "name": "stdout",
     "output_type": "stream",
     "text": [
      "\n",
      "      Epoch    GPU_mem   box_loss   cls_loss   dfl_loss  Instances       Size\n"
     ]
    },
    {
     "name": "stderr",
     "output_type": "stream",
     "text": [
      "     89/100         0G     0.7835     0.6001      1.145         21        640: 100%|██████████| 49/49 [10:04<00:00, 12.34s/it]\n",
      "                 Class     Images  Instances      Box(P          R      mAP50  mAP50-95): 100%|██████████| 7/7 [00:58<00:00,  8.32s/it]"
     ]
    },
    {
     "name": "stdout",
     "output_type": "stream",
     "text": [
      "                   all        221        221      0.885      0.898       0.94      0.684\n"
     ]
    },
    {
     "name": "stderr",
     "output_type": "stream",
     "text": [
      "\n"
     ]
    },
    {
     "name": "stdout",
     "output_type": "stream",
     "text": [
      "\n",
      "      Epoch    GPU_mem   box_loss   cls_loss   dfl_loss  Instances       Size\n"
     ]
    },
    {
     "name": "stderr",
     "output_type": "stream",
     "text": [
      "     90/100         0G     0.7975      0.622      1.155         14        640: 100%|██████████| 49/49 [2:20:40<00:00, 172.26s/it]   \n",
      "                 Class     Images  Instances      Box(P          R      mAP50  mAP50-95): 100%|██████████| 7/7 [01:10<00:00, 10.07s/it]"
     ]
    },
    {
     "name": "stdout",
     "output_type": "stream",
     "text": [
      "                   all        221        221      0.912      0.913       0.95      0.698\n"
     ]
    },
    {
     "name": "stderr",
     "output_type": "stream",
     "text": [
      "\n"
     ]
    },
    {
     "name": "stdout",
     "output_type": "stream",
     "text": [
      "Closing dataloader mosaic\n",
      "\n",
      "      Epoch    GPU_mem   box_loss   cls_loss   dfl_loss  Instances       Size\n"
     ]
    },
    {
     "name": "stderr",
     "output_type": "stream",
     "text": [
      "     91/100         0G     0.6889     0.4361      1.161          7        640: 100%|██████████| 49/49 [14:31<00:00, 17.78s/it]\n",
      "                 Class     Images  Instances      Box(P          R      mAP50  mAP50-95): 100%|██████████| 7/7 [01:02<00:00,  8.86s/it]"
     ]
    },
    {
     "name": "stdout",
     "output_type": "stream",
     "text": [
      "                   all        221        221      0.904      0.895      0.943      0.677\n"
     ]
    },
    {
     "name": "stderr",
     "output_type": "stream",
     "text": [
      "\n"
     ]
    },
    {
     "name": "stdout",
     "output_type": "stream",
     "text": [
      "\n",
      "      Epoch    GPU_mem   box_loss   cls_loss   dfl_loss  Instances       Size\n"
     ]
    },
    {
     "name": "stderr",
     "output_type": "stream",
     "text": [
      "     92/100         0G     0.6563     0.4268      1.143          7        640: 100%|██████████| 49/49 [10:03<00:00, 12.32s/it]\n",
      "                 Class     Images  Instances      Box(P          R      mAP50  mAP50-95): 100%|██████████| 7/7 [00:58<00:00,  8.37s/it]"
     ]
    },
    {
     "name": "stdout",
     "output_type": "stream",
     "text": [
      "                   all        221        221      0.911      0.913      0.935      0.681\n"
     ]
    },
    {
     "name": "stderr",
     "output_type": "stream",
     "text": [
      "\n"
     ]
    },
    {
     "name": "stdout",
     "output_type": "stream",
     "text": [
      "\n",
      "      Epoch    GPU_mem   box_loss   cls_loss   dfl_loss  Instances       Size\n"
     ]
    },
    {
     "name": "stderr",
     "output_type": "stream",
     "text": [
      "     93/100         0G     0.6401     0.3951      1.111          7        640: 100%|██████████| 49/49 [10:37<00:00, 13.02s/it]\n",
      "                 Class     Images  Instances      Box(P          R      mAP50  mAP50-95): 100%|██████████| 7/7 [00:58<00:00,  8.38s/it]"
     ]
    },
    {
     "name": "stdout",
     "output_type": "stream",
     "text": [
      "                   all        221        221      0.891      0.914      0.941       0.68\n"
     ]
    },
    {
     "name": "stderr",
     "output_type": "stream",
     "text": [
      "\n"
     ]
    },
    {
     "name": "stdout",
     "output_type": "stream",
     "text": [
      "\n",
      "      Epoch    GPU_mem   box_loss   cls_loss   dfl_loss  Instances       Size\n"
     ]
    },
    {
     "name": "stderr",
     "output_type": "stream",
     "text": [
      "     94/100         0G     0.6206     0.3819       1.12          7        640: 100%|██████████| 49/49 [09:58<00:00, 12.21s/it]\n",
      "                 Class     Images  Instances      Box(P          R      mAP50  mAP50-95): 100%|██████████| 7/7 [00:57<00:00,  8.28s/it]"
     ]
    },
    {
     "name": "stdout",
     "output_type": "stream",
     "text": [
      "                   all        221        221      0.905      0.906      0.945      0.691\n"
     ]
    },
    {
     "name": "stderr",
     "output_type": "stream",
     "text": [
      "\n"
     ]
    },
    {
     "name": "stdout",
     "output_type": "stream",
     "text": [
      "\n",
      "      Epoch    GPU_mem   box_loss   cls_loss   dfl_loss  Instances       Size\n"
     ]
    },
    {
     "name": "stderr",
     "output_type": "stream",
     "text": [
      "     95/100         0G     0.6098     0.3824      1.117          7        640: 100%|██████████| 49/49 [10:06<00:00, 12.38s/it]\n",
      "                 Class     Images  Instances      Box(P          R      mAP50  mAP50-95): 100%|██████████| 7/7 [00:59<00:00,  8.50s/it]"
     ]
    },
    {
     "name": "stdout",
     "output_type": "stream",
     "text": [
      "                   all        221        221      0.907      0.915       0.94      0.688\n"
     ]
    },
    {
     "name": "stderr",
     "output_type": "stream",
     "text": [
      "\n"
     ]
    },
    {
     "name": "stdout",
     "output_type": "stream",
     "text": [
      "\n",
      "      Epoch    GPU_mem   box_loss   cls_loss   dfl_loss  Instances       Size\n"
     ]
    },
    {
     "name": "stderr",
     "output_type": "stream",
     "text": [
      "     96/100         0G     0.6038     0.3795        1.1          7        640: 100%|██████████| 49/49 [10:04<00:00, 12.33s/it]\n",
      "                 Class     Images  Instances      Box(P          R      mAP50  mAP50-95): 100%|██████████| 7/7 [00:58<00:00,  8.40s/it]"
     ]
    },
    {
     "name": "stdout",
     "output_type": "stream",
     "text": [
      "                   all        221        221      0.905      0.882      0.936      0.685\n"
     ]
    },
    {
     "name": "stderr",
     "output_type": "stream",
     "text": [
      "\n"
     ]
    },
    {
     "name": "stdout",
     "output_type": "stream",
     "text": [
      "\n",
      "      Epoch    GPU_mem   box_loss   cls_loss   dfl_loss  Instances       Size\n"
     ]
    },
    {
     "name": "stderr",
     "output_type": "stream",
     "text": [
      "     97/100         0G     0.6033     0.3708       1.11          7        640: 100%|██████████| 49/49 [10:10<00:00, 12.46s/it]\n",
      "                 Class     Images  Instances      Box(P          R      mAP50  mAP50-95): 100%|██████████| 7/7 [00:58<00:00,  8.36s/it]"
     ]
    },
    {
     "name": "stdout",
     "output_type": "stream",
     "text": [
      "                   all        221        221       0.89      0.908      0.943      0.694\n"
     ]
    },
    {
     "name": "stderr",
     "output_type": "stream",
     "text": [
      "\n"
     ]
    },
    {
     "name": "stdout",
     "output_type": "stream",
     "text": [
      "\n",
      "      Epoch    GPU_mem   box_loss   cls_loss   dfl_loss  Instances       Size\n"
     ]
    },
    {
     "name": "stderr",
     "output_type": "stream",
     "text": [
      "     98/100         0G     0.6136     0.3588      1.116          7        640: 100%|██████████| 49/49 [10:12<00:00, 12.51s/it]\n",
      "                 Class     Images  Instances      Box(P          R      mAP50  mAP50-95): 100%|██████████| 7/7 [00:59<00:00,  8.51s/it]"
     ]
    },
    {
     "name": "stdout",
     "output_type": "stream",
     "text": [
      "                   all        221        221       0.91      0.903      0.944      0.688\n"
     ]
    },
    {
     "name": "stderr",
     "output_type": "stream",
     "text": [
      "\n"
     ]
    },
    {
     "name": "stdout",
     "output_type": "stream",
     "text": [
      "\n",
      "      Epoch    GPU_mem   box_loss   cls_loss   dfl_loss  Instances       Size\n"
     ]
    },
    {
     "name": "stderr",
     "output_type": "stream",
     "text": [
      "     99/100         0G     0.5992     0.3407        1.1          7        640: 100%|██████████| 49/49 [10:33<00:00, 12.92s/it]\n",
      "                 Class     Images  Instances      Box(P          R      mAP50  mAP50-95): 100%|██████████| 7/7 [00:58<00:00,  8.36s/it]"
     ]
    },
    {
     "name": "stdout",
     "output_type": "stream",
     "text": [
      "                   all        221        221      0.891       0.91      0.944       0.69\n"
     ]
    },
    {
     "name": "stderr",
     "output_type": "stream",
     "text": [
      "\n"
     ]
    },
    {
     "name": "stdout",
     "output_type": "stream",
     "text": [
      "\n",
      "      Epoch    GPU_mem   box_loss   cls_loss   dfl_loss  Instances       Size\n"
     ]
    },
    {
     "name": "stderr",
     "output_type": "stream",
     "text": [
      "    100/100         0G     0.6036     0.3599      1.102          7        640: 100%|██████████| 49/49 [10:00<00:00, 12.25s/it]\n",
      "                 Class     Images  Instances      Box(P          R      mAP50  mAP50-95): 100%|██████████| 7/7 [00:59<00:00,  8.44s/it]"
     ]
    },
    {
     "name": "stdout",
     "output_type": "stream",
     "text": [
      "                   all        221        221      0.885      0.916      0.944       0.69\n"
     ]
    },
    {
     "name": "stderr",
     "output_type": "stream",
     "text": [
      "\n"
     ]
    },
    {
     "name": "stdout",
     "output_type": "stream",
     "text": [
      "\n",
      "100 epochs completed in 21.834 hours.\n",
      "Optimizer stripped from runs\\detect\\train7\\weights\\last.pt, 6.2MB\n",
      "Optimizer stripped from runs\\detect\\train7\\weights\\best.pt, 6.2MB\n",
      "\n",
      "Validating runs\\detect\\train7\\weights\\best.pt...\n",
      "Ultralytics YOLOv8.1.13 🚀 Python-3.10.4 torch-2.2.0+cpu CPU (Intel Core(TM) i5-10310U 1.70GHz)\n",
      "YOLOv8n summary (fused): 168 layers, 3006428 parameters, 0 gradients, 8.1 GFLOPs\n"
     ]
    },
    {
     "name": "stderr",
     "output_type": "stream",
     "text": [
      "                 Class     Images  Instances      Box(P          R      mAP50  mAP50-95): 100%|██████████| 7/7 [01:04<00:00,  9.23s/it]\n"
     ]
    },
    {
     "name": "stdout",
     "output_type": "stream",
     "text": [
      "                   all        221        221      0.911       0.91       0.95      0.698\n",
      " il dort sur la droite        221         49      0.955       0.87       0.94       0.71\n",
      "    il dort sur le dos        221         74      0.945      0.905      0.964      0.708\n",
      " il dort sur la gauche        221         59      0.887       0.93      0.942      0.666\n",
      " il dort sur le ventre        221         39      0.858      0.933      0.956      0.708\n",
      "Speed: 5.7ms preprocess, 235.7ms inference, 0.0ms loss, 0.8ms postprocess per image\n",
      "Results saved to \u001b[1mruns\\detect\\train7\u001b[0m\n"
     ]
    }
   ],
   "source": [
    "# Train the model on your dataset\n",
    "results = model.train(data='C:/Users/dell/OneDrive/Bureau/mastere2/projet_fin_etude/sleep_position.v1i.yolov8/data.yaml', epochs=100)\n"
   ]
  },
  {
   "cell_type": "code",
   "execution_count": null,
   "metadata": {},
   "outputs": [],
   "source": []
  },
  {
   "cell_type": "code",
   "execution_count": 11,
   "metadata": {},
   "outputs": [
    {
     "name": "stdout",
     "output_type": "stream",
     "text": [
      "Transferred 319/355 items from pretrained weights\n",
      "\n",
      "0: 640x640 (no detections), 229.5ms\n",
      "Speed: 0.0ms preprocess, 229.5ms inference, 15.5ms postprocess per image at shape (1, 3, 640, 640)\n"
     ]
    },
    {
     "ename": "IndexError",
     "evalue": "too many indices for tensor of dimension 2",
     "output_type": "error",
     "traceback": [
      "\u001b[1;31m---------------------------------------------------------------------------\u001b[0m",
      "\u001b[1;31mIndexError\u001b[0m                                Traceback (most recent call last)",
      "Input \u001b[1;32mIn [11]\u001b[0m, in \u001b[0;36m<cell line: 41>\u001b[1;34m()\u001b[0m\n\u001b[0;32m     40\u001b[0m \u001b[38;5;66;03m# Afficher les détections\u001b[39;00m\n\u001b[0;32m     41\u001b[0m \u001b[38;5;28;01mfor\u001b[39;00m detection \u001b[38;5;129;01min\u001b[39;00m detections:\n\u001b[1;32m---> 42\u001b[0m     \u001b[38;5;28mprint\u001b[39m(\u001b[38;5;124mf\u001b[39m\u001b[38;5;124m\"\u001b[39m\u001b[38;5;124mClasse: \u001b[39m\u001b[38;5;132;01m{\u001b[39;00mdetection[\u001b[38;5;124m'\u001b[39m\u001b[38;5;124mclass\u001b[39m\u001b[38;5;124m'\u001b[39m]\u001b[38;5;132;01m}\u001b[39;00m\u001b[38;5;124m\"\u001b[39m)\n\u001b[0;32m     43\u001b[0m     \u001b[38;5;28mprint\u001b[39m(\u001b[38;5;124mf\u001b[39m\u001b[38;5;124m\"\u001b[39m\u001b[38;5;124mScore: \u001b[39m\u001b[38;5;132;01m{\u001b[39;00mdetection[\u001b[38;5;124m'\u001b[39m\u001b[38;5;124mscore\u001b[39m\u001b[38;5;124m'\u001b[39m]\u001b[38;5;132;01m}\u001b[39;00m\u001b[38;5;124m\"\u001b[39m)\n\u001b[0;32m     44\u001b[0m     \u001b[38;5;28mprint\u001b[39m(\u001b[38;5;124mf\u001b[39m\u001b[38;5;124m\"\u001b[39m\u001b[38;5;124mBoîte englobante: \u001b[39m\u001b[38;5;132;01m{\u001b[39;00mdetection[\u001b[38;5;124m'\u001b[39m\u001b[38;5;124mbbox\u001b[39m\u001b[38;5;124m'\u001b[39m]\u001b[38;5;132;01m}\u001b[39;00m\u001b[38;5;124m\"\u001b[39m)\n",
      "File \u001b[1;32mc:\\Users\\dell\\AppData\\Local\\Programs\\Python\\Python310\\lib\\site-packages\\ultralytics\\engine\\results.py:124\u001b[0m, in \u001b[0;36mResults.__getitem__\u001b[1;34m(self, idx)\u001b[0m\n\u001b[0;32m    122\u001b[0m \u001b[38;5;28;01mdef\u001b[39;00m \u001b[38;5;21m__getitem__\u001b[39m(\u001b[38;5;28mself\u001b[39m, idx):\n\u001b[0;32m    123\u001b[0m     \u001b[38;5;124;03m\"\"\"Return a Results object for the specified index.\"\"\"\u001b[39;00m\n\u001b[1;32m--> 124\u001b[0m     \u001b[38;5;28;01mreturn\u001b[39;00m \u001b[38;5;28;43mself\u001b[39;49m\u001b[38;5;241;43m.\u001b[39;49m\u001b[43m_apply\u001b[49m\u001b[43m(\u001b[49m\u001b[38;5;124;43m\"\u001b[39;49m\u001b[38;5;124;43m__getitem__\u001b[39;49m\u001b[38;5;124;43m\"\u001b[39;49m\u001b[43m,\u001b[49m\u001b[43m \u001b[49m\u001b[43midx\u001b[49m\u001b[43m)\u001b[49m\n",
      "File \u001b[1;32mc:\\Users\\dell\\AppData\\Local\\Programs\\Python\\Python310\\lib\\site-packages\\ultralytics\\engine\\results.py:161\u001b[0m, in \u001b[0;36mResults._apply\u001b[1;34m(self, fn, *args, **kwargs)\u001b[0m\n\u001b[0;32m    159\u001b[0m     v \u001b[38;5;241m=\u001b[39m \u001b[38;5;28mgetattr\u001b[39m(\u001b[38;5;28mself\u001b[39m, k)\n\u001b[0;32m    160\u001b[0m     \u001b[38;5;28;01mif\u001b[39;00m v \u001b[38;5;129;01mis\u001b[39;00m \u001b[38;5;129;01mnot\u001b[39;00m \u001b[38;5;28;01mNone\u001b[39;00m:\n\u001b[1;32m--> 161\u001b[0m         \u001b[38;5;28msetattr\u001b[39m(r, k, \u001b[38;5;28mgetattr\u001b[39m(v, fn)(\u001b[38;5;241m*\u001b[39margs, \u001b[38;5;241m*\u001b[39m\u001b[38;5;241m*\u001b[39mkwargs))\n\u001b[0;32m    162\u001b[0m \u001b[38;5;28;01mreturn\u001b[39;00m r\n",
      "File \u001b[1;32mc:\\Users\\dell\\AppData\\Local\\Programs\\Python\\Python310\\lib\\site-packages\\ultralytics\\engine\\results.py:63\u001b[0m, in \u001b[0;36mBaseTensor.__getitem__\u001b[1;34m(self, idx)\u001b[0m\n\u001b[0;32m     61\u001b[0m \u001b[38;5;28;01mdef\u001b[39;00m \u001b[38;5;21m__getitem__\u001b[39m(\u001b[38;5;28mself\u001b[39m, idx):\n\u001b[0;32m     62\u001b[0m     \u001b[38;5;124;03m\"\"\"Return a BaseTensor with the specified index of the data tensor.\"\"\"\u001b[39;00m\n\u001b[1;32m---> 63\u001b[0m     \u001b[38;5;28;01mreturn\u001b[39;00m \u001b[38;5;28mself\u001b[39m\u001b[38;5;241m.\u001b[39m\u001b[38;5;18m__class__\u001b[39m(\u001b[38;5;28;43mself\u001b[39;49m\u001b[38;5;241;43m.\u001b[39;49m\u001b[43mdata\u001b[49m\u001b[43m[\u001b[49m\u001b[43midx\u001b[49m\u001b[43m]\u001b[49m, \u001b[38;5;28mself\u001b[39m\u001b[38;5;241m.\u001b[39morig_shape)\n",
      "\u001b[1;31mIndexError\u001b[0m: too many indices for tensor of dimension 2"
     ]
    }
   ],
   "source": [
    "import torch\n",
    "import cv2\n",
    "from ultralytics import YOLO\n",
    "import numpy as np\n",
    "\n",
    "\n",
    "# Load a model\n",
    "model = YOLO('yolov8n.yaml')  # build a new model from YAML\n",
    "model = YOLO(\"C:/Users/dell/OneDrive/Bureau/mastere2/projet_fin_etude/runs/detect/train7/weights/best.pt\")  # load a pretrained model (recommended for training)\n",
    "model = YOLO('yolov8n.yaml').load(\"C:/Users/dell/OneDrive/Bureau/mastere2/projet_fin_etude/runs/detect/train7/weights/best.pt\")  # build from YAML and transfer weights\n",
    "\n",
    "# Charger le modèle YOLOv8 avec le fichier best.pt\n",
    "# model = YOLOv8(weights=\"C:/Users/dell/OneDrive/Bureau/mastere2/projet_fin_etude/runs/detect/train7/weights.pt\", best=True)\n",
    "\n",
    "# Définir le chemin vers l'image à inférer\n",
    "image_path = \"C:/Users/dell/OneDrive/Bureau/mastere2/projet_fin_etude/sleep_position.v1i.yolov8/test/images/12_jpg.rf.1ab95189c91726d81396c56bed2c37ae.jpg\"\n",
    "\n",
    "# Charger l'image\n",
    "from PIL import Image\n",
    "\n",
    "# Open the image\n",
    "image = Image.open(image_path)\n",
    "\n",
    "# Resize the image to the required shape\n",
    "image = image.resize((640, 640))\n",
    "\n",
    "# Convert the image to a numpy array and normalize\n",
    "image = np.array(image) / 255.0\n",
    "\n",
    "# Convert the numpy array to a PyTorch tensor and add batch dimension\n",
    "image = torch.tensor(image).permute(2, 0, 1).unsqueeze(0).float()\n",
    "\n",
    "\n",
    "# image = cv2.imread(image_path)\n",
    "# image = torch.from_numpy(image).float() / 255.0\n",
    "\n",
    "# Prédire les détections\n",
    "detections = model(image)\n",
    "\n",
    "# Afficher les détections\n",
    "for detection in detections:\n",
    "    print(f\"Classe: {detection['class']}\")\n",
    "    print(f\"Score: {detection['score']}\")\n",
    "    print(f\"Boîte englobante: {detection['bbox']}\")\n"
   ]
  },
  {
   "cell_type": "code",
   "execution_count": 1,
   "metadata": {},
   "outputs": [
    {
     "name": "stderr",
     "output_type": "stream",
     "text": [
      "c:\\Users\\dell\\AppData\\Local\\Programs\\Python\\Python310\\lib\\site-packages\\transformers\\utils\\generic.py:441: UserWarning: torch.utils._pytree._register_pytree_node is deprecated. Please use torch.utils._pytree.register_pytree_node instead.\n",
      "  _torch_pytree._register_pytree_node(\n"
     ]
    },
    {
     "name": "stdout",
     "output_type": "stream",
     "text": [
      "\n",
      "image 1/1 C:\\Users\\dell\\OneDrive\\Bureau\\mastere2\\projet_fin_etude\\sleep_position.v1i.yolov8\\test\\images\\Villatima-Supine-5_jpg.rf.69e21b911a1a16f8c685d68079a9716a.jpg: 480x640 1 il dort sur le dos, 204.3ms\n",
      "Speed: 5.5ms preprocess, 204.3ms inference, 1.0ms postprocess per image at shape (1, 3, 480, 640)\n"
     ]
    }
   ],
   "source": [
    "from ultralytics import YOLO\n",
    "import cv2\n",
    "\n",
    "# Chargez le modèle YOLOv8 avec les poids pré-entraînés (best.pt)\n",
    "model = YOLO('C:/Users/dell/OneDrive/Bureau/mastere2/projet_fin_etude/runs/detect/train7/weights/best.pt')\n",
    "\n",
    "# Exécutez l'inférence sur une image (remplacez 'image.jpg' par le chemin de votre image)\n",
    "results = model('C:/Users/dell/OneDrive/Bureau/mastere2/projet_fin_etude/sleep_position.v1i.yolov8/test/images/Villatima-Supine-5_jpg.rf.69e21b911a1a16f8c685d68079a9716a.jpg')\n",
    "\n",
    "# Chargez l'image originale\n",
    "image = cv2.imread('C:/Users/dell/OneDrive/Bureau/mastere2/projet_fin_etude/sleep_position.v1i.yolov8/test/images/Villatima-Supine-5_jpg.rf.69e21b911a1a16f8c685d68079a9716a.jpg')\n",
    "\n",
    "# Dessinez les boîtes englobantes sur l'image\n",
    "for detection in results[0].boxes.xyxy:\n",
    "    # Récupérez les coordonnées de la boîte\n",
    "    x1, y1, x2, y2 = map(int, detection[:4])\n",
    "    # Dessinez la boîte sur l'image\n",
    "    cv2.rectangle(image, (x1, y1), (x2, y2), (0, 255, 0), 2)\n",
    "\n",
    "# Affichez l'image avec les boîtes englobantes\n",
    "cv2.imshow('Detection', image)\n",
    "cv2.waitKey(0)\n",
    "cv2.destroyAllWindows()\n"
   ]
  },
  {
   "cell_type": "code",
   "execution_count": 2,
   "metadata": {},
   "outputs": [
    {
     "name": "stdout",
     "output_type": "stream",
     "text": [
      "\n",
      "image 1/1 C:\\Users\\dell\\OneDrive\\Bureau\\mastere2\\projet_fin_etude\\sleep_position.v1i.yolov8\\test\\images\\imagee-25-_png.rf.e614b270c3d6814d5577b6647a894c2c.jpg: 640x384 1 il dort sur le dos, 190.3ms\n",
      "Speed: 6.4ms preprocess, 190.3ms inference, 1.0ms postprocess per image at shape (1, 3, 640, 384)\n"
     ]
    }
   ],
   "source": [
    "\n",
    "                               ############ CODE AMÉLIORER AVEC l'AFFICHAGE DE PERSONNE DANS DES BOX  ################\n",
    "\n",
    "from ultralytics import YOLO\n",
    "import cv2\n",
    "\n",
    "# Chargez le modèle YOLOv8 avec les poids pré-entraînés (best.pt)\n",
    "model = YOLO('C:/Users/dell/OneDrive/Bureau/mastere2/projet_fin_etude/runs/detect/train7/weights/best.pt')\n",
    "\n",
    "# Exécutez l'inférence sur une image (remplacez 'image.jpg' par le chemin de votre image)\n",
    "results = model('C:/Users/dell/OneDrive/Bureau/mastere2/projet_fin_etude/sleep_position.v1i.yolov8/test/images/imagee-25-_png.rf.e614b270c3d6814d5577b6647a894c2c.jpg')\n",
    "\n",
    "# Chargez l'image originale\n",
    "image = cv2.imread('C:/Users/dell/OneDrive/Bureau/mastere2/projet_fin_etude/sleep_position.v1i.yolov8/test/images/imagee-25-_png.rf.e614b270c3d6814d5577b6647a894c2c.jpg')\n",
    "\n",
    "# Dessinez les boîtes englobantes sur l'image\n",
    "for detection in results[0].boxes.xyxy:\n",
    "    # Récupérez les coordonnées de la boîte\n",
    "    x1, y1, x2, y2 = map(int, detection[:4])\n",
    "    # Dessinez la boîte sur l'image\n",
    "    cv2.rectangle(image, (x1, y1), (x2, y2), (0, 255, 0), 2)\n",
    "\n",
    "# Créez une fenêtre d'affichage avec la possibilité de redimensionner\n",
    "cv2.namedWindow('Original Image', cv2.WINDOW_NORMAL)\n",
    "\n",
    "# Affichez l'image avec les boîtes englobantes\n",
    "cv2.imshow('Original Image', image)\n",
    "cv2.waitKey(0)\n",
    "cv2.destroyAllWindows()\n"
   ]
  },
  {
   "cell_type": "code",
   "execution_count": 3,
   "metadata": {},
   "outputs": [
    {
     "name": "stdout",
     "output_type": "stream",
     "text": [
      "New https://pypi.org/project/ultralytics/8.1.23 available 😃 Update with 'pip install -U ultralytics'\n",
      "Ultralytics YOLOv8.1.13 🚀 Python-3.10.4 torch-2.2.0+cpu CPU (Intel Core(TM) i5-10310U 1.70GHz)\n",
      "\u001b[34m\u001b[1mengine\\trainer: \u001b[0mtask=detect, mode=train, model=yolov8n.yaml, data=C:/Users/dell/OneDrive/Bureau/mastere2/projet_fin_etude/sleep_position+somnolent.v1i.yolov8/data.yaml, epochs=100, time=None, patience=50, batch=16, imgsz=640, save=True, save_period=-1, cache=False, device=None, workers=8, project=None, name=train9, exist_ok=False, pretrained=True, optimizer=auto, verbose=True, seed=0, deterministic=True, single_cls=False, rect=False, cos_lr=False, close_mosaic=10, resume=False, amp=True, fraction=1.0, profile=False, freeze=None, multi_scale=False, overlap_mask=True, mask_ratio=4, dropout=0.0, val=True, split=val, save_json=False, save_hybrid=False, conf=None, iou=0.7, max_det=300, half=False, dnn=False, plots=True, source=None, vid_stride=1, stream_buffer=False, visualize=False, augment=False, agnostic_nms=False, classes=None, retina_masks=False, embed=None, show=False, save_frames=False, save_txt=False, save_conf=False, save_crop=False, show_labels=True, show_conf=True, show_boxes=True, line_width=None, format=torchscript, keras=False, optimize=False, int8=False, dynamic=False, simplify=False, opset=None, workspace=4, nms=False, lr0=0.01, lrf=0.01, momentum=0.937, weight_decay=0.0005, warmup_epochs=3.0, warmup_momentum=0.8, warmup_bias_lr=0.1, box=7.5, cls=0.5, dfl=1.5, pose=12.0, kobj=1.0, label_smoothing=0.0, nbs=64, hsv_h=0.015, hsv_s=0.7, hsv_v=0.4, degrees=0.0, translate=0.1, scale=0.5, shear=0.0, perspective=0.0, flipud=0.0, fliplr=0.5, mosaic=1.0, mixup=0.0, copy_paste=0.0, auto_augment=randaugment, erasing=0.4, crop_fraction=1.0, cfg=None, tracker=botsort.yaml, save_dir=runs\\detect\\train9\n",
      "WARNING:tensorflow:From c:\\Users\\dell\\AppData\\Local\\Programs\\Python\\Python310\\lib\\site-packages\\keras\\src\\losses.py:2976: The name tf.losses.sparse_softmax_cross_entropy is deprecated. Please use tf.compat.v1.losses.sparse_softmax_cross_entropy instead.\n",
      "\n",
      "Overriding model.yaml nc=80 with nc=7\n",
      "\n",
      "                   from  n    params  module                                       arguments                     \n",
      "  0                  -1  1       464  ultralytics.nn.modules.conv.Conv             [3, 16, 3, 2]                 \n",
      "  1                  -1  1      4672  ultralytics.nn.modules.conv.Conv             [16, 32, 3, 2]                \n",
      "  2                  -1  1      7360  ultralytics.nn.modules.block.C2f             [32, 32, 1, True]             \n",
      "  3                  -1  1     18560  ultralytics.nn.modules.conv.Conv             [32, 64, 3, 2]                \n",
      "  4                  -1  2     49664  ultralytics.nn.modules.block.C2f             [64, 64, 2, True]             \n",
      "  5                  -1  1     73984  ultralytics.nn.modules.conv.Conv             [64, 128, 3, 2]               \n",
      "  6                  -1  2    197632  ultralytics.nn.modules.block.C2f             [128, 128, 2, True]           \n",
      "  7                  -1  1    295424  ultralytics.nn.modules.conv.Conv             [128, 256, 3, 2]              \n",
      "  8                  -1  1    460288  ultralytics.nn.modules.block.C2f             [256, 256, 1, True]           \n",
      "  9                  -1  1    164608  ultralytics.nn.modules.block.SPPF            [256, 256, 5]                 \n",
      " 10                  -1  1         0  torch.nn.modules.upsampling.Upsample         [None, 2, 'nearest']          \n",
      " 11             [-1, 6]  1         0  ultralytics.nn.modules.conv.Concat           [1]                           \n",
      " 12                  -1  1    148224  ultralytics.nn.modules.block.C2f             [384, 128, 1]                 \n",
      " 13                  -1  1         0  torch.nn.modules.upsampling.Upsample         [None, 2, 'nearest']          \n",
      " 14             [-1, 4]  1         0  ultralytics.nn.modules.conv.Concat           [1]                           \n",
      " 15                  -1  1     37248  ultralytics.nn.modules.block.C2f             [192, 64, 1]                  \n",
      " 16                  -1  1     36992  ultralytics.nn.modules.conv.Conv             [64, 64, 3, 2]                \n",
      " 17            [-1, 12]  1         0  ultralytics.nn.modules.conv.Concat           [1]                           \n",
      " 18                  -1  1    123648  ultralytics.nn.modules.block.C2f             [192, 128, 1]                 \n",
      " 19                  -1  1    147712  ultralytics.nn.modules.conv.Conv             [128, 128, 3, 2]              \n",
      " 20             [-1, 9]  1         0  ultralytics.nn.modules.conv.Concat           [1]                           \n",
      " 21                  -1  1    493056  ultralytics.nn.modules.block.C2f             [384, 256, 1]                 \n",
      " 22        [15, 18, 21]  1    752677  ultralytics.nn.modules.head.Detect           [7, [64, 128, 256]]           \n",
      "YOLOv8n summary: 225 layers, 3012213 parameters, 3012197 gradients, 8.2 GFLOPs\n",
      "\n",
      "Transferred 319/355 items from pretrained weights\n",
      "\u001b[34m\u001b[1mTensorBoard: \u001b[0mStart with 'tensorboard --logdir runs\\detect\\train9', view at http://localhost:6006/\n",
      "Freezing layer 'model.22.dfl.conv.weight'\n"
     ]
    },
    {
     "name": "stderr",
     "output_type": "stream",
     "text": [
      "\u001b[34m\u001b[1mtrain: \u001b[0mScanning C:\\Users\\dell\\OneDrive\\Bureau\\mastere2\\projet_fin_etude\\sleep_position+somnolent.v1i.yolov8\\train\\labels.cache... 4001 images, 7 backgrounds, 0 corrupt: 100%|██████████| 4001/4001 [00:00<?, ?it/s]\n",
      "\u001b[34m\u001b[1mval: \u001b[0mScanning C:\\Users\\dell\\OneDrive\\Bureau\\mastere2\\projet_fin_etude\\sleep_position+somnolent.v1i.yolov8\\valid\\labels.cache... 543 images, 1 backgrounds, 0 corrupt: 100%|██████████| 543/543 [00:00<?, ?it/s]\n"
     ]
    },
    {
     "name": "stdout",
     "output_type": "stream",
     "text": [
      "Plotting labels to runs\\detect\\train9\\labels.jpg... \n",
      "\u001b[34m\u001b[1moptimizer:\u001b[0m 'optimizer=auto' found, ignoring 'lr0=0.01' and 'momentum=0.937' and determining best 'optimizer', 'lr0' and 'momentum' automatically... \n",
      "\u001b[34m\u001b[1moptimizer:\u001b[0m AdamW(lr=0.000909, momentum=0.9) with parameter groups 57 weight(decay=0.0), 64 weight(decay=0.0005), 63 bias(decay=0.0)\n",
      "\u001b[34m\u001b[1mTensorBoard: \u001b[0mmodel graph visualization added ✅\n",
      "Image sizes 640 train, 640 val\n",
      "Using 0 dataloader workers\n",
      "Logging results to \u001b[1mruns\\detect\\train9\u001b[0m\n",
      "Starting training for 100 epochs...\n",
      "\n",
      "      Epoch    GPU_mem   box_loss   cls_loss   dfl_loss  Instances       Size\n"
     ]
    },
    {
     "name": "stderr",
     "output_type": "stream",
     "text": [
      "      1/100         0G      1.206      2.346      1.469          3        640: 100%|██████████| 251/251 [49:35<00:00, 11.85s/it] \n",
      "                 Class     Images  Instances      Box(P          R      mAP50  mAP50-95): 100%|██████████| 17/17 [02:30<00:00,  8.84s/it]"
     ]
    },
    {
     "name": "stdout",
     "output_type": "stream",
     "text": [
      "                   all        543        702       0.35      0.538      0.387      0.173\n"
     ]
    },
    {
     "name": "stderr",
     "output_type": "stream",
     "text": [
      "\n"
     ]
    },
    {
     "name": "stdout",
     "output_type": "stream",
     "text": [
      "\n",
      "      Epoch    GPU_mem   box_loss   cls_loss   dfl_loss  Instances       Size\n"
     ]
    },
    {
     "name": "stderr",
     "output_type": "stream",
     "text": [
      "      2/100         0G        1.2      1.593      1.394          5        640: 100%|██████████| 251/251 [47:26<00:00, 11.34s/it]\n",
      "                 Class     Images  Instances      Box(P          R      mAP50  mAP50-95): 100%|██████████| 17/17 [02:27<00:00,  8.68s/it]"
     ]
    },
    {
     "name": "stdout",
     "output_type": "stream",
     "text": [
      "                   all        543        702      0.338      0.434      0.446       0.18\n"
     ]
    },
    {
     "name": "stderr",
     "output_type": "stream",
     "text": [
      "\n"
     ]
    },
    {
     "name": "stdout",
     "output_type": "stream",
     "text": [
      "\n",
      "      Epoch    GPU_mem   box_loss   cls_loss   dfl_loss  Instances       Size\n"
     ]
    },
    {
     "name": "stderr",
     "output_type": "stream",
     "text": [
      "      3/100         0G      1.196      1.442      1.397          3        640: 100%|██████████| 251/251 [47:16<00:00, 11.30s/it]\n",
      "                 Class     Images  Instances      Box(P          R      mAP50  mAP50-95): 100%|██████████| 17/17 [02:28<00:00,  8.72s/it]"
     ]
    },
    {
     "name": "stdout",
     "output_type": "stream",
     "text": [
      "                   all        543        702      0.406      0.575       0.51      0.217\n"
     ]
    },
    {
     "name": "stderr",
     "output_type": "stream",
     "text": [
      "\n"
     ]
    },
    {
     "name": "stdout",
     "output_type": "stream",
     "text": [
      "\n",
      "      Epoch    GPU_mem   box_loss   cls_loss   dfl_loss  Instances       Size\n"
     ]
    },
    {
     "name": "stderr",
     "output_type": "stream",
     "text": [
      "      4/100         0G      1.153      1.273      1.363          3        640: 100%|██████████| 251/251 [47:23<00:00, 11.33s/it]\n",
      "                 Class     Images  Instances      Box(P          R      mAP50  mAP50-95): 100%|██████████| 17/17 [02:25<00:00,  8.57s/it]"
     ]
    },
    {
     "name": "stdout",
     "output_type": "stream",
     "text": [
      "                   all        543        702      0.404      0.573      0.503      0.238\n"
     ]
    },
    {
     "name": "stderr",
     "output_type": "stream",
     "text": [
      "\n"
     ]
    },
    {
     "name": "stdout",
     "output_type": "stream",
     "text": [
      "\n",
      "      Epoch    GPU_mem   box_loss   cls_loss   dfl_loss  Instances       Size\n"
     ]
    },
    {
     "name": "stderr",
     "output_type": "stream",
     "text": [
      "      5/100         0G      1.134       1.17      1.342          3        640: 100%|██████████| 251/251 [48:16<00:00, 11.54s/it]\n",
      "                 Class     Images  Instances      Box(P          R      mAP50  mAP50-95): 100%|██████████| 17/17 [02:24<00:00,  8.50s/it]"
     ]
    },
    {
     "name": "stdout",
     "output_type": "stream",
     "text": [
      "                   all        543        702      0.452      0.757      0.546      0.268\n"
     ]
    },
    {
     "name": "stderr",
     "output_type": "stream",
     "text": [
      "\n"
     ]
    },
    {
     "name": "stdout",
     "output_type": "stream",
     "text": [
      "\n",
      "      Epoch    GPU_mem   box_loss   cls_loss   dfl_loss  Instances       Size\n"
     ]
    },
    {
     "name": "stderr",
     "output_type": "stream",
     "text": [
      "      6/100         0G      1.106      1.078      1.322          3        640: 100%|██████████| 251/251 [47:30<00:00, 11.36s/it]\n",
      "                 Class     Images  Instances      Box(P          R      mAP50  mAP50-95): 100%|██████████| 17/17 [02:25<00:00,  8.56s/it]"
     ]
    },
    {
     "name": "stdout",
     "output_type": "stream",
     "text": [
      "                   all        543        702      0.441      0.777      0.544      0.254\n"
     ]
    },
    {
     "name": "stderr",
     "output_type": "stream",
     "text": [
      "\n"
     ]
    },
    {
     "name": "stdout",
     "output_type": "stream",
     "text": [
      "\n",
      "      Epoch    GPU_mem   box_loss   cls_loss   dfl_loss  Instances       Size\n"
     ]
    },
    {
     "name": "stderr",
     "output_type": "stream",
     "text": [
      "      7/100         0G       1.08      1.053      1.306          1        640: 100%|██████████| 251/251 [47:33<00:00, 11.37s/it]\n",
      "                 Class     Images  Instances      Box(P          R      mAP50  mAP50-95): 100%|██████████| 17/17 [02:26<00:00,  8.63s/it]"
     ]
    },
    {
     "name": "stdout",
     "output_type": "stream",
     "text": [
      "                   all        543        702      0.499      0.663      0.572      0.287\n"
     ]
    },
    {
     "name": "stderr",
     "output_type": "stream",
     "text": [
      "\n"
     ]
    },
    {
     "name": "stdout",
     "output_type": "stream",
     "text": [
      "\n",
      "      Epoch    GPU_mem   box_loss   cls_loss   dfl_loss  Instances       Size\n"
     ]
    },
    {
     "name": "stderr",
     "output_type": "stream",
     "text": [
      "      8/100         0G      1.093       1.02      1.312          7        640: 100%|██████████| 251/251 [48:58<00:00, 11.71s/it] \n",
      "                 Class     Images  Instances      Box(P          R      mAP50  mAP50-95): 100%|██████████| 17/17 [02:24<00:00,  8.51s/it]"
     ]
    },
    {
     "name": "stdout",
     "output_type": "stream",
     "text": [
      "                   all        543        702      0.519      0.817      0.621       0.32\n"
     ]
    },
    {
     "name": "stderr",
     "output_type": "stream",
     "text": [
      "\n"
     ]
    },
    {
     "name": "stdout",
     "output_type": "stream",
     "text": [
      "\n",
      "      Epoch    GPU_mem   box_loss   cls_loss   dfl_loss  Instances       Size\n"
     ]
    },
    {
     "name": "stderr",
     "output_type": "stream",
     "text": [
      "      9/100         0G       1.05     0.9544       1.28          1        640: 100%|██████████| 251/251 [47:36<00:00, 11.38s/it]\n",
      "                 Class     Images  Instances      Box(P          R      mAP50  mAP50-95): 100%|██████████| 17/17 [02:25<00:00,  8.57s/it]"
     ]
    },
    {
     "name": "stdout",
     "output_type": "stream",
     "text": [
      "                   all        543        702      0.543      0.786      0.614      0.315\n"
     ]
    },
    {
     "name": "stderr",
     "output_type": "stream",
     "text": [
      "\n"
     ]
    },
    {
     "name": "stdout",
     "output_type": "stream",
     "text": [
      "\n",
      "      Epoch    GPU_mem   box_loss   cls_loss   dfl_loss  Instances       Size\n"
     ]
    },
    {
     "name": "stderr",
     "output_type": "stream",
     "text": [
      "     10/100         0G       1.06     0.9436      1.284          4        640: 100%|██████████| 251/251 [47:26<00:00, 11.34s/it]\n",
      "                 Class     Images  Instances      Box(P          R      mAP50  mAP50-95): 100%|██████████| 17/17 [02:26<00:00,  8.60s/it]"
     ]
    },
    {
     "name": "stdout",
     "output_type": "stream",
     "text": [
      "                   all        543        702      0.575       0.75      0.632      0.322\n"
     ]
    },
    {
     "name": "stderr",
     "output_type": "stream",
     "text": [
      "\n"
     ]
    },
    {
     "name": "stdout",
     "output_type": "stream",
     "text": [
      "\n",
      "      Epoch    GPU_mem   box_loss   cls_loss   dfl_loss  Instances       Size\n"
     ]
    },
    {
     "name": "stderr",
     "output_type": "stream",
     "text": [
      "     11/100         0G      1.024      0.889      1.265          4        640: 100%|██████████| 251/251 [48:07<00:00, 11.50s/it]\n",
      "                 Class     Images  Instances      Box(P          R      mAP50  mAP50-95): 100%|██████████| 17/17 [02:26<00:00,  8.64s/it]"
     ]
    },
    {
     "name": "stdout",
     "output_type": "stream",
     "text": [
      "                   all        543        702      0.546       0.82      0.654      0.348\n"
     ]
    },
    {
     "name": "stderr",
     "output_type": "stream",
     "text": [
      "\n"
     ]
    },
    {
     "name": "stdout",
     "output_type": "stream",
     "text": [
      "\n",
      "      Epoch    GPU_mem   box_loss   cls_loss   dfl_loss  Instances       Size\n"
     ]
    },
    {
     "name": "stderr",
     "output_type": "stream",
     "text": [
      "     12/100         0G      1.033     0.9108      1.266          5        640: 100%|██████████| 251/251 [47:32<00:00, 11.37s/it]\n",
      "                 Class     Images  Instances      Box(P          R      mAP50  mAP50-95): 100%|██████████| 17/17 [02:25<00:00,  8.56s/it]"
     ]
    },
    {
     "name": "stdout",
     "output_type": "stream",
     "text": [
      "                   all        543        702      0.572      0.858      0.661      0.371\n"
     ]
    },
    {
     "name": "stderr",
     "output_type": "stream",
     "text": [
      "\n"
     ]
    },
    {
     "name": "stdout",
     "output_type": "stream",
     "text": [
      "\n",
      "      Epoch    GPU_mem   box_loss   cls_loss   dfl_loss  Instances       Size\n"
     ]
    },
    {
     "name": "stderr",
     "output_type": "stream",
     "text": [
      "     13/100         0G      1.002     0.8563      1.249          3        640: 100%|██████████| 251/251 [48:24<00:00, 11.57s/it] \n",
      "                 Class     Images  Instances      Box(P          R      mAP50  mAP50-95): 100%|██████████| 17/17 [02:40<00:00,  9.47s/it]"
     ]
    },
    {
     "name": "stdout",
     "output_type": "stream",
     "text": [
      "                   all        543        702      0.542      0.769      0.619      0.322\n"
     ]
    },
    {
     "name": "stderr",
     "output_type": "stream",
     "text": [
      "\n"
     ]
    },
    {
     "name": "stdout",
     "output_type": "stream",
     "text": [
      "\n",
      "      Epoch    GPU_mem   box_loss   cls_loss   dfl_loss  Instances       Size\n"
     ]
    },
    {
     "name": "stderr",
     "output_type": "stream",
     "text": [
      "     14/100         0G      1.016     0.8541      1.256          4        640: 100%|██████████| 251/251 [52:30<00:00, 12.55s/it]\n",
      "                 Class     Images  Instances      Box(P          R      mAP50  mAP50-95): 100%|██████████| 17/17 [02:41<00:00,  9.52s/it]"
     ]
    },
    {
     "name": "stdout",
     "output_type": "stream",
     "text": [
      "                   all        543        702      0.569       0.84       0.67      0.379\n"
     ]
    },
    {
     "name": "stderr",
     "output_type": "stream",
     "text": [
      "\n"
     ]
    },
    {
     "name": "stdout",
     "output_type": "stream",
     "text": [
      "\n",
      "      Epoch    GPU_mem   box_loss   cls_loss   dfl_loss  Instances       Size\n"
     ]
    },
    {
     "name": "stderr",
     "output_type": "stream",
     "text": [
      "     15/100         0G      1.019     0.8504      1.255          1        640: 100%|██████████| 251/251 [56:20<00:00, 13.47s/it] \n",
      "                 Class     Images  Instances      Box(P          R      mAP50  mAP50-95): 100%|██████████| 17/17 [02:33<00:00,  9.03s/it]"
     ]
    },
    {
     "name": "stdout",
     "output_type": "stream",
     "text": [
      "                   all        543        702      0.585      0.789      0.679       0.38\n"
     ]
    },
    {
     "name": "stderr",
     "output_type": "stream",
     "text": [
      "\n"
     ]
    },
    {
     "name": "stdout",
     "output_type": "stream",
     "text": [
      "\n",
      "      Epoch    GPU_mem   box_loss   cls_loss   dfl_loss  Instances       Size\n"
     ]
    },
    {
     "name": "stderr",
     "output_type": "stream",
     "text": [
      "     16/100         0G      1.016     0.8284      1.253          1        640: 100%|██████████| 251/251 [51:54<00:00, 12.41s/it] \n",
      "                 Class     Images  Instances      Box(P          R      mAP50  mAP50-95): 100%|██████████| 17/17 [03:09<00:00, 11.17s/it]"
     ]
    },
    {
     "name": "stdout",
     "output_type": "stream",
     "text": [
      "                   all        543        702      0.628      0.827      0.702      0.392\n"
     ]
    },
    {
     "name": "stderr",
     "output_type": "stream",
     "text": [
      "\n"
     ]
    },
    {
     "name": "stdout",
     "output_type": "stream",
     "text": [
      "\n",
      "      Epoch    GPU_mem   box_loss   cls_loss   dfl_loss  Instances       Size\n"
     ]
    },
    {
     "name": "stderr",
     "output_type": "stream",
     "text": [
      "     17/100         0G     0.9964     0.8158      1.242          4        640: 100%|██████████| 251/251 [56:31<00:00, 13.51s/it] \n",
      "                 Class     Images  Instances      Box(P          R      mAP50  mAP50-95): 100%|██████████| 17/17 [02:49<00:00,  9.99s/it]"
     ]
    },
    {
     "name": "stdout",
     "output_type": "stream",
     "text": [
      "                   all        543        702      0.708      0.753      0.743      0.409\n"
     ]
    },
    {
     "name": "stderr",
     "output_type": "stream",
     "text": [
      "\n"
     ]
    },
    {
     "name": "stdout",
     "output_type": "stream",
     "text": [
      "\n",
      "      Epoch    GPU_mem   box_loss   cls_loss   dfl_loss  Instances       Size\n"
     ]
    },
    {
     "name": "stderr",
     "output_type": "stream",
     "text": [
      "     18/100         0G     0.9817     0.8072      1.236          1        640: 100%|██████████| 251/251 [54:29<00:00, 13.03s/it] \n",
      "                 Class     Images  Instances      Box(P          R      mAP50  mAP50-95): 100%|██████████| 17/17 [02:50<00:00, 10.01s/it]"
     ]
    },
    {
     "name": "stdout",
     "output_type": "stream",
     "text": [
      "                   all        543        702      0.622      0.793      0.724      0.404\n"
     ]
    },
    {
     "name": "stderr",
     "output_type": "stream",
     "text": [
      "\n"
     ]
    },
    {
     "name": "stdout",
     "output_type": "stream",
     "text": [
      "\n",
      "      Epoch    GPU_mem   box_loss   cls_loss   dfl_loss  Instances       Size\n"
     ]
    },
    {
     "name": "stderr",
     "output_type": "stream",
     "text": [
      "     19/100         0G     0.9886      0.811      1.244          1        640: 100%|██████████| 251/251 [50:54<00:00, 12.17s/it]\n",
      "                 Class     Images  Instances      Box(P          R      mAP50  mAP50-95): 100%|██████████| 17/17 [02:31<00:00,  8.92s/it]"
     ]
    },
    {
     "name": "stdout",
     "output_type": "stream",
     "text": [
      "                   all        543        702      0.632      0.831      0.745      0.427\n"
     ]
    },
    {
     "name": "stderr",
     "output_type": "stream",
     "text": [
      "\n"
     ]
    },
    {
     "name": "stdout",
     "output_type": "stream",
     "text": [
      "\n",
      "      Epoch    GPU_mem   box_loss   cls_loss   dfl_loss  Instances       Size\n"
     ]
    },
    {
     "name": "stderr",
     "output_type": "stream",
     "text": [
      "     20/100         0G      0.978     0.7882      1.226          2        640: 100%|██████████| 251/251 [51:53<00:00, 12.40s/it] \n",
      "                 Class     Images  Instances      Box(P          R      mAP50  mAP50-95): 100%|██████████| 17/17 [02:47<00:00,  9.83s/it]"
     ]
    },
    {
     "name": "stdout",
     "output_type": "stream",
     "text": [
      "                   all        543        702      0.597      0.801      0.745      0.422\n"
     ]
    },
    {
     "name": "stderr",
     "output_type": "stream",
     "text": [
      "\n"
     ]
    },
    {
     "name": "stdout",
     "output_type": "stream",
     "text": [
      "\n",
      "      Epoch    GPU_mem   box_loss   cls_loss   dfl_loss  Instances       Size\n"
     ]
    },
    {
     "name": "stderr",
     "output_type": "stream",
     "text": [
      "     21/100         0G      0.962     0.7709       1.22          2        640: 100%|██████████| 251/251 [53:30<00:00, 12.79s/it] \n",
      "                 Class     Images  Instances      Box(P          R      mAP50  mAP50-95): 100%|██████████| 17/17 [02:30<00:00,  8.87s/it]"
     ]
    },
    {
     "name": "stdout",
     "output_type": "stream",
     "text": [
      "                   all        543        702      0.678      0.828      0.764      0.449\n"
     ]
    },
    {
     "name": "stderr",
     "output_type": "stream",
     "text": [
      "\n"
     ]
    },
    {
     "name": "stdout",
     "output_type": "stream",
     "text": [
      "\n",
      "      Epoch    GPU_mem   box_loss   cls_loss   dfl_loss  Instances       Size\n"
     ]
    },
    {
     "name": "stderr",
     "output_type": "stream",
     "text": [
      "     22/100         0G     0.9474     0.7479      1.214          1        640: 100%|██████████| 251/251 [49:46<00:00, 11.90s/it] \n",
      "                 Class     Images  Instances      Box(P          R      mAP50  mAP50-95): 100%|██████████| 17/17 [02:31<00:00,  8.92s/it]"
     ]
    },
    {
     "name": "stdout",
     "output_type": "stream",
     "text": [
      "                   all        543        702      0.638      0.882       0.74      0.428\n"
     ]
    },
    {
     "name": "stderr",
     "output_type": "stream",
     "text": [
      "\n"
     ]
    },
    {
     "name": "stdout",
     "output_type": "stream",
     "text": [
      "\n",
      "      Epoch    GPU_mem   box_loss   cls_loss   dfl_loss  Instances       Size\n"
     ]
    },
    {
     "name": "stderr",
     "output_type": "stream",
     "text": [
      "     23/100         0G      0.958     0.7608      1.221          4        640: 100%|██████████| 251/251 [50:15<00:00, 12.01s/it] \n",
      "                 Class     Images  Instances      Box(P          R      mAP50  mAP50-95): 100%|██████████| 17/17 [02:32<00:00,  8.97s/it]"
     ]
    },
    {
     "name": "stdout",
     "output_type": "stream",
     "text": [
      "                   all        543        702      0.608       0.84      0.735      0.402\n"
     ]
    },
    {
     "name": "stderr",
     "output_type": "stream",
     "text": [
      "\n"
     ]
    },
    {
     "name": "stdout",
     "output_type": "stream",
     "text": [
      "\n",
      "      Epoch    GPU_mem   box_loss   cls_loss   dfl_loss  Instances       Size\n"
     ]
    },
    {
     "name": "stderr",
     "output_type": "stream",
     "text": [
      "     24/100         0G     0.9507     0.7465      1.217          1        640: 100%|██████████| 251/251 [49:37<00:00, 11.86s/it] \n",
      "                 Class     Images  Instances      Box(P          R      mAP50  mAP50-95): 100%|██████████| 17/17 [02:30<00:00,  8.86s/it]"
     ]
    },
    {
     "name": "stdout",
     "output_type": "stream",
     "text": [
      "                   all        543        702      0.655      0.872      0.766       0.42\n"
     ]
    },
    {
     "name": "stderr",
     "output_type": "stream",
     "text": [
      "\n"
     ]
    },
    {
     "name": "stdout",
     "output_type": "stream",
     "text": [
      "\n",
      "      Epoch    GPU_mem   box_loss   cls_loss   dfl_loss  Instances       Size\n"
     ]
    },
    {
     "name": "stderr",
     "output_type": "stream",
     "text": [
      "     25/100         0G       0.94     0.7318      1.208          2        640: 100%|██████████| 251/251 [50:45<00:00, 12.13s/it] \n",
      "                 Class     Images  Instances      Box(P          R      mAP50  mAP50-95): 100%|██████████| 17/17 [02:30<00:00,  8.86s/it]"
     ]
    },
    {
     "name": "stdout",
     "output_type": "stream",
     "text": [
      "                   all        543        702      0.637      0.793      0.732      0.415\n"
     ]
    },
    {
     "name": "stderr",
     "output_type": "stream",
     "text": [
      "\n"
     ]
    },
    {
     "name": "stdout",
     "output_type": "stream",
     "text": [
      "\n",
      "      Epoch    GPU_mem   box_loss   cls_loss   dfl_loss  Instances       Size\n"
     ]
    },
    {
     "name": "stderr",
     "output_type": "stream",
     "text": [
      "     26/100         0G     0.9405     0.7315      1.206          3        640: 100%|██████████| 251/251 [49:45<00:00, 11.90s/it] \n",
      "                 Class     Images  Instances      Box(P          R      mAP50  mAP50-95): 100%|██████████| 17/17 [02:32<00:00,  8.95s/it]"
     ]
    },
    {
     "name": "stdout",
     "output_type": "stream",
     "text": [
      "                   all        543        702      0.683      0.869      0.772      0.443\n"
     ]
    },
    {
     "name": "stderr",
     "output_type": "stream",
     "text": [
      "\n"
     ]
    },
    {
     "name": "stdout",
     "output_type": "stream",
     "text": [
      "\n",
      "      Epoch    GPU_mem   box_loss   cls_loss   dfl_loss  Instances       Size\n"
     ]
    },
    {
     "name": "stderr",
     "output_type": "stream",
     "text": [
      "     27/100         0G     0.9334     0.7152      1.206          4        640: 100%|██████████| 251/251 [49:44<00:00, 11.89s/it] \n",
      "                 Class     Images  Instances      Box(P          R      mAP50  mAP50-95): 100%|██████████| 17/17 [02:32<00:00,  8.98s/it]"
     ]
    },
    {
     "name": "stdout",
     "output_type": "stream",
     "text": [
      "                   all        543        702      0.658      0.876      0.749      0.431\n"
     ]
    },
    {
     "name": "stderr",
     "output_type": "stream",
     "text": [
      "\n"
     ]
    },
    {
     "name": "stdout",
     "output_type": "stream",
     "text": [
      "\n",
      "      Epoch    GPU_mem   box_loss   cls_loss   dfl_loss  Instances       Size\n"
     ]
    },
    {
     "name": "stderr",
     "output_type": "stream",
     "text": [
      "     28/100         0G     0.9281       0.73      1.198          4        640: 100%|██████████| 251/251 [47:21<00:00, 11.32s/it] \n",
      "                 Class     Images  Instances      Box(P          R      mAP50  mAP50-95): 100%|██████████| 17/17 [02:25<00:00,  8.59s/it]"
     ]
    },
    {
     "name": "stdout",
     "output_type": "stream",
     "text": [
      "                   all        543        702      0.691      0.838      0.772      0.461\n"
     ]
    },
    {
     "name": "stderr",
     "output_type": "stream",
     "text": [
      "\n"
     ]
    },
    {
     "name": "stdout",
     "output_type": "stream",
     "text": [
      "\n",
      "      Epoch    GPU_mem   box_loss   cls_loss   dfl_loss  Instances       Size\n"
     ]
    },
    {
     "name": "stderr",
     "output_type": "stream",
     "text": [
      "     29/100         0G     0.9146     0.6999       1.19          2        640: 100%|██████████| 251/251 [48:23<00:00, 11.57s/it] \n",
      "                 Class     Images  Instances      Box(P          R      mAP50  mAP50-95): 100%|██████████| 17/17 [02:25<00:00,  8.58s/it]"
     ]
    },
    {
     "name": "stdout",
     "output_type": "stream",
     "text": [
      "                   all        543        702      0.656      0.857      0.763      0.448\n"
     ]
    },
    {
     "name": "stderr",
     "output_type": "stream",
     "text": [
      "\n"
     ]
    },
    {
     "name": "stdout",
     "output_type": "stream",
     "text": [
      "\n",
      "      Epoch    GPU_mem   box_loss   cls_loss   dfl_loss  Instances       Size\n"
     ]
    },
    {
     "name": "stderr",
     "output_type": "stream",
     "text": [
      "     30/100         0G     0.9299     0.7217      1.202          1        640: 100%|██████████| 251/251 [47:38<00:00, 11.39s/it] \n",
      "                 Class     Images  Instances      Box(P          R      mAP50  mAP50-95): 100%|██████████| 17/17 [02:25<00:00,  8.53s/it]"
     ]
    },
    {
     "name": "stdout",
     "output_type": "stream",
     "text": [
      "                   all        543        702      0.684      0.836      0.738      0.435\n"
     ]
    },
    {
     "name": "stderr",
     "output_type": "stream",
     "text": [
      "\n"
     ]
    },
    {
     "name": "stdout",
     "output_type": "stream",
     "text": [
      "\n",
      "      Epoch    GPU_mem   box_loss   cls_loss   dfl_loss  Instances       Size\n"
     ]
    },
    {
     "name": "stderr",
     "output_type": "stream",
     "text": [
      "     31/100         0G     0.8989     0.7155      1.178          0        640: 100%|██████████| 251/251 [48:32<00:00, 11.60s/it]\n",
      "                 Class     Images  Instances      Box(P          R      mAP50  mAP50-95): 100%|██████████| 17/17 [02:26<00:00,  8.62s/it]"
     ]
    },
    {
     "name": "stdout",
     "output_type": "stream",
     "text": [
      "                   all        543        702      0.701      0.895      0.797      0.466\n"
     ]
    },
    {
     "name": "stderr",
     "output_type": "stream",
     "text": [
      "\n"
     ]
    },
    {
     "name": "stdout",
     "output_type": "stream",
     "text": [
      "\n",
      "      Epoch    GPU_mem   box_loss   cls_loss   dfl_loss  Instances       Size\n"
     ]
    },
    {
     "name": "stderr",
     "output_type": "stream",
     "text": [
      "     32/100         0G     0.9268     0.6955      1.191          1        640: 100%|██████████| 251/251 [47:46<00:00, 11.42s/it]\n",
      "                 Class     Images  Instances      Box(P          R      mAP50  mAP50-95): 100%|██████████| 17/17 [02:26<00:00,  8.61s/it]"
     ]
    },
    {
     "name": "stdout",
     "output_type": "stream",
     "text": [
      "                   all        543        702      0.694      0.884        0.8      0.466\n"
     ]
    },
    {
     "name": "stderr",
     "output_type": "stream",
     "text": [
      "\n"
     ]
    },
    {
     "name": "stdout",
     "output_type": "stream",
     "text": [
      "\n",
      "      Epoch    GPU_mem   box_loss   cls_loss   dfl_loss  Instances       Size\n"
     ]
    },
    {
     "name": "stderr",
     "output_type": "stream",
     "text": [
      "     33/100         0G      0.886     0.6851      1.178          1        640: 100%|██████████| 251/251 [48:31<00:00, 11.60s/it] \n",
      "                 Class     Images  Instances      Box(P          R      mAP50  mAP50-95): 100%|██████████| 17/17 [02:26<00:00,  8.60s/it]"
     ]
    },
    {
     "name": "stdout",
     "output_type": "stream",
     "text": [
      "                   all        543        702      0.663      0.888      0.782      0.458\n"
     ]
    },
    {
     "name": "stderr",
     "output_type": "stream",
     "text": [
      "\n"
     ]
    },
    {
     "name": "stdout",
     "output_type": "stream",
     "text": [
      "\n",
      "      Epoch    GPU_mem   box_loss   cls_loss   dfl_loss  Instances       Size\n"
     ]
    },
    {
     "name": "stderr",
     "output_type": "stream",
     "text": [
      "     34/100         0G     0.9072      0.681      1.189          1        640: 100%|██████████| 251/251 [47:40<00:00, 11.40s/it]\n",
      "                 Class     Images  Instances      Box(P          R      mAP50  mAP50-95): 100%|██████████| 17/17 [02:25<00:00,  8.54s/it]"
     ]
    },
    {
     "name": "stdout",
     "output_type": "stream",
     "text": [
      "                   all        543        702      0.681      0.897      0.798      0.475\n"
     ]
    },
    {
     "name": "stderr",
     "output_type": "stream",
     "text": [
      "\n"
     ]
    },
    {
     "name": "stdout",
     "output_type": "stream",
     "text": [
      "\n",
      "      Epoch    GPU_mem   box_loss   cls_loss   dfl_loss  Instances       Size\n"
     ]
    },
    {
     "name": "stderr",
     "output_type": "stream",
     "text": [
      "     35/100         0G     0.8985     0.6804      1.179          4        640: 100%|██████████| 251/251 [47:40<00:00, 11.40s/it] \n",
      "                 Class     Images  Instances      Box(P          R      mAP50  mAP50-95): 100%|██████████| 17/17 [02:28<00:00,  8.72s/it]"
     ]
    },
    {
     "name": "stdout",
     "output_type": "stream",
     "text": [
      "                   all        543        702      0.719      0.878       0.81       0.49\n"
     ]
    },
    {
     "name": "stderr",
     "output_type": "stream",
     "text": [
      "\n"
     ]
    },
    {
     "name": "stdout",
     "output_type": "stream",
     "text": [
      "\n",
      "      Epoch    GPU_mem   box_loss   cls_loss   dfl_loss  Instances       Size\n"
     ]
    },
    {
     "name": "stderr",
     "output_type": "stream",
     "text": [
      "     36/100         0G     0.8813     0.6584      1.172          3        640: 100%|██████████| 251/251 [47:52<00:00, 11.44s/it]\n",
      "                 Class     Images  Instances      Box(P          R      mAP50  mAP50-95): 100%|██████████| 17/17 [02:27<00:00,  8.65s/it]"
     ]
    },
    {
     "name": "stdout",
     "output_type": "stream",
     "text": [
      "                   all        543        702      0.705      0.824      0.783      0.472\n"
     ]
    },
    {
     "name": "stderr",
     "output_type": "stream",
     "text": [
      "\n"
     ]
    },
    {
     "name": "stdout",
     "output_type": "stream",
     "text": [
      "\n",
      "      Epoch    GPU_mem   box_loss   cls_loss   dfl_loss  Instances       Size\n"
     ]
    },
    {
     "name": "stderr",
     "output_type": "stream",
     "text": [
      "     37/100         0G     0.8789     0.6638       1.17          4        640: 100%|██████████| 251/251 [48:37<00:00, 11.62s/it]\n",
      "                 Class     Images  Instances      Box(P          R      mAP50  mAP50-95): 100%|██████████| 17/17 [02:25<00:00,  8.58s/it]"
     ]
    },
    {
     "name": "stdout",
     "output_type": "stream",
     "text": [
      "                   all        543        702       0.72      0.862      0.814      0.486\n"
     ]
    },
    {
     "name": "stderr",
     "output_type": "stream",
     "text": [
      "\n"
     ]
    },
    {
     "name": "stdout",
     "output_type": "stream",
     "text": [
      "\n",
      "      Epoch    GPU_mem   box_loss   cls_loss   dfl_loss  Instances       Size\n"
     ]
    },
    {
     "name": "stderr",
     "output_type": "stream",
     "text": [
      "     38/100         0G     0.8824     0.6476      1.178          1        640: 100%|██████████| 251/251 [47:46<00:00, 11.42s/it]\n",
      "                 Class     Images  Instances      Box(P          R      mAP50  mAP50-95): 100%|██████████| 17/17 [02:25<00:00,  8.56s/it]"
     ]
    },
    {
     "name": "stdout",
     "output_type": "stream",
     "text": [
      "                   all        543        702      0.688      0.866      0.772       0.43\n"
     ]
    },
    {
     "name": "stderr",
     "output_type": "stream",
     "text": [
      "\n"
     ]
    },
    {
     "name": "stdout",
     "output_type": "stream",
     "text": [
      "\n",
      "      Epoch    GPU_mem   box_loss   cls_loss   dfl_loss  Instances       Size\n"
     ]
    },
    {
     "name": "stderr",
     "output_type": "stream",
     "text": [
      "     39/100         0G     0.8898     0.6667      1.181          2        640: 100%|██████████| 251/251 [47:46<00:00, 11.42s/it]\n",
      "                 Class     Images  Instances      Box(P          R      mAP50  mAP50-95): 100%|██████████| 17/17 [02:25<00:00,  8.56s/it]"
     ]
    },
    {
     "name": "stdout",
     "output_type": "stream",
     "text": [
      "                   all        543        702      0.705      0.866       0.78      0.467\n"
     ]
    },
    {
     "name": "stderr",
     "output_type": "stream",
     "text": [
      "\n"
     ]
    },
    {
     "name": "stdout",
     "output_type": "stream",
     "text": [
      "\n",
      "      Epoch    GPU_mem   box_loss   cls_loss   dfl_loss  Instances       Size\n"
     ]
    },
    {
     "name": "stderr",
     "output_type": "stream",
     "text": [
      "     40/100         0G     0.8733     0.6573      1.172         10        640: 100%|██████████| 251/251 [47:45<00:00, 11.42s/it] \n",
      "                 Class     Images  Instances      Box(P          R      mAP50  mAP50-95): 100%|██████████| 17/17 [02:25<00:00,  8.56s/it]"
     ]
    },
    {
     "name": "stdout",
     "output_type": "stream",
     "text": [
      "                   all        543        702      0.715      0.834      0.794      0.478\n"
     ]
    },
    {
     "name": "stderr",
     "output_type": "stream",
     "text": [
      "\n"
     ]
    },
    {
     "name": "stdout",
     "output_type": "stream",
     "text": [
      "\n",
      "      Epoch    GPU_mem   box_loss   cls_loss   dfl_loss  Instances       Size\n"
     ]
    },
    {
     "name": "stderr",
     "output_type": "stream",
     "text": [
      "     41/100         0G     0.8715     0.6484      1.171          2        640: 100%|██████████| 251/251 [47:37<00:00, 11.38s/it] \n",
      "                 Class     Images  Instances      Box(P          R      mAP50  mAP50-95): 100%|██████████| 17/17 [02:27<00:00,  8.71s/it]"
     ]
    },
    {
     "name": "stdout",
     "output_type": "stream",
     "text": [
      "                   all        543        702      0.724      0.893      0.793      0.488\n"
     ]
    },
    {
     "name": "stderr",
     "output_type": "stream",
     "text": [
      "\n"
     ]
    },
    {
     "name": "stdout",
     "output_type": "stream",
     "text": [
      "\n",
      "      Epoch    GPU_mem   box_loss   cls_loss   dfl_loss  Instances       Size\n"
     ]
    },
    {
     "name": "stderr",
     "output_type": "stream",
     "text": [
      "     42/100         0G     0.8829     0.6479       1.17          2        640: 100%|██████████| 251/251 [48:21<00:00, 11.56s/it] \n",
      "                 Class     Images  Instances      Box(P          R      mAP50  mAP50-95): 100%|██████████| 17/17 [02:24<00:00,  8.48s/it]"
     ]
    },
    {
     "name": "stdout",
     "output_type": "stream",
     "text": [
      "                   all        543        702      0.694      0.903      0.794      0.479\n"
     ]
    },
    {
     "name": "stderr",
     "output_type": "stream",
     "text": [
      "\n"
     ]
    },
    {
     "name": "stdout",
     "output_type": "stream",
     "text": [
      "\n",
      "      Epoch    GPU_mem   box_loss   cls_loss   dfl_loss  Instances       Size\n"
     ]
    },
    {
     "name": "stderr",
     "output_type": "stream",
     "text": [
      "     43/100         0G     0.8744       0.65      1.169          1        640: 100%|██████████| 251/251 [48:11<00:00, 11.52s/it]\n",
      "                 Class     Images  Instances      Box(P          R      mAP50  mAP50-95): 100%|██████████| 17/17 [02:29<00:00,  8.78s/it]"
     ]
    },
    {
     "name": "stdout",
     "output_type": "stream",
     "text": [
      "                   all        543        702      0.721      0.891      0.834      0.504\n"
     ]
    },
    {
     "name": "stderr",
     "output_type": "stream",
     "text": [
      "\n"
     ]
    },
    {
     "name": "stdout",
     "output_type": "stream",
     "text": [
      "\n",
      "      Epoch    GPU_mem   box_loss   cls_loss   dfl_loss  Instances       Size\n"
     ]
    },
    {
     "name": "stderr",
     "output_type": "stream",
     "text": [
      "     44/100         0G     0.8464     0.6195      1.152          2        640: 100%|██████████| 251/251 [48:30<00:00, 11.59s/it] \n",
      "                 Class     Images  Instances      Box(P          R      mAP50  mAP50-95): 100%|██████████| 17/17 [02:28<00:00,  8.76s/it]"
     ]
    },
    {
     "name": "stdout",
     "output_type": "stream",
     "text": [
      "                   all        543        702      0.719      0.894      0.806      0.485\n"
     ]
    },
    {
     "name": "stderr",
     "output_type": "stream",
     "text": [
      "\n"
     ]
    },
    {
     "name": "stdout",
     "output_type": "stream",
     "text": [
      "\n",
      "      Epoch    GPU_mem   box_loss   cls_loss   dfl_loss  Instances       Size\n"
     ]
    },
    {
     "name": "stderr",
     "output_type": "stream",
     "text": [
      "     45/100         0G     0.8402     0.6075      1.152          2        640: 100%|██████████| 251/251 [48:45<00:00, 11.66s/it]\n",
      "                 Class     Images  Instances      Box(P          R      mAP50  mAP50-95): 100%|██████████| 17/17 [02:30<00:00,  8.85s/it]"
     ]
    },
    {
     "name": "stdout",
     "output_type": "stream",
     "text": [
      "                   all        543        702      0.737      0.888      0.844      0.513\n"
     ]
    },
    {
     "name": "stderr",
     "output_type": "stream",
     "text": [
      "\n"
     ]
    },
    {
     "name": "stdout",
     "output_type": "stream",
     "text": [
      "\n",
      "      Epoch    GPU_mem   box_loss   cls_loss   dfl_loss  Instances       Size\n"
     ]
    },
    {
     "name": "stderr",
     "output_type": "stream",
     "text": [
      "     46/100         0G     0.8449     0.6201      1.158          1        640: 100%|██████████| 251/251 [49:37<00:00, 11.86s/it] \n",
      "                 Class     Images  Instances      Box(P          R      mAP50  mAP50-95): 100%|██████████| 17/17 [02:28<00:00,  8.73s/it]"
     ]
    },
    {
     "name": "stdout",
     "output_type": "stream",
     "text": [
      "                   all        543        702       0.72      0.917      0.827      0.514\n"
     ]
    },
    {
     "name": "stderr",
     "output_type": "stream",
     "text": [
      "\n"
     ]
    },
    {
     "name": "stdout",
     "output_type": "stream",
     "text": [
      "\n",
      "      Epoch    GPU_mem   box_loss   cls_loss   dfl_loss  Instances       Size\n"
     ]
    },
    {
     "name": "stderr",
     "output_type": "stream",
     "text": [
      "     47/100         0G     0.8347     0.6085      1.143          6        640: 100%|██████████| 251/251 [48:01<00:00, 11.48s/it]\n",
      "                 Class     Images  Instances      Box(P          R      mAP50  mAP50-95): 100%|██████████| 17/17 [02:31<00:00,  8.92s/it]"
     ]
    },
    {
     "name": "stdout",
     "output_type": "stream",
     "text": [
      "                   all        543        702       0.74      0.912      0.813      0.489\n"
     ]
    },
    {
     "name": "stderr",
     "output_type": "stream",
     "text": [
      "\n"
     ]
    },
    {
     "name": "stdout",
     "output_type": "stream",
     "text": [
      "\n",
      "      Epoch    GPU_mem   box_loss   cls_loss   dfl_loss  Instances       Size\n"
     ]
    },
    {
     "name": "stderr",
     "output_type": "stream",
     "text": [
      "     48/100         0G     0.8388     0.6171      1.143          1        640: 100%|██████████| 251/251 [48:53<00:00, 11.69s/it] \n",
      "                 Class     Images  Instances      Box(P          R      mAP50  mAP50-95): 100%|██████████| 17/17 [02:28<00:00,  8.75s/it]"
     ]
    },
    {
     "name": "stdout",
     "output_type": "stream",
     "text": [
      "                   all        543        702      0.744      0.895      0.832      0.518\n"
     ]
    },
    {
     "name": "stderr",
     "output_type": "stream",
     "text": [
      "\n"
     ]
    },
    {
     "name": "stdout",
     "output_type": "stream",
     "text": [
      "\n",
      "      Epoch    GPU_mem   box_loss   cls_loss   dfl_loss  Instances       Size\n"
     ]
    },
    {
     "name": "stderr",
     "output_type": "stream",
     "text": [
      "     49/100         0G      0.835     0.6077      1.144          6        640: 100%|██████████| 251/251 [49:23<00:00, 11.81s/it] \n",
      "                 Class     Images  Instances      Box(P          R      mAP50  mAP50-95): 100%|██████████| 17/17 [02:30<00:00,  8.88s/it]"
     ]
    },
    {
     "name": "stdout",
     "output_type": "stream",
     "text": [
      "                   all        543        702       0.76      0.851       0.85      0.533\n"
     ]
    },
    {
     "name": "stderr",
     "output_type": "stream",
     "text": [
      "\n"
     ]
    },
    {
     "name": "stdout",
     "output_type": "stream",
     "text": [
      "\n",
      "      Epoch    GPU_mem   box_loss   cls_loss   dfl_loss  Instances       Size\n"
     ]
    },
    {
     "name": "stderr",
     "output_type": "stream",
     "text": [
      "     50/100         0G     0.8239     0.5972      1.139          3        640: 100%|██████████| 251/251 [49:40<00:00, 11.87s/it] \n",
      "                 Class     Images  Instances      Box(P          R      mAP50  mAP50-95): 100%|██████████| 17/17 [02:23<00:00,  8.42s/it]"
     ]
    },
    {
     "name": "stdout",
     "output_type": "stream",
     "text": [
      "                   all        543        702      0.744      0.908      0.843      0.511\n"
     ]
    },
    {
     "name": "stderr",
     "output_type": "stream",
     "text": [
      "\n"
     ]
    },
    {
     "name": "stdout",
     "output_type": "stream",
     "text": [
      "\n",
      "      Epoch    GPU_mem   box_loss   cls_loss   dfl_loss  Instances       Size\n"
     ]
    },
    {
     "name": "stderr",
     "output_type": "stream",
     "text": [
      "     51/100         0G     0.8207     0.5969      1.133          5        640: 100%|██████████| 251/251 [47:22<00:00, 11.33s/it]\n",
      "                 Class     Images  Instances      Box(P          R      mAP50  mAP50-95): 100%|██████████| 17/17 [02:25<00:00,  8.57s/it]"
     ]
    },
    {
     "name": "stdout",
     "output_type": "stream",
     "text": [
      "                   all        543        702       0.74      0.905      0.844      0.519\n"
     ]
    },
    {
     "name": "stderr",
     "output_type": "stream",
     "text": [
      "\n"
     ]
    },
    {
     "name": "stdout",
     "output_type": "stream",
     "text": [
      "\n",
      "      Epoch    GPU_mem   box_loss   cls_loss   dfl_loss  Instances       Size\n"
     ]
    },
    {
     "name": "stderr",
     "output_type": "stream",
     "text": [
      "     52/100         0G     0.8318     0.5931      1.144          2        640: 100%|██████████| 251/251 [47:42<00:00, 11.40s/it]\n",
      "                 Class     Images  Instances      Box(P          R      mAP50  mAP50-95): 100%|██████████| 17/17 [02:25<00:00,  8.54s/it]"
     ]
    },
    {
     "name": "stdout",
     "output_type": "stream",
     "text": [
      "                   all        543        702      0.759      0.894      0.843      0.522\n"
     ]
    },
    {
     "name": "stderr",
     "output_type": "stream",
     "text": [
      "\n"
     ]
    },
    {
     "name": "stdout",
     "output_type": "stream",
     "text": [
      "\n",
      "      Epoch    GPU_mem   box_loss   cls_loss   dfl_loss  Instances       Size\n"
     ]
    },
    {
     "name": "stderr",
     "output_type": "stream",
     "text": [
      "     53/100         0G     0.8077     0.5798      1.123          0        640: 100%|██████████| 251/251 [48:58<00:00, 11.71s/it] \n",
      "                 Class     Images  Instances      Box(P          R      mAP50  mAP50-95): 100%|██████████| 17/17 [02:30<00:00,  8.88s/it]"
     ]
    },
    {
     "name": "stdout",
     "output_type": "stream",
     "text": [
      "                   all        543        702      0.757      0.894      0.849       0.52\n"
     ]
    },
    {
     "name": "stderr",
     "output_type": "stream",
     "text": [
      "\n"
     ]
    },
    {
     "name": "stdout",
     "output_type": "stream",
     "text": [
      "\n",
      "      Epoch    GPU_mem   box_loss   cls_loss   dfl_loss  Instances       Size\n"
     ]
    },
    {
     "name": "stderr",
     "output_type": "stream",
     "text": [
      "     54/100         0G     0.8171     0.5887      1.132          3        640: 100%|██████████| 251/251 [49:00<00:00, 11.72s/it] \n",
      "                 Class     Images  Instances      Box(P          R      mAP50  mAP50-95): 100%|██████████| 17/17 [02:33<00:00,  9.01s/it]"
     ]
    },
    {
     "name": "stdout",
     "output_type": "stream",
     "text": [
      "                   all        543        702       0.76      0.902      0.866       0.53\n"
     ]
    },
    {
     "name": "stderr",
     "output_type": "stream",
     "text": [
      "\n"
     ]
    },
    {
     "name": "stdout",
     "output_type": "stream",
     "text": [
      "\n",
      "      Epoch    GPU_mem   box_loss   cls_loss   dfl_loss  Instances       Size\n"
     ]
    },
    {
     "name": "stderr",
     "output_type": "stream",
     "text": [
      "     55/100         0G     0.8074     0.5783      1.134          4        640: 100%|██████████| 251/251 [49:04<00:00, 11.73s/it] \n",
      "                 Class     Images  Instances      Box(P          R      mAP50  mAP50-95): 100%|██████████| 17/17 [02:26<00:00,  8.63s/it]"
     ]
    },
    {
     "name": "stdout",
     "output_type": "stream",
     "text": [
      "                   all        543        702      0.754      0.888      0.855      0.525\n"
     ]
    },
    {
     "name": "stderr",
     "output_type": "stream",
     "text": [
      "\n"
     ]
    },
    {
     "name": "stdout",
     "output_type": "stream",
     "text": [
      "\n",
      "      Epoch    GPU_mem   box_loss   cls_loss   dfl_loss  Instances       Size\n"
     ]
    },
    {
     "name": "stderr",
     "output_type": "stream",
     "text": [
      "     56/100         0G     0.8112     0.5778      1.131          7        640: 100%|██████████| 251/251 [48:01<00:00, 11.48s/it] \n",
      "                 Class     Images  Instances      Box(P          R      mAP50  mAP50-95): 100%|██████████| 17/17 [02:27<00:00,  8.70s/it]"
     ]
    },
    {
     "name": "stdout",
     "output_type": "stream",
     "text": [
      "                   all        543        702      0.797      0.857      0.873      0.543\n"
     ]
    },
    {
     "name": "stderr",
     "output_type": "stream",
     "text": [
      "\n"
     ]
    },
    {
     "name": "stdout",
     "output_type": "stream",
     "text": [
      "\n",
      "      Epoch    GPU_mem   box_loss   cls_loss   dfl_loss  Instances       Size\n"
     ]
    },
    {
     "name": "stderr",
     "output_type": "stream",
     "text": [
      "     57/100         0G     0.8003     0.5688      1.128          3        640: 100%|██████████| 251/251 [48:18<00:00, 11.55s/it] \n",
      "                 Class     Images  Instances      Box(P          R      mAP50  mAP50-95): 100%|██████████| 17/17 [02:27<00:00,  8.69s/it]"
     ]
    },
    {
     "name": "stdout",
     "output_type": "stream",
     "text": [
      "                   all        543        702      0.802      0.899      0.887      0.553\n"
     ]
    },
    {
     "name": "stderr",
     "output_type": "stream",
     "text": [
      "\n"
     ]
    },
    {
     "name": "stdout",
     "output_type": "stream",
     "text": [
      "\n",
      "      Epoch    GPU_mem   box_loss   cls_loss   dfl_loss  Instances       Size\n"
     ]
    },
    {
     "name": "stderr",
     "output_type": "stream",
     "text": [
      "     58/100         0G     0.7993     0.5724      1.129          1        640: 100%|██████████| 251/251 [49:56<00:00, 11.94s/it] \n",
      "                 Class     Images  Instances      Box(P          R      mAP50  mAP50-95): 100%|██████████| 17/17 [02:26<00:00,  8.63s/it]"
     ]
    },
    {
     "name": "stdout",
     "output_type": "stream",
     "text": [
      "                   all        543        702      0.828      0.905      0.919      0.583\n"
     ]
    },
    {
     "name": "stderr",
     "output_type": "stream",
     "text": [
      "\n"
     ]
    },
    {
     "name": "stdout",
     "output_type": "stream",
     "text": [
      "\n",
      "      Epoch    GPU_mem   box_loss   cls_loss   dfl_loss  Instances       Size\n"
     ]
    },
    {
     "name": "stderr",
     "output_type": "stream",
     "text": [
      "     59/100         0G     0.8029     0.5677      1.125          2        640: 100%|██████████| 251/251 [48:41<00:00, 11.64s/it]\n",
      "                 Class     Images  Instances      Box(P          R      mAP50  mAP50-95): 100%|██████████| 17/17 [02:28<00:00,  8.71s/it]"
     ]
    },
    {
     "name": "stdout",
     "output_type": "stream",
     "text": [
      "                   all        543        702      0.838      0.855      0.902      0.565\n"
     ]
    },
    {
     "name": "stderr",
     "output_type": "stream",
     "text": [
      "\n"
     ]
    },
    {
     "name": "stdout",
     "output_type": "stream",
     "text": [
      "\n",
      "      Epoch    GPU_mem   box_loss   cls_loss   dfl_loss  Instances       Size\n"
     ]
    },
    {
     "name": "stderr",
     "output_type": "stream",
     "text": [
      "     60/100         0G     0.8014     0.5613       1.12          2        640: 100%|██████████| 251/251 [48:08<00:00, 11.51s/it]\n",
      "                 Class     Images  Instances      Box(P          R      mAP50  mAP50-95): 100%|██████████| 17/17 [02:26<00:00,  8.65s/it]"
     ]
    },
    {
     "name": "stdout",
     "output_type": "stream",
     "text": [
      "                   all        543        702      0.811      0.893      0.903      0.562\n"
     ]
    },
    {
     "name": "stderr",
     "output_type": "stream",
     "text": [
      "\n"
     ]
    },
    {
     "name": "stdout",
     "output_type": "stream",
     "text": [
      "\n",
      "      Epoch    GPU_mem   box_loss   cls_loss   dfl_loss  Instances       Size\n"
     ]
    },
    {
     "name": "stderr",
     "output_type": "stream",
     "text": [
      "     61/100         0G     0.8014     0.5605      1.117          2        640: 100%|██████████| 251/251 [48:05<00:00, 11.50s/it] \n",
      "                 Class     Images  Instances      Box(P          R      mAP50  mAP50-95): 100%|██████████| 17/17 [02:28<00:00,  8.74s/it]"
     ]
    },
    {
     "name": "stdout",
     "output_type": "stream",
     "text": [
      "                   all        543        702      0.786      0.862       0.89      0.551\n"
     ]
    },
    {
     "name": "stderr",
     "output_type": "stream",
     "text": [
      "\n"
     ]
    },
    {
     "name": "stdout",
     "output_type": "stream",
     "text": [
      "\n",
      "      Epoch    GPU_mem   box_loss   cls_loss   dfl_loss  Instances       Size\n"
     ]
    },
    {
     "name": "stderr",
     "output_type": "stream",
     "text": [
      "     62/100         0G     0.7865     0.5502      1.115          4        640: 100%|██████████| 251/251 [48:04<00:00, 11.49s/it]\n",
      "                 Class     Images  Instances      Box(P          R      mAP50  mAP50-95): 100%|██████████| 17/17 [02:28<00:00,  8.71s/it]"
     ]
    },
    {
     "name": "stdout",
     "output_type": "stream",
     "text": [
      "                   all        543        702      0.846      0.879      0.917      0.573\n"
     ]
    },
    {
     "name": "stderr",
     "output_type": "stream",
     "text": [
      "\n"
     ]
    },
    {
     "name": "stdout",
     "output_type": "stream",
     "text": [
      "\n",
      "      Epoch    GPU_mem   box_loss   cls_loss   dfl_loss  Instances       Size\n"
     ]
    },
    {
     "name": "stderr",
     "output_type": "stream",
     "text": [
      "     63/100         0G     0.7675     0.5403      1.114          3        640: 100%|██████████| 251/251 [49:15<00:00, 11.78s/it] \n",
      "                 Class     Images  Instances      Box(P          R      mAP50  mAP50-95): 100%|██████████| 17/17 [02:26<00:00,  8.61s/it]"
     ]
    },
    {
     "name": "stdout",
     "output_type": "stream",
     "text": [
      "                   all        543        702      0.867       0.86      0.916      0.567\n"
     ]
    },
    {
     "name": "stderr",
     "output_type": "stream",
     "text": [
      "\n"
     ]
    },
    {
     "name": "stdout",
     "output_type": "stream",
     "text": [
      "\n",
      "      Epoch    GPU_mem   box_loss   cls_loss   dfl_loss  Instances       Size\n"
     ]
    },
    {
     "name": "stderr",
     "output_type": "stream",
     "text": [
      "     64/100         0G     0.7724     0.5388      1.107          2        640: 100%|██████████| 251/251 [48:32<00:00, 11.61s/it] \n",
      "                 Class     Images  Instances      Box(P          R      mAP50  mAP50-95): 100%|██████████| 17/17 [02:29<00:00,  8.82s/it]"
     ]
    },
    {
     "name": "stdout",
     "output_type": "stream",
     "text": [
      "                   all        543        702      0.874      0.871      0.924      0.568\n"
     ]
    },
    {
     "name": "stderr",
     "output_type": "stream",
     "text": [
      "\n"
     ]
    },
    {
     "name": "stdout",
     "output_type": "stream",
     "text": [
      "\n",
      "      Epoch    GPU_mem   box_loss   cls_loss   dfl_loss  Instances       Size\n"
     ]
    },
    {
     "name": "stderr",
     "output_type": "stream",
     "text": [
      "     65/100         0G     0.7696     0.5301       1.11          4        640: 100%|██████████| 251/251 [47:40<00:00, 11.40s/it] \n",
      "                 Class     Images  Instances      Box(P          R      mAP50  mAP50-95): 100%|██████████| 17/17 [02:26<00:00,  8.61s/it]"
     ]
    },
    {
     "name": "stdout",
     "output_type": "stream",
     "text": [
      "                   all        543        702      0.851      0.889      0.916      0.572\n"
     ]
    },
    {
     "name": "stderr",
     "output_type": "stream",
     "text": [
      "\n"
     ]
    },
    {
     "name": "stdout",
     "output_type": "stream",
     "text": [
      "\n",
      "      Epoch    GPU_mem   box_loss   cls_loss   dfl_loss  Instances       Size\n"
     ]
    },
    {
     "name": "stderr",
     "output_type": "stream",
     "text": [
      "     66/100         0G     0.7841     0.5368      1.111          5        640: 100%|██████████| 251/251 [48:05<00:00, 11.49s/it]\n",
      "                 Class     Images  Instances      Box(P          R      mAP50  mAP50-95): 100%|██████████| 17/17 [02:26<00:00,  8.60s/it]"
     ]
    },
    {
     "name": "stdout",
     "output_type": "stream",
     "text": [
      "                   all        543        702      0.829      0.903      0.919      0.573\n"
     ]
    },
    {
     "name": "stderr",
     "output_type": "stream",
     "text": [
      "\n"
     ]
    },
    {
     "name": "stdout",
     "output_type": "stream",
     "text": [
      "\n",
      "      Epoch    GPU_mem   box_loss   cls_loss   dfl_loss  Instances       Size\n"
     ]
    },
    {
     "name": "stderr",
     "output_type": "stream",
     "text": [
      "     67/100         0G     0.7675     0.5381       1.11          2        640: 100%|██████████| 251/251 [47:54<00:00, 11.45s/it]\n",
      "                 Class     Images  Instances      Box(P          R      mAP50  mAP50-95): 100%|██████████| 17/17 [02:28<00:00,  8.73s/it]"
     ]
    },
    {
     "name": "stdout",
     "output_type": "stream",
     "text": [
      "                   all        543        702      0.849      0.899      0.919      0.586\n"
     ]
    },
    {
     "name": "stderr",
     "output_type": "stream",
     "text": [
      "\n"
     ]
    },
    {
     "name": "stdout",
     "output_type": "stream",
     "text": [
      "\n",
      "      Epoch    GPU_mem   box_loss   cls_loss   dfl_loss  Instances       Size\n"
     ]
    },
    {
     "name": "stderr",
     "output_type": "stream",
     "text": [
      "     68/100         0G     0.7646     0.5227      1.101          6        640: 100%|██████████| 251/251 [48:08<00:00, 11.51s/it] \n",
      "                 Class     Images  Instances      Box(P          R      mAP50  mAP50-95): 100%|██████████| 17/17 [02:27<00:00,  8.65s/it]"
     ]
    },
    {
     "name": "stdout",
     "output_type": "stream",
     "text": [
      "                   all        543        702      0.832      0.896      0.917      0.577\n"
     ]
    },
    {
     "name": "stderr",
     "output_type": "stream",
     "text": [
      "\n"
     ]
    },
    {
     "name": "stdout",
     "output_type": "stream",
     "text": [
      "\n",
      "      Epoch    GPU_mem   box_loss   cls_loss   dfl_loss  Instances       Size\n"
     ]
    },
    {
     "name": "stderr",
     "output_type": "stream",
     "text": [
      "     69/100         0G     0.7628     0.5227      1.099          1        640: 100%|██████████| 251/251 [48:04<00:00, 11.49s/it] \n",
      "                 Class     Images  Instances      Box(P          R      mAP50  mAP50-95): 100%|██████████| 17/17 [02:28<00:00,  8.72s/it]"
     ]
    },
    {
     "name": "stdout",
     "output_type": "stream",
     "text": [
      "                   all        543        702      0.893      0.853      0.936      0.599\n"
     ]
    },
    {
     "name": "stderr",
     "output_type": "stream",
     "text": [
      "\n"
     ]
    },
    {
     "name": "stdout",
     "output_type": "stream",
     "text": [
      "\n",
      "      Epoch    GPU_mem   box_loss   cls_loss   dfl_loss  Instances       Size\n"
     ]
    },
    {
     "name": "stderr",
     "output_type": "stream",
     "text": [
      "     70/100         0G     0.7651     0.5262      1.094          8        640: 100%|██████████| 251/251 [48:17<00:00, 11.55s/it]\n",
      "                 Class     Images  Instances      Box(P          R      mAP50  mAP50-95): 100%|██████████| 17/17 [02:27<00:00,  8.70s/it]"
     ]
    },
    {
     "name": "stdout",
     "output_type": "stream",
     "text": [
      "                   all        543        702      0.812      0.916      0.922      0.586\n"
     ]
    },
    {
     "name": "stderr",
     "output_type": "stream",
     "text": [
      "\n"
     ]
    },
    {
     "name": "stdout",
     "output_type": "stream",
     "text": [
      "\n",
      "      Epoch    GPU_mem   box_loss   cls_loss   dfl_loss  Instances       Size\n"
     ]
    },
    {
     "name": "stderr",
     "output_type": "stream",
     "text": [
      "     71/100         0G     0.7395     0.5052      1.085          2        640: 100%|██████████| 251/251 [49:26<00:00, 11.82s/it] \n",
      "                 Class     Images  Instances      Box(P          R      mAP50  mAP50-95): 100%|██████████| 17/17 [02:28<00:00,  8.76s/it]"
     ]
    },
    {
     "name": "stdout",
     "output_type": "stream",
     "text": [
      "                   all        543        702      0.838      0.889      0.918      0.582\n"
     ]
    },
    {
     "name": "stderr",
     "output_type": "stream",
     "text": [
      "\n"
     ]
    },
    {
     "name": "stdout",
     "output_type": "stream",
     "text": [
      "\n",
      "      Epoch    GPU_mem   box_loss   cls_loss   dfl_loss  Instances       Size\n"
     ]
    },
    {
     "name": "stderr",
     "output_type": "stream",
     "text": [
      "     72/100         0G     0.7535     0.5085        1.1          4        640: 100%|██████████| 251/251 [48:20<00:00, 11.56s/it] \n",
      "                 Class     Images  Instances      Box(P          R      mAP50  mAP50-95): 100%|██████████| 17/17 [02:24<00:00,  8.52s/it]"
     ]
    },
    {
     "name": "stdout",
     "output_type": "stream",
     "text": [
      "                   all        543        702      0.857      0.889      0.931      0.596\n"
     ]
    },
    {
     "name": "stderr",
     "output_type": "stream",
     "text": [
      "\n"
     ]
    },
    {
     "name": "stdout",
     "output_type": "stream",
     "text": [
      "\n",
      "      Epoch    GPU_mem   box_loss   cls_loss   dfl_loss  Instances       Size\n"
     ]
    },
    {
     "name": "stderr",
     "output_type": "stream",
     "text": [
      "     73/100         0G     0.7388     0.5037      1.092          2        640: 100%|██████████| 251/251 [48:06<00:00, 11.50s/it]\n",
      "                 Class     Images  Instances      Box(P          R      mAP50  mAP50-95): 100%|██████████| 17/17 [02:34<00:00,  9.08s/it]"
     ]
    },
    {
     "name": "stdout",
     "output_type": "stream",
     "text": [
      "                   all        543        702       0.86       0.89      0.928      0.593\n"
     ]
    },
    {
     "name": "stderr",
     "output_type": "stream",
     "text": [
      "\n"
     ]
    },
    {
     "name": "stdout",
     "output_type": "stream",
     "text": [
      "\n",
      "      Epoch    GPU_mem   box_loss   cls_loss   dfl_loss  Instances       Size\n"
     ]
    },
    {
     "name": "stderr",
     "output_type": "stream",
     "text": [
      "     74/100         0G     0.7444     0.5058      1.092          4        640: 100%|██████████| 251/251 [48:11<00:00, 11.52s/it]\n",
      "                 Class     Images  Instances      Box(P          R      mAP50  mAP50-95): 100%|██████████| 17/17 [02:28<00:00,  8.75s/it]"
     ]
    },
    {
     "name": "stdout",
     "output_type": "stream",
     "text": [
      "                   all        543        702      0.861      0.872      0.924      0.587\n"
     ]
    },
    {
     "name": "stderr",
     "output_type": "stream",
     "text": [
      "\n"
     ]
    },
    {
     "name": "stdout",
     "output_type": "stream",
     "text": [
      "\n",
      "      Epoch    GPU_mem   box_loss   cls_loss   dfl_loss  Instances       Size\n"
     ]
    },
    {
     "name": "stderr",
     "output_type": "stream",
     "text": [
      "     75/100         0G     0.7258     0.4924      1.082          5        640: 100%|██████████| 251/251 [48:02<00:00, 11.49s/it]\n",
      "                 Class     Images  Instances      Box(P          R      mAP50  mAP50-95): 100%|██████████| 17/17 [02:28<00:00,  8.76s/it]"
     ]
    },
    {
     "name": "stdout",
     "output_type": "stream",
     "text": [
      "                   all        543        702      0.892      0.888      0.939      0.608\n"
     ]
    },
    {
     "name": "stderr",
     "output_type": "stream",
     "text": [
      "\n"
     ]
    },
    {
     "name": "stdout",
     "output_type": "stream",
     "text": [
      "\n",
      "      Epoch    GPU_mem   box_loss   cls_loss   dfl_loss  Instances       Size\n"
     ]
    },
    {
     "name": "stderr",
     "output_type": "stream",
     "text": [
      "     76/100         0G     0.7374     0.4958      1.089          6        640: 100%|██████████| 251/251 [49:22<00:00, 11.80s/it] \n",
      "                 Class     Images  Instances      Box(P          R      mAP50  mAP50-95): 100%|██████████| 17/17 [02:26<00:00,  8.63s/it]"
     ]
    },
    {
     "name": "stdout",
     "output_type": "stream",
     "text": [
      "                   all        543        702      0.877      0.885      0.933      0.592\n"
     ]
    },
    {
     "name": "stderr",
     "output_type": "stream",
     "text": [
      "\n"
     ]
    },
    {
     "name": "stdout",
     "output_type": "stream",
     "text": [
      "\n",
      "      Epoch    GPU_mem   box_loss   cls_loss   dfl_loss  Instances       Size\n"
     ]
    },
    {
     "name": "stderr",
     "output_type": "stream",
     "text": [
      "     77/100         0G     0.7218     0.5005       1.08          0        640: 100%|██████████| 251/251 [48:52<00:00, 11.68s/it] \n",
      "                 Class     Images  Instances      Box(P          R      mAP50  mAP50-95): 100%|██████████| 17/17 [02:27<00:00,  8.66s/it]"
     ]
    },
    {
     "name": "stdout",
     "output_type": "stream",
     "text": [
      "                   all        543        702      0.893      0.865       0.93      0.595\n"
     ]
    },
    {
     "name": "stderr",
     "output_type": "stream",
     "text": [
      "\n"
     ]
    },
    {
     "name": "stdout",
     "output_type": "stream",
     "text": [
      "\n",
      "      Epoch    GPU_mem   box_loss   cls_loss   dfl_loss  Instances       Size\n"
     ]
    },
    {
     "name": "stderr",
     "output_type": "stream",
     "text": [
      "     78/100         0G     0.7257     0.4874      1.083          7        640: 100%|██████████| 251/251 [48:31<00:00, 11.60s/it]\n",
      "                 Class     Images  Instances      Box(P          R      mAP50  mAP50-95): 100%|██████████| 17/17 [02:27<00:00,  8.70s/it]"
     ]
    },
    {
     "name": "stdout",
     "output_type": "stream",
     "text": [
      "                   all        543        702      0.841      0.884      0.928      0.595\n"
     ]
    },
    {
     "name": "stderr",
     "output_type": "stream",
     "text": [
      "\n"
     ]
    },
    {
     "name": "stdout",
     "output_type": "stream",
     "text": [
      "\n",
      "      Epoch    GPU_mem   box_loss   cls_loss   dfl_loss  Instances       Size\n"
     ]
    },
    {
     "name": "stderr",
     "output_type": "stream",
     "text": [
      "     79/100         0G     0.7221     0.4839      1.081          6        640: 100%|██████████| 251/251 [49:04<00:00, 11.73s/it] \n",
      "                 Class     Images  Instances      Box(P          R      mAP50  mAP50-95): 100%|██████████| 17/17 [02:28<00:00,  8.76s/it]"
     ]
    },
    {
     "name": "stdout",
     "output_type": "stream",
     "text": [
      "                   all        543        702        0.9      0.863       0.94      0.606\n"
     ]
    },
    {
     "name": "stderr",
     "output_type": "stream",
     "text": [
      "\n"
     ]
    },
    {
     "name": "stdout",
     "output_type": "stream",
     "text": [
      "\n",
      "      Epoch    GPU_mem   box_loss   cls_loss   dfl_loss  Instances       Size\n"
     ]
    },
    {
     "name": "stderr",
     "output_type": "stream",
     "text": [
      "     80/100         0G     0.7093     0.4905      1.077          4        640: 100%|██████████| 251/251 [50:05<00:00, 11.97s/it] \n",
      "                 Class     Images  Instances      Box(P          R      mAP50  mAP50-95): 100%|██████████| 17/17 [02:27<00:00,  8.71s/it]"
     ]
    },
    {
     "name": "stdout",
     "output_type": "stream",
     "text": [
      "                   all        543        702      0.879      0.878      0.941      0.606\n"
     ]
    },
    {
     "name": "stderr",
     "output_type": "stream",
     "text": [
      "\n"
     ]
    },
    {
     "name": "stdout",
     "output_type": "stream",
     "text": [
      "\n",
      "      Epoch    GPU_mem   box_loss   cls_loss   dfl_loss  Instances       Size\n"
     ]
    },
    {
     "name": "stderr",
     "output_type": "stream",
     "text": [
      "     81/100         0G     0.6945     0.4742      1.069          0        640: 100%|██████████| 251/251 [48:37<00:00, 11.62s/it] \n",
      "                 Class     Images  Instances      Box(P          R      mAP50  mAP50-95): 100%|██████████| 17/17 [02:30<00:00,  8.85s/it]"
     ]
    },
    {
     "name": "stdout",
     "output_type": "stream",
     "text": [
      "                   all        543        702      0.853      0.902      0.934      0.597\n"
     ]
    },
    {
     "name": "stderr",
     "output_type": "stream",
     "text": [
      "\n"
     ]
    },
    {
     "name": "stdout",
     "output_type": "stream",
     "text": [
      "\n",
      "      Epoch    GPU_mem   box_loss   cls_loss   dfl_loss  Instances       Size\n"
     ]
    },
    {
     "name": "stderr",
     "output_type": "stream",
     "text": [
      "     82/100         0G     0.7168     0.4827      1.082          2        640: 100%|██████████| 251/251 [48:37<00:00, 11.63s/it]\n",
      "                 Class     Images  Instances      Box(P          R      mAP50  mAP50-95): 100%|██████████| 17/17 [02:28<00:00,  8.72s/it]"
     ]
    },
    {
     "name": "stdout",
     "output_type": "stream",
     "text": [
      "                   all        543        702       0.91       0.87      0.937      0.605\n"
     ]
    },
    {
     "name": "stderr",
     "output_type": "stream",
     "text": [
      "\n"
     ]
    },
    {
     "name": "stdout",
     "output_type": "stream",
     "text": [
      "\n",
      "      Epoch    GPU_mem   box_loss   cls_loss   dfl_loss  Instances       Size\n"
     ]
    },
    {
     "name": "stderr",
     "output_type": "stream",
     "text": [
      "     83/100         0G     0.7142     0.4758      1.073          8        640: 100%|██████████| 251/251 [50:04<00:00, 11.97s/it]\n",
      "                 Class     Images  Instances      Box(P          R      mAP50  mAP50-95): 100%|██████████| 17/17 [02:42<00:00,  9.53s/it]"
     ]
    },
    {
     "name": "stdout",
     "output_type": "stream",
     "text": [
      "                   all        543        702      0.885      0.899      0.939      0.605\n"
     ]
    },
    {
     "name": "stderr",
     "output_type": "stream",
     "text": [
      "\n"
     ]
    },
    {
     "name": "stdout",
     "output_type": "stream",
     "text": [
      "\n",
      "      Epoch    GPU_mem   box_loss   cls_loss   dfl_loss  Instances       Size\n"
     ]
    },
    {
     "name": "stderr",
     "output_type": "stream",
     "text": [
      "     84/100         0G     0.7007     0.4774      1.074          5        640: 100%|██████████| 251/251 [49:52<00:00, 11.92s/it]\n",
      "                 Class     Images  Instances      Box(P          R      mAP50  mAP50-95): 100%|██████████| 17/17 [02:27<00:00,  8.68s/it]"
     ]
    },
    {
     "name": "stdout",
     "output_type": "stream",
     "text": [
      "                   all        543        702      0.906      0.863      0.937      0.601\n"
     ]
    },
    {
     "name": "stderr",
     "output_type": "stream",
     "text": [
      "\n"
     ]
    },
    {
     "name": "stdout",
     "output_type": "stream",
     "text": [
      "\n",
      "      Epoch    GPU_mem   box_loss   cls_loss   dfl_loss  Instances       Size\n"
     ]
    },
    {
     "name": "stderr",
     "output_type": "stream",
     "text": [
      "     85/100         0G      0.713     0.4771      1.078          1        640: 100%|██████████| 251/251 [49:29<00:00, 11.83s/it] \n",
      "                 Class     Images  Instances      Box(P          R      mAP50  mAP50-95): 100%|██████████| 17/17 [02:28<00:00,  8.72s/it]"
     ]
    },
    {
     "name": "stdout",
     "output_type": "stream",
     "text": [
      "                   all        543        702      0.921      0.867      0.936      0.591\n"
     ]
    },
    {
     "name": "stderr",
     "output_type": "stream",
     "text": [
      "\n"
     ]
    },
    {
     "name": "stdout",
     "output_type": "stream",
     "text": [
      "\n",
      "      Epoch    GPU_mem   box_loss   cls_loss   dfl_loss  Instances       Size\n"
     ]
    },
    {
     "name": "stderr",
     "output_type": "stream",
     "text": [
      "     86/100         0G     0.6916     0.4627      1.068          2        640: 100%|██████████| 251/251 [48:34<00:00, 11.61s/it] \n",
      "                 Class     Images  Instances      Box(P          R      mAP50  mAP50-95): 100%|██████████| 17/17 [02:28<00:00,  8.74s/it]"
     ]
    },
    {
     "name": "stdout",
     "output_type": "stream",
     "text": [
      "                   all        543        702      0.867      0.913      0.939      0.606\n"
     ]
    },
    {
     "name": "stderr",
     "output_type": "stream",
     "text": [
      "\n"
     ]
    },
    {
     "name": "stdout",
     "output_type": "stream",
     "text": [
      "\n",
      "      Epoch    GPU_mem   box_loss   cls_loss   dfl_loss  Instances       Size\n"
     ]
    },
    {
     "name": "stderr",
     "output_type": "stream",
     "text": [
      "     87/100         0G     0.7038     0.4691       1.07          2        640: 100%|██████████| 251/251 [48:38<00:00, 11.63s/it]\n",
      "                 Class     Images  Instances      Box(P          R      mAP50  mAP50-95): 100%|██████████| 17/17 [02:30<00:00,  8.85s/it]"
     ]
    },
    {
     "name": "stdout",
     "output_type": "stream",
     "text": [
      "                   all        543        702      0.903        0.9      0.943      0.607\n"
     ]
    },
    {
     "name": "stderr",
     "output_type": "stream",
     "text": [
      "\n"
     ]
    },
    {
     "name": "stdout",
     "output_type": "stream",
     "text": [
      "\n",
      "      Epoch    GPU_mem   box_loss   cls_loss   dfl_loss  Instances       Size\n"
     ]
    },
    {
     "name": "stderr",
     "output_type": "stream",
     "text": [
      "     88/100         0G     0.6891      0.461      1.059          6        640: 100%|██████████| 251/251 [48:30<00:00, 11.60s/it] \n",
      "                 Class     Images  Instances      Box(P          R      mAP50  mAP50-95): 100%|██████████| 17/17 [02:28<00:00,  8.71s/it]"
     ]
    },
    {
     "name": "stdout",
     "output_type": "stream",
     "text": [
      "                   all        543        702      0.903      0.873      0.934      0.598\n"
     ]
    },
    {
     "name": "stderr",
     "output_type": "stream",
     "text": [
      "\n"
     ]
    },
    {
     "name": "stdout",
     "output_type": "stream",
     "text": [
      "\n",
      "      Epoch    GPU_mem   box_loss   cls_loss   dfl_loss  Instances       Size\n"
     ]
    },
    {
     "name": "stderr",
     "output_type": "stream",
     "text": [
      "     89/100         0G      0.691     0.4619      1.066          2        640: 100%|██████████| 251/251 [48:25<00:00, 11.58s/it]\n",
      "                 Class     Images  Instances      Box(P          R      mAP50  mAP50-95): 100%|██████████| 17/17 [02:28<00:00,  8.73s/it]"
     ]
    },
    {
     "name": "stdout",
     "output_type": "stream",
     "text": [
      "                   all        543        702      0.889      0.885      0.938      0.606\n"
     ]
    },
    {
     "name": "stderr",
     "output_type": "stream",
     "text": [
      "\n"
     ]
    },
    {
     "name": "stdout",
     "output_type": "stream",
     "text": [
      "\n",
      "      Epoch    GPU_mem   box_loss   cls_loss   dfl_loss  Instances       Size\n"
     ]
    },
    {
     "name": "stderr",
     "output_type": "stream",
     "text": [
      "     90/100         0G     0.6756     0.4486      1.059          7        640: 100%|██████████| 251/251 [49:20<00:00, 11.80s/it] \n",
      "                 Class     Images  Instances      Box(P          R      mAP50  mAP50-95): 100%|██████████| 17/17 [02:29<00:00,  8.77s/it]"
     ]
    },
    {
     "name": "stdout",
     "output_type": "stream",
     "text": [
      "                   all        543        702      0.872      0.894      0.931      0.606\n"
     ]
    },
    {
     "name": "stderr",
     "output_type": "stream",
     "text": [
      "\n"
     ]
    },
    {
     "name": "stdout",
     "output_type": "stream",
     "text": [
      "Closing dataloader mosaic\n",
      "\n",
      "      Epoch    GPU_mem   box_loss   cls_loss   dfl_loss  Instances       Size\n"
     ]
    },
    {
     "name": "stderr",
     "output_type": "stream",
     "text": [
      "     91/100         0G     0.6942     0.3682      1.085          1        640: 100%|██████████| 251/251 [49:13<00:00, 11.77s/it] \n",
      "                 Class     Images  Instances      Box(P          R      mAP50  mAP50-95): 100%|██████████| 17/17 [02:29<00:00,  8.81s/it]"
     ]
    },
    {
     "name": "stdout",
     "output_type": "stream",
     "text": [
      "                   all        543        702      0.881      0.894      0.929      0.593\n"
     ]
    },
    {
     "name": "stderr",
     "output_type": "stream",
     "text": [
      "\n"
     ]
    },
    {
     "name": "stdout",
     "output_type": "stream",
     "text": [
      "\n",
      "      Epoch    GPU_mem   box_loss   cls_loss   dfl_loss  Instances       Size\n"
     ]
    },
    {
     "name": "stderr",
     "output_type": "stream",
     "text": [
      "     92/100         0G     0.6709     0.3477       1.07          4        640: 100%|██████████| 251/251 [48:10<00:00, 11.52s/it]\n",
      "                 Class     Images  Instances      Box(P          R      mAP50  mAP50-95): 100%|██████████| 17/17 [02:27<00:00,  8.65s/it]"
     ]
    },
    {
     "name": "stdout",
     "output_type": "stream",
     "text": [
      "                   all        543        702      0.882      0.895      0.926      0.592\n"
     ]
    },
    {
     "name": "stderr",
     "output_type": "stream",
     "text": [
      "\n"
     ]
    },
    {
     "name": "stdout",
     "output_type": "stream",
     "text": [
      "\n",
      "      Epoch    GPU_mem   box_loss   cls_loss   dfl_loss  Instances       Size\n"
     ]
    },
    {
     "name": "stderr",
     "output_type": "stream",
     "text": [
      "     93/100         0G     0.6597     0.3315      1.058          2        640: 100%|██████████| 251/251 [48:05<00:00, 11.50s/it]\n",
      "                 Class     Images  Instances      Box(P          R      mAP50  mAP50-95): 100%|██████████| 17/17 [02:27<00:00,  8.67s/it]"
     ]
    },
    {
     "name": "stdout",
     "output_type": "stream",
     "text": [
      "                   all        543        702      0.904      0.885      0.934      0.607\n"
     ]
    },
    {
     "name": "stderr",
     "output_type": "stream",
     "text": [
      "\n"
     ]
    },
    {
     "name": "stdout",
     "output_type": "stream",
     "text": [
      "\n",
      "      Epoch    GPU_mem   box_loss   cls_loss   dfl_loss  Instances       Size\n"
     ]
    },
    {
     "name": "stderr",
     "output_type": "stream",
     "text": [
      "     94/100         0G      0.649     0.3247      1.057          1        640: 100%|██████████| 251/251 [48:14<00:00, 11.53s/it] \n",
      "                 Class     Images  Instances      Box(P          R      mAP50  mAP50-95): 100%|██████████| 17/17 [02:28<00:00,  8.73s/it]"
     ]
    },
    {
     "name": "stdout",
     "output_type": "stream",
     "text": [
      "                   all        543        702      0.882      0.871      0.932      0.609\n"
     ]
    },
    {
     "name": "stderr",
     "output_type": "stream",
     "text": [
      "\n"
     ]
    },
    {
     "name": "stdout",
     "output_type": "stream",
     "text": [
      "\n",
      "      Epoch    GPU_mem   box_loss   cls_loss   dfl_loss  Instances       Size\n"
     ]
    },
    {
     "name": "stderr",
     "output_type": "stream",
     "text": [
      "     95/100         0G      0.654     0.3288      1.059          1        640: 100%|██████████| 251/251 [49:47<00:00, 11.90s/it] \n",
      "                 Class     Images  Instances      Box(P          R      mAP50  mAP50-95): 100%|██████████| 17/17 [02:29<00:00,  8.82s/it]"
     ]
    },
    {
     "name": "stdout",
     "output_type": "stream",
     "text": [
      "                   all        543        702      0.849      0.916      0.928      0.607\n"
     ]
    },
    {
     "name": "stderr",
     "output_type": "stream",
     "text": [
      "\n"
     ]
    },
    {
     "name": "stdout",
     "output_type": "stream",
     "text": [
      "\n",
      "      Epoch    GPU_mem   box_loss   cls_loss   dfl_loss  Instances       Size\n"
     ]
    },
    {
     "name": "stderr",
     "output_type": "stream",
     "text": [
      "     96/100         0G     0.6382     0.3207      1.054          2        640: 100%|██████████| 251/251 [48:15<00:00, 11.54s/it]\n",
      "                 Class     Images  Instances      Box(P          R      mAP50  mAP50-95): 100%|██████████| 17/17 [02:30<00:00,  8.82s/it]"
     ]
    },
    {
     "name": "stdout",
     "output_type": "stream",
     "text": [
      "                   all        543        702      0.869      0.879      0.929       0.61\n"
     ]
    },
    {
     "name": "stderr",
     "output_type": "stream",
     "text": [
      "\n"
     ]
    },
    {
     "name": "stdout",
     "output_type": "stream",
     "text": [
      "\n",
      "      Epoch    GPU_mem   box_loss   cls_loss   dfl_loss  Instances       Size\n"
     ]
    },
    {
     "name": "stderr",
     "output_type": "stream",
     "text": [
      "     97/100         0G     0.6349     0.3289      1.052          4        640: 100%|██████████| 251/251 [48:05<00:00, 11.49s/it] \n",
      "                 Class     Images  Instances      Box(P          R      mAP50  mAP50-95): 100%|██████████| 17/17 [02:27<00:00,  8.69s/it]"
     ]
    },
    {
     "name": "stdout",
     "output_type": "stream",
     "text": [
      "                   all        543        702      0.884      0.878      0.928       0.61\n"
     ]
    },
    {
     "name": "stderr",
     "output_type": "stream",
     "text": [
      "\n"
     ]
    },
    {
     "name": "stdout",
     "output_type": "stream",
     "text": [
      "\n",
      "      Epoch    GPU_mem   box_loss   cls_loss   dfl_loss  Instances       Size\n"
     ]
    },
    {
     "name": "stderr",
     "output_type": "stream",
     "text": [
      "     98/100         0G     0.6352       0.32      1.048          2        640: 100%|██████████| 251/251 [48:02<00:00, 11.48s/it]\n",
      "                 Class     Images  Instances      Box(P          R      mAP50  mAP50-95): 100%|██████████| 17/17 [02:28<00:00,  8.75s/it]"
     ]
    },
    {
     "name": "stdout",
     "output_type": "stream",
     "text": [
      "                   all        543        702      0.872      0.883      0.926      0.606\n"
     ]
    },
    {
     "name": "stderr",
     "output_type": "stream",
     "text": [
      "\n"
     ]
    },
    {
     "name": "stdout",
     "output_type": "stream",
     "text": [
      "\n",
      "      Epoch    GPU_mem   box_loss   cls_loss   dfl_loss  Instances       Size\n"
     ]
    },
    {
     "name": "stderr",
     "output_type": "stream",
     "text": [
      "     99/100         0G     0.6317     0.3121      1.046          2        640: 100%|██████████| 251/251 [49:02<00:00, 11.72s/it] \n",
      "                 Class     Images  Instances      Box(P          R      mAP50  mAP50-95): 100%|██████████| 17/17 [02:28<00:00,  8.76s/it]"
     ]
    },
    {
     "name": "stdout",
     "output_type": "stream",
     "text": [
      "                   all        543        702      0.881      0.873      0.927      0.606\n"
     ]
    },
    {
     "name": "stderr",
     "output_type": "stream",
     "text": [
      "\n"
     ]
    },
    {
     "name": "stdout",
     "output_type": "stream",
     "text": [
      "\n",
      "      Epoch    GPU_mem   box_loss   cls_loss   dfl_loss  Instances       Size\n"
     ]
    },
    {
     "name": "stderr",
     "output_type": "stream",
     "text": [
      "    100/100         0G     0.6254     0.3202      1.046          4        640: 100%|██████████| 251/251 [48:10<00:00, 11.51s/it] \n",
      "                 Class     Images  Instances      Box(P          R      mAP50  mAP50-95): 100%|██████████| 17/17 [02:28<00:00,  8.73s/it]"
     ]
    },
    {
     "name": "stdout",
     "output_type": "stream",
     "text": [
      "                   all        543        702      0.879      0.881      0.928      0.608\n"
     ]
    },
    {
     "name": "stderr",
     "output_type": "stream",
     "text": [
      "\n"
     ]
    },
    {
     "name": "stdout",
     "output_type": "stream",
     "text": [
      "\n",
      "100 epochs completed in 85.743 hours.\n",
      "Optimizer stripped from runs\\detect\\train9\\weights\\last.pt, 6.2MB\n",
      "Optimizer stripped from runs\\detect\\train9\\weights\\best.pt, 6.2MB\n",
      "\n",
      "Validating runs\\detect\\train9\\weights\\best.pt...\n",
      "Ultralytics YOLOv8.1.13 🚀 Python-3.10.4 torch-2.2.0+cpu CPU (Intel Core(TM) i5-10310U 1.70GHz)\n",
      "YOLOv8n summary (fused): 168 layers, 3007013 parameters, 0 gradients, 8.1 GFLOPs\n"
     ]
    },
    {
     "name": "stderr",
     "output_type": "stream",
     "text": [
      "                 Class     Images  Instances      Box(P          R      mAP50  mAP50-95): 100%|██████████| 17/17 [02:35<00:00,  9.13s/it]\n"
     ]
    },
    {
     "name": "stdout",
     "output_type": "stream",
     "text": [
      "                   all        543        702      0.884      0.878      0.927       0.61\n",
      "Il/elle dort sur la droite        543         49      0.862      0.837      0.938      0.699\n",
      "Il/elle dort sur le dos        543         74      0.888      0.878      0.917      0.681\n",
      "Il/elle dort sur la gauche        543         59      0.828      0.831      0.892      0.631\n",
      "Il/elle dort sur le ventre        543         39      0.764      0.831      0.875      0.625\n",
      "        Il/elle veille        543         63      0.979      0.984      0.987      0.637\n",
      "       Il/elle somnole        543        366      0.915      0.939      0.942      0.524\n",
      "        Il/elle bâille        543         52      0.953      0.846      0.942      0.472\n",
      "Speed: 5.4ms preprocess, 250.4ms inference, 0.0ms loss, 1.0ms postprocess per image\n",
      "Results saved to \u001b[1mruns\\detect\\train9\u001b[0m\n"
     ]
    }
   ],
   "source": [
    "# Train the model on your dataset\n",
    "results = model.train(data='C:/Users/dell/OneDrive/Bureau/mastere2/projet_fin_etude/sleep_position+somnolent.v1i.yolov8/data.yaml', epochs=100)\n"
   ]
  },
  {
   "cell_type": "code",
   "execution_count": 1,
   "metadata": {},
   "outputs": [
    {
     "name": "stderr",
     "output_type": "stream",
     "text": [
      "c:\\Users\\dell\\AppData\\Local\\Programs\\Python\\Python310\\lib\\site-packages\\transformers\\utils\\generic.py:441: UserWarning: torch.utils._pytree._register_pytree_node is deprecated. Please use torch.utils._pytree.register_pytree_node instead.\n",
      "  _torch_pytree._register_pytree_node(\n"
     ]
    },
    {
     "name": "stdout",
     "output_type": "stream",
     "text": [
      "\n",
      "0: 480x640 (no detections), 311.8ms\n",
      "Speed: 10.6ms preprocess, 311.8ms inference, 9.9ms postprocess per image at shape (1, 3, 480, 640)\n",
      "\n",
      "0: 480x640 1 Il/elle dort sur le dos, 320.5ms\n",
      "Speed: 18.4ms preprocess, 320.5ms inference, 19.6ms postprocess per image at shape (1, 3, 480, 640)\n",
      "\n",
      "0: 480x640 2 Il/elle dort sur le doss, 222.1ms\n",
      "Speed: 6.3ms preprocess, 222.1ms inference, 1.0ms postprocess per image at shape (1, 3, 480, 640)\n",
      "\n",
      "0: 480x640 1 Il/elle dort sur le dos, 220.6ms\n",
      "Speed: 3.3ms preprocess, 220.6ms inference, 1.0ms postprocess per image at shape (1, 3, 480, 640)\n",
      "\n",
      "0: 480x640 2 Il/elle dort sur le doss, 222.8ms\n",
      "Speed: 3.0ms preprocess, 222.8ms inference, 2.6ms postprocess per image at shape (1, 3, 480, 640)\n",
      "\n",
      "0: 480x640 2 Il/elle dort sur le doss, 206.7ms\n",
      "Speed: 5.0ms preprocess, 206.7ms inference, 2.0ms postprocess per image at shape (1, 3, 480, 640)\n",
      "\n",
      "0: 480x640 1 Il/elle dort sur le dos, 210.2ms\n",
      "Speed: 4.0ms preprocess, 210.2ms inference, 1.5ms postprocess per image at shape (1, 3, 480, 640)\n",
      "\n",
      "0: 480x640 1 Il/elle dort sur le dos, 209.7ms\n",
      "Speed: 3.0ms preprocess, 209.7ms inference, 2.0ms postprocess per image at shape (1, 3, 480, 640)\n",
      "\n",
      "0: 480x640 1 Il/elle dort sur le dos, 205.5ms\n",
      "Speed: 3.0ms preprocess, 205.5ms inference, 1.0ms postprocess per image at shape (1, 3, 480, 640)\n",
      "\n",
      "0: 480x640 1 Il/elle dort sur le dos, 219.5ms\n",
      "Speed: 8.0ms preprocess, 219.5ms inference, 2.0ms postprocess per image at shape (1, 3, 480, 640)\n",
      "\n",
      "0: 480x640 1 Il/elle dort sur le dos, 208.6ms\n",
      "Speed: 4.3ms preprocess, 208.6ms inference, 3.0ms postprocess per image at shape (1, 3, 480, 640)\n",
      "\n",
      "0: 480x640 2 Il/elle dort sur le doss, 206.9ms\n",
      "Speed: 5.7ms preprocess, 206.9ms inference, 2.2ms postprocess per image at shape (1, 3, 480, 640)\n",
      "\n",
      "0: 480x640 1 Il/elle somnole, 186.9ms\n",
      "Speed: 3.9ms preprocess, 186.9ms inference, 1.0ms postprocess per image at shape (1, 3, 480, 640)\n",
      "\n",
      "0: 480x640 1 Il/elle somnole, 186.7ms\n",
      "Speed: 3.0ms preprocess, 186.7ms inference, 2.6ms postprocess per image at shape (1, 3, 480, 640)\n",
      "\n",
      "0: 480x640 1 Il/elle dort sur la gauche, 193.4ms\n",
      "Speed: 3.0ms preprocess, 193.4ms inference, 1.0ms postprocess per image at shape (1, 3, 480, 640)\n",
      "\n",
      "0: 480x640 (no detections), 223.7ms\n",
      "Speed: 7.0ms preprocess, 223.7ms inference, 2.0ms postprocess per image at shape (1, 3, 480, 640)\n",
      "\n",
      "0: 480x640 (no detections), 210.2ms\n",
      "Speed: 4.9ms preprocess, 210.2ms inference, 1.0ms postprocess per image at shape (1, 3, 480, 640)\n",
      "\n",
      "0: 480x640 (no detections), 225.1ms\n",
      "Speed: 4.1ms preprocess, 225.1ms inference, 0.0ms postprocess per image at shape (1, 3, 480, 640)\n",
      "\n",
      "0: 480x640 (no detections), 218.8ms\n",
      "Speed: 5.3ms preprocess, 218.8ms inference, 1.0ms postprocess per image at shape (1, 3, 480, 640)\n",
      "\n",
      "0: 480x640 (no detections), 275.6ms\n",
      "Speed: 4.8ms preprocess, 275.6ms inference, 1.4ms postprocess per image at shape (1, 3, 480, 640)\n",
      "\n",
      "0: 480x640 (no detections), 210.2ms\n",
      "Speed: 4.0ms preprocess, 210.2ms inference, 1.0ms postprocess per image at shape (1, 3, 480, 640)\n",
      "\n",
      "0: 480x640 (no detections), 294.8ms\n",
      "Speed: 4.3ms preprocess, 294.8ms inference, 0.0ms postprocess per image at shape (1, 3, 480, 640)\n",
      "\n",
      "0: 480x640 (no detections), 279.2ms\n",
      "Speed: 4.0ms preprocess, 279.2ms inference, 0.0ms postprocess per image at shape (1, 3, 480, 640)\n",
      "\n",
      "0: 480x640 (no detections), 297.9ms\n",
      "Speed: 12.0ms preprocess, 297.9ms inference, 2.1ms postprocess per image at shape (1, 3, 480, 640)\n",
      "\n",
      "0: 480x640 (no detections), 332.9ms\n",
      "Speed: 4.0ms preprocess, 332.9ms inference, 1.0ms postprocess per image at shape (1, 3, 480, 640)\n",
      "\n",
      "0: 480x640 (no detections), 300.2ms\n",
      "Speed: 3.0ms preprocess, 300.2ms inference, 1.0ms postprocess per image at shape (1, 3, 480, 640)\n",
      "\n",
      "0: 480x640 (no detections), 284.8ms\n",
      "Speed: 10.0ms preprocess, 284.8ms inference, 1.0ms postprocess per image at shape (1, 3, 480, 640)\n",
      "\n",
      "0: 480x640 (no detections), 323.6ms\n",
      "Speed: 9.3ms preprocess, 323.6ms inference, 1.0ms postprocess per image at shape (1, 3, 480, 640)\n",
      "\n",
      "0: 480x640 1 Il/elle dort sur le dos, 270.1ms\n",
      "Speed: 3.4ms preprocess, 270.1ms inference, 5.0ms postprocess per image at shape (1, 3, 480, 640)\n",
      "\n",
      "0: 480x640 1 Il/elle dort sur le dos, 256.4ms\n",
      "Speed: 6.6ms preprocess, 256.4ms inference, 2.0ms postprocess per image at shape (1, 3, 480, 640)\n",
      "\n",
      "0: 480x640 (no detections), 185.0ms\n",
      "Speed: 5.3ms preprocess, 185.0ms inference, 1.0ms postprocess per image at shape (1, 3, 480, 640)\n",
      "\n",
      "0: 480x640 (no detections), 348.7ms\n",
      "Speed: 4.5ms preprocess, 348.7ms inference, 1.0ms postprocess per image at shape (1, 3, 480, 640)\n",
      "\n",
      "0: 480x640 (no detections), 249.5ms\n",
      "Speed: 12.0ms preprocess, 249.5ms inference, 1.0ms postprocess per image at shape (1, 3, 480, 640)\n",
      "\n",
      "0: 480x640 (no detections), 251.4ms\n",
      "Speed: 3.4ms preprocess, 251.4ms inference, 0.0ms postprocess per image at shape (1, 3, 480, 640)\n",
      "\n",
      "0: 480x640 (no detections), 212.3ms\n",
      "Speed: 4.3ms preprocess, 212.3ms inference, 1.0ms postprocess per image at shape (1, 3, 480, 640)\n",
      "\n",
      "0: 480x640 1 Il/elle dort sur le dos, 202.2ms\n",
      "Speed: 3.4ms preprocess, 202.2ms inference, 1.0ms postprocess per image at shape (1, 3, 480, 640)\n",
      "\n",
      "0: 480x640 (no detections), 186.3ms\n",
      "Speed: 3.7ms preprocess, 186.3ms inference, 0.0ms postprocess per image at shape (1, 3, 480, 640)\n",
      "\n",
      "0: 480x640 (no detections), 178.7ms\n",
      "Speed: 3.0ms preprocess, 178.7ms inference, 0.0ms postprocess per image at shape (1, 3, 480, 640)\n",
      "\n",
      "0: 480x640 1 Il/elle dort sur le dos, 178.8ms\n",
      "Speed: 2.9ms preprocess, 178.8ms inference, 1.0ms postprocess per image at shape (1, 3, 480, 640)\n",
      "\n",
      "0: 480x640 1 Il/elle dort sur le dos, 187.8ms\n",
      "Speed: 3.0ms preprocess, 187.8ms inference, 1.0ms postprocess per image at shape (1, 3, 480, 640)\n",
      "\n",
      "0: 480x640 (no detections), 196.2ms\n",
      "Speed: 3.9ms preprocess, 196.2ms inference, 1.0ms postprocess per image at shape (1, 3, 480, 640)\n",
      "\n",
      "0: 480x640 1 Il/elle dort sur le dos, 194.8ms\n",
      "Speed: 3.3ms preprocess, 194.8ms inference, 1.0ms postprocess per image at shape (1, 3, 480, 640)\n",
      "\n",
      "0: 480x640 1 Il/elle somnole, 181.8ms\n",
      "Speed: 3.1ms preprocess, 181.8ms inference, 2.0ms postprocess per image at shape (1, 3, 480, 640)\n",
      "\n",
      "0: 480x640 1 Il/elle dort sur le dos, 185.9ms\n",
      "Speed: 3.5ms preprocess, 185.9ms inference, 1.6ms postprocess per image at shape (1, 3, 480, 640)\n",
      "\n",
      "0: 480x640 1 Il/elle dort sur le dos, 197.7ms\n",
      "Speed: 4.2ms preprocess, 197.7ms inference, 2.0ms postprocess per image at shape (1, 3, 480, 640)\n",
      "\n",
      "0: 480x640 1 Il/elle dort sur le dos, 1 Il/elle somnole, 182.4ms\n",
      "Speed: 3.3ms preprocess, 182.4ms inference, 1.1ms postprocess per image at shape (1, 3, 480, 640)\n",
      "\n",
      "0: 480x640 1 Il/elle dort sur le dos, 1 Il/elle somnole, 205.9ms\n",
      "Speed: 3.0ms preprocess, 205.9ms inference, 1.0ms postprocess per image at shape (1, 3, 480, 640)\n",
      "\n",
      "0: 480x640 1 Il/elle dort sur le dos, 1 Il/elle somnole, 255.2ms\n",
      "Speed: 4.4ms preprocess, 255.2ms inference, 4.3ms postprocess per image at shape (1, 3, 480, 640)\n",
      "\n",
      "0: 480x640 1 Il/elle dort sur le dos, 1 Il/elle somnole, 209.1ms\n",
      "Speed: 9.0ms preprocess, 209.1ms inference, 2.8ms postprocess per image at shape (1, 3, 480, 640)\n",
      "\n",
      "0: 480x640 1 Il/elle somnole, 192.7ms\n",
      "Speed: 3.2ms preprocess, 192.7ms inference, 2.0ms postprocess per image at shape (1, 3, 480, 640)\n",
      "\n",
      "0: 480x640 1 Il/elle somnole, 188.6ms\n",
      "Speed: 3.0ms preprocess, 188.6ms inference, 2.0ms postprocess per image at shape (1, 3, 480, 640)\n",
      "\n",
      "0: 480x640 1 Il/elle somnole, 175.5ms\n",
      "Speed: 3.0ms preprocess, 175.5ms inference, 2.0ms postprocess per image at shape (1, 3, 480, 640)\n",
      "\n",
      "0: 480x640 1 Il/elle dort sur le dos, 1 Il/elle somnole, 248.5ms\n",
      "Speed: 4.5ms preprocess, 248.5ms inference, 3.5ms postprocess per image at shape (1, 3, 480, 640)\n",
      "\n",
      "0: 480x640 (no detections), 199.7ms\n",
      "Speed: 6.0ms preprocess, 199.7ms inference, 0.0ms postprocess per image at shape (1, 3, 480, 640)\n",
      "\n",
      "0: 480x640 1 Il/elle somnole, 187.6ms\n",
      "Speed: 4.6ms preprocess, 187.6ms inference, 1.0ms postprocess per image at shape (1, 3, 480, 640)\n",
      "\n",
      "0: 480x640 1 Il/elle somnole, 185.3ms\n",
      "Speed: 4.4ms preprocess, 185.3ms inference, 2.0ms postprocess per image at shape (1, 3, 480, 640)\n",
      "\n",
      "0: 480x640 (no detections), 182.0ms\n",
      "Speed: 3.2ms preprocess, 182.0ms inference, 1.0ms postprocess per image at shape (1, 3, 480, 640)\n",
      "\n",
      "0: 480x640 (no detections), 187.1ms\n",
      "Speed: 5.0ms preprocess, 187.1ms inference, 1.0ms postprocess per image at shape (1, 3, 480, 640)\n",
      "\n",
      "0: 480x640 (no detections), 184.5ms\n",
      "Speed: 4.0ms preprocess, 184.5ms inference, 1.0ms postprocess per image at shape (1, 3, 480, 640)\n",
      "\n",
      "0: 480x640 1 Il/elle somnole, 192.8ms\n",
      "Speed: 3.6ms preprocess, 192.8ms inference, 1.0ms postprocess per image at shape (1, 3, 480, 640)\n",
      "\n",
      "0: 480x640 1 Il/elle somnole, 221.1ms\n",
      "Speed: 3.4ms preprocess, 221.1ms inference, 1.0ms postprocess per image at shape (1, 3, 480, 640)\n",
      "\n",
      "0: 480x640 (no detections), 192.4ms\n",
      "Speed: 4.2ms preprocess, 192.4ms inference, 1.0ms postprocess per image at shape (1, 3, 480, 640)\n",
      "\n",
      "0: 480x640 1 Il/elle somnole, 206.7ms\n",
      "Speed: 4.4ms preprocess, 206.7ms inference, 2.0ms postprocess per image at shape (1, 3, 480, 640)\n",
      "\n",
      "0: 480x640 1 Il/elle somnole, 198.1ms\n",
      "Speed: 3.5ms preprocess, 198.1ms inference, 1.0ms postprocess per image at shape (1, 3, 480, 640)\n",
      "\n",
      "0: 480x640 1 Il/elle somnole, 188.7ms\n",
      "Speed: 3.0ms preprocess, 188.7ms inference, 1.0ms postprocess per image at shape (1, 3, 480, 640)\n",
      "\n",
      "0: 480x640 1 Il/elle dort sur le dos, 1 Il/elle somnole, 191.7ms\n",
      "Speed: 4.4ms preprocess, 191.7ms inference, 1.0ms postprocess per image at shape (1, 3, 480, 640)\n",
      "\n",
      "0: 480x640 (no detections), 200.6ms\n",
      "Speed: 3.0ms preprocess, 200.6ms inference, 1.0ms postprocess per image at shape (1, 3, 480, 640)\n",
      "\n",
      "0: 480x640 1 Il/elle somnole, 182.7ms\n",
      "Speed: 3.9ms preprocess, 182.7ms inference, 1.0ms postprocess per image at shape (1, 3, 480, 640)\n",
      "\n",
      "0: 480x640 (no detections), 190.2ms\n",
      "Speed: 4.2ms preprocess, 190.2ms inference, 1.0ms postprocess per image at shape (1, 3, 480, 640)\n",
      "\n",
      "0: 480x640 1 Il/elle dort sur le dos, 181.4ms\n",
      "Speed: 3.1ms preprocess, 181.4ms inference, 1.0ms postprocess per image at shape (1, 3, 480, 640)\n",
      "\n",
      "0: 480x640 1 Il/elle somnole, 191.7ms\n",
      "Speed: 3.0ms preprocess, 191.7ms inference, 2.0ms postprocess per image at shape (1, 3, 480, 640)\n",
      "\n",
      "0: 480x640 1 Il/elle somnole, 193.5ms\n",
      "Speed: 4.0ms preprocess, 193.5ms inference, 2.1ms postprocess per image at shape (1, 3, 480, 640)\n",
      "\n",
      "0: 480x640 (no detections), 185.1ms\n",
      "Speed: 3.5ms preprocess, 185.1ms inference, 1.0ms postprocess per image at shape (1, 3, 480, 640)\n",
      "\n",
      "0: 480x640 (no detections), 203.1ms\n",
      "Speed: 4.0ms preprocess, 203.1ms inference, 1.0ms postprocess per image at shape (1, 3, 480, 640)\n",
      "\n",
      "0: 480x640 (no detections), 186.7ms\n",
      "Speed: 3.0ms preprocess, 186.7ms inference, 1.0ms postprocess per image at shape (1, 3, 480, 640)\n",
      "\n",
      "0: 480x640 (no detections), 196.8ms\n",
      "Speed: 3.0ms preprocess, 196.8ms inference, 0.0ms postprocess per image at shape (1, 3, 480, 640)\n",
      "\n",
      "0: 480x640 (no detections), 187.9ms\n",
      "Speed: 5.1ms preprocess, 187.9ms inference, 1.0ms postprocess per image at shape (1, 3, 480, 640)\n",
      "\n",
      "0: 480x640 1 Il/elle somnole, 189.8ms\n",
      "Speed: 4.9ms preprocess, 189.8ms inference, 1.0ms postprocess per image at shape (1, 3, 480, 640)\n",
      "\n",
      "0: 480x640 1 Il/elle somnole, 199.2ms\n",
      "Speed: 3.0ms preprocess, 199.2ms inference, 2.0ms postprocess per image at shape (1, 3, 480, 640)\n",
      "\n",
      "0: 480x640 1 Il/elle somnole, 185.2ms\n",
      "Speed: 3.1ms preprocess, 185.2ms inference, 2.0ms postprocess per image at shape (1, 3, 480, 640)\n",
      "\n",
      "0: 480x640 1 Il/elle somnole, 189.6ms\n",
      "Speed: 3.3ms preprocess, 189.6ms inference, 2.0ms postprocess per image at shape (1, 3, 480, 640)\n",
      "\n",
      "0: 480x640 1 Il/elle somnole, 187.2ms\n",
      "Speed: 4.3ms preprocess, 187.2ms inference, 1.0ms postprocess per image at shape (1, 3, 480, 640)\n",
      "\n",
      "0: 480x640 (no detections), 182.4ms\n",
      "Speed: 2.6ms preprocess, 182.4ms inference, 1.0ms postprocess per image at shape (1, 3, 480, 640)\n",
      "\n",
      "0: 480x640 1 Il/elle bâille, 187.4ms\n",
      "Speed: 3.0ms preprocess, 187.4ms inference, 1.0ms postprocess per image at shape (1, 3, 480, 640)\n",
      "\n",
      "0: 480x640 1 Il/elle somnole, 181.5ms\n",
      "Speed: 4.0ms preprocess, 181.5ms inference, 1.0ms postprocess per image at shape (1, 3, 480, 640)\n",
      "\n",
      "0: 480x640 1 Il/elle somnole, 187.8ms\n",
      "Speed: 3.0ms preprocess, 187.8ms inference, 2.2ms postprocess per image at shape (1, 3, 480, 640)\n",
      "\n",
      "0: 480x640 1 Il/elle somnole, 232.9ms\n",
      "Speed: 3.0ms preprocess, 232.9ms inference, 2.0ms postprocess per image at shape (1, 3, 480, 640)\n",
      "\n",
      "0: 480x640 1 Il/elle somnole, 1 Il/elle bâille, 187.4ms\n",
      "Speed: 2.9ms preprocess, 187.4ms inference, 2.0ms postprocess per image at shape (1, 3, 480, 640)\n",
      "\n",
      "0: 480x640 1 Il/elle somnole, 1 Il/elle bâille, 185.2ms\n",
      "Speed: 3.0ms preprocess, 185.2ms inference, 2.0ms postprocess per image at shape (1, 3, 480, 640)\n",
      "\n",
      "0: 480x640 (no detections), 193.3ms\n",
      "Speed: 2.6ms preprocess, 193.3ms inference, 1.0ms postprocess per image at shape (1, 3, 480, 640)\n",
      "\n",
      "0: 480x640 1 Il/elle somnole, 184.7ms\n",
      "Speed: 4.4ms preprocess, 184.7ms inference, 2.0ms postprocess per image at shape (1, 3, 480, 640)\n",
      "\n",
      "0: 480x640 1 Il/elle somnole, 1 Il/elle bâille, 207.1ms\n",
      "Speed: 4.1ms preprocess, 207.1ms inference, 1.1ms postprocess per image at shape (1, 3, 480, 640)\n",
      "\n",
      "0: 480x640 (no detections), 185.7ms\n",
      "Speed: 4.0ms preprocess, 185.7ms inference, 2.0ms postprocess per image at shape (1, 3, 480, 640)\n",
      "\n",
      "0: 480x640 1 Il/elle bâille, 199.3ms\n",
      "Speed: 3.0ms preprocess, 199.3ms inference, 1.0ms postprocess per image at shape (1, 3, 480, 640)\n",
      "\n",
      "0: 480x640 1 Il/elle bâille, 206.9ms\n",
      "Speed: 4.2ms preprocess, 206.9ms inference, 1.0ms postprocess per image at shape (1, 3, 480, 640)\n",
      "\n",
      "0: 480x640 1 Il/elle somnole, 188.6ms\n",
      "Speed: 4.2ms preprocess, 188.6ms inference, 2.0ms postprocess per image at shape (1, 3, 480, 640)\n",
      "\n",
      "0: 480x640 1 Il/elle bâille, 200.2ms\n",
      "Speed: 2.0ms preprocess, 200.2ms inference, 2.4ms postprocess per image at shape (1, 3, 480, 640)\n",
      "\n",
      "0: 480x640 (no detections), 166.0ms\n",
      "Speed: 3.1ms preprocess, 166.0ms inference, 1.2ms postprocess per image at shape (1, 3, 480, 640)\n",
      "\n",
      "0: 480x640 (no detections), 183.8ms\n",
      "Speed: 3.4ms preprocess, 183.8ms inference, 0.0ms postprocess per image at shape (1, 3, 480, 640)\n",
      "\n",
      "0: 480x640 (no detections), 193.3ms\n",
      "Speed: 3.5ms preprocess, 193.3ms inference, 2.2ms postprocess per image at shape (1, 3, 480, 640)\n",
      "\n",
      "0: 480x640 (no detections), 177.5ms\n",
      "Speed: 3.3ms preprocess, 177.5ms inference, 1.0ms postprocess per image at shape (1, 3, 480, 640)\n",
      "\n",
      "0: 480x640 1 Il/elle somnole, 195.2ms\n",
      "Speed: 3.8ms preprocess, 195.2ms inference, 1.1ms postprocess per image at shape (1, 3, 480, 640)\n",
      "\n",
      "0: 480x640 (no detections), 190.8ms\n",
      "Speed: 3.0ms preprocess, 190.8ms inference, 1.9ms postprocess per image at shape (1, 3, 480, 640)\n",
      "\n",
      "0: 480x640 (no detections), 183.9ms\n",
      "Speed: 2.9ms preprocess, 183.9ms inference, 0.0ms postprocess per image at shape (1, 3, 480, 640)\n",
      "\n",
      "0: 480x640 (no detections), 327.9ms\n",
      "Speed: 4.9ms preprocess, 327.9ms inference, 1.0ms postprocess per image at shape (1, 3, 480, 640)\n",
      "\n",
      "0: 480x640 (no detections), 348.9ms\n",
      "Speed: 8.0ms preprocess, 348.9ms inference, 1.0ms postprocess per image at shape (1, 3, 480, 640)\n",
      "\n",
      "0: 480x640 (no detections), 210.2ms\n",
      "Speed: 4.2ms preprocess, 210.2ms inference, 1.0ms postprocess per image at shape (1, 3, 480, 640)\n",
      "\n",
      "0: 480x640 (no detections), 206.9ms\n",
      "Speed: 4.1ms preprocess, 206.9ms inference, 1.0ms postprocess per image at shape (1, 3, 480, 640)\n",
      "\n",
      "0: 480x640 1 Il/elle dort sur le dos, 208.6ms\n",
      "Speed: 3.4ms preprocess, 208.6ms inference, 1.0ms postprocess per image at shape (1, 3, 480, 640)\n",
      "\n",
      "0: 480x640 1 Il/elle dort sur le dos, 197.1ms\n",
      "Speed: 3.0ms preprocess, 197.1ms inference, 1.2ms postprocess per image at shape (1, 3, 480, 640)\n",
      "\n",
      "0: 480x640 (no detections), 209.7ms\n",
      "Speed: 3.6ms preprocess, 209.7ms inference, 1.0ms postprocess per image at shape (1, 3, 480, 640)\n",
      "\n",
      "0: 480x640 1 Il/elle dort sur le dos, 195.0ms\n",
      "Speed: 2.5ms preprocess, 195.0ms inference, 1.0ms postprocess per image at shape (1, 3, 480, 640)\n",
      "\n",
      "0: 480x640 (no detections), 196.2ms\n",
      "Speed: 4.2ms preprocess, 196.2ms inference, 1.0ms postprocess per image at shape (1, 3, 480, 640)\n",
      "\n",
      "0: 480x640 (no detections), 196.8ms\n",
      "Speed: 3.3ms preprocess, 196.8ms inference, 1.8ms postprocess per image at shape (1, 3, 480, 640)\n",
      "\n",
      "0: 480x640 (no detections), 187.6ms\n",
      "Speed: 3.6ms preprocess, 187.6ms inference, 1.0ms postprocess per image at shape (1, 3, 480, 640)\n",
      "\n",
      "0: 480x640 (no detections), 196.1ms\n",
      "Speed: 3.0ms preprocess, 196.1ms inference, 1.0ms postprocess per image at shape (1, 3, 480, 640)\n",
      "\n",
      "0: 480x640 (no detections), 202.2ms\n",
      "Speed: 5.6ms preprocess, 202.2ms inference, 1.0ms postprocess per image at shape (1, 3, 480, 640)\n",
      "\n",
      "0: 480x640 (no detections), 194.5ms\n",
      "Speed: 4.0ms preprocess, 194.5ms inference, 1.2ms postprocess per image at shape (1, 3, 480, 640)\n",
      "\n",
      "0: 480x640 (no detections), 189.4ms\n",
      "Speed: 4.2ms preprocess, 189.4ms inference, 1.0ms postprocess per image at shape (1, 3, 480, 640)\n",
      "\n",
      "0: 480x640 (no detections), 183.1ms\n",
      "Speed: 6.7ms preprocess, 183.1ms inference, 1.0ms postprocess per image at shape (1, 3, 480, 640)\n",
      "\n",
      "0: 480x640 (no detections), 186.9ms\n",
      "Speed: 4.9ms preprocess, 186.9ms inference, 1.0ms postprocess per image at shape (1, 3, 480, 640)\n",
      "\n",
      "0: 480x640 (no detections), 187.7ms\n",
      "Speed: 6.0ms preprocess, 187.7ms inference, 2.0ms postprocess per image at shape (1, 3, 480, 640)\n",
      "\n",
      "0: 480x640 (no detections), 205.6ms\n",
      "Speed: 3.0ms preprocess, 205.6ms inference, 1.0ms postprocess per image at shape (1, 3, 480, 640)\n",
      "\n",
      "0: 480x640 (no detections), 194.8ms\n",
      "Speed: 3.0ms preprocess, 194.8ms inference, 1.0ms postprocess per image at shape (1, 3, 480, 640)\n",
      "\n",
      "0: 480x640 (no detections), 198.9ms\n",
      "Speed: 3.0ms preprocess, 198.9ms inference, 1.0ms postprocess per image at shape (1, 3, 480, 640)\n",
      "\n",
      "0: 480x640 (no detections), 201.3ms\n",
      "Speed: 3.0ms preprocess, 201.3ms inference, 1.0ms postprocess per image at shape (1, 3, 480, 640)\n",
      "\n",
      "0: 480x640 (no detections), 185.1ms\n",
      "Speed: 6.0ms preprocess, 185.1ms inference, 2.0ms postprocess per image at shape (1, 3, 480, 640)\n",
      "\n",
      "0: 480x640 (no detections), 194.5ms\n",
      "Speed: 3.0ms preprocess, 194.5ms inference, 1.1ms postprocess per image at shape (1, 3, 480, 640)\n",
      "\n",
      "0: 480x640 (no detections), 195.2ms\n",
      "Speed: 4.0ms preprocess, 195.2ms inference, 1.0ms postprocess per image at shape (1, 3, 480, 640)\n",
      "\n",
      "0: 480x640 (no detections), 195.7ms\n",
      "Speed: 4.0ms preprocess, 195.7ms inference, 0.0ms postprocess per image at shape (1, 3, 480, 640)\n",
      "\n",
      "0: 480x640 (no detections), 194.2ms\n",
      "Speed: 3.8ms preprocess, 194.2ms inference, 1.0ms postprocess per image at shape (1, 3, 480, 640)\n",
      "\n",
      "0: 480x640 (no detections), 178.9ms\n",
      "Speed: 3.0ms preprocess, 178.9ms inference, 1.2ms postprocess per image at shape (1, 3, 480, 640)\n",
      "\n",
      "0: 480x640 (no detections), 194.6ms\n",
      "Speed: 2.8ms preprocess, 194.6ms inference, 0.5ms postprocess per image at shape (1, 3, 480, 640)\n",
      "\n",
      "0: 480x640 (no detections), 183.2ms\n",
      "Speed: 3.1ms preprocess, 183.2ms inference, 1.0ms postprocess per image at shape (1, 3, 480, 640)\n",
      "\n",
      "0: 480x640 (no detections), 194.8ms\n",
      "Speed: 3.4ms preprocess, 194.8ms inference, 1.0ms postprocess per image at shape (1, 3, 480, 640)\n",
      "\n",
      "0: 480x640 (no detections), 223.8ms\n",
      "Speed: 5.5ms preprocess, 223.8ms inference, 1.0ms postprocess per image at shape (1, 3, 480, 640)\n",
      "\n",
      "0: 480x640 (no detections), 188.1ms\n",
      "Speed: 3.5ms preprocess, 188.1ms inference, 1.0ms postprocess per image at shape (1, 3, 480, 640)\n",
      "\n",
      "0: 480x640 (no detections), 194.1ms\n",
      "Speed: 3.0ms preprocess, 194.1ms inference, 0.0ms postprocess per image at shape (1, 3, 480, 640)\n",
      "\n",
      "0: 480x640 (no detections), 198.0ms\n",
      "Speed: 4.5ms preprocess, 198.0ms inference, 1.0ms postprocess per image at shape (1, 3, 480, 640)\n",
      "\n",
      "0: 480x640 (no detections), 194.1ms\n",
      "Speed: 3.0ms preprocess, 194.1ms inference, 1.0ms postprocess per image at shape (1, 3, 480, 640)\n",
      "\n",
      "0: 480x640 (no detections), 189.6ms\n",
      "Speed: 4.0ms preprocess, 189.6ms inference, 1.0ms postprocess per image at shape (1, 3, 480, 640)\n",
      "\n",
      "0: 480x640 (no detections), 178.7ms\n",
      "Speed: 3.0ms preprocess, 178.7ms inference, 1.0ms postprocess per image at shape (1, 3, 480, 640)\n",
      "\n",
      "0: 480x640 1 Il/elle somnole, 187.3ms\n",
      "Speed: 3.9ms preprocess, 187.3ms inference, 2.0ms postprocess per image at shape (1, 3, 480, 640)\n",
      "\n",
      "0: 480x640 1 Il/elle somnole, 195.5ms\n",
      "Speed: 3.5ms preprocess, 195.5ms inference, 1.0ms postprocess per image at shape (1, 3, 480, 640)\n",
      "\n",
      "0: 480x640 (no detections), 188.1ms\n",
      "Speed: 3.2ms preprocess, 188.1ms inference, 1.0ms postprocess per image at shape (1, 3, 480, 640)\n",
      "\n",
      "0: 480x640 (no detections), 194.2ms\n",
      "Speed: 3.3ms preprocess, 194.2ms inference, 2.0ms postprocess per image at shape (1, 3, 480, 640)\n",
      "\n",
      "0: 480x640 (no detections), 172.5ms\n",
      "Speed: 4.0ms preprocess, 172.5ms inference, 1.0ms postprocess per image at shape (1, 3, 480, 640)\n",
      "\n",
      "0: 480x640 (no detections), 176.5ms\n",
      "Speed: 3.4ms preprocess, 176.5ms inference, 1.0ms postprocess per image at shape (1, 3, 480, 640)\n",
      "\n",
      "0: 480x640 (no detections), 189.8ms\n",
      "Speed: 4.8ms preprocess, 189.8ms inference, 1.0ms postprocess per image at shape (1, 3, 480, 640)\n",
      "\n",
      "0: 480x640 1 Il/elle dort sur le dos, 185.2ms\n",
      "Speed: 3.0ms preprocess, 185.2ms inference, 1.0ms postprocess per image at shape (1, 3, 480, 640)\n",
      "\n",
      "0: 480x640 (no detections), 182.9ms\n",
      "Speed: 3.3ms preprocess, 182.9ms inference, 1.0ms postprocess per image at shape (1, 3, 480, 640)\n",
      "\n",
      "0: 480x640 1 Il/elle somnole, 196.1ms\n",
      "Speed: 3.4ms preprocess, 196.1ms inference, 2.0ms postprocess per image at shape (1, 3, 480, 640)\n",
      "\n",
      "0: 480x640 (no detections), 193.5ms\n",
      "Speed: 3.4ms preprocess, 193.5ms inference, 1.0ms postprocess per image at shape (1, 3, 480, 640)\n",
      "\n",
      "0: 480x640 1 Il/elle somnole, 181.4ms\n",
      "Speed: 3.0ms preprocess, 181.4ms inference, 2.0ms postprocess per image at shape (1, 3, 480, 640)\n",
      "\n",
      "0: 480x640 1 Il/elle somnole, 189.4ms\n",
      "Speed: 7.1ms preprocess, 189.4ms inference, 1.0ms postprocess per image at shape (1, 3, 480, 640)\n",
      "\n",
      "0: 480x640 1 Il/elle somnole, 192.4ms\n",
      "Speed: 3.0ms preprocess, 192.4ms inference, 1.0ms postprocess per image at shape (1, 3, 480, 640)\n",
      "\n",
      "0: 480x640 (no detections), 188.0ms\n",
      "Speed: 4.3ms preprocess, 188.0ms inference, 1.0ms postprocess per image at shape (1, 3, 480, 640)\n",
      "\n",
      "0: 480x640 (no detections), 196.3ms\n",
      "Speed: 3.5ms preprocess, 196.3ms inference, 1.0ms postprocess per image at shape (1, 3, 480, 640)\n",
      "\n",
      "0: 480x640 (no detections), 186.4ms\n",
      "Speed: 3.7ms preprocess, 186.4ms inference, 1.0ms postprocess per image at shape (1, 3, 480, 640)\n",
      "\n",
      "0: 480x640 (no detections), 188.6ms\n",
      "Speed: 3.0ms preprocess, 188.6ms inference, 1.0ms postprocess per image at shape (1, 3, 480, 640)\n",
      "\n",
      "0: 480x640 (no detections), 225.5ms\n",
      "Speed: 9.5ms preprocess, 225.5ms inference, 1.0ms postprocess per image at shape (1, 3, 480, 640)\n",
      "\n",
      "0: 480x640 (no detections), 190.8ms\n",
      "Speed: 4.0ms preprocess, 190.8ms inference, 1.0ms postprocess per image at shape (1, 3, 480, 640)\n",
      "\n",
      "0: 480x640 1 Il/elle bâille, 179.7ms\n",
      "Speed: 3.2ms preprocess, 179.7ms inference, 2.0ms postprocess per image at shape (1, 3, 480, 640)\n",
      "\n",
      "0: 480x640 (no detections), 187.3ms\n",
      "Speed: 5.7ms preprocess, 187.3ms inference, 1.2ms postprocess per image at shape (1, 3, 480, 640)\n",
      "\n",
      "0: 480x640 (no detections), 193.5ms\n",
      "Speed: 3.5ms preprocess, 193.5ms inference, 1.0ms postprocess per image at shape (1, 3, 480, 640)\n",
      "\n",
      "0: 480x640 (no detections), 179.4ms\n",
      "Speed: 3.4ms preprocess, 179.4ms inference, 1.0ms postprocess per image at shape (1, 3, 480, 640)\n",
      "\n",
      "0: 480x640 1 Il/elle somnole, 209.6ms\n",
      "Speed: 2.8ms preprocess, 209.6ms inference, 2.0ms postprocess per image at shape (1, 3, 480, 640)\n",
      "\n",
      "0: 480x640 1 Il/elle somnole, 183.3ms\n",
      "Speed: 4.0ms preprocess, 183.3ms inference, 2.7ms postprocess per image at shape (1, 3, 480, 640)\n",
      "\n",
      "0: 480x640 1 Il/elle somnole, 196.5ms\n",
      "Speed: 3.0ms preprocess, 196.5ms inference, 1.0ms postprocess per image at shape (1, 3, 480, 640)\n",
      "\n",
      "0: 480x640 1 Il/elle somnole, 183.3ms\n",
      "Speed: 3.8ms preprocess, 183.3ms inference, 1.0ms postprocess per image at shape (1, 3, 480, 640)\n",
      "\n",
      "0: 480x640 1 Il/elle somnole, 194.8ms\n",
      "Speed: 3.1ms preprocess, 194.8ms inference, 1.0ms postprocess per image at shape (1, 3, 480, 640)\n",
      "\n",
      "0: 480x640 1 Il/elle somnole, 197.3ms\n",
      "Speed: 4.0ms preprocess, 197.3ms inference, 1.0ms postprocess per image at shape (1, 3, 480, 640)\n",
      "\n",
      "0: 480x640 1 Il/elle somnole, 197.9ms\n",
      "Speed: 4.0ms preprocess, 197.9ms inference, 1.0ms postprocess per image at shape (1, 3, 480, 640)\n",
      "\n",
      "0: 480x640 1 Il/elle somnole, 1 Il/elle bâille, 192.8ms\n",
      "Speed: 3.5ms preprocess, 192.8ms inference, 2.0ms postprocess per image at shape (1, 3, 480, 640)\n",
      "\n",
      "0: 480x640 (no detections), 200.4ms\n",
      "Speed: 3.0ms preprocess, 200.4ms inference, 1.0ms postprocess per image at shape (1, 3, 480, 640)\n",
      "\n",
      "0: 480x640 (no detections), 186.9ms\n",
      "Speed: 5.9ms preprocess, 186.9ms inference, 1.0ms postprocess per image at shape (1, 3, 480, 640)\n",
      "\n",
      "0: 480x640 (no detections), 183.8ms\n",
      "Speed: 3.0ms preprocess, 183.8ms inference, 1.1ms postprocess per image at shape (1, 3, 480, 640)\n",
      "\n",
      "0: 480x640 (no detections), 196.3ms\n",
      "Speed: 6.9ms preprocess, 196.3ms inference, 1.0ms postprocess per image at shape (1, 3, 480, 640)\n",
      "\n",
      "0: 480x640 (no detections), 195.1ms\n",
      "Speed: 3.3ms preprocess, 195.1ms inference, 1.0ms postprocess per image at shape (1, 3, 480, 640)\n",
      "\n",
      "0: 480x640 (no detections), 186.8ms\n",
      "Speed: 4.2ms preprocess, 186.8ms inference, 1.0ms postprocess per image at shape (1, 3, 480, 640)\n",
      "\n",
      "0: 480x640 (no detections), 183.0ms\n",
      "Speed: 3.5ms preprocess, 183.0ms inference, 1.1ms postprocess per image at shape (1, 3, 480, 640)\n",
      "\n",
      "0: 480x640 (no detections), 195.1ms\n",
      "Speed: 3.0ms preprocess, 195.1ms inference, 1.0ms postprocess per image at shape (1, 3, 480, 640)\n",
      "\n",
      "0: 480x640 (no detections), 188.8ms\n",
      "Speed: 4.5ms preprocess, 188.8ms inference, 1.0ms postprocess per image at shape (1, 3, 480, 640)\n",
      "\n",
      "0: 480x640 (no detections), 226.8ms\n",
      "Speed: 2.0ms preprocess, 226.8ms inference, 0.0ms postprocess per image at shape (1, 3, 480, 640)\n",
      "\n",
      "0: 480x640 (no detections), 189.6ms\n",
      "Speed: 3.9ms preprocess, 189.6ms inference, 1.0ms postprocess per image at shape (1, 3, 480, 640)\n",
      "\n",
      "0: 480x640 (no detections), 184.4ms\n",
      "Speed: 6.1ms preprocess, 184.4ms inference, 1.0ms postprocess per image at shape (1, 3, 480, 640)\n",
      "\n",
      "0: 480x640 (no detections), 196.9ms\n",
      "Speed: 4.2ms preprocess, 196.9ms inference, 1.0ms postprocess per image at shape (1, 3, 480, 640)\n",
      "\n",
      "0: 480x640 (no detections), 181.0ms\n",
      "Speed: 5.8ms preprocess, 181.0ms inference, 1.0ms postprocess per image at shape (1, 3, 480, 640)\n",
      "\n",
      "0: 480x640 (no detections), 194.1ms\n",
      "Speed: 3.0ms preprocess, 194.1ms inference, 1.0ms postprocess per image at shape (1, 3, 480, 640)\n",
      "\n",
      "0: 480x640 (no detections), 187.1ms\n",
      "Speed: 4.1ms preprocess, 187.1ms inference, 1.0ms postprocess per image at shape (1, 3, 480, 640)\n",
      "\n",
      "0: 480x640 (no detections), 194.1ms\n",
      "Speed: 3.0ms preprocess, 194.1ms inference, 1.0ms postprocess per image at shape (1, 3, 480, 640)\n",
      "\n",
      "0: 480x640 (no detections), 197.4ms\n",
      "Speed: 3.0ms preprocess, 197.4ms inference, 1.0ms postprocess per image at shape (1, 3, 480, 640)\n",
      "\n",
      "0: 480x640 (no detections), 186.9ms\n",
      "Speed: 3.4ms preprocess, 186.9ms inference, 1.0ms postprocess per image at shape (1, 3, 480, 640)\n",
      "\n",
      "0: 480x640 (no detections), 189.2ms\n",
      "Speed: 3.0ms preprocess, 189.2ms inference, 1.1ms postprocess per image at shape (1, 3, 480, 640)\n",
      "\n",
      "0: 480x640 (no detections), 259.3ms\n",
      "Speed: 3.0ms preprocess, 259.3ms inference, 2.1ms postprocess per image at shape (1, 3, 480, 640)\n",
      "\n",
      "0: 480x640 (no detections), 306.5ms\n",
      "Speed: 5.0ms preprocess, 306.5ms inference, 2.5ms postprocess per image at shape (1, 3, 480, 640)\n",
      "\n",
      "0: 480x640 (no detections), 280.6ms\n",
      "Speed: 5.4ms preprocess, 280.6ms inference, 1.0ms postprocess per image at shape (1, 3, 480, 640)\n",
      "\n",
      "0: 480x640 (no detections), 279.5ms\n",
      "Speed: 4.0ms preprocess, 279.5ms inference, 1.2ms postprocess per image at shape (1, 3, 480, 640)\n",
      "\n",
      "0: 480x640 (no detections), 292.4ms\n",
      "Speed: 12.4ms preprocess, 292.4ms inference, 1.0ms postprocess per image at shape (1, 3, 480, 640)\n",
      "\n",
      "0: 480x640 (no detections), 271.2ms\n",
      "Speed: 7.9ms preprocess, 271.2ms inference, 1.0ms postprocess per image at shape (1, 3, 480, 640)\n",
      "\n",
      "0: 480x640 (no detections), 215.5ms\n",
      "Speed: 3.3ms preprocess, 215.5ms inference, 1.0ms postprocess per image at shape (1, 3, 480, 640)\n",
      "\n",
      "0: 480x640 (no detections), 243.6ms\n",
      "Speed: 3.0ms preprocess, 243.6ms inference, 2.0ms postprocess per image at shape (1, 3, 480, 640)\n",
      "\n",
      "0: 480x640 (no detections), 232.0ms\n",
      "Speed: 4.5ms preprocess, 232.0ms inference, 1.4ms postprocess per image at shape (1, 3, 480, 640)\n",
      "\n",
      "0: 480x640 (no detections), 231.0ms\n",
      "Speed: 6.3ms preprocess, 231.0ms inference, 2.3ms postprocess per image at shape (1, 3, 480, 640)\n",
      "\n",
      "0: 480x640 (no detections), 195.4ms\n",
      "Speed: 6.9ms preprocess, 195.4ms inference, 1.1ms postprocess per image at shape (1, 3, 480, 640)\n",
      "\n",
      "0: 480x640 (no detections), 238.8ms\n",
      "Speed: 3.7ms preprocess, 238.8ms inference, 1.0ms postprocess per image at shape (1, 3, 480, 640)\n",
      "\n",
      "0: 480x640 (no detections), 277.4ms\n",
      "Speed: 5.4ms preprocess, 277.4ms inference, 1.0ms postprocess per image at shape (1, 3, 480, 640)\n",
      "\n",
      "0: 480x640 (no detections), 230.4ms\n",
      "Speed: 5.8ms preprocess, 230.4ms inference, 2.0ms postprocess per image at shape (1, 3, 480, 640)\n",
      "\n",
      "0: 480x640 (no detections), 226.8ms\n",
      "Speed: 5.4ms preprocess, 226.8ms inference, 1.0ms postprocess per image at shape (1, 3, 480, 640)\n",
      "\n",
      "0: 480x640 (no detections), 216.5ms\n",
      "Speed: 5.1ms preprocess, 216.5ms inference, 1.0ms postprocess per image at shape (1, 3, 480, 640)\n",
      "\n",
      "0: 480x640 (no detections), 241.9ms\n",
      "Speed: 6.9ms preprocess, 241.9ms inference, 1.0ms postprocess per image at shape (1, 3, 480, 640)\n",
      "\n",
      "0: 480x640 (no detections), 213.9ms\n",
      "Speed: 3.1ms preprocess, 213.9ms inference, 1.0ms postprocess per image at shape (1, 3, 480, 640)\n",
      "\n",
      "0: 480x640 (no detections), 205.9ms\n",
      "Speed: 3.3ms preprocess, 205.9ms inference, 1.6ms postprocess per image at shape (1, 3, 480, 640)\n",
      "\n",
      "0: 480x640 (no detections), 217.0ms\n",
      "Speed: 6.3ms preprocess, 217.0ms inference, 1.5ms postprocess per image at shape (1, 3, 480, 640)\n",
      "\n",
      "0: 480x640 (no detections), 195.4ms\n",
      "Speed: 4.8ms preprocess, 195.4ms inference, 0.0ms postprocess per image at shape (1, 3, 480, 640)\n",
      "\n",
      "0: 480x640 (no detections), 191.4ms\n",
      "Speed: 3.0ms preprocess, 191.4ms inference, 1.0ms postprocess per image at shape (1, 3, 480, 640)\n",
      "\n",
      "0: 480x640 (no detections), 225.6ms\n",
      "Speed: 5.4ms preprocess, 225.6ms inference, 1.0ms postprocess per image at shape (1, 3, 480, 640)\n",
      "\n",
      "0: 480x640 (no detections), 202.4ms\n",
      "Speed: 3.0ms preprocess, 202.4ms inference, 1.0ms postprocess per image at shape (1, 3, 480, 640)\n",
      "\n",
      "0: 480x640 (no detections), 190.0ms\n",
      "Speed: 3.0ms preprocess, 190.0ms inference, 1.1ms postprocess per image at shape (1, 3, 480, 640)\n",
      "\n",
      "0: 480x640 (no detections), 197.0ms\n",
      "Speed: 5.0ms preprocess, 197.0ms inference, 1.2ms postprocess per image at shape (1, 3, 480, 640)\n",
      "\n",
      "0: 480x640 (no detections), 240.4ms\n",
      "Speed: 3.0ms preprocess, 240.4ms inference, 1.2ms postprocess per image at shape (1, 3, 480, 640)\n",
      "\n",
      "0: 480x640 (no detections), 219.7ms\n",
      "Speed: 4.6ms preprocess, 219.7ms inference, 2.5ms postprocess per image at shape (1, 3, 480, 640)\n",
      "\n",
      "0: 480x640 (no detections), 246.1ms\n",
      "Speed: 3.2ms preprocess, 246.1ms inference, 1.0ms postprocess per image at shape (1, 3, 480, 640)\n",
      "\n",
      "0: 480x640 (no detections), 210.5ms\n",
      "Speed: 4.0ms preprocess, 210.5ms inference, 1.0ms postprocess per image at shape (1, 3, 480, 640)\n",
      "\n",
      "0: 480x640 (no detections), 234.8ms\n",
      "Speed: 6.2ms preprocess, 234.8ms inference, 1.4ms postprocess per image at shape (1, 3, 480, 640)\n",
      "\n",
      "0: 480x640 (no detections), 210.7ms\n",
      "Speed: 8.2ms preprocess, 210.7ms inference, 1.0ms postprocess per image at shape (1, 3, 480, 640)\n",
      "\n",
      "0: 480x640 (no detections), 243.0ms\n",
      "Speed: 5.0ms preprocess, 243.0ms inference, 1.0ms postprocess per image at shape (1, 3, 480, 640)\n",
      "\n",
      "0: 480x640 (no detections), 197.1ms\n",
      "Speed: 5.8ms preprocess, 197.1ms inference, 1.0ms postprocess per image at shape (1, 3, 480, 640)\n",
      "\n",
      "0: 480x640 (no detections), 238.1ms\n",
      "Speed: 2.8ms preprocess, 238.1ms inference, 1.3ms postprocess per image at shape (1, 3, 480, 640)\n",
      "\n",
      "0: 480x640 (no detections), 270.7ms\n",
      "Speed: 8.4ms preprocess, 270.7ms inference, 1.0ms postprocess per image at shape (1, 3, 480, 640)\n",
      "\n",
      "0: 480x640 (no detections), 300.7ms\n",
      "Speed: 4.9ms preprocess, 300.7ms inference, 2.5ms postprocess per image at shape (1, 3, 480, 640)\n",
      "\n",
      "0: 480x640 (no detections), 276.5ms\n",
      "Speed: 4.8ms preprocess, 276.5ms inference, 1.0ms postprocess per image at shape (1, 3, 480, 640)\n",
      "\n",
      "0: 480x640 (no detections), 262.7ms\n",
      "Speed: 3.6ms preprocess, 262.7ms inference, 1.1ms postprocess per image at shape (1, 3, 480, 640)\n",
      "\n",
      "0: 480x640 (no detections), 190.7ms\n",
      "Speed: 4.2ms preprocess, 190.7ms inference, 0.0ms postprocess per image at shape (1, 3, 480, 640)\n",
      "\n",
      "0: 480x640 (no detections), 244.8ms\n",
      "Speed: 3.5ms preprocess, 244.8ms inference, 1.1ms postprocess per image at shape (1, 3, 480, 640)\n",
      "\n",
      "0: 480x640 (no detections), 296.3ms\n",
      "Speed: 5.0ms preprocess, 296.3ms inference, 1.0ms postprocess per image at shape (1, 3, 480, 640)\n",
      "\n",
      "0: 480x640 (no detections), 255.9ms\n",
      "Speed: 4.0ms preprocess, 255.9ms inference, 2.3ms postprocess per image at shape (1, 3, 480, 640)\n",
      "\n",
      "0: 480x640 (no detections), 263.2ms\n",
      "Speed: 3.5ms preprocess, 263.2ms inference, 2.0ms postprocess per image at shape (1, 3, 480, 640)\n",
      "\n",
      "0: 480x640 (no detections), 252.2ms\n",
      "Speed: 4.5ms preprocess, 252.2ms inference, 1.0ms postprocess per image at shape (1, 3, 480, 640)\n",
      "\n",
      "0: 480x640 1 Il/elle dort sur le dos, 207.4ms\n",
      "Speed: 3.3ms preprocess, 207.4ms inference, 1.0ms postprocess per image at shape (1, 3, 480, 640)\n",
      "\n",
      "0: 480x640 (no detections), 183.4ms\n",
      "Speed: 5.8ms preprocess, 183.4ms inference, 1.0ms postprocess per image at shape (1, 3, 480, 640)\n",
      "\n",
      "0: 480x640 (no detections), 211.6ms\n",
      "Speed: 4.1ms preprocess, 211.6ms inference, 1.0ms postprocess per image at shape (1, 3, 480, 640)\n",
      "\n",
      "0: 480x640 (no detections), 271.1ms\n",
      "Speed: 7.4ms preprocess, 271.1ms inference, 1.0ms postprocess per image at shape (1, 3, 480, 640)\n",
      "\n",
      "0: 480x640 (no detections), 265.0ms\n",
      "Speed: 4.1ms preprocess, 265.0ms inference, 1.0ms postprocess per image at shape (1, 3, 480, 640)\n",
      "\n",
      "0: 480x640 (no detections), 264.9ms\n",
      "Speed: 4.0ms preprocess, 264.9ms inference, 1.0ms postprocess per image at shape (1, 3, 480, 640)\n",
      "\n",
      "0: 480x640 (no detections), 212.8ms\n",
      "Speed: 3.3ms preprocess, 212.8ms inference, 1.0ms postprocess per image at shape (1, 3, 480, 640)\n",
      "\n",
      "0: 480x640 (no detections), 254.7ms\n",
      "Speed: 3.5ms preprocess, 254.7ms inference, 3.1ms postprocess per image at shape (1, 3, 480, 640)\n",
      "\n",
      "0: 480x640 (no detections), 199.1ms\n",
      "Speed: 4.0ms preprocess, 199.1ms inference, 1.0ms postprocess per image at shape (1, 3, 480, 640)\n",
      "\n",
      "0: 480x640 (no detections), 242.2ms\n",
      "Speed: 4.7ms preprocess, 242.2ms inference, 1.3ms postprocess per image at shape (1, 3, 480, 640)\n",
      "\n",
      "0: 480x640 (no detections), 204.1ms\n",
      "Speed: 5.1ms preprocess, 204.1ms inference, 2.0ms postprocess per image at shape (1, 3, 480, 640)\n",
      "\n",
      "0: 480x640 (no detections), 178.6ms\n",
      "Speed: 3.0ms preprocess, 178.6ms inference, 1.0ms postprocess per image at shape (1, 3, 480, 640)\n",
      "\n",
      "0: 480x640 (no detections), 184.4ms\n",
      "Speed: 2.0ms preprocess, 184.4ms inference, 2.0ms postprocess per image at shape (1, 3, 480, 640)\n",
      "\n",
      "0: 480x640 (no detections), 210.9ms\n",
      "Speed: 5.4ms preprocess, 210.9ms inference, 2.2ms postprocess per image at shape (1, 3, 480, 640)\n",
      "\n",
      "0: 480x640 (no detections), 186.3ms\n",
      "Speed: 3.1ms preprocess, 186.3ms inference, 2.0ms postprocess per image at shape (1, 3, 480, 640)\n",
      "\n",
      "0: 480x640 (no detections), 186.8ms\n",
      "Speed: 3.0ms preprocess, 186.8ms inference, 1.0ms postprocess per image at shape (1, 3, 480, 640)\n",
      "\n",
      "0: 480x640 (no detections), 190.4ms\n",
      "Speed: 2.6ms preprocess, 190.4ms inference, 0.0ms postprocess per image at shape (1, 3, 480, 640)\n",
      "\n",
      "0: 480x640 (no detections), 205.7ms\n",
      "Speed: 3.6ms preprocess, 205.7ms inference, 1.0ms postprocess per image at shape (1, 3, 480, 640)\n",
      "\n",
      "0: 480x640 (no detections), 182.2ms\n",
      "Speed: 5.7ms preprocess, 182.2ms inference, 0.0ms postprocess per image at shape (1, 3, 480, 640)\n",
      "\n",
      "0: 480x640 (no detections), 189.2ms\n",
      "Speed: 5.8ms preprocess, 189.2ms inference, 1.0ms postprocess per image at shape (1, 3, 480, 640)\n",
      "\n",
      "0: 480x640 (no detections), 219.8ms\n",
      "Speed: 4.0ms preprocess, 219.8ms inference, 1.0ms postprocess per image at shape (1, 3, 480, 640)\n",
      "\n",
      "0: 480x640 (no detections), 188.1ms\n",
      "Speed: 2.7ms preprocess, 188.1ms inference, 2.0ms postprocess per image at shape (1, 3, 480, 640)\n",
      "\n",
      "0: 480x640 (no detections), 208.0ms\n",
      "Speed: 3.7ms preprocess, 208.0ms inference, 1.0ms postprocess per image at shape (1, 3, 480, 640)\n",
      "\n",
      "0: 480x640 (no detections), 178.5ms\n",
      "Speed: 8.4ms preprocess, 178.5ms inference, 0.0ms postprocess per image at shape (1, 3, 480, 640)\n",
      "\n",
      "0: 480x640 (no detections), 194.9ms\n",
      "Speed: 6.9ms preprocess, 194.9ms inference, 1.4ms postprocess per image at shape (1, 3, 480, 640)\n",
      "\n",
      "0: 480x640 (no detections), 194.3ms\n",
      "Speed: 2.7ms preprocess, 194.3ms inference, 1.5ms postprocess per image at shape (1, 3, 480, 640)\n",
      "\n",
      "0: 480x640 (no detections), 190.2ms\n",
      "Speed: 4.6ms preprocess, 190.2ms inference, 1.0ms postprocess per image at shape (1, 3, 480, 640)\n",
      "\n",
      "0: 480x640 (no detections), 191.0ms\n",
      "Speed: 4.1ms preprocess, 191.0ms inference, 1.0ms postprocess per image at shape (1, 3, 480, 640)\n",
      "\n",
      "0: 480x640 (no detections), 196.8ms\n",
      "Speed: 4.3ms preprocess, 196.8ms inference, 1.0ms postprocess per image at shape (1, 3, 480, 640)\n",
      "\n",
      "0: 480x640 (no detections), 195.6ms\n",
      "Speed: 3.0ms preprocess, 195.6ms inference, 1.0ms postprocess per image at shape (1, 3, 480, 640)\n",
      "\n",
      "0: 480x640 (no detections), 186.9ms\n",
      "Speed: 4.1ms preprocess, 186.9ms inference, 0.0ms postprocess per image at shape (1, 3, 480, 640)\n",
      "\n",
      "0: 480x640 1 Il/elle somnole, 188.0ms\n",
      "Speed: 4.0ms preprocess, 188.0ms inference, 1.0ms postprocess per image at shape (1, 3, 480, 640)\n",
      "\n",
      "0: 480x640 (no detections), 200.4ms\n",
      "Speed: 3.0ms preprocess, 200.4ms inference, 1.0ms postprocess per image at shape (1, 3, 480, 640)\n",
      "\n",
      "0: 480x640 1 Il/elle somnole, 199.3ms\n",
      "Speed: 2.5ms preprocess, 199.3ms inference, 2.3ms postprocess per image at shape (1, 3, 480, 640)\n",
      "\n",
      "0: 480x640 (no detections), 225.8ms\n",
      "Speed: 5.2ms preprocess, 225.8ms inference, 1.0ms postprocess per image at shape (1, 3, 480, 640)\n",
      "\n",
      "0: 480x640 1 Il/elle somnole, 193.4ms\n",
      "Speed: 3.0ms preprocess, 193.4ms inference, 1.0ms postprocess per image at shape (1, 3, 480, 640)\n",
      "\n",
      "0: 480x640 1 Il/elle somnole, 203.1ms\n",
      "Speed: 4.0ms preprocess, 203.1ms inference, 1.0ms postprocess per image at shape (1, 3, 480, 640)\n",
      "\n",
      "0: 480x640 1 Il/elle somnole, 193.5ms\n",
      "Speed: 4.0ms preprocess, 193.5ms inference, 1.5ms postprocess per image at shape (1, 3, 480, 640)\n",
      "\n",
      "0: 480x640 (no detections), 190.2ms\n",
      "Speed: 3.0ms preprocess, 190.2ms inference, 1.0ms postprocess per image at shape (1, 3, 480, 640)\n",
      "\n",
      "0: 480x640 (no detections), 181.7ms\n",
      "Speed: 4.3ms preprocess, 181.7ms inference, 1.0ms postprocess per image at shape (1, 3, 480, 640)\n",
      "\n",
      "0: 480x640 1 Il/elle somnole, 194.2ms\n",
      "Speed: 2.1ms preprocess, 194.2ms inference, 1.0ms postprocess per image at shape (1, 3, 480, 640)\n",
      "\n",
      "0: 480x640 1 Il/elle somnole, 189.1ms\n",
      "Speed: 3.4ms preprocess, 189.1ms inference, 1.0ms postprocess per image at shape (1, 3, 480, 640)\n",
      "\n",
      "0: 480x640 (no detections), 210.7ms\n",
      "Speed: 3.0ms preprocess, 210.7ms inference, 1.0ms postprocess per image at shape (1, 3, 480, 640)\n",
      "\n",
      "0: 480x640 1 Il/elle somnole, 183.9ms\n",
      "Speed: 4.4ms preprocess, 183.9ms inference, 1.0ms postprocess per image at shape (1, 3, 480, 640)\n",
      "\n",
      "0: 480x640 (no detections), 192.2ms\n",
      "Speed: 3.2ms preprocess, 192.2ms inference, 0.0ms postprocess per image at shape (1, 3, 480, 640)\n",
      "\n",
      "0: 480x640 1 Il/elle somnole, 190.0ms\n",
      "Speed: 4.0ms preprocess, 190.0ms inference, 1.0ms postprocess per image at shape (1, 3, 480, 640)\n",
      "\n",
      "0: 480x640 (no detections), 199.9ms\n",
      "Speed: 3.0ms preprocess, 199.9ms inference, 1.0ms postprocess per image at shape (1, 3, 480, 640)\n",
      "\n",
      "0: 480x640 (no detections), 186.6ms\n",
      "Speed: 3.5ms preprocess, 186.6ms inference, 1.0ms postprocess per image at shape (1, 3, 480, 640)\n",
      "\n",
      "0: 480x640 1 Il/elle somnole, 191.2ms\n",
      "Speed: 3.5ms preprocess, 191.2ms inference, 1.3ms postprocess per image at shape (1, 3, 480, 640)\n",
      "\n",
      "0: 480x640 1 Il/elle somnole, 203.8ms\n",
      "Speed: 3.0ms preprocess, 203.8ms inference, 2.0ms postprocess per image at shape (1, 3, 480, 640)\n",
      "\n",
      "0: 480x640 1 Il/elle somnole, 187.5ms\n",
      "Speed: 4.0ms preprocess, 187.5ms inference, 1.0ms postprocess per image at shape (1, 3, 480, 640)\n",
      "\n",
      "0: 480x640 1 Il/elle somnole, 191.8ms\n",
      "Speed: 4.0ms preprocess, 191.8ms inference, 2.6ms postprocess per image at shape (1, 3, 480, 640)\n",
      "\n",
      "0: 480x640 1 Il/elle somnole, 196.0ms\n",
      "Speed: 4.1ms preprocess, 196.0ms inference, 1.0ms postprocess per image at shape (1, 3, 480, 640)\n",
      "\n",
      "0: 480x640 1 Il/elle somnole, 190.0ms\n",
      "Speed: 4.5ms preprocess, 190.0ms inference, 2.0ms postprocess per image at shape (1, 3, 480, 640)\n",
      "\n",
      "0: 480x640 1 Il/elle somnole, 223.7ms\n",
      "Speed: 3.0ms preprocess, 223.7ms inference, 2.1ms postprocess per image at shape (1, 3, 480, 640)\n",
      "\n",
      "0: 480x640 1 Il/elle somnole, 180.5ms\n",
      "Speed: 3.5ms preprocess, 180.5ms inference, 1.0ms postprocess per image at shape (1, 3, 480, 640)\n",
      "\n",
      "0: 480x640 1 Il/elle somnole, 189.0ms\n",
      "Speed: 4.0ms preprocess, 189.0ms inference, 2.2ms postprocess per image at shape (1, 3, 480, 640)\n",
      "\n",
      "0: 480x640 1 Il/elle somnole, 180.2ms\n",
      "Speed: 4.2ms preprocess, 180.2ms inference, 2.0ms postprocess per image at shape (1, 3, 480, 640)\n",
      "\n",
      "0: 480x640 1 Il/elle somnole, 192.4ms\n",
      "Speed: 3.7ms preprocess, 192.4ms inference, 2.0ms postprocess per image at shape (1, 3, 480, 640)\n",
      "\n",
      "0: 480x640 1 Il/elle somnole, 204.5ms\n",
      "Speed: 2.0ms preprocess, 204.5ms inference, 1.0ms postprocess per image at shape (1, 3, 480, 640)\n",
      "\n",
      "0: 480x640 1 Il/elle somnole, 196.1ms\n",
      "Speed: 3.8ms preprocess, 196.1ms inference, 2.1ms postprocess per image at shape (1, 3, 480, 640)\n",
      "\n",
      "0: 480x640 1 Il/elle somnole, 184.5ms\n",
      "Speed: 4.0ms preprocess, 184.5ms inference, 1.0ms postprocess per image at shape (1, 3, 480, 640)\n",
      "\n",
      "0: 480x640 1 Il/elle somnole, 184.7ms\n",
      "Speed: 3.4ms preprocess, 184.7ms inference, 1.0ms postprocess per image at shape (1, 3, 480, 640)\n",
      "\n",
      "0: 480x640 1 Il/elle somnole, 184.0ms\n",
      "Speed: 2.3ms preprocess, 184.0ms inference, 2.0ms postprocess per image at shape (1, 3, 480, 640)\n",
      "\n",
      "0: 480x640 1 Il/elle somnole, 185.6ms\n",
      "Speed: 3.0ms preprocess, 185.6ms inference, 1.0ms postprocess per image at shape (1, 3, 480, 640)\n",
      "\n",
      "0: 480x640 1 Il/elle somnole, 189.7ms\n",
      "Speed: 3.5ms preprocess, 189.7ms inference, 2.0ms postprocess per image at shape (1, 3, 480, 640)\n",
      "\n",
      "0: 480x640 1 Il/elle somnole, 184.3ms\n",
      "Speed: 3.0ms preprocess, 184.3ms inference, 2.0ms postprocess per image at shape (1, 3, 480, 640)\n",
      "\n",
      "0: 480x640 1 Il/elle somnole, 185.0ms\n",
      "Speed: 4.0ms preprocess, 185.0ms inference, 1.0ms postprocess per image at shape (1, 3, 480, 640)\n",
      "\n",
      "0: 480x640 1 Il/elle somnole, 185.0ms\n",
      "Speed: 4.0ms preprocess, 185.0ms inference, 2.0ms postprocess per image at shape (1, 3, 480, 640)\n",
      "\n",
      "0: 480x640 1 Il/elle somnole, 185.4ms\n",
      "Speed: 3.0ms preprocess, 185.4ms inference, 1.0ms postprocess per image at shape (1, 3, 480, 640)\n",
      "\n",
      "0: 480x640 1 Il/elle somnole, 194.0ms\n",
      "Speed: 3.0ms preprocess, 194.0ms inference, 2.0ms postprocess per image at shape (1, 3, 480, 640)\n",
      "\n",
      "0: 480x640 1 Il/elle somnole, 191.9ms\n",
      "Speed: 4.0ms preprocess, 191.9ms inference, 1.0ms postprocess per image at shape (1, 3, 480, 640)\n",
      "\n",
      "0: 480x640 1 Il/elle somnole, 190.5ms\n",
      "Speed: 3.0ms preprocess, 190.5ms inference, 1.0ms postprocess per image at shape (1, 3, 480, 640)\n",
      "\n",
      "0: 480x640 1 Il/elle somnole, 190.1ms\n",
      "Speed: 3.0ms preprocess, 190.1ms inference, 1.0ms postprocess per image at shape (1, 3, 480, 640)\n",
      "\n",
      "0: 480x640 (no detections), 223.6ms\n",
      "Speed: 4.3ms preprocess, 223.6ms inference, 1.0ms postprocess per image at shape (1, 3, 480, 640)\n",
      "\n",
      "0: 480x640 (no detections), 183.8ms\n",
      "Speed: 3.0ms preprocess, 183.8ms inference, 1.0ms postprocess per image at shape (1, 3, 480, 640)\n",
      "\n",
      "0: 480x640 1 Il/elle somnole, 192.9ms\n",
      "Speed: 4.0ms preprocess, 192.9ms inference, 1.0ms postprocess per image at shape (1, 3, 480, 640)\n",
      "\n",
      "0: 480x640 (no detections), 223.6ms\n",
      "Speed: 6.4ms preprocess, 223.6ms inference, 2.0ms postprocess per image at shape (1, 3, 480, 640)\n",
      "\n",
      "0: 480x640 (no detections), 208.6ms\n",
      "Speed: 4.4ms preprocess, 208.6ms inference, 1.0ms postprocess per image at shape (1, 3, 480, 640)\n",
      "\n",
      "0: 480x640 (no detections), 200.0ms\n",
      "Speed: 3.0ms preprocess, 200.0ms inference, 1.0ms postprocess per image at shape (1, 3, 480, 640)\n",
      "\n",
      "0: 480x640 1 Il/elle somnole, 184.8ms\n",
      "Speed: 3.3ms preprocess, 184.8ms inference, 2.0ms postprocess per image at shape (1, 3, 480, 640)\n",
      "\n",
      "0: 480x640 (no detections), 187.5ms\n",
      "Speed: 3.8ms preprocess, 187.5ms inference, 1.0ms postprocess per image at shape (1, 3, 480, 640)\n",
      "\n",
      "0: 480x640 (no detections), 193.0ms\n",
      "Speed: 3.0ms preprocess, 193.0ms inference, 1.0ms postprocess per image at shape (1, 3, 480, 640)\n",
      "\n",
      "0: 480x640 1 Il/elle somnole, 186.6ms\n",
      "Speed: 3.7ms preprocess, 186.6ms inference, 1.0ms postprocess per image at shape (1, 3, 480, 640)\n",
      "\n",
      "0: 480x640 1 Il/elle somnole, 188.8ms\n",
      "Speed: 4.5ms preprocess, 188.8ms inference, 1.0ms postprocess per image at shape (1, 3, 480, 640)\n",
      "\n",
      "0: 480x640 (no detections), 186.2ms\n",
      "Speed: 3.5ms preprocess, 186.2ms inference, 1.0ms postprocess per image at shape (1, 3, 480, 640)\n",
      "\n",
      "0: 480x640 (no detections), 188.6ms\n",
      "Speed: 3.4ms preprocess, 188.6ms inference, 1.0ms postprocess per image at shape (1, 3, 480, 640)\n",
      "\n",
      "0: 480x640 (no detections), 186.8ms\n",
      "Speed: 3.0ms preprocess, 186.8ms inference, 1.0ms postprocess per image at shape (1, 3, 480, 640)\n",
      "\n",
      "0: 480x640 (no detections), 190.8ms\n",
      "Speed: 3.0ms preprocess, 190.8ms inference, 1.0ms postprocess per image at shape (1, 3, 480, 640)\n",
      "\n",
      "0: 480x640 (no detections), 185.5ms\n",
      "Speed: 3.0ms preprocess, 185.5ms inference, 1.0ms postprocess per image at shape (1, 3, 480, 640)\n",
      "\n",
      "0: 480x640 (no detections), 190.3ms\n",
      "Speed: 3.0ms preprocess, 190.3ms inference, 1.0ms postprocess per image at shape (1, 3, 480, 640)\n",
      "\n",
      "0: 480x640 1 Il/elle somnole, 186.6ms\n",
      "Speed: 4.8ms preprocess, 186.6ms inference, 2.0ms postprocess per image at shape (1, 3, 480, 640)\n",
      "\n",
      "0: 480x640 (no detections), 181.7ms\n",
      "Speed: 3.5ms preprocess, 181.7ms inference, 1.0ms postprocess per image at shape (1, 3, 480, 640)\n",
      "\n",
      "0: 480x640 (no detections), 236.1ms\n",
      "Speed: 3.0ms preprocess, 236.1ms inference, 1.0ms postprocess per image at shape (1, 3, 480, 640)\n",
      "\n",
      "0: 480x640 (no detections), 192.8ms\n",
      "Speed: 3.0ms preprocess, 192.8ms inference, 1.0ms postprocess per image at shape (1, 3, 480, 640)\n",
      "\n",
      "0: 480x640 (no detections), 201.0ms\n",
      "Speed: 5.2ms preprocess, 201.0ms inference, 1.0ms postprocess per image at shape (1, 3, 480, 640)\n",
      "\n",
      "0: 480x640 (no detections), 190.2ms\n",
      "Speed: 4.5ms preprocess, 190.2ms inference, 1.0ms postprocess per image at shape (1, 3, 480, 640)\n",
      "\n",
      "0: 480x640 (no detections), 180.2ms\n",
      "Speed: 3.2ms preprocess, 180.2ms inference, 1.0ms postprocess per image at shape (1, 3, 480, 640)\n",
      "\n",
      "0: 480x640 (no detections), 192.9ms\n",
      "Speed: 4.6ms preprocess, 192.9ms inference, 1.0ms postprocess per image at shape (1, 3, 480, 640)\n",
      "\n",
      "0: 480x640 (no detections), 191.1ms\n",
      "Speed: 2.0ms preprocess, 191.1ms inference, 1.0ms postprocess per image at shape (1, 3, 480, 640)\n",
      "\n",
      "0: 480x640 (no detections), 187.3ms\n",
      "Speed: 3.1ms preprocess, 187.3ms inference, 1.0ms postprocess per image at shape (1, 3, 480, 640)\n",
      "\n",
      "0: 480x640 (no detections), 189.0ms\n",
      "Speed: 6.3ms preprocess, 189.0ms inference, 1.0ms postprocess per image at shape (1, 3, 480, 640)\n",
      "\n",
      "0: 480x640 (no detections), 194.1ms\n",
      "Speed: 7.6ms preprocess, 194.1ms inference, 0.5ms postprocess per image at shape (1, 3, 480, 640)\n",
      "\n",
      "0: 480x640 (no detections), 195.5ms\n",
      "Speed: 3.0ms preprocess, 195.5ms inference, 1.0ms postprocess per image at shape (1, 3, 480, 640)\n",
      "\n",
      "0: 480x640 (no detections), 193.9ms\n",
      "Speed: 3.5ms preprocess, 193.9ms inference, 1.0ms postprocess per image at shape (1, 3, 480, 640)\n",
      "\n",
      "0: 480x640 (no detections), 182.6ms\n",
      "Speed: 3.0ms preprocess, 182.6ms inference, 1.0ms postprocess per image at shape (1, 3, 480, 640)\n",
      "\n",
      "0: 480x640 (no detections), 176.8ms\n",
      "Speed: 2.8ms preprocess, 176.8ms inference, 1.0ms postprocess per image at shape (1, 3, 480, 640)\n",
      "\n",
      "0: 480x640 (no detections), 189.7ms\n",
      "Speed: 3.5ms preprocess, 189.7ms inference, 1.2ms postprocess per image at shape (1, 3, 480, 640)\n",
      "\n",
      "0: 480x640 (no detections), 185.0ms\n",
      "Speed: 3.0ms preprocess, 185.0ms inference, 1.0ms postprocess per image at shape (1, 3, 480, 640)\n",
      "\n",
      "0: 480x640 (no detections), 191.4ms\n",
      "Speed: 6.3ms preprocess, 191.4ms inference, 1.0ms postprocess per image at shape (1, 3, 480, 640)\n",
      "\n",
      "0: 480x640 (no detections), 196.8ms\n",
      "Speed: 2.5ms preprocess, 196.8ms inference, 1.5ms postprocess per image at shape (1, 3, 480, 640)\n",
      "\n",
      "0: 480x640 1 Il/elle somnole, 180.7ms\n",
      "Speed: 3.0ms preprocess, 180.7ms inference, 2.0ms postprocess per image at shape (1, 3, 480, 640)\n",
      "\n",
      "0: 480x640 1 Il/elle somnole, 196.4ms\n",
      "Speed: 4.3ms preprocess, 196.4ms inference, 1.0ms postprocess per image at shape (1, 3, 480, 640)\n",
      "\n",
      "0: 480x640 1 Il/elle somnole, 256.3ms\n",
      "Speed: 8.2ms preprocess, 256.3ms inference, 1.0ms postprocess per image at shape (1, 3, 480, 640)\n",
      "\n",
      "0: 480x640 1 Il/elle somnole, 199.7ms\n",
      "Speed: 3.3ms preprocess, 199.7ms inference, 1.0ms postprocess per image at shape (1, 3, 480, 640)\n",
      "\n",
      "0: 480x640 1 Il/elle somnole, 187.8ms\n",
      "Speed: 2.0ms preprocess, 187.8ms inference, 2.0ms postprocess per image at shape (1, 3, 480, 640)\n",
      "\n",
      "0: 480x640 1 Il/elle somnole, 189.6ms\n",
      "Speed: 5.5ms preprocess, 189.6ms inference, 1.0ms postprocess per image at shape (1, 3, 480, 640)\n",
      "\n",
      "0: 480x640 1 Il/elle somnole, 202.4ms\n",
      "Speed: 3.0ms preprocess, 202.4ms inference, 1.0ms postprocess per image at shape (1, 3, 480, 640)\n",
      "\n",
      "0: 480x640 1 Il/elle somnole, 192.2ms\n",
      "Speed: 4.0ms preprocess, 192.2ms inference, 2.3ms postprocess per image at shape (1, 3, 480, 640)\n",
      "\n",
      "0: 480x640 1 Il/elle somnole, 195.0ms\n",
      "Speed: 3.0ms preprocess, 195.0ms inference, 2.0ms postprocess per image at shape (1, 3, 480, 640)\n",
      "\n",
      "0: 480x640 (no detections), 178.9ms\n",
      "Speed: 3.0ms preprocess, 178.9ms inference, 1.0ms postprocess per image at shape (1, 3, 480, 640)\n",
      "\n",
      "0: 480x640 (no detections), 208.6ms\n",
      "Speed: 2.8ms preprocess, 208.6ms inference, 1.0ms postprocess per image at shape (1, 3, 480, 640)\n",
      "\n",
      "0: 480x640 (no detections), 180.4ms\n",
      "Speed: 3.0ms preprocess, 180.4ms inference, 1.0ms postprocess per image at shape (1, 3, 480, 640)\n",
      "\n",
      "0: 480x640 (no detections), 175.3ms\n",
      "Speed: 4.9ms preprocess, 175.3ms inference, 1.0ms postprocess per image at shape (1, 3, 480, 640)\n",
      "\n",
      "0: 480x640 (no detections), 190.6ms\n",
      "Speed: 3.0ms preprocess, 190.6ms inference, 1.5ms postprocess per image at shape (1, 3, 480, 640)\n",
      "\n",
      "0: 480x640 (no detections), 187.6ms\n",
      "Speed: 3.0ms preprocess, 187.6ms inference, 1.0ms postprocess per image at shape (1, 3, 480, 640)\n",
      "\n",
      "0: 480x640 (no detections), 195.5ms\n",
      "Speed: 6.4ms preprocess, 195.5ms inference, 1.0ms postprocess per image at shape (1, 3, 480, 640)\n",
      "\n",
      "0: 480x640 (no detections), 193.3ms\n",
      "Speed: 3.4ms preprocess, 193.3ms inference, 1.0ms postprocess per image at shape (1, 3, 480, 640)\n",
      "\n",
      "0: 480x640 (no detections), 182.5ms\n",
      "Speed: 5.6ms preprocess, 182.5ms inference, 1.0ms postprocess per image at shape (1, 3, 480, 640)\n",
      "\n",
      "0: 480x640 (no detections), 195.8ms\n",
      "Speed: 3.0ms preprocess, 195.8ms inference, 1.0ms postprocess per image at shape (1, 3, 480, 640)\n",
      "\n",
      "0: 480x640 (no detections), 183.7ms\n",
      "Speed: 3.1ms preprocess, 183.7ms inference, 1.0ms postprocess per image at shape (1, 3, 480, 640)\n",
      "\n",
      "0: 480x640 (no detections), 197.3ms\n",
      "Speed: 4.0ms preprocess, 197.3ms inference, 1.0ms postprocess per image at shape (1, 3, 480, 640)\n",
      "\n",
      "0: 480x640 (no detections), 186.4ms\n",
      "Speed: 5.0ms preprocess, 186.4ms inference, 1.0ms postprocess per image at shape (1, 3, 480, 640)\n",
      "\n",
      "0: 480x640 1 Il/elle somnole, 232.5ms\n",
      "Speed: 4.3ms preprocess, 232.5ms inference, 1.1ms postprocess per image at shape (1, 3, 480, 640)\n",
      "\n",
      "0: 480x640 1 Il/elle somnole, 192.1ms\n",
      "Speed: 3.3ms preprocess, 192.1ms inference, 1.0ms postprocess per image at shape (1, 3, 480, 640)\n",
      "\n",
      "0: 480x640 1 Il/elle somnole, 193.3ms\n",
      "Speed: 3.3ms preprocess, 193.3ms inference, 2.0ms postprocess per image at shape (1, 3, 480, 640)\n",
      "\n",
      "0: 480x640 1 Il/elle somnole, 192.0ms\n",
      "Speed: 2.2ms preprocess, 192.0ms inference, 2.0ms postprocess per image at shape (1, 3, 480, 640)\n",
      "\n",
      "0: 480x640 1 Il/elle somnole, 191.8ms\n",
      "Speed: 2.8ms preprocess, 191.8ms inference, 1.0ms postprocess per image at shape (1, 3, 480, 640)\n",
      "\n",
      "0: 480x640 1 Il/elle somnole, 190.7ms\n",
      "Speed: 4.0ms preprocess, 190.7ms inference, 2.0ms postprocess per image at shape (1, 3, 480, 640)\n",
      "\n",
      "0: 480x640 1 Il/elle somnole, 182.8ms\n",
      "Speed: 5.3ms preprocess, 182.8ms inference, 1.0ms postprocess per image at shape (1, 3, 480, 640)\n",
      "\n",
      "0: 480x640 1 Il/elle somnole, 183.7ms\n",
      "Speed: 5.0ms preprocess, 183.7ms inference, 1.0ms postprocess per image at shape (1, 3, 480, 640)\n",
      "\n",
      "0: 480x640 1 Il/elle somnole, 202.5ms\n",
      "Speed: 4.0ms preprocess, 202.5ms inference, 2.0ms postprocess per image at shape (1, 3, 480, 640)\n",
      "\n",
      "0: 480x640 1 Il/elle somnole, 185.9ms\n",
      "Speed: 3.0ms preprocess, 185.9ms inference, 2.0ms postprocess per image at shape (1, 3, 480, 640)\n",
      "\n",
      "0: 480x640 1 Il/elle somnole, 200.5ms\n",
      "Speed: 3.6ms preprocess, 200.5ms inference, 2.0ms postprocess per image at shape (1, 3, 480, 640)\n",
      "\n",
      "0: 480x640 1 Il/elle somnole, 192.4ms\n",
      "Speed: 3.0ms preprocess, 192.4ms inference, 1.0ms postprocess per image at shape (1, 3, 480, 640)\n",
      "\n",
      "0: 480x640 1 Il/elle somnole, 185.5ms\n",
      "Speed: 3.0ms preprocess, 185.5ms inference, 1.0ms postprocess per image at shape (1, 3, 480, 640)\n",
      "\n",
      "0: 480x640 1 Il/elle somnole, 185.4ms\n",
      "Speed: 3.6ms preprocess, 185.4ms inference, 1.0ms postprocess per image at shape (1, 3, 480, 640)\n",
      "\n",
      "0: 480x640 1 Il/elle somnole, 199.5ms\n",
      "Speed: 3.0ms preprocess, 199.5ms inference, 1.0ms postprocess per image at shape (1, 3, 480, 640)\n",
      "\n",
      "0: 480x640 1 Il/elle somnole, 187.9ms\n",
      "Speed: 4.0ms preprocess, 187.9ms inference, 2.0ms postprocess per image at shape (1, 3, 480, 640)\n",
      "\n",
      "0: 480x640 1 Il/elle somnole, 187.7ms\n",
      "Speed: 3.4ms preprocess, 187.7ms inference, 1.0ms postprocess per image at shape (1, 3, 480, 640)\n",
      "\n",
      "0: 480x640 1 Il/elle somnole, 199.1ms\n",
      "Speed: 3.0ms preprocess, 199.1ms inference, 2.0ms postprocess per image at shape (1, 3, 480, 640)\n",
      "\n",
      "0: 480x640 1 Il/elle somnole, 224.6ms\n",
      "Speed: 3.0ms preprocess, 224.6ms inference, 1.2ms postprocess per image at shape (1, 3, 480, 640)\n",
      "\n",
      "0: 480x640 1 Il/elle somnole, 190.8ms\n",
      "Speed: 5.3ms preprocess, 190.8ms inference, 1.7ms postprocess per image at shape (1, 3, 480, 640)\n",
      "\n",
      "0: 480x640 1 Il/elle somnole, 211.1ms\n",
      "Speed: 4.0ms preprocess, 211.1ms inference, 1.0ms postprocess per image at shape (1, 3, 480, 640)\n",
      "\n",
      "0: 480x640 1 Il/elle somnole, 171.8ms\n",
      "Speed: 3.0ms preprocess, 171.8ms inference, 1.5ms postprocess per image at shape (1, 3, 480, 640)\n",
      "\n",
      "0: 480x640 1 Il/elle somnole, 192.0ms\n",
      "Speed: 3.0ms preprocess, 192.0ms inference, 1.0ms postprocess per image at shape (1, 3, 480, 640)\n",
      "\n",
      "0: 480x640 1 Il/elle somnole, 195.1ms\n",
      "Speed: 4.7ms preprocess, 195.1ms inference, 1.0ms postprocess per image at shape (1, 3, 480, 640)\n",
      "\n",
      "0: 480x640 (no detections), 193.0ms\n",
      "Speed: 4.0ms preprocess, 193.0ms inference, 1.0ms postprocess per image at shape (1, 3, 480, 640)\n",
      "\n",
      "0: 480x640 1 Il/elle somnole, 186.2ms\n",
      "Speed: 4.4ms preprocess, 186.2ms inference, 1.0ms postprocess per image at shape (1, 3, 480, 640)\n",
      "\n",
      "0: 480x640 1 Il/elle somnole, 193.6ms\n",
      "Speed: 3.2ms preprocess, 193.6ms inference, 2.0ms postprocess per image at shape (1, 3, 480, 640)\n",
      "\n",
      "0: 480x640 (no detections), 191.2ms\n",
      "Speed: 3.0ms preprocess, 191.2ms inference, 1.0ms postprocess per image at shape (1, 3, 480, 640)\n",
      "\n",
      "0: 480x640 1 Il/elle somnole, 200.6ms\n",
      "Speed: 4.3ms preprocess, 200.6ms inference, 1.0ms postprocess per image at shape (1, 3, 480, 640)\n",
      "\n",
      "0: 480x640 (no detections), 200.5ms\n",
      "Speed: 4.3ms preprocess, 200.5ms inference, 1.0ms postprocess per image at shape (1, 3, 480, 640)\n",
      "\n",
      "0: 480x640 (no detections), 193.7ms\n",
      "Speed: 5.7ms preprocess, 193.7ms inference, 1.7ms postprocess per image at shape (1, 3, 480, 640)\n",
      "\n",
      "0: 480x640 (no detections), 189.1ms\n",
      "Speed: 3.0ms preprocess, 189.1ms inference, 1.7ms postprocess per image at shape (1, 3, 480, 640)\n",
      "\n",
      "0: 480x640 (no detections), 189.2ms\n",
      "Speed: 3.0ms preprocess, 189.2ms inference, 1.0ms postprocess per image at shape (1, 3, 480, 640)\n",
      "\n",
      "0: 480x640 (no detections), 186.4ms\n",
      "Speed: 3.0ms preprocess, 186.4ms inference, 1.0ms postprocess per image at shape (1, 3, 480, 640)\n",
      "\n",
      "0: 480x640 (no detections), 194.4ms\n",
      "Speed: 4.0ms preprocess, 194.4ms inference, 1.0ms postprocess per image at shape (1, 3, 480, 640)\n",
      "\n",
      "0: 480x640 (no detections), 202.7ms\n",
      "Speed: 3.0ms preprocess, 202.7ms inference, 1.2ms postprocess per image at shape (1, 3, 480, 640)\n",
      "\n",
      "0: 480x640 1 Il/elle dort sur la gauche, 240.1ms\n",
      "Speed: 3.0ms preprocess, 240.1ms inference, 1.0ms postprocess per image at shape (1, 3, 480, 640)\n",
      "\n",
      "0: 480x640 (no detections), 206.5ms\n",
      "Speed: 3.1ms preprocess, 206.5ms inference, 1.0ms postprocess per image at shape (1, 3, 480, 640)\n",
      "\n",
      "0: 480x640 1 Il/elle dort sur le dos, 193.7ms\n",
      "Speed: 3.1ms preprocess, 193.7ms inference, 1.0ms postprocess per image at shape (1, 3, 480, 640)\n",
      "\n",
      "0: 480x640 1 Il/elle dort sur le dos, 203.7ms\n",
      "Speed: 3.0ms preprocess, 203.7ms inference, 2.0ms postprocess per image at shape (1, 3, 480, 640)\n",
      "\n",
      "0: 480x640 1 Il/elle dort sur le dos, 199.1ms\n",
      "Speed: 6.0ms preprocess, 199.1ms inference, 1.9ms postprocess per image at shape (1, 3, 480, 640)\n",
      "\n",
      "0: 480x640 (no detections), 201.1ms\n",
      "Speed: 3.5ms preprocess, 201.1ms inference, 1.0ms postprocess per image at shape (1, 3, 480, 640)\n",
      "\n",
      "0: 480x640 1 Il/elle somnole, 199.2ms\n",
      "Speed: 2.0ms preprocess, 199.2ms inference, 2.4ms postprocess per image at shape (1, 3, 480, 640)\n",
      "\n",
      "0: 480x640 1 Il/elle somnole, 188.8ms\n",
      "Speed: 4.4ms preprocess, 188.8ms inference, 1.0ms postprocess per image at shape (1, 3, 480, 640)\n",
      "\n",
      "0: 480x640 1 Il/elle somnole, 198.3ms\n",
      "Speed: 3.0ms preprocess, 198.3ms inference, 1.0ms postprocess per image at shape (1, 3, 480, 640)\n",
      "\n",
      "0: 480x640 1 Il/elle dort sur le dos, 1 Il/elle somnole, 190.9ms\n",
      "Speed: 4.4ms preprocess, 190.9ms inference, 1.0ms postprocess per image at shape (1, 3, 480, 640)\n",
      "\n",
      "0: 480x640 1 Il/elle dort sur le dos, 1 Il/elle somnole, 188.7ms\n",
      "Speed: 2.0ms preprocess, 188.7ms inference, 1.5ms postprocess per image at shape (1, 3, 480, 640)\n",
      "\n",
      "0: 480x640 1 Il/elle somnole, 205.9ms\n",
      "Speed: 3.0ms preprocess, 205.9ms inference, 1.0ms postprocess per image at shape (1, 3, 480, 640)\n",
      "\n",
      "0: 480x640 1 Il/elle somnole, 192.2ms\n",
      "Speed: 3.4ms preprocess, 192.2ms inference, 2.0ms postprocess per image at shape (1, 3, 480, 640)\n",
      "\n",
      "0: 480x640 1 Il/elle somnole, 182.8ms\n",
      "Speed: 3.0ms preprocess, 182.8ms inference, 1.0ms postprocess per image at shape (1, 3, 480, 640)\n",
      "\n",
      "0: 480x640 1 Il/elle somnole, 170.0ms\n",
      "Speed: 3.0ms preprocess, 170.0ms inference, 1.0ms postprocess per image at shape (1, 3, 480, 640)\n",
      "\n",
      "0: 480x640 1 Il/elle somnole, 188.4ms\n",
      "Speed: 3.0ms preprocess, 188.4ms inference, 1.0ms postprocess per image at shape (1, 3, 480, 640)\n",
      "\n",
      "0: 480x640 1 Il/elle somnole, 193.4ms\n",
      "Speed: 3.0ms preprocess, 193.4ms inference, 2.0ms postprocess per image at shape (1, 3, 480, 640)\n",
      "\n",
      "0: 480x640 1 Il/elle somnole, 223.2ms\n",
      "Speed: 3.7ms preprocess, 223.2ms inference, 2.0ms postprocess per image at shape (1, 3, 480, 640)\n",
      "\n",
      "0: 480x640 (no detections), 187.1ms\n",
      "Speed: 3.8ms preprocess, 187.1ms inference, 1.0ms postprocess per image at shape (1, 3, 480, 640)\n",
      "\n",
      "0: 480x640 1 Il/elle dort sur le dos, 1 Il/elle somnole, 187.3ms\n",
      "Speed: 2.0ms preprocess, 187.3ms inference, 2.0ms postprocess per image at shape (1, 3, 480, 640)\n",
      "\n",
      "0: 480x640 1 Il/elle somnole, 178.5ms\n",
      "Speed: 4.4ms preprocess, 178.5ms inference, 2.0ms postprocess per image at shape (1, 3, 480, 640)\n",
      "\n",
      "0: 480x640 1 Il/elle dort sur le dos, 1 Il/elle somnole, 195.4ms\n",
      "Speed: 4.0ms preprocess, 195.4ms inference, 1.2ms postprocess per image at shape (1, 3, 480, 640)\n",
      "\n",
      "0: 480x640 1 Il/elle somnole, 187.5ms\n",
      "Speed: 4.4ms preprocess, 187.5ms inference, 1.0ms postprocess per image at shape (1, 3, 480, 640)\n",
      "\n",
      "0: 480x640 1 Il/elle somnole, 210.1ms\n",
      "Speed: 3.6ms preprocess, 210.1ms inference, 2.0ms postprocess per image at shape (1, 3, 480, 640)\n",
      "\n",
      "0: 480x640 1 Il/elle somnole, 194.0ms\n",
      "Speed: 7.4ms preprocess, 194.0ms inference, 1.0ms postprocess per image at shape (1, 3, 480, 640)\n",
      "\n",
      "0: 480x640 1 Il/elle somnole, 177.1ms\n",
      "Speed: 4.1ms preprocess, 177.1ms inference, 2.0ms postprocess per image at shape (1, 3, 480, 640)\n",
      "\n",
      "0: 480x640 1 Il/elle somnole, 185.2ms\n",
      "Speed: 4.6ms preprocess, 185.2ms inference, 2.0ms postprocess per image at shape (1, 3, 480, 640)\n",
      "\n",
      "0: 480x640 1 Il/elle somnole, 192.1ms\n",
      "Speed: 5.7ms preprocess, 192.1ms inference, 2.0ms postprocess per image at shape (1, 3, 480, 640)\n",
      "\n",
      "0: 480x640 1 Il/elle somnole, 182.9ms\n",
      "Speed: 3.0ms preprocess, 182.9ms inference, 1.5ms postprocess per image at shape (1, 3, 480, 640)\n",
      "\n",
      "0: 480x640 1 Il/elle somnole, 188.1ms\n",
      "Speed: 4.5ms preprocess, 188.1ms inference, 1.0ms postprocess per image at shape (1, 3, 480, 640)\n",
      "\n",
      "0: 480x640 1 Il/elle somnole, 186.9ms\n",
      "Speed: 3.0ms preprocess, 186.9ms inference, 2.0ms postprocess per image at shape (1, 3, 480, 640)\n",
      "\n",
      "0: 480x640 (no detections), 187.3ms\n",
      "Speed: 3.0ms preprocess, 187.3ms inference, 1.3ms postprocess per image at shape (1, 3, 480, 640)\n",
      "\n",
      "0: 480x640 1 Il/elle somnole, 178.5ms\n",
      "Speed: 3.0ms preprocess, 178.5ms inference, 1.0ms postprocess per image at shape (1, 3, 480, 640)\n",
      "\n",
      "0: 480x640 (no detections), 184.1ms\n",
      "Speed: 4.0ms preprocess, 184.1ms inference, 1.0ms postprocess per image at shape (1, 3, 480, 640)\n",
      "\n",
      "0: 480x640 1 Il/elle somnole, 219.3ms\n",
      "Speed: 3.4ms preprocess, 219.3ms inference, 2.3ms postprocess per image at shape (1, 3, 480, 640)\n",
      "\n",
      "0: 480x640 (no detections), 194.7ms\n",
      "Speed: 4.1ms preprocess, 194.7ms inference, 1.0ms postprocess per image at shape (1, 3, 480, 640)\n",
      "\n",
      "0: 480x640 (no detections), 178.7ms\n",
      "Speed: 3.0ms preprocess, 178.7ms inference, 2.0ms postprocess per image at shape (1, 3, 480, 640)\n",
      "\n",
      "0: 480x640 (no detections), 186.7ms\n",
      "Speed: 4.5ms preprocess, 186.7ms inference, 1.0ms postprocess per image at shape (1, 3, 480, 640)\n",
      "\n",
      "0: 480x640 (no detections), 184.8ms\n",
      "Speed: 3.8ms preprocess, 184.8ms inference, 1.0ms postprocess per image at shape (1, 3, 480, 640)\n",
      "\n",
      "0: 480x640 (no detections), 192.7ms\n",
      "Speed: 4.5ms preprocess, 192.7ms inference, 1.0ms postprocess per image at shape (1, 3, 480, 640)\n",
      "\n",
      "0: 480x640 (no detections), 184.6ms\n",
      "Speed: 2.0ms preprocess, 184.6ms inference, 1.0ms postprocess per image at shape (1, 3, 480, 640)\n",
      "\n",
      "0: 480x640 (no detections), 184.2ms\n",
      "Speed: 2.9ms preprocess, 184.2ms inference, 1.8ms postprocess per image at shape (1, 3, 480, 640)\n",
      "\n",
      "0: 480x640 (no detections), 189.6ms\n",
      "Speed: 4.4ms preprocess, 189.6ms inference, 1.0ms postprocess per image at shape (1, 3, 480, 640)\n",
      "\n",
      "0: 480x640 (no detections), 185.7ms\n",
      "Speed: 3.5ms preprocess, 185.7ms inference, 0.0ms postprocess per image at shape (1, 3, 480, 640)\n",
      "\n",
      "0: 480x640 (no detections), 191.7ms\n",
      "Speed: 3.0ms preprocess, 191.7ms inference, 1.9ms postprocess per image at shape (1, 3, 480, 640)\n",
      "\n",
      "0: 480x640 (no detections), 186.4ms\n",
      "Speed: 3.0ms preprocess, 186.4ms inference, 1.0ms postprocess per image at shape (1, 3, 480, 640)\n",
      "\n",
      "0: 480x640 (no detections), 209.3ms\n",
      "Speed: 3.5ms preprocess, 209.3ms inference, 1.0ms postprocess per image at shape (1, 3, 480, 640)\n",
      "\n",
      "0: 480x640 (no detections), 193.6ms\n",
      "Speed: 3.0ms preprocess, 193.6ms inference, 1.0ms postprocess per image at shape (1, 3, 480, 640)\n",
      "\n",
      "0: 480x640 (no detections), 178.3ms\n",
      "Speed: 4.3ms preprocess, 178.3ms inference, 1.0ms postprocess per image at shape (1, 3, 480, 640)\n",
      "\n",
      "0: 480x640 1 Il/elle dort sur le dos, 193.4ms\n",
      "Speed: 3.5ms preprocess, 193.4ms inference, 2.0ms postprocess per image at shape (1, 3, 480, 640)\n",
      "\n",
      "0: 480x640 (no detections), 183.6ms\n",
      "Speed: 3.0ms preprocess, 183.6ms inference, 0.0ms postprocess per image at shape (1, 3, 480, 640)\n",
      "\n",
      "0: 480x640 (no detections), 194.8ms\n",
      "Speed: 5.4ms preprocess, 194.8ms inference, 1.2ms postprocess per image at shape (1, 3, 480, 640)\n",
      "\n",
      "0: 480x640 (no detections), 216.2ms\n",
      "Speed: 2.0ms preprocess, 216.2ms inference, 1.0ms postprocess per image at shape (1, 3, 480, 640)\n",
      "\n",
      "0: 480x640 1 Il/elle dort sur le dos, 189.9ms\n",
      "Speed: 3.2ms preprocess, 189.9ms inference, 2.0ms postprocess per image at shape (1, 3, 480, 640)\n",
      "\n",
      "0: 480x640 1 Il/elle dort sur le dos, 181.1ms\n",
      "Speed: 2.7ms preprocess, 181.1ms inference, 2.0ms postprocess per image at shape (1, 3, 480, 640)\n",
      "\n",
      "0: 480x640 (no detections), 192.7ms\n",
      "Speed: 3.2ms preprocess, 192.7ms inference, 1.0ms postprocess per image at shape (1, 3, 480, 640)\n",
      "\n",
      "0: 480x640 (no detections), 187.4ms\n",
      "Speed: 2.7ms preprocess, 187.4ms inference, 1.0ms postprocess per image at shape (1, 3, 480, 640)\n",
      "\n",
      "0: 480x640 1 Il/elle somnole, 192.2ms\n",
      "Speed: 3.0ms preprocess, 192.2ms inference, 1.0ms postprocess per image at shape (1, 3, 480, 640)\n",
      "\n",
      "0: 480x640 (no detections), 184.5ms\n",
      "Speed: 5.0ms preprocess, 184.5ms inference, 1.0ms postprocess per image at shape (1, 3, 480, 640)\n",
      "\n",
      "0: 480x640 (no detections), 185.2ms\n",
      "Speed: 9.8ms preprocess, 185.2ms inference, 1.0ms postprocess per image at shape (1, 3, 480, 640)\n",
      "\n",
      "0: 480x640 1 Il/elle somnole, 181.9ms\n",
      "Speed: 4.6ms preprocess, 181.9ms inference, 1.0ms postprocess per image at shape (1, 3, 480, 640)\n",
      "\n",
      "0: 480x640 (no detections), 191.5ms\n",
      "Speed: 4.0ms preprocess, 191.5ms inference, 0.5ms postprocess per image at shape (1, 3, 480, 640)\n",
      "\n",
      "0: 480x640 (no detections), 194.6ms\n",
      "Speed: 3.0ms preprocess, 194.6ms inference, 1.0ms postprocess per image at shape (1, 3, 480, 640)\n",
      "\n",
      "0: 480x640 1 Il/elle somnole, 198.3ms\n",
      "Speed: 2.7ms preprocess, 198.3ms inference, 2.0ms postprocess per image at shape (1, 3, 480, 640)\n",
      "\n",
      "0: 480x640 (no detections), 199.8ms\n",
      "Speed: 4.6ms preprocess, 199.8ms inference, 1.0ms postprocess per image at shape (1, 3, 480, 640)\n",
      "\n",
      "0: 480x640 (no detections), 181.1ms\n",
      "Speed: 5.2ms preprocess, 181.1ms inference, 1.0ms postprocess per image at shape (1, 3, 480, 640)\n",
      "\n",
      "0: 480x640 (no detections), 186.6ms\n",
      "Speed: 3.0ms preprocess, 186.6ms inference, 1.5ms postprocess per image at shape (1, 3, 480, 640)\n",
      "\n",
      "0: 480x640 (no detections), 194.5ms\n",
      "Speed: 3.0ms preprocess, 194.5ms inference, 1.0ms postprocess per image at shape (1, 3, 480, 640)\n",
      "\n",
      "0: 480x640 (no detections), 205.8ms\n",
      "Speed: 4.1ms preprocess, 205.8ms inference, 2.0ms postprocess per image at shape (1, 3, 480, 640)\n",
      "\n",
      "0: 480x640 (no detections), 213.8ms\n",
      "Speed: 4.0ms preprocess, 213.8ms inference, 1.0ms postprocess per image at shape (1, 3, 480, 640)\n",
      "\n",
      "0: 480x640 1 Il/elle somnole, 200.7ms\n",
      "Speed: 3.1ms preprocess, 200.7ms inference, 2.0ms postprocess per image at shape (1, 3, 480, 640)\n",
      "\n",
      "0: 480x640 1 Il/elle dort sur le dos, 188.2ms\n",
      "Speed: 3.0ms preprocess, 188.2ms inference, 2.0ms postprocess per image at shape (1, 3, 480, 640)\n",
      "\n",
      "0: 480x640 1 Il/elle dort sur le dos, 184.6ms\n",
      "Speed: 3.0ms preprocess, 184.6ms inference, 1.0ms postprocess per image at shape (1, 3, 480, 640)\n",
      "\n",
      "0: 480x640 (no detections), 191.0ms\n",
      "Speed: 2.0ms preprocess, 191.0ms inference, 0.0ms postprocess per image at shape (1, 3, 480, 640)\n",
      "\n",
      "0: 480x640 (no detections), 193.8ms\n",
      "Speed: 3.0ms preprocess, 193.8ms inference, 1.0ms postprocess per image at shape (1, 3, 480, 640)\n",
      "\n",
      "0: 480x640 (no detections), 192.3ms\n",
      "Speed: 4.6ms preprocess, 192.3ms inference, 1.0ms postprocess per image at shape (1, 3, 480, 640)\n",
      "\n",
      "0: 480x640 (no detections), 184.2ms\n",
      "Speed: 3.0ms preprocess, 184.2ms inference, 1.0ms postprocess per image at shape (1, 3, 480, 640)\n",
      "\n",
      "0: 480x640 (no detections), 191.6ms\n",
      "Speed: 2.0ms preprocess, 191.6ms inference, 1.0ms postprocess per image at shape (1, 3, 480, 640)\n",
      "\n",
      "0: 480x640 1 Il/elle dort sur le dos, 1 Il/elle somnole, 183.9ms\n",
      "Speed: 3.0ms preprocess, 183.9ms inference, 2.0ms postprocess per image at shape (1, 3, 480, 640)\n",
      "\n",
      "0: 480x640 1 Il/elle somnole, 210.5ms\n",
      "Speed: 3.0ms preprocess, 210.5ms inference, 1.0ms postprocess per image at shape (1, 3, 480, 640)\n",
      "\n",
      "0: 480x640 1 Il/elle somnole, 192.2ms\n",
      "Speed: 4.5ms preprocess, 192.2ms inference, 1.0ms postprocess per image at shape (1, 3, 480, 640)\n",
      "\n",
      "0: 480x640 1 Il/elle somnole, 184.0ms\n",
      "Speed: 2.1ms preprocess, 184.0ms inference, 2.0ms postprocess per image at shape (1, 3, 480, 640)\n",
      "\n",
      "0: 480x640 1 Il/elle dort sur le dos, 1 Il/elle somnole, 192.5ms\n",
      "Speed: 3.1ms preprocess, 192.5ms inference, 1.0ms postprocess per image at shape (1, 3, 480, 640)\n",
      "\n",
      "0: 480x640 1 Il/elle dort sur le dos, 1 Il/elle somnole, 192.1ms\n",
      "Speed: 5.0ms preprocess, 192.1ms inference, 1.0ms postprocess per image at shape (1, 3, 480, 640)\n",
      "\n",
      "0: 480x640 1 Il/elle dort sur le dos, 184.2ms\n",
      "Speed: 3.0ms preprocess, 184.2ms inference, 2.0ms postprocess per image at shape (1, 3, 480, 640)\n",
      "\n",
      "0: 480x640 1 Il/elle dort sur le dos, 215.5ms\n",
      "Speed: 4.4ms preprocess, 215.5ms inference, 1.0ms postprocess per image at shape (1, 3, 480, 640)\n",
      "\n",
      "0: 480x640 1 Il/elle dort sur le dos, 194.7ms\n",
      "Speed: 3.0ms preprocess, 194.7ms inference, 2.4ms postprocess per image at shape (1, 3, 480, 640)\n",
      "\n",
      "0: 480x640 1 Il/elle dort sur le dos, 187.1ms\n",
      "Speed: 3.8ms preprocess, 187.1ms inference, 2.0ms postprocess per image at shape (1, 3, 480, 640)\n",
      "\n",
      "0: 480x640 1 Il/elle dort sur le dos, 172.5ms\n",
      "Speed: 5.2ms preprocess, 172.5ms inference, 1.0ms postprocess per image at shape (1, 3, 480, 640)\n",
      "\n",
      "0: 480x640 1 Il/elle dort sur le dos, 176.4ms\n",
      "Speed: 4.0ms preprocess, 176.4ms inference, 2.0ms postprocess per image at shape (1, 3, 480, 640)\n",
      "\n",
      "0: 480x640 1 Il/elle dort sur le dos, 193.9ms\n",
      "Speed: 4.0ms preprocess, 193.9ms inference, 1.0ms postprocess per image at shape (1, 3, 480, 640)\n",
      "\n",
      "0: 480x640 1 Il/elle dort sur le dos, 179.8ms\n",
      "Speed: 3.0ms preprocess, 179.8ms inference, 1.0ms postprocess per image at shape (1, 3, 480, 640)\n",
      "\n",
      "0: 480x640 1 Il/elle dort sur le dos, 1 Il/elle dort sur la gauche, 204.6ms\n",
      "Speed: 4.4ms preprocess, 204.6ms inference, 1.0ms postprocess per image at shape (1, 3, 480, 640)\n",
      "\n",
      "0: 480x640 1 Il/elle dort sur le dos, 188.9ms\n",
      "Speed: 4.9ms preprocess, 188.9ms inference, 2.0ms postprocess per image at shape (1, 3, 480, 640)\n",
      "\n",
      "0: 480x640 1 Il/elle dort sur le dos, 1 Il/elle dort sur la gauche, 195.3ms\n",
      "Speed: 3.0ms preprocess, 195.3ms inference, 1.0ms postprocess per image at shape (1, 3, 480, 640)\n",
      "\n",
      "0: 480x640 1 Il/elle dort sur le dos, 205.0ms\n",
      "Speed: 4.4ms preprocess, 205.0ms inference, 2.0ms postprocess per image at shape (1, 3, 480, 640)\n",
      "\n",
      "0: 480x640 1 Il/elle dort sur le dos, 187.8ms\n",
      "Speed: 3.0ms preprocess, 187.8ms inference, 1.9ms postprocess per image at shape (1, 3, 480, 640)\n",
      "\n",
      "0: 480x640 1 Il/elle dort sur le dos, 182.7ms\n",
      "Speed: 3.0ms preprocess, 182.7ms inference, 2.0ms postprocess per image at shape (1, 3, 480, 640)\n",
      "\n",
      "0: 480x640 1 Il/elle dort sur le dos, 170.8ms\n",
      "Speed: 3.0ms preprocess, 170.8ms inference, 2.0ms postprocess per image at shape (1, 3, 480, 640)\n",
      "\n",
      "0: 480x640 1 Il/elle dort sur le dos, 198.2ms\n",
      "Speed: 3.0ms preprocess, 198.2ms inference, 2.0ms postprocess per image at shape (1, 3, 480, 640)\n",
      "\n",
      "0: 480x640 1 Il/elle dort sur le dos, 201.6ms\n",
      "Speed: 3.4ms preprocess, 201.6ms inference, 2.0ms postprocess per image at shape (1, 3, 480, 640)\n",
      "\n",
      "0: 480x640 1 Il/elle dort sur le dos, 231.7ms\n",
      "Speed: 2.2ms preprocess, 231.7ms inference, 1.0ms postprocess per image at shape (1, 3, 480, 640)\n",
      "\n",
      "0: 480x640 (no detections), 203.1ms\n",
      "Speed: 3.2ms preprocess, 203.1ms inference, 1.0ms postprocess per image at shape (1, 3, 480, 640)\n",
      "\n",
      "0: 480x640 1 Il/elle dort sur la gauche, 196.6ms\n",
      "Speed: 3.0ms preprocess, 196.6ms inference, 1.0ms postprocess per image at shape (1, 3, 480, 640)\n",
      "\n",
      "0: 480x640 (no detections), 208.4ms\n",
      "Speed: 3.0ms preprocess, 208.4ms inference, 1.0ms postprocess per image at shape (1, 3, 480, 640)\n",
      "\n",
      "0: 480x640 (no detections), 190.3ms\n",
      "Speed: 4.4ms preprocess, 190.3ms inference, 1.3ms postprocess per image at shape (1, 3, 480, 640)\n",
      "\n",
      "0: 480x640 (no detections), 186.4ms\n",
      "Speed: 3.3ms preprocess, 186.4ms inference, 1.0ms postprocess per image at shape (1, 3, 480, 640)\n",
      "\n",
      "0: 480x640 (no detections), 183.4ms\n",
      "Speed: 3.0ms preprocess, 183.4ms inference, 1.0ms postprocess per image at shape (1, 3, 480, 640)\n",
      "\n",
      "0: 480x640 1 Il/elle dort sur le dos, 189.0ms\n",
      "Speed: 3.0ms preprocess, 189.0ms inference, 1.0ms postprocess per image at shape (1, 3, 480, 640)\n",
      "\n",
      "0: 480x640 1 Il/elle dort sur le dos, 193.4ms\n",
      "Speed: 3.0ms preprocess, 193.4ms inference, 2.0ms postprocess per image at shape (1, 3, 480, 640)\n",
      "\n",
      "0: 480x640 1 Il/elle dort sur le dos, 1 Il/elle dort sur la gauche, 192.1ms\n",
      "Speed: 3.5ms preprocess, 192.1ms inference, 1.0ms postprocess per image at shape (1, 3, 480, 640)\n",
      "\n",
      "0: 480x640 2 Il/elle dort sur la gauches, 187.7ms\n",
      "Speed: 3.1ms preprocess, 187.7ms inference, 1.0ms postprocess per image at shape (1, 3, 480, 640)\n",
      "\n",
      "0: 480x640 2 Il/elle dort sur la gauches, 177.2ms\n",
      "Speed: 3.0ms preprocess, 177.2ms inference, 2.0ms postprocess per image at shape (1, 3, 480, 640)\n",
      "\n",
      "0: 480x640 1 Il/elle dort sur la gauche, 189.7ms\n",
      "Speed: 4.7ms preprocess, 189.7ms inference, 2.0ms postprocess per image at shape (1, 3, 480, 640)\n",
      "\n",
      "0: 480x640 (no detections), 198.2ms\n",
      "Speed: 3.3ms preprocess, 198.2ms inference, 1.0ms postprocess per image at shape (1, 3, 480, 640)\n",
      "\n",
      "0: 480x640 (no detections), 187.9ms\n",
      "Speed: 6.0ms preprocess, 187.9ms inference, 1.0ms postprocess per image at shape (1, 3, 480, 640)\n",
      "\n",
      "0: 480x640 (no detections), 180.6ms\n",
      "Speed: 3.0ms preprocess, 180.6ms inference, 1.6ms postprocess per image at shape (1, 3, 480, 640)\n",
      "\n",
      "0: 480x640 (no detections), 240.8ms\n",
      "Speed: 5.0ms preprocess, 240.8ms inference, 0.0ms postprocess per image at shape (1, 3, 480, 640)\n",
      "\n",
      "0: 480x640 1 Il/elle dort sur le dos, 193.2ms\n",
      "Speed: 3.0ms preprocess, 193.2ms inference, 1.4ms postprocess per image at shape (1, 3, 480, 640)\n",
      "\n",
      "0: 480x640 1 Il/elle dort sur le dos, 189.7ms\n",
      "Speed: 5.0ms preprocess, 189.7ms inference, 2.0ms postprocess per image at shape (1, 3, 480, 640)\n",
      "\n",
      "0: 480x640 1 Il/elle dort sur le dos, 194.5ms\n",
      "Speed: 4.2ms preprocess, 194.5ms inference, 2.0ms postprocess per image at shape (1, 3, 480, 640)\n",
      "\n",
      "0: 480x640 1 Il/elle dort sur le dos, 179.9ms\n",
      "Speed: 3.5ms preprocess, 179.9ms inference, 2.0ms postprocess per image at shape (1, 3, 480, 640)\n",
      "\n",
      "0: 480x640 1 Il/elle dort sur le dos, 191.3ms\n",
      "Speed: 3.0ms preprocess, 191.3ms inference, 1.0ms postprocess per image at shape (1, 3, 480, 640)\n",
      "\n",
      "0: 480x640 (no detections), 193.9ms\n",
      "Speed: 6.5ms preprocess, 193.9ms inference, 1.0ms postprocess per image at shape (1, 3, 480, 640)\n",
      "\n",
      "0: 480x640 (no detections), 195.2ms\n",
      "Speed: 3.0ms preprocess, 195.2ms inference, 0.5ms postprocess per image at shape (1, 3, 480, 640)\n",
      "\n",
      "0: 480x640 (no detections), 189.7ms\n",
      "Speed: 5.3ms preprocess, 189.7ms inference, 1.0ms postprocess per image at shape (1, 3, 480, 640)\n",
      "\n",
      "0: 480x640 1 Il/elle dort sur le dos, 184.3ms\n",
      "Speed: 3.0ms preprocess, 184.3ms inference, 2.0ms postprocess per image at shape (1, 3, 480, 640)\n",
      "\n",
      "0: 480x640 1 Il/elle dort sur le dos, 198.5ms\n",
      "Speed: 3.5ms preprocess, 198.5ms inference, 1.0ms postprocess per image at shape (1, 3, 480, 640)\n",
      "\n",
      "0: 480x640 1 Il/elle dort sur le dos, 185.4ms\n",
      "Speed: 5.5ms preprocess, 185.4ms inference, 1.0ms postprocess per image at shape (1, 3, 480, 640)\n",
      "\n",
      "0: 480x640 (no detections), 186.6ms\n",
      "Speed: 3.3ms preprocess, 186.6ms inference, 1.0ms postprocess per image at shape (1, 3, 480, 640)\n",
      "\n",
      "0: 480x640 1 Il/elle dort sur le dos, 183.1ms\n",
      "Speed: 2.9ms preprocess, 183.1ms inference, 2.0ms postprocess per image at shape (1, 3, 480, 640)\n",
      "\n",
      "0: 480x640 (no detections), 192.2ms\n",
      "Speed: 3.0ms preprocess, 192.2ms inference, 1.0ms postprocess per image at shape (1, 3, 480, 640)\n",
      "\n",
      "0: 480x640 1 Il/elle dort sur le dos, 192.8ms\n",
      "Speed: 2.0ms preprocess, 192.8ms inference, 1.6ms postprocess per image at shape (1, 3, 480, 640)\n",
      "\n",
      "0: 480x640 1 Il/elle dort sur la gauche, 181.3ms\n",
      "Speed: 5.4ms preprocess, 181.3ms inference, 4.0ms postprocess per image at shape (1, 3, 480, 640)\n",
      "\n",
      "0: 480x640 1 Il/elle dort sur la gauche, 209.8ms\n",
      "Speed: 5.4ms preprocess, 209.8ms inference, 1.0ms postprocess per image at shape (1, 3, 480, 640)\n",
      "\n",
      "0: 480x640 (no detections), 191.3ms\n",
      "Speed: 3.4ms preprocess, 191.3ms inference, 1.0ms postprocess per image at shape (1, 3, 480, 640)\n",
      "\n",
      "0: 480x640 (no detections), 181.4ms\n",
      "Speed: 3.0ms preprocess, 181.4ms inference, 1.0ms postprocess per image at shape (1, 3, 480, 640)\n",
      "\n",
      "0: 480x640 (no detections), 195.4ms\n",
      "Speed: 3.0ms preprocess, 195.4ms inference, 1.0ms postprocess per image at shape (1, 3, 480, 640)\n",
      "\n",
      "0: 480x640 1 Il/elle dort sur le dos, 195.4ms\n",
      "Speed: 3.0ms preprocess, 195.4ms inference, 1.0ms postprocess per image at shape (1, 3, 480, 640)\n",
      "\n",
      "0: 480x640 1 Il/elle dort sur le dos, 199.1ms\n",
      "Speed: 2.8ms preprocess, 199.1ms inference, 2.0ms postprocess per image at shape (1, 3, 480, 640)\n",
      "\n",
      "0: 480x640 1 Il/elle dort sur le dos, 184.7ms\n",
      "Speed: 2.2ms preprocess, 184.7ms inference, 2.0ms postprocess per image at shape (1, 3, 480, 640)\n",
      "\n",
      "0: 480x640 1 Il/elle dort sur le dos, 187.7ms\n",
      "Speed: 3.4ms preprocess, 187.7ms inference, 2.0ms postprocess per image at shape (1, 3, 480, 640)\n",
      "\n",
      "0: 480x640 (no detections), 197.3ms\n",
      "Speed: 3.1ms preprocess, 197.3ms inference, 1.1ms postprocess per image at shape (1, 3, 480, 640)\n",
      "\n",
      "0: 480x640 (no detections), 187.7ms\n",
      "Speed: 5.1ms preprocess, 187.7ms inference, 1.0ms postprocess per image at shape (1, 3, 480, 640)\n",
      "\n",
      "0: 480x640 (no detections), 194.2ms\n",
      "Speed: 4.5ms preprocess, 194.2ms inference, 1.0ms postprocess per image at shape (1, 3, 480, 640)\n",
      "\n",
      "0: 480x640 1 Il/elle dort sur le dos, 191.7ms\n",
      "Speed: 6.1ms preprocess, 191.7ms inference, 2.0ms postprocess per image at shape (1, 3, 480, 640)\n",
      "\n",
      "0: 480x640 1 Il/elle dort sur le dos, 181.6ms\n",
      "Speed: 3.3ms preprocess, 181.6ms inference, 1.0ms postprocess per image at shape (1, 3, 480, 640)\n",
      "\n",
      "0: 480x640 1 Il/elle dort sur le dos, 194.5ms\n",
      "Speed: 4.5ms preprocess, 194.5ms inference, 2.0ms postprocess per image at shape (1, 3, 480, 640)\n",
      "\n",
      "0: 480x640 1 Il/elle dort sur le dos, 172.3ms\n",
      "Speed: 3.0ms preprocess, 172.3ms inference, 2.0ms postprocess per image at shape (1, 3, 480, 640)\n",
      "\n",
      "0: 480x640 1 Il/elle dort sur le dos, 184.1ms\n",
      "Speed: 4.6ms preprocess, 184.1ms inference, 1.0ms postprocess per image at shape (1, 3, 480, 640)\n",
      "\n",
      "0: 480x640 1 Il/elle dort sur le dos, 216.4ms\n",
      "Speed: 4.2ms preprocess, 216.4ms inference, 2.0ms postprocess per image at shape (1, 3, 480, 640)\n",
      "\n",
      "0: 480x640 (no detections), 195.9ms\n",
      "Speed: 4.3ms preprocess, 195.9ms inference, 1.0ms postprocess per image at shape (1, 3, 480, 640)\n",
      "\n",
      "0: 480x640 1 Il/elle dort sur la gauche, 179.7ms\n",
      "Speed: 2.5ms preprocess, 179.7ms inference, 2.0ms postprocess per image at shape (1, 3, 480, 640)\n",
      "\n",
      "0: 480x640 1 Il/elle dort sur la gauche, 199.1ms\n",
      "Speed: 3.0ms preprocess, 199.1ms inference, 1.0ms postprocess per image at shape (1, 3, 480, 640)\n",
      "\n",
      "0: 480x640 (no detections), 194.4ms\n",
      "Speed: 3.1ms preprocess, 194.4ms inference, 0.0ms postprocess per image at shape (1, 3, 480, 640)\n",
      "\n",
      "0: 480x640 1 Il/elle dort sur la gauche, 189.1ms\n",
      "Speed: 5.0ms preprocess, 189.1ms inference, 2.0ms postprocess per image at shape (1, 3, 480, 640)\n",
      "\n",
      "0: 480x640 (no detections), 179.3ms\n",
      "Speed: 2.0ms preprocess, 179.3ms inference, 1.0ms postprocess per image at shape (1, 3, 480, 640)\n",
      "\n",
      "0: 480x640 (no detections), 188.1ms\n",
      "Speed: 3.6ms preprocess, 188.1ms inference, 1.0ms postprocess per image at shape (1, 3, 480, 640)\n",
      "\n",
      "0: 480x640 (no detections), 201.9ms\n",
      "Speed: 6.1ms preprocess, 201.9ms inference, 1.0ms postprocess per image at shape (1, 3, 480, 640)\n",
      "\n",
      "0: 480x640 (no detections), 187.6ms\n",
      "Speed: 5.0ms preprocess, 187.6ms inference, 1.0ms postprocess per image at shape (1, 3, 480, 640)\n",
      "\n",
      "0: 480x640 1 Il/elle dort sur la gauche, 180.6ms\n",
      "Speed: 3.0ms preprocess, 180.6ms inference, 2.0ms postprocess per image at shape (1, 3, 480, 640)\n",
      "\n",
      "0: 480x640 (no detections), 197.7ms\n",
      "Speed: 5.0ms preprocess, 197.7ms inference, 1.0ms postprocess per image at shape (1, 3, 480, 640)\n",
      "\n",
      "0: 480x640 1 Il/elle somnole, 197.0ms\n",
      "Speed: 3.0ms preprocess, 197.0ms inference, 2.4ms postprocess per image at shape (1, 3, 480, 640)\n",
      "\n",
      "0: 480x640 1 Il/elle somnole, 191.4ms\n",
      "Speed: 4.0ms preprocess, 191.4ms inference, 2.0ms postprocess per image at shape (1, 3, 480, 640)\n",
      "\n",
      "0: 480x640 (no detections), 194.7ms\n",
      "Speed: 3.7ms preprocess, 194.7ms inference, 1.0ms postprocess per image at shape (1, 3, 480, 640)\n",
      "\n",
      "0: 480x640 (no detections), 198.5ms\n",
      "Speed: 3.0ms preprocess, 198.5ms inference, 1.0ms postprocess per image at shape (1, 3, 480, 640)\n",
      "\n",
      "0: 480x640 (no detections), 247.4ms\n",
      "Speed: 4.3ms preprocess, 247.4ms inference, 0.0ms postprocess per image at shape (1, 3, 480, 640)\n",
      "\n",
      "0: 480x640 1 Il/elle dort sur la gauche, 184.3ms\n",
      "Speed: 4.2ms preprocess, 184.3ms inference, 2.2ms postprocess per image at shape (1, 3, 480, 640)\n",
      "\n",
      "0: 480x640 1 Il/elle dort sur le dos, 193.9ms\n",
      "Speed: 2.0ms preprocess, 193.9ms inference, 1.0ms postprocess per image at shape (1, 3, 480, 640)\n",
      "\n",
      "0: 480x640 1 Il/elle dort sur le dos, 183.8ms\n",
      "Speed: 4.0ms preprocess, 183.8ms inference, 1.0ms postprocess per image at shape (1, 3, 480, 640)\n",
      "\n",
      "0: 480x640 1 Il/elle dort sur le dos, 1 Il/elle dort sur la gauche, 184.9ms\n",
      "Speed: 4.1ms preprocess, 184.9ms inference, 1.0ms postprocess per image at shape (1, 3, 480, 640)\n",
      "\n",
      "0: 480x640 1 Il/elle dort sur le dos, 188.0ms\n",
      "Speed: 4.9ms preprocess, 188.0ms inference, 2.0ms postprocess per image at shape (1, 3, 480, 640)\n",
      "\n",
      "0: 480x640 (no detections), 193.1ms\n",
      "Speed: 3.3ms preprocess, 193.1ms inference, 1.0ms postprocess per image at shape (1, 3, 480, 640)\n",
      "\n",
      "0: 480x640 (no detections), 193.7ms\n",
      "Speed: 3.0ms preprocess, 193.7ms inference, 1.0ms postprocess per image at shape (1, 3, 480, 640)\n",
      "\n",
      "0: 480x640 (no detections), 189.7ms\n",
      "Speed: 3.1ms preprocess, 189.7ms inference, 1.0ms postprocess per image at shape (1, 3, 480, 640)\n",
      "\n",
      "0: 480x640 2 Il/elle dort sur le doss, 193.8ms\n",
      "Speed: 3.0ms preprocess, 193.8ms inference, 1.0ms postprocess per image at shape (1, 3, 480, 640)\n",
      "\n",
      "0: 480x640 1 Il/elle dort sur la gauche, 197.4ms\n",
      "Speed: 2.0ms preprocess, 197.4ms inference, 2.0ms postprocess per image at shape (1, 3, 480, 640)\n",
      "\n",
      "0: 480x640 1 Il/elle dort sur la gauche, 175.3ms\n",
      "Speed: 5.6ms preprocess, 175.3ms inference, 2.0ms postprocess per image at shape (1, 3, 480, 640)\n",
      "\n",
      "0: 480x640 1 Il/elle dort sur la gauche, 190.2ms\n",
      "Speed: 4.0ms preprocess, 190.2ms inference, 1.0ms postprocess per image at shape (1, 3, 480, 640)\n",
      "\n",
      "0: 480x640 1 Il/elle dort sur le dos, 201.3ms\n",
      "Speed: 3.9ms preprocess, 201.3ms inference, 2.1ms postprocess per image at shape (1, 3, 480, 640)\n",
      "\n",
      "0: 480x640 (no detections), 187.8ms\n",
      "Speed: 3.9ms preprocess, 187.8ms inference, 1.0ms postprocess per image at shape (1, 3, 480, 640)\n",
      "\n",
      "0: 480x640 1 Il/elle dort sur la gauche, 187.0ms\n",
      "Speed: 3.6ms preprocess, 187.0ms inference, 1.0ms postprocess per image at shape (1, 3, 480, 640)\n",
      "\n",
      "0: 480x640 (no detections), 232.3ms\n",
      "Speed: 3.0ms preprocess, 232.3ms inference, 1.0ms postprocess per image at shape (1, 3, 480, 640)\n",
      "\n",
      "0: 480x640 (no detections), 194.1ms\n",
      "Speed: 2.9ms preprocess, 194.1ms inference, 1.1ms postprocess per image at shape (1, 3, 480, 640)\n",
      "\n",
      "0: 480x640 1 Il/elle dort sur la gauche, 189.7ms\n",
      "Speed: 3.0ms preprocess, 189.7ms inference, 1.0ms postprocess per image at shape (1, 3, 480, 640)\n",
      "\n",
      "0: 480x640 1 Il/elle dort sur la gauche, 189.5ms\n",
      "Speed: 4.5ms preprocess, 189.5ms inference, 2.0ms postprocess per image at shape (1, 3, 480, 640)\n",
      "\n",
      "0: 480x640 1 Il/elle dort sur la gauche, 197.2ms\n",
      "Speed: 3.0ms preprocess, 197.2ms inference, 2.0ms postprocess per image at shape (1, 3, 480, 640)\n",
      "\n",
      "0: 480x640 1 Il/elle dort sur la gauche, 193.8ms\n",
      "Speed: 6.7ms preprocess, 193.8ms inference, 1.0ms postprocess per image at shape (1, 3, 480, 640)\n",
      "\n",
      "0: 480x640 (no detections), 196.4ms\n",
      "Speed: 3.0ms preprocess, 196.4ms inference, 1.0ms postprocess per image at shape (1, 3, 480, 640)\n",
      "\n",
      "0: 480x640 (no detections), 191.7ms\n",
      "Speed: 3.0ms preprocess, 191.7ms inference, 1.0ms postprocess per image at shape (1, 3, 480, 640)\n",
      "\n",
      "0: 480x640 1 Il/elle dort sur la gauche, 194.0ms\n",
      "Speed: 3.0ms preprocess, 194.0ms inference, 2.0ms postprocess per image at shape (1, 3, 480, 640)\n",
      "\n",
      "0: 480x640 (no detections), 193.1ms\n",
      "Speed: 3.0ms preprocess, 193.1ms inference, 1.2ms postprocess per image at shape (1, 3, 480, 640)\n",
      "\n",
      "0: 480x640 1 Il/elle dort sur la gauche, 195.5ms\n",
      "Speed: 3.0ms preprocess, 195.5ms inference, 1.0ms postprocess per image at shape (1, 3, 480, 640)\n",
      "\n",
      "0: 480x640 (no detections), 201.7ms\n",
      "Speed: 4.7ms preprocess, 201.7ms inference, 1.0ms postprocess per image at shape (1, 3, 480, 640)\n",
      "\n",
      "0: 480x640 (no detections), 179.5ms\n",
      "Speed: 5.7ms preprocess, 179.5ms inference, 1.0ms postprocess per image at shape (1, 3, 480, 640)\n",
      "\n",
      "0: 480x640 (no detections), 192.2ms\n",
      "Speed: 3.0ms preprocess, 192.2ms inference, 1.0ms postprocess per image at shape (1, 3, 480, 640)\n",
      "\n",
      "0: 480x640 (no detections), 196.2ms\n",
      "Speed: 3.5ms preprocess, 196.2ms inference, 1.0ms postprocess per image at shape (1, 3, 480, 640)\n",
      "\n",
      "0: 480x640 (no detections), 185.2ms\n",
      "Speed: 4.4ms preprocess, 185.2ms inference, 2.0ms postprocess per image at shape (1, 3, 480, 640)\n",
      "\n",
      "0: 480x640 1 Il/elle dort sur la gauche, 235.0ms\n",
      "Speed: 4.0ms preprocess, 235.0ms inference, 1.3ms postprocess per image at shape (1, 3, 480, 640)\n",
      "\n",
      "0: 480x640 (no detections), 206.6ms\n",
      "Speed: 3.5ms preprocess, 206.6ms inference, 1.0ms postprocess per image at shape (1, 3, 480, 640)\n",
      "\n",
      "0: 480x640 (no detections), 189.7ms\n",
      "Speed: 3.0ms preprocess, 189.7ms inference, 1.0ms postprocess per image at shape (1, 3, 480, 640)\n",
      "\n",
      "0: 480x640 (no detections), 198.4ms\n",
      "Speed: 4.0ms preprocess, 198.4ms inference, 1.0ms postprocess per image at shape (1, 3, 480, 640)\n",
      "\n",
      "0: 480x640 (no detections), 191.4ms\n",
      "Speed: 4.5ms preprocess, 191.4ms inference, 0.0ms postprocess per image at shape (1, 3, 480, 640)\n",
      "\n",
      "0: 480x640 (no detections), 183.8ms\n",
      "Speed: 5.7ms preprocess, 183.8ms inference, 1.0ms postprocess per image at shape (1, 3, 480, 640)\n",
      "\n",
      "0: 480x640 (no detections), 192.0ms\n",
      "Speed: 3.0ms preprocess, 192.0ms inference, 1.0ms postprocess per image at shape (1, 3, 480, 640)\n",
      "\n",
      "0: 480x640 (no detections), 188.9ms\n",
      "Speed: 3.8ms preprocess, 188.9ms inference, 1.0ms postprocess per image at shape (1, 3, 480, 640)\n",
      "\n",
      "0: 480x640 (no detections), 195.5ms\n",
      "Speed: 3.0ms preprocess, 195.5ms inference, 1.0ms postprocess per image at shape (1, 3, 480, 640)\n",
      "\n",
      "0: 480x640 (no detections), 196.5ms\n",
      "Speed: 3.1ms preprocess, 196.5ms inference, 1.0ms postprocess per image at shape (1, 3, 480, 640)\n",
      "\n",
      "0: 480x640 (no detections), 186.6ms\n",
      "Speed: 3.0ms preprocess, 186.6ms inference, 1.0ms postprocess per image at shape (1, 3, 480, 640)\n",
      "\n",
      "0: 480x640 (no detections), 192.9ms\n",
      "Speed: 3.0ms preprocess, 192.9ms inference, 0.0ms postprocess per image at shape (1, 3, 480, 640)\n",
      "\n",
      "0: 480x640 (no detections), 182.1ms\n",
      "Speed: 3.0ms preprocess, 182.1ms inference, 1.0ms postprocess per image at shape (1, 3, 480, 640)\n",
      "\n",
      "0: 480x640 (no detections), 195.2ms\n",
      "Speed: 3.4ms preprocess, 195.2ms inference, 1.0ms postprocess per image at shape (1, 3, 480, 640)\n",
      "\n",
      "0: 480x640 (no detections), 190.9ms\n",
      "Speed: 2.9ms preprocess, 190.9ms inference, 1.0ms postprocess per image at shape (1, 3, 480, 640)\n",
      "\n",
      "0: 480x640 1 Il/elle dort sur la gauche, 234.6ms\n",
      "Speed: 5.2ms preprocess, 234.6ms inference, 2.0ms postprocess per image at shape (1, 3, 480, 640)\n",
      "\n",
      "0: 480x640 (no detections), 187.5ms\n",
      "Speed: 4.2ms preprocess, 187.5ms inference, 1.0ms postprocess per image at shape (1, 3, 480, 640)\n",
      "\n",
      "0: 480x640 1 Il/elle dort sur la gauche, 190.4ms\n",
      "Speed: 4.1ms preprocess, 190.4ms inference, 2.0ms postprocess per image at shape (1, 3, 480, 640)\n",
      "\n",
      "0: 480x640 (no detections), 188.3ms\n",
      "Speed: 4.0ms preprocess, 188.3ms inference, 0.5ms postprocess per image at shape (1, 3, 480, 640)\n",
      "\n",
      "0: 480x640 (no detections), 195.7ms\n",
      "Speed: 3.0ms preprocess, 195.7ms inference, 1.0ms postprocess per image at shape (1, 3, 480, 640)\n",
      "\n",
      "0: 480x640 1 Il/elle dort sur la gauche, 198.0ms\n",
      "Speed: 5.1ms preprocess, 198.0ms inference, 1.6ms postprocess per image at shape (1, 3, 480, 640)\n",
      "\n",
      "0: 480x640 1 Il/elle dort sur la gauche, 197.3ms\n",
      "Speed: 5.0ms preprocess, 197.3ms inference, 2.4ms postprocess per image at shape (1, 3, 480, 640)\n",
      "\n",
      "0: 480x640 (no detections), 194.4ms\n",
      "Speed: 4.2ms preprocess, 194.4ms inference, 1.0ms postprocess per image at shape (1, 3, 480, 640)\n",
      "\n",
      "0: 480x640 1 Il/elle dort sur la gauche, 200.7ms\n",
      "Speed: 2.9ms preprocess, 200.7ms inference, 2.1ms postprocess per image at shape (1, 3, 480, 640)\n",
      "\n",
      "0: 480x640 (no detections), 195.4ms\n",
      "Speed: 3.2ms preprocess, 195.4ms inference, 1.0ms postprocess per image at shape (1, 3, 480, 640)\n",
      "\n",
      "0: 480x640 1 Il/elle dort sur le dos, 1 Il/elle dort sur la gauche, 188.9ms\n",
      "Speed: 3.4ms preprocess, 188.9ms inference, 1.0ms postprocess per image at shape (1, 3, 480, 640)\n",
      "\n",
      "0: 480x640 (no detections), 183.7ms\n",
      "Speed: 4.0ms preprocess, 183.7ms inference, 1.0ms postprocess per image at shape (1, 3, 480, 640)\n",
      "\n",
      "0: 480x640 1 Il/elle dort sur le dos, 1 Il/elle dort sur la gauche, 183.4ms\n",
      "Speed: 3.4ms preprocess, 183.4ms inference, 1.0ms postprocess per image at shape (1, 3, 480, 640)\n",
      "\n",
      "0: 480x640 1 Il/elle dort sur le dos, 1 Il/elle dort sur la gauche, 188.3ms\n",
      "Speed: 4.0ms preprocess, 188.3ms inference, 1.0ms postprocess per image at shape (1, 3, 480, 640)\n",
      "\n",
      "0: 480x640 (no detections), 179.8ms\n",
      "Speed: 3.9ms preprocess, 179.8ms inference, 1.4ms postprocess per image at shape (1, 3, 480, 640)\n",
      "\n",
      "0: 480x640 1 Il/elle dort sur la gauche, 192.5ms\n",
      "Speed: 3.0ms preprocess, 192.5ms inference, 1.0ms postprocess per image at shape (1, 3, 480, 640)\n",
      "\n",
      "0: 480x640 (no detections), 229.7ms\n",
      "Speed: 4.5ms preprocess, 229.7ms inference, 0.0ms postprocess per image at shape (1, 3, 480, 640)\n",
      "\n",
      "0: 480x640 (no detections), 192.0ms\n",
      "Speed: 3.0ms preprocess, 192.0ms inference, 0.0ms postprocess per image at shape (1, 3, 480, 640)\n",
      "\n",
      "0: 480x640 (no detections), 198.9ms\n",
      "Speed: 3.5ms preprocess, 198.9ms inference, 1.0ms postprocess per image at shape (1, 3, 480, 640)\n",
      "\n",
      "0: 480x640 (no detections), 196.8ms\n",
      "Speed: 3.0ms preprocess, 196.8ms inference, 1.0ms postprocess per image at shape (1, 3, 480, 640)\n",
      "\n",
      "0: 480x640 (no detections), 195.5ms\n",
      "Speed: 3.1ms preprocess, 195.5ms inference, 2.1ms postprocess per image at shape (1, 3, 480, 640)\n",
      "\n",
      "0: 480x640 (no detections), 205.7ms\n",
      "Speed: 6.0ms preprocess, 205.7ms inference, 1.0ms postprocess per image at shape (1, 3, 480, 640)\n",
      "\n",
      "0: 480x640 (no detections), 203.7ms\n",
      "Speed: 2.0ms preprocess, 203.7ms inference, 1.0ms postprocess per image at shape (1, 3, 480, 640)\n",
      "\n",
      "0: 480x640 1 Il/elle dort sur la gauche, 195.8ms\n",
      "Speed: 4.0ms preprocess, 195.8ms inference, 1.0ms postprocess per image at shape (1, 3, 480, 640)\n",
      "\n",
      "0: 480x640 1 Il/elle dort sur la gauche, 209.1ms\n",
      "Speed: 3.5ms preprocess, 209.1ms inference, 2.0ms postprocess per image at shape (1, 3, 480, 640)\n",
      "\n",
      "0: 480x640 1 Il/elle dort sur la gauche, 182.5ms\n",
      "Speed: 4.0ms preprocess, 182.5ms inference, 2.0ms postprocess per image at shape (1, 3, 480, 640)\n",
      "\n",
      "0: 480x640 1 Il/elle dort sur la gauche, 201.8ms\n",
      "Speed: 3.4ms preprocess, 201.8ms inference, 2.0ms postprocess per image at shape (1, 3, 480, 640)\n",
      "\n",
      "0: 480x640 1 Il/elle dort sur la gauche, 182.5ms\n",
      "Speed: 3.0ms preprocess, 182.5ms inference, 2.0ms postprocess per image at shape (1, 3, 480, 640)\n",
      "\n",
      "0: 480x640 (no detections), 201.1ms\n",
      "Speed: 2.5ms preprocess, 201.1ms inference, 1.0ms postprocess per image at shape (1, 3, 480, 640)\n",
      "\n",
      "0: 480x640 1 Il/elle dort sur le dos, 187.6ms\n",
      "Speed: 5.1ms preprocess, 187.6ms inference, 1.0ms postprocess per image at shape (1, 3, 480, 640)\n",
      "\n",
      "0: 480x640 (no detections), 177.5ms\n",
      "Speed: 3.0ms preprocess, 177.5ms inference, 0.0ms postprocess per image at shape (1, 3, 480, 640)\n",
      "\n",
      "0: 480x640 1 Il/elle dort sur le dos, 203.9ms\n",
      "Speed: 4.9ms preprocess, 203.9ms inference, 2.0ms postprocess per image at shape (1, 3, 480, 640)\n",
      "\n",
      "0: 480x640 (no detections), 212.1ms\n",
      "Speed: 4.0ms preprocess, 212.1ms inference, 1.0ms postprocess per image at shape (1, 3, 480, 640)\n",
      "\n",
      "0: 480x640 1 Il/elle dort sur la gauche, 187.6ms\n",
      "Speed: 4.0ms preprocess, 187.6ms inference, 2.0ms postprocess per image at shape (1, 3, 480, 640)\n",
      "\n",
      "0: 480x640 (no detections), 189.1ms\n",
      "Speed: 4.5ms preprocess, 189.1ms inference, 1.0ms postprocess per image at shape (1, 3, 480, 640)\n",
      "\n",
      "0: 480x640 (no detections), 178.0ms\n",
      "Speed: 4.3ms preprocess, 178.0ms inference, 1.0ms postprocess per image at shape (1, 3, 480, 640)\n",
      "\n",
      "0: 480x640 1 Il/elle dort sur la gauche, 188.8ms\n",
      "Speed: 3.0ms preprocess, 188.8ms inference, 2.0ms postprocess per image at shape (1, 3, 480, 640)\n",
      "\n",
      "0: 480x640 1 Il/elle dort sur le dos, 1 Il/elle dort sur la gauche, 183.1ms\n",
      "Speed: 3.5ms preprocess, 183.1ms inference, 2.0ms postprocess per image at shape (1, 3, 480, 640)\n",
      "\n",
      "0: 480x640 1 Il/elle dort sur le dos, 1 Il/elle dort sur la gauche, 195.5ms\n",
      "Speed: 3.6ms preprocess, 195.5ms inference, 1.0ms postprocess per image at shape (1, 3, 480, 640)\n",
      "\n",
      "0: 480x640 1 Il/elle dort sur la gauche, 189.1ms\n",
      "Speed: 3.0ms preprocess, 189.1ms inference, 1.0ms postprocess per image at shape (1, 3, 480, 640)\n",
      "\n",
      "0: 480x640 1 Il/elle dort sur la gauche, 209.3ms\n",
      "Speed: 3.9ms preprocess, 209.3ms inference, 2.0ms postprocess per image at shape (1, 3, 480, 640)\n",
      "\n",
      "0: 480x640 1 Il/elle dort sur la gauche, 185.9ms\n",
      "Speed: 3.0ms preprocess, 185.9ms inference, 2.0ms postprocess per image at shape (1, 3, 480, 640)\n",
      "\n",
      "0: 480x640 1 Il/elle dort sur la gauche, 182.4ms\n",
      "Speed: 3.3ms preprocess, 182.4ms inference, 1.0ms postprocess per image at shape (1, 3, 480, 640)\n",
      "\n",
      "0: 480x640 1 Il/elle dort sur le dos, 175.2ms\n",
      "Speed: 3.0ms preprocess, 175.2ms inference, 2.0ms postprocess per image at shape (1, 3, 480, 640)\n",
      "\n",
      "0: 480x640 1 Il/elle dort sur le dos, 196.3ms\n",
      "Speed: 3.0ms preprocess, 196.3ms inference, 1.0ms postprocess per image at shape (1, 3, 480, 640)\n",
      "\n",
      "0: 480x640 1 Il/elle dort sur le dos, 183.0ms\n",
      "Speed: 4.0ms preprocess, 183.0ms inference, 1.0ms postprocess per image at shape (1, 3, 480, 640)\n",
      "\n",
      "0: 480x640 1 Il/elle dort sur le dos, 194.6ms\n",
      "Speed: 3.2ms preprocess, 194.6ms inference, 2.0ms postprocess per image at shape (1, 3, 480, 640)\n",
      "\n",
      "0: 480x640 1 Il/elle dort sur le dos, 229.4ms\n",
      "Speed: 2.5ms preprocess, 229.4ms inference, 1.0ms postprocess per image at shape (1, 3, 480, 640)\n",
      "\n",
      "0: 480x640 1 Il/elle dort sur le dos, 190.2ms\n",
      "Speed: 3.0ms preprocess, 190.2ms inference, 2.0ms postprocess per image at shape (1, 3, 480, 640)\n",
      "\n",
      "0: 480x640 1 Il/elle dort sur le dos, 197.1ms\n",
      "Speed: 2.5ms preprocess, 197.1ms inference, 3.3ms postprocess per image at shape (1, 3, 480, 640)\n",
      "\n",
      "0: 480x640 1 Il/elle dort sur le dos, 177.5ms\n",
      "Speed: 3.0ms preprocess, 177.5ms inference, 1.0ms postprocess per image at shape (1, 3, 480, 640)\n",
      "\n",
      "0: 480x640 1 Il/elle dort sur le dos, 180.8ms\n",
      "Speed: 3.0ms preprocess, 180.8ms inference, 2.0ms postprocess per image at shape (1, 3, 480, 640)\n",
      "\n",
      "0: 480x640 1 Il/elle dort sur le dos, 197.1ms\n",
      "Speed: 5.7ms preprocess, 197.1ms inference, 1.0ms postprocess per image at shape (1, 3, 480, 640)\n",
      "\n",
      "0: 480x640 1 Il/elle dort sur le dos, 1 Il/elle somnole, 213.2ms\n",
      "Speed: 4.5ms preprocess, 213.2ms inference, 1.0ms postprocess per image at shape (1, 3, 480, 640)\n",
      "\n",
      "0: 480x640 1 Il/elle dort sur le dos, 184.1ms\n",
      "Speed: 4.2ms preprocess, 184.1ms inference, 2.0ms postprocess per image at shape (1, 3, 480, 640)\n",
      "\n",
      "0: 480x640 1 Il/elle dort sur le dos, 202.8ms\n",
      "Speed: 4.5ms preprocess, 202.8ms inference, 1.8ms postprocess per image at shape (1, 3, 480, 640)\n",
      "\n",
      "0: 480x640 1 Il/elle dort sur le dos, 1 Il/elle somnole, 189.8ms\n",
      "Speed: 5.5ms preprocess, 189.8ms inference, 1.0ms postprocess per image at shape (1, 3, 480, 640)\n",
      "\n",
      "0: 480x640 1 Il/elle dort sur le dos, 1 Il/elle somnole, 185.0ms\n",
      "Speed: 4.0ms preprocess, 185.0ms inference, 2.2ms postprocess per image at shape (1, 3, 480, 640)\n",
      "\n",
      "0: 480x640 1 Il/elle dort sur le dos, 195.9ms\n",
      "Speed: 2.5ms preprocess, 195.9ms inference, 1.7ms postprocess per image at shape (1, 3, 480, 640)\n",
      "\n",
      "0: 480x640 1 Il/elle dort sur le dos, 184.3ms\n",
      "Speed: 3.0ms preprocess, 184.3ms inference, 1.0ms postprocess per image at shape (1, 3, 480, 640)\n",
      "\n",
      "0: 480x640 1 Il/elle dort sur le dos, 197.7ms\n",
      "Speed: 3.0ms preprocess, 197.7ms inference, 1.0ms postprocess per image at shape (1, 3, 480, 640)\n",
      "\n",
      "0: 480x640 1 Il/elle dort sur le dos, 263.9ms\n",
      "Speed: 5.1ms preprocess, 263.9ms inference, 2.0ms postprocess per image at shape (1, 3, 480, 640)\n",
      "\n",
      "0: 480x640 1 Il/elle dort sur le dos, 204.2ms\n",
      "Speed: 3.6ms preprocess, 204.2ms inference, 2.2ms postprocess per image at shape (1, 3, 480, 640)\n",
      "\n",
      "0: 480x640 1 Il/elle dort sur le dos, 210.4ms\n",
      "Speed: 5.5ms preprocess, 210.4ms inference, 2.0ms postprocess per image at shape (1, 3, 480, 640)\n",
      "\n",
      "0: 480x640 1 Il/elle dort sur le dos, 198.5ms\n",
      "Speed: 3.0ms preprocess, 198.5ms inference, 2.0ms postprocess per image at shape (1, 3, 480, 640)\n",
      "\n",
      "0: 480x640 1 Il/elle dort sur le dos, 203.3ms\n",
      "Speed: 3.0ms preprocess, 203.3ms inference, 2.0ms postprocess per image at shape (1, 3, 480, 640)\n",
      "\n",
      "0: 480x640 1 Il/elle dort sur le dos, 211.0ms\n",
      "Speed: 4.0ms preprocess, 211.0ms inference, 2.0ms postprocess per image at shape (1, 3, 480, 640)\n",
      "\n",
      "0: 480x640 1 Il/elle dort sur le dos, 204.2ms\n",
      "Speed: 2.5ms preprocess, 204.2ms inference, 2.0ms postprocess per image at shape (1, 3, 480, 640)\n",
      "\n",
      "0: 480x640 1 Il/elle dort sur le dos, 222.0ms\n",
      "Speed: 3.0ms preprocess, 222.0ms inference, 2.3ms postprocess per image at shape (1, 3, 480, 640)\n",
      "\n",
      "0: 480x640 1 Il/elle dort sur le dos, 197.6ms\n",
      "Speed: 4.0ms preprocess, 197.6ms inference, 2.4ms postprocess per image at shape (1, 3, 480, 640)\n",
      "\n",
      "0: 480x640 (no detections), 195.1ms\n",
      "Speed: 3.9ms preprocess, 195.1ms inference, 1.0ms postprocess per image at shape (1, 3, 480, 640)\n",
      "\n",
      "0: 480x640 (no detections), 182.5ms\n",
      "Speed: 3.0ms preprocess, 182.5ms inference, 1.1ms postprocess per image at shape (1, 3, 480, 640)\n",
      "\n",
      "0: 480x640 1 Il/elle dort sur le dos, 186.5ms\n",
      "Speed: 2.5ms preprocess, 186.5ms inference, 1.4ms postprocess per image at shape (1, 3, 480, 640)\n",
      "\n",
      "0: 480x640 1 Il/elle somnole, 169.7ms\n",
      "Speed: 3.1ms preprocess, 169.7ms inference, 1.0ms postprocess per image at shape (1, 3, 480, 640)\n",
      "\n",
      "0: 480x640 1 Il/elle dort sur le dos, 181.9ms\n",
      "Speed: 3.0ms preprocess, 181.9ms inference, 1.0ms postprocess per image at shape (1, 3, 480, 640)\n",
      "\n",
      "0: 480x640 1 Il/elle dort sur le dos, 221.0ms\n",
      "Speed: 3.0ms preprocess, 221.0ms inference, 2.0ms postprocess per image at shape (1, 3, 480, 640)\n",
      "\n",
      "0: 480x640 1 Il/elle dort sur le dos, 183.6ms\n",
      "Speed: 3.2ms preprocess, 183.6ms inference, 2.0ms postprocess per image at shape (1, 3, 480, 640)\n",
      "\n",
      "0: 480x640 (no detections), 183.2ms\n",
      "Speed: 3.0ms preprocess, 183.2ms inference, 1.0ms postprocess per image at shape (1, 3, 480, 640)\n",
      "\n",
      "0: 480x640 (no detections), 175.0ms\n",
      "Speed: 3.0ms preprocess, 175.0ms inference, 1.0ms postprocess per image at shape (1, 3, 480, 640)\n",
      "\n",
      "0: 480x640 1 Il/elle dort sur la gauche, 187.0ms\n",
      "Speed: 3.0ms preprocess, 187.0ms inference, 1.0ms postprocess per image at shape (1, 3, 480, 640)\n",
      "\n",
      "0: 480x640 (no detections), 184.9ms\n",
      "Speed: 3.1ms preprocess, 184.9ms inference, 1.0ms postprocess per image at shape (1, 3, 480, 640)\n",
      "\n",
      "0: 480x640 1 Il/elle somnole, 186.7ms\n",
      "Speed: 3.0ms preprocess, 186.7ms inference, 2.6ms postprocess per image at shape (1, 3, 480, 640)\n",
      "\n",
      "0: 480x640 1 Il/elle dort sur le dos, 188.2ms\n",
      "Speed: 3.2ms preprocess, 188.2ms inference, 2.0ms postprocess per image at shape (1, 3, 480, 640)\n",
      "\n",
      "0: 480x640 1 Il/elle dort sur le dos, 191.6ms\n",
      "Speed: 4.4ms preprocess, 191.6ms inference, 1.0ms postprocess per image at shape (1, 3, 480, 640)\n",
      "\n",
      "0: 480x640 1 Il/elle dort sur le dos, 180.0ms\n",
      "Speed: 3.0ms preprocess, 180.0ms inference, 1.0ms postprocess per image at shape (1, 3, 480, 640)\n",
      "\n",
      "0: 480x640 (no detections), 189.6ms\n",
      "Speed: 3.0ms preprocess, 189.6ms inference, 1.0ms postprocess per image at shape (1, 3, 480, 640)\n",
      "\n",
      "0: 480x640 (no detections), 189.7ms\n",
      "Speed: 3.5ms preprocess, 189.7ms inference, 1.6ms postprocess per image at shape (1, 3, 480, 640)\n",
      "\n",
      "0: 480x640 (no detections), 193.0ms\n",
      "Speed: 2.3ms preprocess, 193.0ms inference, 1.0ms postprocess per image at shape (1, 3, 480, 640)\n",
      "\n",
      "0: 480x640 (no detections), 178.3ms\n",
      "Speed: 5.2ms preprocess, 178.3ms inference, 1.0ms postprocess per image at shape (1, 3, 480, 640)\n",
      "\n",
      "0: 480x640 (no detections), 219.9ms\n",
      "Speed: 3.0ms preprocess, 219.9ms inference, 2.0ms postprocess per image at shape (1, 3, 480, 640)\n",
      "\n",
      "0: 480x640 (no detections), 193.1ms\n",
      "Speed: 6.1ms preprocess, 193.1ms inference, 1.0ms postprocess per image at shape (1, 3, 480, 640)\n",
      "\n",
      "0: 480x640 1 Il/elle dort sur le dos, 189.6ms\n",
      "Speed: 3.0ms preprocess, 189.6ms inference, 1.0ms postprocess per image at shape (1, 3, 480, 640)\n",
      "\n",
      "0: 480x640 (no detections), 191.7ms\n",
      "Speed: 4.0ms preprocess, 191.7ms inference, 1.0ms postprocess per image at shape (1, 3, 480, 640)\n",
      "\n",
      "0: 480x640 (no detections), 177.2ms\n",
      "Speed: 2.0ms preprocess, 177.2ms inference, 1.3ms postprocess per image at shape (1, 3, 480, 640)\n",
      "\n",
      "0: 480x640 1 Il/elle somnole, 186.5ms\n",
      "Speed: 2.0ms preprocess, 186.5ms inference, 2.0ms postprocess per image at shape (1, 3, 480, 640)\n",
      "\n",
      "0: 480x640 1 Il/elle somnole, 204.6ms\n",
      "Speed: 4.0ms preprocess, 204.6ms inference, 2.0ms postprocess per image at shape (1, 3, 480, 640)\n",
      "\n",
      "0: 480x640 1 Il/elle somnole, 193.1ms\n",
      "Speed: 4.2ms preprocess, 193.1ms inference, 1.0ms postprocess per image at shape (1, 3, 480, 640)\n",
      "\n",
      "0: 480x640 (no detections), 197.2ms\n",
      "Speed: 3.6ms preprocess, 197.2ms inference, 1.0ms postprocess per image at shape (1, 3, 480, 640)\n",
      "\n",
      "0: 480x640 (no detections), 195.6ms\n",
      "Speed: 3.0ms preprocess, 195.6ms inference, 1.0ms postprocess per image at shape (1, 3, 480, 640)\n",
      "\n",
      "0: 480x640 (no detections), 194.8ms\n",
      "Speed: 3.0ms preprocess, 194.8ms inference, 0.0ms postprocess per image at shape (1, 3, 480, 640)\n",
      "\n",
      "0: 480x640 1 Il/elle somnole, 191.3ms\n",
      "Speed: 3.7ms preprocess, 191.3ms inference, 1.0ms postprocess per image at shape (1, 3, 480, 640)\n",
      "\n",
      "0: 480x640 (no detections), 185.9ms\n",
      "Speed: 3.2ms preprocess, 185.9ms inference, 1.0ms postprocess per image at shape (1, 3, 480, 640)\n",
      "\n",
      "0: 480x640 1 Il/elle somnole, 212.6ms\n",
      "Speed: 5.3ms preprocess, 212.6ms inference, 1.0ms postprocess per image at shape (1, 3, 480, 640)\n",
      "\n",
      "0: 480x640 (no detections), 210.1ms\n",
      "Speed: 3.4ms preprocess, 210.1ms inference, 1.4ms postprocess per image at shape (1, 3, 480, 640)\n",
      "\n",
      "0: 480x640 (no detections), 192.2ms\n",
      "Speed: 3.3ms preprocess, 192.2ms inference, 2.0ms postprocess per image at shape (1, 3, 480, 640)\n",
      "\n",
      "0: 480x640 1 Il/elle somnole, 186.2ms\n",
      "Speed: 4.9ms preprocess, 186.2ms inference, 1.0ms postprocess per image at shape (1, 3, 480, 640)\n",
      "\n",
      "0: 480x640 1 Il/elle somnole, 188.8ms\n",
      "Speed: 3.0ms preprocess, 188.8ms inference, 1.0ms postprocess per image at shape (1, 3, 480, 640)\n",
      "\n",
      "0: 480x640 1 Il/elle somnole, 208.4ms\n",
      "Speed: 4.3ms preprocess, 208.4ms inference, 2.0ms postprocess per image at shape (1, 3, 480, 640)\n",
      "\n",
      "0: 480x640 1 Il/elle dort sur le dos, 189.8ms\n",
      "Speed: 3.4ms preprocess, 189.8ms inference, 1.0ms postprocess per image at shape (1, 3, 480, 640)\n",
      "\n",
      "0: 480x640 1 Il/elle dort sur la gauche, 180.8ms\n",
      "Speed: 2.8ms preprocess, 180.8ms inference, 1.0ms postprocess per image at shape (1, 3, 480, 640)\n",
      "\n",
      "0: 480x640 1 Il/elle dort sur la gauche, 189.4ms\n",
      "Speed: 4.0ms preprocess, 189.4ms inference, 1.0ms postprocess per image at shape (1, 3, 480, 640)\n",
      "\n",
      "0: 480x640 (no detections), 210.9ms\n",
      "Speed: 3.0ms preprocess, 210.9ms inference, 1.0ms postprocess per image at shape (1, 3, 480, 640)\n",
      "\n",
      "0: 480x640 1 Il/elle dort sur la gauche, 180.2ms\n",
      "Speed: 9.7ms preprocess, 180.2ms inference, 1.0ms postprocess per image at shape (1, 3, 480, 640)\n",
      "\n",
      "0: 480x640 1 Il/elle dort sur la gauche, 181.9ms\n",
      "Speed: 4.7ms preprocess, 181.9ms inference, 1.0ms postprocess per image at shape (1, 3, 480, 640)\n",
      "\n",
      "0: 480x640 (no detections), 194.5ms\n",
      "Speed: 4.7ms preprocess, 194.5ms inference, 1.0ms postprocess per image at shape (1, 3, 480, 640)\n",
      "\n",
      "0: 480x640 1 Il/elle dort sur la gauche, 183.9ms\n",
      "Speed: 4.0ms preprocess, 183.9ms inference, 2.6ms postprocess per image at shape (1, 3, 480, 640)\n",
      "\n",
      "0: 480x640 1 Il/elle dort sur le dos, 1 Il/elle dort sur la gauche, 239.0ms\n",
      "Speed: 2.0ms preprocess, 239.0ms inference, 2.0ms postprocess per image at shape (1, 3, 480, 640)\n",
      "\n",
      "0: 480x640 (no detections), 180.6ms\n",
      "Speed: 5.6ms preprocess, 180.6ms inference, 1.0ms postprocess per image at shape (1, 3, 480, 640)\n",
      "\n",
      "0: 480x640 (no detections), 189.3ms\n",
      "Speed: 4.0ms preprocess, 189.3ms inference, 1.0ms postprocess per image at shape (1, 3, 480, 640)\n",
      "\n",
      "0: 480x640 1 Il/elle dort sur le dos, 191.0ms\n",
      "Speed: 5.1ms preprocess, 191.0ms inference, 1.5ms postprocess per image at shape (1, 3, 480, 640)\n",
      "\n",
      "0: 480x640 (no detections), 188.9ms\n",
      "Speed: 3.4ms preprocess, 188.9ms inference, 1.5ms postprocess per image at shape (1, 3, 480, 640)\n",
      "\n",
      "0: 480x640 (no detections), 188.7ms\n",
      "Speed: 4.4ms preprocess, 188.7ms inference, 1.0ms postprocess per image at shape (1, 3, 480, 640)\n",
      "\n",
      "0: 480x640 1 Il/elle dort sur la gauche, 189.9ms\n",
      "Speed: 4.7ms preprocess, 189.9ms inference, 1.0ms postprocess per image at shape (1, 3, 480, 640)\n",
      "\n",
      "0: 480x640 (no detections), 194.7ms\n",
      "Speed: 2.5ms preprocess, 194.7ms inference, 1.9ms postprocess per image at shape (1, 3, 480, 640)\n",
      "\n",
      "0: 480x640 (no detections), 190.4ms\n",
      "Speed: 3.5ms preprocess, 190.4ms inference, 1.0ms postprocess per image at shape (1, 3, 480, 640)\n",
      "\n",
      "0: 480x640 (no detections), 194.9ms\n",
      "Speed: 4.5ms preprocess, 194.9ms inference, 0.0ms postprocess per image at shape (1, 3, 480, 640)\n",
      "\n",
      "0: 480x640 (no detections), 184.3ms\n",
      "Speed: 4.0ms preprocess, 184.3ms inference, 0.0ms postprocess per image at shape (1, 3, 480, 640)\n",
      "\n",
      "0: 480x640 (no detections), 181.7ms\n",
      "Speed: 2.1ms preprocess, 181.7ms inference, 1.0ms postprocess per image at shape (1, 3, 480, 640)\n",
      "\n",
      "0: 480x640 1 Il/elle dort sur la gauche, 191.2ms\n",
      "Speed: 3.9ms preprocess, 191.2ms inference, 2.0ms postprocess per image at shape (1, 3, 480, 640)\n",
      "\n",
      "0: 480x640 (no detections), 184.4ms\n",
      "Speed: 3.0ms preprocess, 184.4ms inference, 0.0ms postprocess per image at shape (1, 3, 480, 640)\n",
      "\n",
      "0: 480x640 1 Il/elle dort sur la gauche, 229.8ms\n",
      "Speed: 6.4ms preprocess, 229.8ms inference, 2.0ms postprocess per image at shape (1, 3, 480, 640)\n",
      "\n",
      "0: 480x640 1 Il/elle dort sur la gauche, 186.9ms\n",
      "Speed: 3.0ms preprocess, 186.9ms inference, 2.0ms postprocess per image at shape (1, 3, 480, 640)\n",
      "\n",
      "0: 480x640 (no detections), 194.1ms\n",
      "Speed: 3.2ms preprocess, 194.1ms inference, 1.0ms postprocess per image at shape (1, 3, 480, 640)\n",
      "\n",
      "0: 480x640 1 Il/elle dort sur la gauche, 189.6ms\n",
      "Speed: 4.1ms preprocess, 189.6ms inference, 1.0ms postprocess per image at shape (1, 3, 480, 640)\n",
      "\n",
      "0: 480x640 1 Il/elle dort sur la gauche, 186.5ms\n",
      "Speed: 4.5ms preprocess, 186.5ms inference, 1.0ms postprocess per image at shape (1, 3, 480, 640)\n",
      "\n",
      "0: 480x640 (no detections), 189.5ms\n",
      "Speed: 2.0ms preprocess, 189.5ms inference, 1.0ms postprocess per image at shape (1, 3, 480, 640)\n",
      "\n",
      "0: 480x640 1 Il/elle dort sur la gauche, 193.8ms\n",
      "Speed: 2.2ms preprocess, 193.8ms inference, 2.0ms postprocess per image at shape (1, 3, 480, 640)\n",
      "\n",
      "0: 480x640 (no detections), 190.5ms\n",
      "Speed: 7.6ms preprocess, 190.5ms inference, 1.0ms postprocess per image at shape (1, 3, 480, 640)\n",
      "\n",
      "0: 480x640 (no detections), 193.5ms\n",
      "Speed: 4.3ms preprocess, 193.5ms inference, 0.5ms postprocess per image at shape (1, 3, 480, 640)\n",
      "\n",
      "0: 480x640 (no detections), 191.1ms\n",
      "Speed: 3.2ms preprocess, 191.1ms inference, 1.0ms postprocess per image at shape (1, 3, 480, 640)\n",
      "\n",
      "0: 480x640 (no detections), 185.9ms\n",
      "Speed: 3.7ms preprocess, 185.9ms inference, 1.0ms postprocess per image at shape (1, 3, 480, 640)\n",
      "\n",
      "0: 480x640 (no detections), 178.2ms\n",
      "Speed: 2.9ms preprocess, 178.2ms inference, 1.0ms postprocess per image at shape (1, 3, 480, 640)\n",
      "\n",
      "0: 480x640 1 Il/elle dort sur la gauche, 190.8ms\n",
      "Speed: 6.0ms preprocess, 190.8ms inference, 1.0ms postprocess per image at shape (1, 3, 480, 640)\n",
      "\n",
      "0: 480x640 (no detections), 185.5ms\n",
      "Speed: 3.0ms preprocess, 185.5ms inference, 1.0ms postprocess per image at shape (1, 3, 480, 640)\n",
      "\n",
      "0: 480x640 (no detections), 254.3ms\n",
      "Speed: 3.0ms preprocess, 254.3ms inference, 1.0ms postprocess per image at shape (1, 3, 480, 640)\n",
      "\n",
      "0: 480x640 (no detections), 201.1ms\n",
      "Speed: 2.5ms preprocess, 201.1ms inference, 0.5ms postprocess per image at shape (1, 3, 480, 640)\n",
      "\n",
      "0: 480x640 (no detections), 188.0ms\n",
      "Speed: 3.2ms preprocess, 188.0ms inference, 1.0ms postprocess per image at shape (1, 3, 480, 640)\n",
      "\n",
      "0: 480x640 1 Il/elle dort sur la gauche, 179.5ms\n",
      "Speed: 4.3ms preprocess, 179.5ms inference, 1.0ms postprocess per image at shape (1, 3, 480, 640)\n",
      "\n",
      "0: 480x640 (no detections), 198.0ms\n",
      "Speed: 3.0ms preprocess, 198.0ms inference, 0.0ms postprocess per image at shape (1, 3, 480, 640)\n",
      "\n",
      "0: 480x640 (no detections), 190.0ms\n",
      "Speed: 5.3ms preprocess, 190.0ms inference, 1.0ms postprocess per image at shape (1, 3, 480, 640)\n",
      "\n",
      "0: 480x640 1 Il/elle dort sur la gauche, 181.6ms\n",
      "Speed: 4.1ms preprocess, 181.6ms inference, 1.0ms postprocess per image at shape (1, 3, 480, 640)\n",
      "\n",
      "0: 480x640 (no detections), 186.5ms\n",
      "Speed: 2.5ms preprocess, 186.5ms inference, 1.0ms postprocess per image at shape (1, 3, 480, 640)\n",
      "\n",
      "0: 480x640 (no detections), 197.2ms\n",
      "Speed: 3.3ms preprocess, 197.2ms inference, 1.0ms postprocess per image at shape (1, 3, 480, 640)\n",
      "\n",
      "0: 480x640 1 Il/elle dort sur la gauche, 172.3ms\n",
      "Speed: 6.2ms preprocess, 172.3ms inference, 2.0ms postprocess per image at shape (1, 3, 480, 640)\n",
      "\n",
      "0: 480x640 (no detections), 171.7ms\n",
      "Speed: 3.0ms preprocess, 171.7ms inference, 0.0ms postprocess per image at shape (1, 3, 480, 640)\n",
      "\n",
      "0: 480x640 1 Il/elle dort sur la gauche, 176.6ms\n",
      "Speed: 3.0ms preprocess, 176.6ms inference, 2.0ms postprocess per image at shape (1, 3, 480, 640)\n",
      "\n",
      "0: 480x640 (no detections), 187.3ms\n",
      "Speed: 3.0ms preprocess, 187.3ms inference, 1.6ms postprocess per image at shape (1, 3, 480, 640)\n",
      "\n",
      "0: 480x640 (no detections), 193.0ms\n",
      "Speed: 3.0ms preprocess, 193.0ms inference, 1.0ms postprocess per image at shape (1, 3, 480, 640)\n",
      "\n",
      "0: 480x640 1 Il/elle dort sur la gauche, 226.0ms\n",
      "Speed: 4.0ms preprocess, 226.0ms inference, 1.0ms postprocess per image at shape (1, 3, 480, 640)\n",
      "\n",
      "0: 480x640 1 Il/elle dort sur la gauche, 188.5ms\n",
      "Speed: 3.4ms preprocess, 188.5ms inference, 1.0ms postprocess per image at shape (1, 3, 480, 640)\n",
      "\n",
      "0: 480x640 (no detections), 189.5ms\n",
      "Speed: 3.0ms preprocess, 189.5ms inference, 1.0ms postprocess per image at shape (1, 3, 480, 640)\n",
      "\n",
      "0: 480x640 (no detections), 189.6ms\n",
      "Speed: 3.9ms preprocess, 189.6ms inference, 1.0ms postprocess per image at shape (1, 3, 480, 640)\n",
      "\n",
      "0: 480x640 1 Il/elle somnole, 184.6ms\n",
      "Speed: 3.3ms preprocess, 184.6ms inference, 2.0ms postprocess per image at shape (1, 3, 480, 640)\n",
      "\n",
      "0: 480x640 (no detections), 182.3ms\n",
      "Speed: 3.1ms preprocess, 182.3ms inference, 1.6ms postprocess per image at shape (1, 3, 480, 640)\n",
      "\n",
      "0: 480x640 (no detections), 197.5ms\n",
      "Speed: 2.8ms preprocess, 197.5ms inference, 1.0ms postprocess per image at shape (1, 3, 480, 640)\n",
      "\n",
      "0: 480x640 (no detections), 190.5ms\n",
      "Speed: 4.4ms preprocess, 190.5ms inference, 1.0ms postprocess per image at shape (1, 3, 480, 640)\n",
      "\n",
      "0: 480x640 (no detections), 181.8ms\n",
      "Speed: 3.4ms preprocess, 181.8ms inference, 1.0ms postprocess per image at shape (1, 3, 480, 640)\n",
      "\n",
      "0: 480x640 1 Il/elle dort sur le dos, 186.9ms\n",
      "Speed: 4.5ms preprocess, 186.9ms inference, 1.0ms postprocess per image at shape (1, 3, 480, 640)\n",
      "\n",
      "0: 480x640 1 Il/elle dort sur le dos, 187.0ms\n",
      "Speed: 4.2ms preprocess, 187.0ms inference, 1.0ms postprocess per image at shape (1, 3, 480, 640)\n",
      "\n",
      "0: 480x640 (no detections), 190.0ms\n",
      "Speed: 3.4ms preprocess, 190.0ms inference, 1.0ms postprocess per image at shape (1, 3, 480, 640)\n",
      "\n",
      "0: 480x640 (no detections), 175.8ms\n",
      "Speed: 3.4ms preprocess, 175.8ms inference, 1.0ms postprocess per image at shape (1, 3, 480, 640)\n",
      "\n",
      "0: 480x640 1 Il/elle dort sur le dos, 221.5ms\n",
      "Speed: 4.0ms preprocess, 221.5ms inference, 1.0ms postprocess per image at shape (1, 3, 480, 640)\n",
      "\n",
      "0: 480x640 1 Il/elle dort sur la gauche, 197.9ms\n",
      "Speed: 3.5ms preprocess, 197.9ms inference, 1.0ms postprocess per image at shape (1, 3, 480, 640)\n",
      "\n",
      "0: 480x640 1 Il/elle dort sur la gauche, 190.7ms\n",
      "Speed: 3.0ms preprocess, 190.7ms inference, 2.0ms postprocess per image at shape (1, 3, 480, 640)\n",
      "\n",
      "0: 480x640 1 Il/elle dort sur la gauche, 218.5ms\n",
      "Speed: 4.1ms preprocess, 218.5ms inference, 2.0ms postprocess per image at shape (1, 3, 480, 640)\n",
      "\n",
      "0: 480x640 1 Il/elle dort sur la gauche, 189.6ms\n",
      "Speed: 4.4ms preprocess, 189.6ms inference, 1.3ms postprocess per image at shape (1, 3, 480, 640)\n",
      "\n",
      "0: 480x640 2 Il/elle dort sur la gauches, 196.8ms\n",
      "Speed: 4.0ms preprocess, 196.8ms inference, 1.0ms postprocess per image at shape (1, 3, 480, 640)\n",
      "\n",
      "0: 480x640 1 Il/elle dort sur la gauche, 186.0ms\n",
      "Speed: 3.0ms preprocess, 186.0ms inference, 1.0ms postprocess per image at shape (1, 3, 480, 640)\n",
      "\n",
      "0: 480x640 2 Il/elle dort sur la gauches, 182.5ms\n",
      "Speed: 3.0ms preprocess, 182.5ms inference, 2.3ms postprocess per image at shape (1, 3, 480, 640)\n",
      "\n",
      "0: 480x640 1 Il/elle dort sur la gauche, 195.9ms\n",
      "Speed: 3.0ms preprocess, 195.9ms inference, 1.0ms postprocess per image at shape (1, 3, 480, 640)\n",
      "\n",
      "0: 480x640 1 Il/elle dort sur la gauche, 185.5ms\n",
      "Speed: 3.0ms preprocess, 185.5ms inference, 2.0ms postprocess per image at shape (1, 3, 480, 640)\n",
      "\n",
      "0: 480x640 1 Il/elle dort sur la gauche, 199.3ms\n",
      "Speed: 3.8ms preprocess, 199.3ms inference, 1.0ms postprocess per image at shape (1, 3, 480, 640)\n",
      "\n",
      "0: 480x640 1 Il/elle dort sur la gauche, 180.0ms\n",
      "Speed: 4.8ms preprocess, 180.0ms inference, 2.0ms postprocess per image at shape (1, 3, 480, 640)\n",
      "\n",
      "0: 480x640 1 Il/elle dort sur la gauche, 178.0ms\n",
      "Speed: 3.5ms preprocess, 178.0ms inference, 1.0ms postprocess per image at shape (1, 3, 480, 640)\n",
      "\n",
      "0: 480x640 1 Il/elle dort sur la gauche, 223.0ms\n",
      "Speed: 3.0ms preprocess, 223.0ms inference, 2.1ms postprocess per image at shape (1, 3, 480, 640)\n",
      "\n",
      "0: 480x640 1 Il/elle dort sur la gauche, 193.6ms\n",
      "Speed: 2.5ms preprocess, 193.6ms inference, 2.0ms postprocess per image at shape (1, 3, 480, 640)\n",
      "\n",
      "0: 480x640 1 Il/elle dort sur la gauche, 195.6ms\n",
      "Speed: 3.3ms preprocess, 195.6ms inference, 2.0ms postprocess per image at shape (1, 3, 480, 640)\n",
      "\n",
      "0: 480x640 1 Il/elle dort sur le dos, 189.5ms\n",
      "Speed: 3.5ms preprocess, 189.5ms inference, 1.0ms postprocess per image at shape (1, 3, 480, 640)\n",
      "\n",
      "0: 480x640 1 Il/elle dort sur le dos, 186.5ms\n",
      "Speed: 5.2ms preprocess, 186.5ms inference, 2.0ms postprocess per image at shape (1, 3, 480, 640)\n",
      "\n",
      "0: 480x640 1 Il/elle dort sur le dos, 198.0ms\n",
      "Speed: 2.0ms preprocess, 198.0ms inference, 1.0ms postprocess per image at shape (1, 3, 480, 640)\n",
      "\n",
      "0: 480x640 1 Il/elle dort sur le dos, 191.3ms\n",
      "Speed: 3.9ms preprocess, 191.3ms inference, 1.0ms postprocess per image at shape (1, 3, 480, 640)\n",
      "\n",
      "0: 480x640 (no detections), 192.4ms\n",
      "Speed: 3.5ms preprocess, 192.4ms inference, 1.0ms postprocess per image at shape (1, 3, 480, 640)\n",
      "\n",
      "0: 480x640 (no detections), 186.1ms\n",
      "Speed: 3.0ms preprocess, 186.1ms inference, 1.7ms postprocess per image at shape (1, 3, 480, 640)\n",
      "\n",
      "0: 480x640 (no detections), 205.1ms\n",
      "Speed: 2.0ms preprocess, 205.1ms inference, 1.0ms postprocess per image at shape (1, 3, 480, 640)\n",
      "\n",
      "0: 480x640 (no detections), 194.3ms\n",
      "Speed: 3.0ms preprocess, 194.3ms inference, 1.0ms postprocess per image at shape (1, 3, 480, 640)\n",
      "\n",
      "0: 480x640 1 Il/elle dort sur le dos, 1 Il/elle dort sur la gauche, 196.4ms\n",
      "Speed: 3.0ms preprocess, 196.4ms inference, 1.0ms postprocess per image at shape (1, 3, 480, 640)\n",
      "\n",
      "0: 480x640 (no detections), 189.3ms\n",
      "Speed: 4.3ms preprocess, 189.3ms inference, 1.0ms postprocess per image at shape (1, 3, 480, 640)\n",
      "\n",
      "0: 480x640 (no detections), 233.9ms\n",
      "Speed: 3.2ms preprocess, 233.9ms inference, 1.0ms postprocess per image at shape (1, 3, 480, 640)\n",
      "\n",
      "0: 480x640 1 Il/elle somnole, 186.1ms\n",
      "Speed: 4.0ms preprocess, 186.1ms inference, 2.0ms postprocess per image at shape (1, 3, 480, 640)\n",
      "\n",
      "0: 480x640 (no detections), 190.8ms\n",
      "Speed: 3.0ms preprocess, 190.8ms inference, 2.0ms postprocess per image at shape (1, 3, 480, 640)\n",
      "\n",
      "0: 480x640 (no detections), 184.8ms\n",
      "Speed: 3.0ms preprocess, 184.8ms inference, 1.0ms postprocess per image at shape (1, 3, 480, 640)\n",
      "\n",
      "0: 480x640 (no detections), 232.5ms\n",
      "Speed: 3.0ms preprocess, 232.5ms inference, 2.0ms postprocess per image at shape (1, 3, 480, 640)\n",
      "\n",
      "0: 480x640 (no detections), 223.9ms\n",
      "Speed: 4.0ms preprocess, 223.9ms inference, 1.1ms postprocess per image at shape (1, 3, 480, 640)\n",
      "\n",
      "0: 480x640 1 Il/elle dort sur la gauche, 193.2ms\n",
      "Speed: 4.1ms preprocess, 193.2ms inference, 2.0ms postprocess per image at shape (1, 3, 480, 640)\n",
      "\n",
      "0: 480x640 1 Il/elle dort sur la gauche, 219.8ms\n",
      "Speed: 6.5ms preprocess, 219.8ms inference, 1.3ms postprocess per image at shape (1, 3, 480, 640)\n",
      "\n",
      "0: 480x640 1 Il/elle dort sur la gauche, 212.1ms\n",
      "Speed: 3.3ms preprocess, 212.1ms inference, 1.0ms postprocess per image at shape (1, 3, 480, 640)\n",
      "\n",
      "0: 480x640 (no detections), 245.0ms\n",
      "Speed: 5.0ms preprocess, 245.0ms inference, 1.0ms postprocess per image at shape (1, 3, 480, 640)\n",
      "\n",
      "0: 480x640 1 Il/elle dort sur la gauche, 267.8ms\n",
      "Speed: 4.0ms preprocess, 267.8ms inference, 2.0ms postprocess per image at shape (1, 3, 480, 640)\n",
      "\n",
      "0: 480x640 1 Il/elle dort sur la gauche, 308.3ms\n",
      "Speed: 5.0ms preprocess, 308.3ms inference, 2.0ms postprocess per image at shape (1, 3, 480, 640)\n",
      "\n",
      "0: 480x640 1 Il/elle bâille, 279.6ms\n",
      "Speed: 5.2ms preprocess, 279.6ms inference, 2.1ms postprocess per image at shape (1, 3, 480, 640)\n",
      "\n",
      "0: 480x640 1 Il/elle bâille, 320.6ms\n",
      "Speed: 4.0ms preprocess, 320.6ms inference, 2.0ms postprocess per image at shape (1, 3, 480, 640)\n",
      "\n",
      "0: 480x640 1 Il/elle dort sur la gauche, 214.4ms\n",
      "Speed: 6.3ms preprocess, 214.4ms inference, 1.2ms postprocess per image at shape (1, 3, 480, 640)\n",
      "\n",
      "0: 480x640 (no detections), 199.9ms\n",
      "Speed: 3.4ms preprocess, 199.9ms inference, 0.0ms postprocess per image at shape (1, 3, 480, 640)\n",
      "\n",
      "0: 480x640 1 Il/elle dort sur la gauche, 186.3ms\n",
      "Speed: 5.2ms preprocess, 186.3ms inference, 2.0ms postprocess per image at shape (1, 3, 480, 640)\n",
      "\n",
      "0: 480x640 (no detections), 216.8ms\n",
      "Speed: 3.2ms preprocess, 216.8ms inference, 1.4ms postprocess per image at shape (1, 3, 480, 640)\n",
      "\n",
      "0: 480x640 (no detections), 184.8ms\n",
      "Speed: 5.5ms preprocess, 184.8ms inference, 0.0ms postprocess per image at shape (1, 3, 480, 640)\n",
      "\n",
      "0: 480x640 1 Il/elle bâille, 186.8ms\n",
      "Speed: 2.8ms preprocess, 186.8ms inference, 1.0ms postprocess per image at shape (1, 3, 480, 640)\n",
      "\n",
      "0: 480x640 1 Il/elle somnole, 1 Il/elle bâille, 185.5ms\n",
      "Speed: 3.5ms preprocess, 185.5ms inference, 2.0ms postprocess per image at shape (1, 3, 480, 640)\n",
      "\n",
      "0: 480x640 (no detections), 193.2ms\n",
      "Speed: 3.0ms preprocess, 193.2ms inference, 1.0ms postprocess per image at shape (1, 3, 480, 640)\n",
      "\n",
      "0: 480x640 (no detections), 204.5ms\n",
      "Speed: 3.0ms preprocess, 204.5ms inference, 1.0ms postprocess per image at shape (1, 3, 480, 640)\n",
      "\n",
      "0: 480x640 (no detections), 189.9ms\n",
      "Speed: 3.1ms preprocess, 189.9ms inference, 1.0ms postprocess per image at shape (1, 3, 480, 640)\n",
      "\n",
      "0: 480x640 (no detections), 193.7ms\n",
      "Speed: 3.0ms preprocess, 193.7ms inference, 1.0ms postprocess per image at shape (1, 3, 480, 640)\n",
      "\n",
      "0: 480x640 (no detections), 203.9ms\n",
      "Speed: 3.2ms preprocess, 203.9ms inference, 1.0ms postprocess per image at shape (1, 3, 480, 640)\n",
      "\n",
      "0: 480x640 (no detections), 210.3ms\n",
      "Speed: 4.6ms preprocess, 210.3ms inference, 1.0ms postprocess per image at shape (1, 3, 480, 640)\n",
      "\n",
      "0: 480x640 (no detections), 191.7ms\n",
      "Speed: 4.3ms preprocess, 191.7ms inference, 1.0ms postprocess per image at shape (1, 3, 480, 640)\n",
      "\n",
      "0: 480x640 (no detections), 198.3ms\n",
      "Speed: 3.2ms preprocess, 198.3ms inference, 1.0ms postprocess per image at shape (1, 3, 480, 640)\n",
      "\n",
      "0: 480x640 (no detections), 194.2ms\n",
      "Speed: 5.1ms preprocess, 194.2ms inference, 0.0ms postprocess per image at shape (1, 3, 480, 640)\n",
      "\n",
      "0: 480x640 (no detections), 177.4ms\n",
      "Speed: 3.3ms preprocess, 177.4ms inference, 0.0ms postprocess per image at shape (1, 3, 480, 640)\n",
      "\n",
      "0: 480x640 (no detections), 184.9ms\n",
      "Speed: 5.3ms preprocess, 184.9ms inference, 1.0ms postprocess per image at shape (1, 3, 480, 640)\n",
      "\n",
      "0: 480x640 (no detections), 188.9ms\n",
      "Speed: 4.3ms preprocess, 188.9ms inference, 1.0ms postprocess per image at shape (1, 3, 480, 640)\n",
      "\n",
      "0: 480x640 (no detections), 228.8ms\n",
      "Speed: 4.0ms preprocess, 228.8ms inference, 1.4ms postprocess per image at shape (1, 3, 480, 640)\n",
      "\n",
      "0: 480x640 (no detections), 190.7ms\n",
      "Speed: 4.5ms preprocess, 190.7ms inference, 1.0ms postprocess per image at shape (1, 3, 480, 640)\n",
      "\n",
      "0: 480x640 (no detections), 194.3ms\n",
      "Speed: 4.0ms preprocess, 194.3ms inference, 0.5ms postprocess per image at shape (1, 3, 480, 640)\n",
      "\n",
      "0: 480x640 (no detections), 190.6ms\n",
      "Speed: 3.0ms preprocess, 190.6ms inference, 1.0ms postprocess per image at shape (1, 3, 480, 640)\n",
      "\n",
      "0: 480x640 (no detections), 189.6ms\n",
      "Speed: 5.1ms preprocess, 189.6ms inference, 1.0ms postprocess per image at shape (1, 3, 480, 640)\n",
      "\n",
      "0: 480x640 1 Il/elle somnole, 186.3ms\n",
      "Speed: 3.9ms preprocess, 186.3ms inference, 1.0ms postprocess per image at shape (1, 3, 480, 640)\n",
      "\n",
      "0: 480x640 1 Il/elle somnole, 233.4ms\n",
      "Speed: 4.0ms preprocess, 233.4ms inference, 1.5ms postprocess per image at shape (1, 3, 480, 640)\n",
      "\n",
      "0: 480x640 (no detections), 185.2ms\n",
      "Speed: 3.5ms preprocess, 185.2ms inference, 0.0ms postprocess per image at shape (1, 3, 480, 640)\n",
      "\n",
      "0: 480x640 (no detections), 219.7ms\n",
      "Speed: 3.3ms preprocess, 219.7ms inference, 1.0ms postprocess per image at shape (1, 3, 480, 640)\n",
      "\n",
      "0: 480x640 (no detections), 190.1ms\n",
      "Speed: 3.0ms preprocess, 190.1ms inference, 1.0ms postprocess per image at shape (1, 3, 480, 640)\n",
      "\n",
      "0: 480x640 (no detections), 179.1ms\n",
      "Speed: 2.4ms preprocess, 179.1ms inference, 1.0ms postprocess per image at shape (1, 3, 480, 640)\n",
      "\n",
      "0: 480x640 (no detections), 192.3ms\n",
      "Speed: 3.1ms preprocess, 192.3ms inference, 1.0ms postprocess per image at shape (1, 3, 480, 640)\n",
      "\n",
      "0: 480x640 (no detections), 195.9ms\n",
      "Speed: 4.0ms preprocess, 195.9ms inference, 1.0ms postprocess per image at shape (1, 3, 480, 640)\n",
      "\n",
      "0: 480x640 (no detections), 196.8ms\n",
      "Speed: 3.0ms preprocess, 196.8ms inference, 1.0ms postprocess per image at shape (1, 3, 480, 640)\n",
      "\n",
      "0: 480x640 (no detections), 185.1ms\n",
      "Speed: 4.7ms preprocess, 185.1ms inference, 1.0ms postprocess per image at shape (1, 3, 480, 640)\n",
      "\n",
      "0: 480x640 (no detections), 189.0ms\n",
      "Speed: 3.7ms preprocess, 189.0ms inference, 1.0ms postprocess per image at shape (1, 3, 480, 640)\n",
      "\n",
      "0: 480x640 (no detections), 202.9ms\n",
      "Speed: 4.4ms preprocess, 202.9ms inference, 1.0ms postprocess per image at shape (1, 3, 480, 640)\n",
      "\n",
      "0: 480x640 (no detections), 189.7ms\n",
      "Speed: 3.0ms preprocess, 189.7ms inference, 1.0ms postprocess per image at shape (1, 3, 480, 640)\n",
      "\n",
      "0: 480x640 (no detections), 193.7ms\n",
      "Speed: 2.0ms preprocess, 193.7ms inference, 1.8ms postprocess per image at shape (1, 3, 480, 640)\n",
      "\n",
      "0: 480x640 1 Il/elle bâille, 228.3ms\n",
      "Speed: 3.5ms preprocess, 228.3ms inference, 2.0ms postprocess per image at shape (1, 3, 480, 640)\n",
      "\n",
      "0: 480x640 1 Il/elle bâille, 198.7ms\n",
      "Speed: 2.5ms preprocess, 198.7ms inference, 1.0ms postprocess per image at shape (1, 3, 480, 640)\n",
      "\n",
      "0: 480x640 1 Il/elle somnole, 1 Il/elle bâille, 190.0ms\n",
      "Speed: 5.0ms preprocess, 190.0ms inference, 1.0ms postprocess per image at shape (1, 3, 480, 640)\n",
      "\n",
      "0: 480x640 1 Il/elle somnole, 1 Il/elle bâille, 192.4ms\n",
      "Speed: 3.2ms preprocess, 192.4ms inference, 1.5ms postprocess per image at shape (1, 3, 480, 640)\n",
      "\n",
      "0: 480x640 1 Il/elle bâille, 183.9ms\n",
      "Speed: 3.0ms preprocess, 183.9ms inference, 1.0ms postprocess per image at shape (1, 3, 480, 640)\n",
      "\n",
      "0: 480x640 1 Il/elle bâille, 203.3ms\n",
      "Speed: 3.0ms preprocess, 203.3ms inference, 1.0ms postprocess per image at shape (1, 3, 480, 640)\n",
      "\n",
      "0: 480x640 (no detections), 178.3ms\n",
      "Speed: 2.6ms preprocess, 178.3ms inference, 1.0ms postprocess per image at shape (1, 3, 480, 640)\n",
      "\n",
      "0: 480x640 1 Il/elle somnole, 194.3ms\n",
      "Speed: 4.1ms preprocess, 194.3ms inference, 2.9ms postprocess per image at shape (1, 3, 480, 640)\n",
      "\n",
      "0: 480x640 (no detections), 195.1ms\n",
      "Speed: 3.0ms preprocess, 195.1ms inference, 1.0ms postprocess per image at shape (1, 3, 480, 640)\n",
      "\n",
      "0: 480x640 (no detections), 191.8ms\n",
      "Speed: 3.0ms preprocess, 191.8ms inference, 1.0ms postprocess per image at shape (1, 3, 480, 640)\n",
      "\n",
      "0: 480x640 1 Il/elle somnole, 1 Il/elle bâille, 188.5ms\n",
      "Speed: 5.0ms preprocess, 188.5ms inference, 1.0ms postprocess per image at shape (1, 3, 480, 640)\n",
      "\n",
      "0: 480x640 1 Il/elle somnole, 1 Il/elle bâille, 202.5ms\n",
      "Speed: 3.0ms preprocess, 202.5ms inference, 1.5ms postprocess per image at shape (1, 3, 480, 640)\n",
      "\n",
      "0: 480x640 1 Il/elle somnole, 181.9ms\n",
      "Speed: 3.0ms preprocess, 181.9ms inference, 1.0ms postprocess per image at shape (1, 3, 480, 640)\n",
      "\n",
      "0: 480x640 (no detections), 190.9ms\n",
      "Speed: 3.3ms preprocess, 190.9ms inference, 2.3ms postprocess per image at shape (1, 3, 480, 640)\n",
      "\n",
      "0: 480x640 1 Il/elle somnole, 243.5ms\n",
      "Speed: 2.0ms preprocess, 243.5ms inference, 2.0ms postprocess per image at shape (1, 3, 480, 640)\n",
      "\n",
      "0: 480x640 1 Il/elle somnole, 195.8ms\n",
      "Speed: 4.0ms preprocess, 195.8ms inference, 1.2ms postprocess per image at shape (1, 3, 480, 640)\n",
      "\n",
      "0: 480x640 2 Il/elle somnoles, 191.5ms\n",
      "Speed: 3.0ms preprocess, 191.5ms inference, 2.0ms postprocess per image at shape (1, 3, 480, 640)\n",
      "\n",
      "0: 480x640 1 Il/elle somnole, 181.9ms\n",
      "Speed: 3.0ms preprocess, 181.9ms inference, 1.0ms postprocess per image at shape (1, 3, 480, 640)\n",
      "\n",
      "0: 480x640 2 Il/elle somnoles, 198.8ms\n",
      "Speed: 4.5ms preprocess, 198.8ms inference, 1.8ms postprocess per image at shape (1, 3, 480, 640)\n",
      "\n",
      "0: 480x640 1 Il/elle somnole, 1 Il/elle bâille, 188.0ms\n",
      "Speed: 3.0ms preprocess, 188.0ms inference, 1.0ms postprocess per image at shape (1, 3, 480, 640)\n",
      "\n",
      "0: 480x640 1 Il/elle somnole, 183.3ms\n",
      "Speed: 6.7ms preprocess, 183.3ms inference, 2.1ms postprocess per image at shape (1, 3, 480, 640)\n",
      "\n",
      "0: 480x640 (no detections), 186.0ms\n",
      "Speed: 3.3ms preprocess, 186.0ms inference, 1.0ms postprocess per image at shape (1, 3, 480, 640)\n",
      "\n",
      "0: 480x640 (no detections), 180.7ms\n",
      "Speed: 4.2ms preprocess, 180.7ms inference, 1.0ms postprocess per image at shape (1, 3, 480, 640)\n",
      "\n",
      "0: 480x640 2 Il/elle somnoles, 182.5ms\n",
      "Speed: 4.8ms preprocess, 182.5ms inference, 2.0ms postprocess per image at shape (1, 3, 480, 640)\n",
      "\n",
      "0: 480x640 1 Il/elle somnole, 198.9ms\n",
      "Speed: 5.3ms preprocess, 198.9ms inference, 2.0ms postprocess per image at shape (1, 3, 480, 640)\n",
      "\n",
      "0: 480x640 1 Il/elle somnole, 191.3ms\n",
      "Speed: 3.8ms preprocess, 191.3ms inference, 2.0ms postprocess per image at shape (1, 3, 480, 640)\n",
      "\n",
      "0: 480x640 (no detections), 213.1ms\n",
      "Speed: 5.5ms preprocess, 213.1ms inference, 2.0ms postprocess per image at shape (1, 3, 480, 640)\n",
      "\n",
      "0: 480x640 1 Il/elle somnole, 206.3ms\n",
      "Speed: 6.7ms preprocess, 206.3ms inference, 2.0ms postprocess per image at shape (1, 3, 480, 640)\n",
      "\n",
      "0: 480x640 (no detections), 185.7ms\n",
      "Speed: 2.0ms preprocess, 185.7ms inference, 1.0ms postprocess per image at shape (1, 3, 480, 640)\n",
      "\n",
      "0: 480x640 1 Il/elle dort sur la droite, 188.4ms\n",
      "Speed: 6.3ms preprocess, 188.4ms inference, 1.0ms postprocess per image at shape (1, 3, 480, 640)\n",
      "\n",
      "0: 480x640 (no detections), 191.3ms\n",
      "Speed: 4.4ms preprocess, 191.3ms inference, 1.0ms postprocess per image at shape (1, 3, 480, 640)\n",
      "\n",
      "0: 480x640 (no detections), 209.0ms\n",
      "Speed: 2.6ms preprocess, 209.0ms inference, 1.0ms postprocess per image at shape (1, 3, 480, 640)\n",
      "\n",
      "0: 480x640 (no detections), 182.3ms\n",
      "Speed: 7.0ms preprocess, 182.3ms inference, 1.0ms postprocess per image at shape (1, 3, 480, 640)\n",
      "\n",
      "0: 480x640 (no detections), 177.4ms\n",
      "Speed: 3.2ms preprocess, 177.4ms inference, 0.0ms postprocess per image at shape (1, 3, 480, 640)\n",
      "\n",
      "0: 480x640 (no detections), 171.2ms\n",
      "Speed: 4.0ms preprocess, 171.2ms inference, 1.0ms postprocess per image at shape (1, 3, 480, 640)\n",
      "\n",
      "0: 480x640 (no detections), 196.2ms\n",
      "Speed: 2.0ms preprocess, 196.2ms inference, 1.0ms postprocess per image at shape (1, 3, 480, 640)\n",
      "\n",
      "0: 480x640 (no detections), 181.9ms\n",
      "Speed: 3.0ms preprocess, 181.9ms inference, 1.0ms postprocess per image at shape (1, 3, 480, 640)\n",
      "\n",
      "0: 480x640 (no detections), 198.2ms\n",
      "Speed: 3.0ms preprocess, 198.2ms inference, 1.0ms postprocess per image at shape (1, 3, 480, 640)\n",
      "\n",
      "0: 480x640 (no detections), 187.8ms\n",
      "Speed: 5.6ms preprocess, 187.8ms inference, 1.0ms postprocess per image at shape (1, 3, 480, 640)\n",
      "\n",
      "0: 480x640 1 Il/elle somnole, 187.7ms\n",
      "Speed: 3.0ms preprocess, 187.7ms inference, 2.0ms postprocess per image at shape (1, 3, 480, 640)\n",
      "\n",
      "0: 480x640 (no detections), 187.9ms\n",
      "Speed: 3.0ms preprocess, 187.9ms inference, 1.0ms postprocess per image at shape (1, 3, 480, 640)\n",
      "\n",
      "0: 480x640 1 Il/elle somnole, 186.8ms\n",
      "Speed: 3.0ms preprocess, 186.8ms inference, 1.0ms postprocess per image at shape (1, 3, 480, 640)\n",
      "\n",
      "0: 480x640 1 Il/elle somnole, 234.9ms\n",
      "Speed: 7.6ms preprocess, 234.9ms inference, 2.3ms postprocess per image at shape (1, 3, 480, 640)\n",
      "\n",
      "0: 480x640 (no detections), 208.9ms\n",
      "Speed: 3.0ms preprocess, 208.9ms inference, 1.0ms postprocess per image at shape (1, 3, 480, 640)\n",
      "\n",
      "0: 480x640 1 Il/elle somnole, 177.6ms\n",
      "Speed: 2.9ms preprocess, 177.6ms inference, 1.0ms postprocess per image at shape (1, 3, 480, 640)\n",
      "\n",
      "0: 480x640 1 Il/elle somnole, 184.4ms\n",
      "Speed: 3.5ms preprocess, 184.4ms inference, 1.0ms postprocess per image at shape (1, 3, 480, 640)\n",
      "\n",
      "0: 480x640 1 Il/elle somnole, 185.2ms\n",
      "Speed: 3.4ms preprocess, 185.2ms inference, 1.0ms postprocess per image at shape (1, 3, 480, 640)\n",
      "\n",
      "0: 480x640 2 Il/elle somnoles, 187.6ms\n",
      "Speed: 3.0ms preprocess, 187.6ms inference, 2.0ms postprocess per image at shape (1, 3, 480, 640)\n",
      "\n",
      "0: 480x640 2 Il/elle somnoles, 193.5ms\n",
      "Speed: 4.4ms preprocess, 193.5ms inference, 1.7ms postprocess per image at shape (1, 3, 480, 640)\n",
      "\n",
      "0: 480x640 2 Il/elle somnoles, 189.2ms\n",
      "Speed: 3.0ms preprocess, 189.2ms inference, 2.0ms postprocess per image at shape (1, 3, 480, 640)\n",
      "\n",
      "0: 480x640 2 Il/elle somnoles, 183.7ms\n",
      "Speed: 3.0ms preprocess, 183.7ms inference, 2.0ms postprocess per image at shape (1, 3, 480, 640)\n",
      "\n",
      "0: 480x640 1 Il/elle somnole, 172.6ms\n",
      "Speed: 3.0ms preprocess, 172.6ms inference, 1.0ms postprocess per image at shape (1, 3, 480, 640)\n",
      "\n",
      "0: 480x640 1 Il/elle somnole, 188.2ms\n",
      "Speed: 5.8ms preprocess, 188.2ms inference, 1.5ms postprocess per image at shape (1, 3, 480, 640)\n",
      "\n",
      "0: 480x640 1 Il/elle somnole, 179.8ms\n",
      "Speed: 3.2ms preprocess, 179.8ms inference, 2.0ms postprocess per image at shape (1, 3, 480, 640)\n",
      "\n",
      "0: 480x640 1 Il/elle somnole, 222.2ms\n",
      "Speed: 4.3ms preprocess, 222.2ms inference, 1.0ms postprocess per image at shape (1, 3, 480, 640)\n",
      "\n",
      "0: 480x640 (no detections), 189.2ms\n",
      "Speed: 2.0ms preprocess, 189.2ms inference, 1.0ms postprocess per image at shape (1, 3, 480, 640)\n",
      "\n",
      "0: 480x640 (no detections), 180.6ms\n",
      "Speed: 3.0ms preprocess, 180.6ms inference, 1.0ms postprocess per image at shape (1, 3, 480, 640)\n",
      "\n",
      "0: 480x640 (no detections), 201.2ms\n",
      "Speed: 5.1ms preprocess, 201.2ms inference, 1.0ms postprocess per image at shape (1, 3, 480, 640)\n",
      "\n",
      "0: 480x640 (no detections), 186.3ms\n",
      "Speed: 3.0ms preprocess, 186.3ms inference, 1.0ms postprocess per image at shape (1, 3, 480, 640)\n",
      "\n",
      "0: 480x640 (no detections), 189.2ms\n",
      "Speed: 3.9ms preprocess, 189.2ms inference, 1.0ms postprocess per image at shape (1, 3, 480, 640)\n",
      "\n",
      "0: 480x640 (no detections), 195.6ms\n",
      "Speed: 4.5ms preprocess, 195.6ms inference, 1.0ms postprocess per image at shape (1, 3, 480, 640)\n",
      "\n",
      "0: 480x640 (no detections), 184.4ms\n",
      "Speed: 4.5ms preprocess, 184.4ms inference, 1.0ms postprocess per image at shape (1, 3, 480, 640)\n",
      "\n",
      "0: 480x640 (no detections), 190.4ms\n",
      "Speed: 3.3ms preprocess, 190.4ms inference, 1.0ms postprocess per image at shape (1, 3, 480, 640)\n",
      "\n",
      "0: 480x640 (no detections), 200.9ms\n",
      "Speed: 5.6ms preprocess, 200.9ms inference, 1.0ms postprocess per image at shape (1, 3, 480, 640)\n",
      "\n",
      "0: 480x640 (no detections), 193.5ms\n",
      "Speed: 4.0ms preprocess, 193.5ms inference, 1.1ms postprocess per image at shape (1, 3, 480, 640)\n",
      "\n",
      "0: 480x640 (no detections), 175.8ms\n",
      "Speed: 3.0ms preprocess, 175.8ms inference, 1.2ms postprocess per image at shape (1, 3, 480, 640)\n",
      "\n",
      "0: 480x640 1 Il/elle somnole, 258.1ms\n",
      "Speed: 4.5ms preprocess, 258.1ms inference, 2.5ms postprocess per image at shape (1, 3, 480, 640)\n",
      "\n",
      "0: 480x640 1 Il/elle somnole, 183.5ms\n",
      "Speed: 2.5ms preprocess, 183.5ms inference, 1.5ms postprocess per image at shape (1, 3, 480, 640)\n",
      "\n",
      "0: 480x640 1 Il/elle somnole, 188.8ms\n",
      "Speed: 5.3ms preprocess, 188.8ms inference, 1.0ms postprocess per image at shape (1, 3, 480, 640)\n",
      "\n",
      "0: 480x640 1 Il/elle somnole, 216.7ms\n",
      "Speed: 3.5ms preprocess, 216.7ms inference, 1.0ms postprocess per image at shape (1, 3, 480, 640)\n",
      "\n",
      "0: 480x640 1 Il/elle somnole, 189.5ms\n",
      "Speed: 2.5ms preprocess, 189.5ms inference, 1.0ms postprocess per image at shape (1, 3, 480, 640)\n",
      "\n",
      "0: 480x640 1 Il/elle somnole, 183.1ms\n",
      "Speed: 3.0ms preprocess, 183.1ms inference, 1.0ms postprocess per image at shape (1, 3, 480, 640)\n",
      "\n",
      "0: 480x640 (no detections), 195.9ms\n",
      "Speed: 4.4ms preprocess, 195.9ms inference, 1.0ms postprocess per image at shape (1, 3, 480, 640)\n",
      "\n",
      "0: 480x640 (no detections), 194.0ms\n",
      "Speed: 2.0ms preprocess, 194.0ms inference, 1.0ms postprocess per image at shape (1, 3, 480, 640)\n",
      "\n",
      "0: 480x640 (no detections), 189.6ms\n",
      "Speed: 4.0ms preprocess, 189.6ms inference, 2.0ms postprocess per image at shape (1, 3, 480, 640)\n",
      "\n",
      "0: 480x640 (no detections), 198.9ms\n",
      "Speed: 4.2ms preprocess, 198.9ms inference, 1.0ms postprocess per image at shape (1, 3, 480, 640)\n",
      "\n",
      "0: 480x640 (no detections), 188.0ms\n",
      "Speed: 5.5ms preprocess, 188.0ms inference, 1.8ms postprocess per image at shape (1, 3, 480, 640)\n",
      "\n",
      "0: 480x640 (no detections), 183.2ms\n",
      "Speed: 5.0ms preprocess, 183.2ms inference, 1.3ms postprocess per image at shape (1, 3, 480, 640)\n",
      "\n",
      "0: 480x640 (no detections), 226.9ms\n",
      "Speed: 3.0ms preprocess, 226.9ms inference, 1.0ms postprocess per image at shape (1, 3, 480, 640)\n",
      "\n",
      "0: 480x640 (no detections), 178.5ms\n",
      "Speed: 5.4ms preprocess, 178.5ms inference, 1.0ms postprocess per image at shape (1, 3, 480, 640)\n",
      "\n",
      "0: 480x640 (no detections), 214.7ms\n",
      "Speed: 3.9ms preprocess, 214.7ms inference, 2.0ms postprocess per image at shape (1, 3, 480, 640)\n",
      "\n",
      "0: 480x640 (no detections), 187.4ms\n",
      "Speed: 2.5ms preprocess, 187.4ms inference, 1.0ms postprocess per image at shape (1, 3, 480, 640)\n",
      "\n",
      "0: 480x640 (no detections), 191.2ms\n",
      "Speed: 3.0ms preprocess, 191.2ms inference, 1.0ms postprocess per image at shape (1, 3, 480, 640)\n",
      "\n",
      "0: 480x640 (no detections), 189.5ms\n",
      "Speed: 3.5ms preprocess, 189.5ms inference, 2.0ms postprocess per image at shape (1, 3, 480, 640)\n",
      "\n",
      "0: 480x640 (no detections), 189.4ms\n",
      "Speed: 4.0ms preprocess, 189.4ms inference, 1.0ms postprocess per image at shape (1, 3, 480, 640)\n",
      "\n",
      "0: 480x640 (no detections), 189.0ms\n",
      "Speed: 4.5ms preprocess, 189.0ms inference, 1.0ms postprocess per image at shape (1, 3, 480, 640)\n",
      "\n",
      "0: 480x640 (no detections), 184.7ms\n",
      "Speed: 2.4ms preprocess, 184.7ms inference, 1.0ms postprocess per image at shape (1, 3, 480, 640)\n",
      "\n",
      "0: 480x640 (no detections), 171.1ms\n",
      "Speed: 2.9ms preprocess, 171.1ms inference, 1.0ms postprocess per image at shape (1, 3, 480, 640)\n",
      "\n",
      "0: 480x640 (no detections), 183.1ms\n",
      "Speed: 3.0ms preprocess, 183.1ms inference, 1.0ms postprocess per image at shape (1, 3, 480, 640)\n",
      "\n",
      "0: 480x640 (no detections), 189.8ms\n",
      "Speed: 4.8ms preprocess, 189.8ms inference, 1.0ms postprocess per image at shape (1, 3, 480, 640)\n",
      "\n",
      "0: 480x640 2 Il/elle dort sur la gauches, 234.3ms\n",
      "Speed: 3.5ms preprocess, 234.3ms inference, 1.0ms postprocess per image at shape (1, 3, 480, 640)\n",
      "\n",
      "0: 480x640 2 Il/elle dort sur la gauches, 184.0ms\n",
      "Speed: 4.0ms preprocess, 184.0ms inference, 2.0ms postprocess per image at shape (1, 3, 480, 640)\n",
      "\n",
      "0: 480x640 2 Il/elle dort sur la gauches, 220.2ms\n",
      "Speed: 3.1ms preprocess, 220.2ms inference, 3.0ms postprocess per image at shape (1, 3, 480, 640)\n",
      "\n",
      "0: 480x640 1 Il/elle dort sur la gauche, 197.9ms\n",
      "Speed: 3.0ms preprocess, 197.9ms inference, 2.0ms postprocess per image at shape (1, 3, 480, 640)\n",
      "\n",
      "0: 480x640 2 Il/elle dort sur la gauches, 195.6ms\n",
      "Speed: 4.6ms preprocess, 195.6ms inference, 1.0ms postprocess per image at shape (1, 3, 480, 640)\n",
      "\n",
      "0: 480x640 1 Il/elle dort sur la gauche, 188.7ms\n",
      "Speed: 2.7ms preprocess, 188.7ms inference, 2.1ms postprocess per image at shape (1, 3, 480, 640)\n",
      "\n",
      "0: 480x640 (no detections), 187.3ms\n",
      "Speed: 3.0ms preprocess, 187.3ms inference, 1.0ms postprocess per image at shape (1, 3, 480, 640)\n",
      "\n",
      "0: 480x640 (no detections), 184.7ms\n",
      "Speed: 3.0ms preprocess, 184.7ms inference, 1.0ms postprocess per image at shape (1, 3, 480, 640)\n",
      "\n",
      "0: 480x640 (no detections), 196.5ms\n",
      "Speed: 3.4ms preprocess, 196.5ms inference, 1.0ms postprocess per image at shape (1, 3, 480, 640)\n",
      "\n",
      "0: 480x640 1 Il/elle somnole, 192.0ms\n",
      "Speed: 4.3ms preprocess, 192.0ms inference, 2.4ms postprocess per image at shape (1, 3, 480, 640)\n",
      "\n",
      "0: 480x640 (no detections), 180.8ms\n",
      "Speed: 3.1ms preprocess, 180.8ms inference, 1.0ms postprocess per image at shape (1, 3, 480, 640)\n",
      "\n",
      "0: 480x640 (no detections), 181.4ms\n",
      "Speed: 5.8ms preprocess, 181.4ms inference, 0.0ms postprocess per image at shape (1, 3, 480, 640)\n",
      "\n",
      "0: 480x640 (no detections), 198.4ms\n",
      "Speed: 3.1ms preprocess, 198.4ms inference, 1.0ms postprocess per image at shape (1, 3, 480, 640)\n",
      "\n",
      "0: 480x640 (no detections), 190.0ms\n",
      "Speed: 3.0ms preprocess, 190.0ms inference, 1.0ms postprocess per image at shape (1, 3, 480, 640)\n",
      "\n",
      "0: 480x640 (no detections), 210.8ms\n",
      "Speed: 3.5ms preprocess, 210.8ms inference, 1.0ms postprocess per image at shape (1, 3, 480, 640)\n",
      "\n",
      "0: 480x640 (no detections), 193.0ms\n",
      "Speed: 5.4ms preprocess, 193.0ms inference, 1.0ms postprocess per image at shape (1, 3, 480, 640)\n",
      "\n",
      "0: 480x640 (no detections), 193.0ms\n",
      "Speed: 3.3ms preprocess, 193.0ms inference, 1.0ms postprocess per image at shape (1, 3, 480, 640)\n",
      "\n",
      "0: 480x640 1 Il/elle somnole, 201.0ms\n",
      "Speed: 3.0ms preprocess, 201.0ms inference, 1.0ms postprocess per image at shape (1, 3, 480, 640)\n",
      "\n",
      "0: 480x640 1 Il/elle somnole, 185.8ms\n",
      "Speed: 3.3ms preprocess, 185.8ms inference, 1.0ms postprocess per image at shape (1, 3, 480, 640)\n",
      "\n",
      "0: 480x640 (no detections), 188.1ms\n",
      "Speed: 3.0ms preprocess, 188.1ms inference, 1.0ms postprocess per image at shape (1, 3, 480, 640)\n",
      "\n",
      "0: 480x640 (no detections), 182.5ms\n",
      "Speed: 3.0ms preprocess, 182.5ms inference, 1.0ms postprocess per image at shape (1, 3, 480, 640)\n",
      "\n",
      "0: 480x640 (no detections), 184.7ms\n",
      "Speed: 4.7ms preprocess, 184.7ms inference, 1.0ms postprocess per image at shape (1, 3, 480, 640)\n",
      "\n",
      "0: 480x640 (no detections), 190.1ms\n",
      "Speed: 3.4ms preprocess, 190.1ms inference, 0.0ms postprocess per image at shape (1, 3, 480, 640)\n",
      "\n",
      "0: 480x640 (no detections), 191.1ms\n",
      "Speed: 3.0ms preprocess, 191.1ms inference, 0.0ms postprocess per image at shape (1, 3, 480, 640)\n",
      "\n",
      "0: 480x640 (no detections), 181.1ms\n",
      "Speed: 2.7ms preprocess, 181.1ms inference, 1.0ms postprocess per image at shape (1, 3, 480, 640)\n",
      "\n",
      "0: 480x640 (no detections), 187.6ms\n",
      "Speed: 3.0ms preprocess, 187.6ms inference, 1.0ms postprocess per image at shape (1, 3, 480, 640)\n",
      "\n",
      "0: 480x640 (no detections), 225.4ms\n",
      "Speed: 2.4ms preprocess, 225.4ms inference, 2.0ms postprocess per image at shape (1, 3, 480, 640)\n",
      "\n",
      "0: 480x640 (no detections), 194.3ms\n",
      "Speed: 3.4ms preprocess, 194.3ms inference, 1.0ms postprocess per image at shape (1, 3, 480, 640)\n",
      "\n",
      "0: 480x640 1 Il/elle somnole, 201.1ms\n",
      "Speed: 3.0ms preprocess, 201.1ms inference, 1.0ms postprocess per image at shape (1, 3, 480, 640)\n",
      "\n",
      "0: 480x640 1 Il/elle somnole, 185.2ms\n",
      "Speed: 2.0ms preprocess, 185.2ms inference, 2.0ms postprocess per image at shape (1, 3, 480, 640)\n",
      "\n",
      "0: 480x640 1 Il/elle somnole, 195.9ms\n",
      "Speed: 3.1ms preprocess, 195.9ms inference, 2.0ms postprocess per image at shape (1, 3, 480, 640)\n",
      "\n",
      "0: 480x640 (no detections), 186.5ms\n",
      "Speed: 3.6ms preprocess, 186.5ms inference, 1.2ms postprocess per image at shape (1, 3, 480, 640)\n",
      "\n",
      "0: 480x640 (no detections), 185.5ms\n",
      "Speed: 4.1ms preprocess, 185.5ms inference, 1.1ms postprocess per image at shape (1, 3, 480, 640)\n",
      "\n",
      "0: 480x640 (no detections), 197.4ms\n",
      "Speed: 3.0ms preprocess, 197.4ms inference, 1.0ms postprocess per image at shape (1, 3, 480, 640)\n",
      "\n",
      "0: 480x640 (no detections), 182.2ms\n",
      "Speed: 3.0ms preprocess, 182.2ms inference, 1.0ms postprocess per image at shape (1, 3, 480, 640)\n",
      "\n",
      "0: 480x640 (no detections), 189.3ms\n",
      "Speed: 4.2ms preprocess, 189.3ms inference, 0.0ms postprocess per image at shape (1, 3, 480, 640)\n",
      "\n",
      "0: 480x640 (no detections), 188.5ms\n",
      "Speed: 2.8ms preprocess, 188.5ms inference, 1.0ms postprocess per image at shape (1, 3, 480, 640)\n",
      "\n",
      "0: 480x640 (no detections), 192.9ms\n",
      "Speed: 3.9ms preprocess, 192.9ms inference, 1.0ms postprocess per image at shape (1, 3, 480, 640)\n",
      "\n",
      "0: 480x640 (no detections), 223.9ms\n",
      "Speed: 4.8ms preprocess, 223.9ms inference, 1.0ms postprocess per image at shape (1, 3, 480, 640)\n",
      "\n",
      "0: 480x640 1 Il/elle somnole, 185.4ms\n",
      "Speed: 3.0ms preprocess, 185.4ms inference, 1.0ms postprocess per image at shape (1, 3, 480, 640)\n",
      "\n",
      "0: 480x640 1 Il/elle somnole, 190.5ms\n",
      "Speed: 4.2ms preprocess, 190.5ms inference, 1.5ms postprocess per image at shape (1, 3, 480, 640)\n",
      "\n",
      "0: 480x640 1 Il/elle somnole, 209.8ms\n",
      "Speed: 3.6ms preprocess, 209.8ms inference, 1.0ms postprocess per image at shape (1, 3, 480, 640)\n",
      "\n",
      "0: 480x640 (no detections), 180.9ms\n",
      "Speed: 3.4ms preprocess, 180.9ms inference, 1.0ms postprocess per image at shape (1, 3, 480, 640)\n",
      "\n",
      "0: 480x640 1 Il/elle somnole, 192.9ms\n",
      "Speed: 6.1ms preprocess, 192.9ms inference, 1.5ms postprocess per image at shape (1, 3, 480, 640)\n",
      "\n",
      "0: 480x640 (no detections), 188.8ms\n",
      "Speed: 3.3ms preprocess, 188.8ms inference, 1.0ms postprocess per image at shape (1, 3, 480, 640)\n",
      "\n",
      "0: 480x640 1 Il/elle somnole, 186.9ms\n",
      "Speed: 6.1ms preprocess, 186.9ms inference, 2.0ms postprocess per image at shape (1, 3, 480, 640)\n",
      "\n",
      "0: 480x640 (no detections), 196.2ms\n",
      "Speed: 4.2ms preprocess, 196.2ms inference, 0.0ms postprocess per image at shape (1, 3, 480, 640)\n",
      "\n",
      "0: 480x640 (no detections), 182.2ms\n",
      "Speed: 2.3ms preprocess, 182.2ms inference, 1.0ms postprocess per image at shape (1, 3, 480, 640)\n",
      "\n",
      "0: 480x640 1 Il/elle somnole, 188.7ms\n",
      "Speed: 2.0ms preprocess, 188.7ms inference, 1.0ms postprocess per image at shape (1, 3, 480, 640)\n",
      "\n",
      "0: 480x640 (no detections), 190.2ms\n",
      "Speed: 3.0ms preprocess, 190.2ms inference, 1.0ms postprocess per image at shape (1, 3, 480, 640)\n",
      "\n",
      "0: 480x640 (no detections), 225.5ms\n",
      "Speed: 3.0ms preprocess, 225.5ms inference, 1.0ms postprocess per image at shape (1, 3, 480, 640)\n",
      "\n",
      "0: 480x640 1 Il/elle somnole, 194.6ms\n",
      "Speed: 3.5ms preprocess, 194.6ms inference, 1.0ms postprocess per image at shape (1, 3, 480, 640)\n",
      "\n",
      "0: 480x640 1 Il/elle somnole, 179.4ms\n",
      "Speed: 3.0ms preprocess, 179.4ms inference, 1.0ms postprocess per image at shape (1, 3, 480, 640)\n",
      "\n",
      "0: 480x640 (no detections), 215.8ms\n",
      "Speed: 3.0ms preprocess, 215.8ms inference, 0.0ms postprocess per image at shape (1, 3, 480, 640)\n",
      "\n",
      "0: 480x640 (no detections), 198.0ms\n",
      "Speed: 4.0ms preprocess, 198.0ms inference, 2.2ms postprocess per image at shape (1, 3, 480, 640)\n",
      "\n",
      "0: 480x640 (no detections), 210.4ms\n",
      "Speed: 5.7ms preprocess, 210.4ms inference, 1.7ms postprocess per image at shape (1, 3, 480, 640)\n",
      "\n",
      "0: 480x640 (no detections), 222.4ms\n",
      "Speed: 4.3ms preprocess, 222.4ms inference, 1.0ms postprocess per image at shape (1, 3, 480, 640)\n",
      "\n",
      "0: 480x640 (no detections), 194.5ms\n",
      "Speed: 2.8ms preprocess, 194.5ms inference, 1.0ms postprocess per image at shape (1, 3, 480, 640)\n",
      "\n",
      "0: 480x640 (no detections), 203.1ms\n",
      "Speed: 7.7ms preprocess, 203.1ms inference, 1.0ms postprocess per image at shape (1, 3, 480, 640)\n",
      "\n",
      "0: 480x640 (no detections), 191.9ms\n",
      "Speed: 4.0ms preprocess, 191.9ms inference, 1.6ms postprocess per image at shape (1, 3, 480, 640)\n",
      "\n",
      "0: 480x640 (no detections), 208.5ms\n",
      "Speed: 4.0ms preprocess, 208.5ms inference, 1.0ms postprocess per image at shape (1, 3, 480, 640)\n",
      "\n",
      "0: 480x640 (no detections), 203.7ms\n",
      "Speed: 4.1ms preprocess, 203.7ms inference, 2.0ms postprocess per image at shape (1, 3, 480, 640)\n",
      "\n",
      "0: 480x640 (no detections), 216.8ms\n",
      "Speed: 2.5ms preprocess, 216.8ms inference, 0.0ms postprocess per image at shape (1, 3, 480, 640)\n",
      "\n",
      "0: 480x640 (no detections), 186.6ms\n",
      "Speed: 4.0ms preprocess, 186.6ms inference, 1.0ms postprocess per image at shape (1, 3, 480, 640)\n",
      "\n",
      "0: 480x640 (no detections), 197.1ms\n",
      "Speed: 3.4ms preprocess, 197.1ms inference, 1.0ms postprocess per image at shape (1, 3, 480, 640)\n",
      "\n",
      "0: 480x640 (no detections), 184.7ms\n",
      "Speed: 4.1ms preprocess, 184.7ms inference, 1.3ms postprocess per image at shape (1, 3, 480, 640)\n",
      "\n",
      "0: 480x640 (no detections), 286.0ms\n",
      "Speed: 8.2ms preprocess, 286.0ms inference, 1.0ms postprocess per image at shape (1, 3, 480, 640)\n",
      "\n",
      "0: 480x640 (no detections), 196.4ms\n",
      "Speed: 3.0ms preprocess, 196.4ms inference, 0.0ms postprocess per image at shape (1, 3, 480, 640)\n",
      "\n",
      "0: 480x640 (no detections), 216.0ms\n",
      "Speed: 2.0ms preprocess, 216.0ms inference, 1.0ms postprocess per image at shape (1, 3, 480, 640)\n",
      "\n",
      "0: 480x640 (no detections), 200.4ms\n",
      "Speed: 3.4ms preprocess, 200.4ms inference, 1.4ms postprocess per image at shape (1, 3, 480, 640)\n",
      "\n",
      "0: 480x640 (no detections), 196.2ms\n",
      "Speed: 3.4ms preprocess, 196.2ms inference, 1.0ms postprocess per image at shape (1, 3, 480, 640)\n",
      "\n",
      "0: 480x640 (no detections), 242.7ms\n",
      "Speed: 2.2ms preprocess, 242.7ms inference, 3.3ms postprocess per image at shape (1, 3, 480, 640)\n",
      "\n",
      "0: 480x640 (no detections), 307.1ms\n",
      "Speed: 4.6ms preprocess, 307.1ms inference, 3.0ms postprocess per image at shape (1, 3, 480, 640)\n",
      "\n",
      "0: 480x640 (no detections), 312.2ms\n",
      "Speed: 9.0ms preprocess, 312.2ms inference, 1.0ms postprocess per image at shape (1, 3, 480, 640)\n",
      "\n",
      "0: 480x640 (no detections), 339.3ms\n",
      "Speed: 3.6ms preprocess, 339.3ms inference, 1.0ms postprocess per image at shape (1, 3, 480, 640)\n",
      "\n",
      "0: 480x640 (no detections), 285.2ms\n",
      "Speed: 4.0ms preprocess, 285.2ms inference, 1.0ms postprocess per image at shape (1, 3, 480, 640)\n",
      "\n",
      "0: 480x640 (no detections), 262.2ms\n",
      "Speed: 8.5ms preprocess, 262.2ms inference, 1.0ms postprocess per image at shape (1, 3, 480, 640)\n",
      "\n",
      "0: 480x640 (no detections), 237.4ms\n",
      "Speed: 3.9ms preprocess, 237.4ms inference, 1.0ms postprocess per image at shape (1, 3, 480, 640)\n",
      "\n",
      "0: 480x640 (no detections), 255.1ms\n",
      "Speed: 3.5ms preprocess, 255.1ms inference, 1.5ms postprocess per image at shape (1, 3, 480, 640)\n",
      "\n",
      "0: 480x640 (no detections), 265.9ms\n",
      "Speed: 3.5ms preprocess, 265.9ms inference, 1.0ms postprocess per image at shape (1, 3, 480, 640)\n",
      "\n",
      "0: 480x640 (no detections), 247.9ms\n",
      "Speed: 3.2ms preprocess, 247.9ms inference, 2.0ms postprocess per image at shape (1, 3, 480, 640)\n",
      "\n",
      "0: 480x640 (no detections), 238.3ms\n",
      "Speed: 4.0ms preprocess, 238.3ms inference, 1.0ms postprocess per image at shape (1, 3, 480, 640)\n",
      "\n",
      "0: 480x640 (no detections), 209.4ms\n",
      "Speed: 5.7ms preprocess, 209.4ms inference, 1.6ms postprocess per image at shape (1, 3, 480, 640)\n",
      "\n",
      "0: 480x640 (no detections), 256.0ms\n",
      "Speed: 3.0ms preprocess, 256.0ms inference, 2.0ms postprocess per image at shape (1, 3, 480, 640)\n",
      "\n"
     ]
    },
    {
     "ename": "KeyboardInterrupt",
     "evalue": "",
     "output_type": "error",
     "traceback": [
      "\u001b[1;31m---------------------------------------------------------------------------\u001b[0m",
      "\u001b[1;31mKeyboardInterrupt\u001b[0m                         Traceback (most recent call last)",
      "Input \u001b[1;32mIn [1]\u001b[0m, in \u001b[0;36m<cell line: 11>\u001b[1;34m()\u001b[0m\n\u001b[0;32m     13\u001b[0m ret, frame \u001b[38;5;241m=\u001b[39m cap\u001b[38;5;241m.\u001b[39mread()\n\u001b[0;32m     15\u001b[0m \u001b[38;5;66;03m# Exécutez l'inférence sur la trame\u001b[39;00m\n\u001b[1;32m---> 16\u001b[0m results \u001b[38;5;241m=\u001b[39m \u001b[43mmodel\u001b[49m\u001b[43m(\u001b[49m\u001b[43mframe\u001b[49m\u001b[43m)\u001b[49m\n\u001b[0;32m     18\u001b[0m \u001b[38;5;66;03m# Dessinez les boîtes englobantes sur la trame\u001b[39;00m\n\u001b[0;32m     19\u001b[0m \u001b[38;5;28;01mfor\u001b[39;00m detection \u001b[38;5;129;01min\u001b[39;00m results[\u001b[38;5;241m0\u001b[39m]\u001b[38;5;241m.\u001b[39mboxes\u001b[38;5;241m.\u001b[39mxyxy:\n\u001b[0;32m     20\u001b[0m     \u001b[38;5;66;03m# Récupérez les coordonnées de la boîte\u001b[39;00m\n",
      "File \u001b[1;32mc:\\Users\\dell\\AppData\\Local\\Programs\\Python\\Python310\\lib\\site-packages\\ultralytics\\engine\\model.py:155\u001b[0m, in \u001b[0;36mModel.__call__\u001b[1;34m(self, source, stream, **kwargs)\u001b[0m\n\u001b[0;32m    138\u001b[0m \u001b[38;5;28;01mdef\u001b[39;00m \u001b[38;5;21m__call__\u001b[39m(\u001b[38;5;28mself\u001b[39m, source\u001b[38;5;241m=\u001b[39m\u001b[38;5;28;01mNone\u001b[39;00m, stream\u001b[38;5;241m=\u001b[39m\u001b[38;5;28;01mFalse\u001b[39;00m, \u001b[38;5;241m*\u001b[39m\u001b[38;5;241m*\u001b[39mkwargs):\n\u001b[0;32m    139\u001b[0m     \u001b[38;5;124;03m\"\"\"\u001b[39;00m\n\u001b[0;32m    140\u001b[0m \u001b[38;5;124;03m    An alias for the predict method, enabling the model instance to be callable.\u001b[39;00m\n\u001b[0;32m    141\u001b[0m \n\u001b[1;32m   (...)\u001b[0m\n\u001b[0;32m    153\u001b[0m \u001b[38;5;124;03m        (List[ultralytics.engine.results.Results]): A list of prediction results, encapsulated in the Results class.\u001b[39;00m\n\u001b[0;32m    154\u001b[0m \u001b[38;5;124;03m    \"\"\"\u001b[39;00m\n\u001b[1;32m--> 155\u001b[0m     \u001b[38;5;28;01mreturn\u001b[39;00m \u001b[38;5;28mself\u001b[39m\u001b[38;5;241m.\u001b[39mpredict(source, stream, \u001b[38;5;241m*\u001b[39m\u001b[38;5;241m*\u001b[39mkwargs)\n",
      "File \u001b[1;32mc:\\Users\\dell\\AppData\\Local\\Programs\\Python\\Python310\\lib\\site-packages\\ultralytics\\engine\\model.py:406\u001b[0m, in \u001b[0;36mModel.predict\u001b[1;34m(self, source, stream, predictor, **kwargs)\u001b[0m\n\u001b[0;32m    404\u001b[0m \u001b[38;5;28;01mif\u001b[39;00m prompts \u001b[38;5;129;01mand\u001b[39;00m \u001b[38;5;28mhasattr\u001b[39m(\u001b[38;5;28mself\u001b[39m\u001b[38;5;241m.\u001b[39mpredictor, \u001b[38;5;124m\"\u001b[39m\u001b[38;5;124mset_prompts\u001b[39m\u001b[38;5;124m\"\u001b[39m):  \u001b[38;5;66;03m# for SAM-type models\u001b[39;00m\n\u001b[0;32m    405\u001b[0m     \u001b[38;5;28mself\u001b[39m\u001b[38;5;241m.\u001b[39mpredictor\u001b[38;5;241m.\u001b[39mset_prompts(prompts)\n\u001b[1;32m--> 406\u001b[0m \u001b[38;5;28;01mreturn\u001b[39;00m \u001b[38;5;28mself\u001b[39m\u001b[38;5;241m.\u001b[39mpredictor\u001b[38;5;241m.\u001b[39mpredict_cli(source\u001b[38;5;241m=\u001b[39msource) \u001b[38;5;28;01mif\u001b[39;00m is_cli \u001b[38;5;28;01melse\u001b[39;00m \u001b[38;5;28;43mself\u001b[39;49m\u001b[38;5;241;43m.\u001b[39;49m\u001b[43mpredictor\u001b[49m\u001b[43m(\u001b[49m\u001b[43msource\u001b[49m\u001b[38;5;241;43m=\u001b[39;49m\u001b[43msource\u001b[49m\u001b[43m,\u001b[49m\u001b[43m \u001b[49m\u001b[43mstream\u001b[49m\u001b[38;5;241;43m=\u001b[39;49m\u001b[43mstream\u001b[49m\u001b[43m)\u001b[49m\n",
      "File \u001b[1;32mc:\\Users\\dell\\AppData\\Local\\Programs\\Python\\Python310\\lib\\site-packages\\ultralytics\\engine\\predictor.py:204\u001b[0m, in \u001b[0;36mBasePredictor.__call__\u001b[1;34m(self, source, model, stream, *args, **kwargs)\u001b[0m\n\u001b[0;32m    202\u001b[0m     \u001b[38;5;28;01mreturn\u001b[39;00m \u001b[38;5;28mself\u001b[39m\u001b[38;5;241m.\u001b[39mstream_inference(source, model, \u001b[38;5;241m*\u001b[39margs, \u001b[38;5;241m*\u001b[39m\u001b[38;5;241m*\u001b[39mkwargs)\n\u001b[0;32m    203\u001b[0m \u001b[38;5;28;01melse\u001b[39;00m:\n\u001b[1;32m--> 204\u001b[0m     \u001b[38;5;28;01mreturn\u001b[39;00m \u001b[38;5;28;43mlist\u001b[39;49m\u001b[43m(\u001b[49m\u001b[38;5;28;43mself\u001b[39;49m\u001b[38;5;241;43m.\u001b[39;49m\u001b[43mstream_inference\u001b[49m\u001b[43m(\u001b[49m\u001b[43msource\u001b[49m\u001b[43m,\u001b[49m\u001b[43m \u001b[49m\u001b[43mmodel\u001b[49m\u001b[43m,\u001b[49m\u001b[43m \u001b[49m\u001b[38;5;241;43m*\u001b[39;49m\u001b[43margs\u001b[49m\u001b[43m,\u001b[49m\u001b[43m \u001b[49m\u001b[38;5;241;43m*\u001b[39;49m\u001b[38;5;241;43m*\u001b[39;49m\u001b[43mkwargs\u001b[49m\u001b[43m)\u001b[49m\u001b[43m)\u001b[49m\n",
      "File \u001b[1;32mc:\\Users\\dell\\AppData\\Local\\Programs\\Python\\Python310\\lib\\site-packages\\torch\\utils\\_contextlib.py:35\u001b[0m, in \u001b[0;36m_wrap_generator.<locals>.generator_context\u001b[1;34m(*args, **kwargs)\u001b[0m\n\u001b[0;32m     32\u001b[0m \u001b[38;5;28;01mtry\u001b[39;00m:\n\u001b[0;32m     33\u001b[0m     \u001b[38;5;66;03m# Issuing `None` to a generator fires it up\u001b[39;00m\n\u001b[0;32m     34\u001b[0m     \u001b[38;5;28;01mwith\u001b[39;00m ctx_factory():\n\u001b[1;32m---> 35\u001b[0m         response \u001b[38;5;241m=\u001b[39m \u001b[43mgen\u001b[49m\u001b[38;5;241;43m.\u001b[39;49m\u001b[43msend\u001b[49m\u001b[43m(\u001b[49m\u001b[38;5;28;43;01mNone\u001b[39;49;00m\u001b[43m)\u001b[49m\n\u001b[0;32m     37\u001b[0m     \u001b[38;5;28;01mwhile\u001b[39;00m \u001b[38;5;28;01mTrue\u001b[39;00m:\n\u001b[0;32m     38\u001b[0m         \u001b[38;5;28;01mtry\u001b[39;00m:\n\u001b[0;32m     39\u001b[0m             \u001b[38;5;66;03m# Forward the response to our caller and get its next request\u001b[39;00m\n",
      "File \u001b[1;32mc:\\Users\\dell\\AppData\\Local\\Programs\\Python\\Python310\\lib\\site-packages\\ultralytics\\engine\\predictor.py:283\u001b[0m, in \u001b[0;36mBasePredictor.stream_inference\u001b[1;34m(self, source, model, *args, **kwargs)\u001b[0m\n\u001b[0;32m    281\u001b[0m \u001b[38;5;66;03m# Inference\u001b[39;00m\n\u001b[0;32m    282\u001b[0m \u001b[38;5;28;01mwith\u001b[39;00m profilers[\u001b[38;5;241m1\u001b[39m]:\n\u001b[1;32m--> 283\u001b[0m     preds \u001b[38;5;241m=\u001b[39m \u001b[38;5;28mself\u001b[39m\u001b[38;5;241m.\u001b[39minference(im, \u001b[38;5;241m*\u001b[39margs, \u001b[38;5;241m*\u001b[39m\u001b[38;5;241m*\u001b[39mkwargs)\n\u001b[0;32m    284\u001b[0m     \u001b[38;5;28;01mif\u001b[39;00m \u001b[38;5;28mself\u001b[39m\u001b[38;5;241m.\u001b[39margs\u001b[38;5;241m.\u001b[39membed:\n\u001b[0;32m    285\u001b[0m         \u001b[38;5;28;01myield from\u001b[39;00m [preds] \u001b[38;5;28;01mif\u001b[39;00m \u001b[38;5;28misinstance\u001b[39m(preds, torch\u001b[38;5;241m.\u001b[39mTensor) \u001b[38;5;28;01melse\u001b[39;00m preds  \u001b[38;5;66;03m# yield embedding tensors\u001b[39;00m\n",
      "File \u001b[1;32mc:\\Users\\dell\\AppData\\Local\\Programs\\Python\\Python310\\lib\\site-packages\\ultralytics\\engine\\predictor.py:140\u001b[0m, in \u001b[0;36mBasePredictor.inference\u001b[1;34m(self, im, *args, **kwargs)\u001b[0m\n\u001b[0;32m    134\u001b[0m \u001b[38;5;124;03m\"\"\"Runs inference on a given image using the specified model and arguments.\"\"\"\u001b[39;00m\n\u001b[0;32m    135\u001b[0m visualize \u001b[38;5;241m=\u001b[39m (\n\u001b[0;32m    136\u001b[0m     increment_path(\u001b[38;5;28mself\u001b[39m\u001b[38;5;241m.\u001b[39msave_dir \u001b[38;5;241m/\u001b[39m Path(\u001b[38;5;28mself\u001b[39m\u001b[38;5;241m.\u001b[39mbatch[\u001b[38;5;241m0\u001b[39m][\u001b[38;5;241m0\u001b[39m])\u001b[38;5;241m.\u001b[39mstem, mkdir\u001b[38;5;241m=\u001b[39m\u001b[38;5;28;01mTrue\u001b[39;00m)\n\u001b[0;32m    137\u001b[0m     \u001b[38;5;28;01mif\u001b[39;00m \u001b[38;5;28mself\u001b[39m\u001b[38;5;241m.\u001b[39margs\u001b[38;5;241m.\u001b[39mvisualize \u001b[38;5;129;01mand\u001b[39;00m (\u001b[38;5;129;01mnot\u001b[39;00m \u001b[38;5;28mself\u001b[39m\u001b[38;5;241m.\u001b[39msource_type\u001b[38;5;241m.\u001b[39mtensor)\n\u001b[0;32m    138\u001b[0m     \u001b[38;5;28;01melse\u001b[39;00m \u001b[38;5;28;01mFalse\u001b[39;00m\n\u001b[0;32m    139\u001b[0m )\n\u001b[1;32m--> 140\u001b[0m \u001b[38;5;28;01mreturn\u001b[39;00m \u001b[38;5;28mself\u001b[39m\u001b[38;5;241m.\u001b[39mmodel(im, augment\u001b[38;5;241m=\u001b[39m\u001b[38;5;28mself\u001b[39m\u001b[38;5;241m.\u001b[39margs\u001b[38;5;241m.\u001b[39maugment, visualize\u001b[38;5;241m=\u001b[39mvisualize, embed\u001b[38;5;241m=\u001b[39m\u001b[38;5;28mself\u001b[39m\u001b[38;5;241m.\u001b[39margs\u001b[38;5;241m.\u001b[39membed, \u001b[38;5;241m*\u001b[39margs, \u001b[38;5;241m*\u001b[39m\u001b[38;5;241m*\u001b[39mkwargs)\n",
      "File \u001b[1;32mc:\\Users\\dell\\AppData\\Local\\Programs\\Python\\Python310\\lib\\site-packages\\torch\\nn\\modules\\module.py:1511\u001b[0m, in \u001b[0;36mModule._wrapped_call_impl\u001b[1;34m(self, *args, **kwargs)\u001b[0m\n\u001b[0;32m   1509\u001b[0m     \u001b[38;5;28;01mreturn\u001b[39;00m \u001b[38;5;28mself\u001b[39m\u001b[38;5;241m.\u001b[39m_compiled_call_impl(\u001b[38;5;241m*\u001b[39margs, \u001b[38;5;241m*\u001b[39m\u001b[38;5;241m*\u001b[39mkwargs)  \u001b[38;5;66;03m# type: ignore[misc]\u001b[39;00m\n\u001b[0;32m   1510\u001b[0m \u001b[38;5;28;01melse\u001b[39;00m:\n\u001b[1;32m-> 1511\u001b[0m     \u001b[38;5;28;01mreturn\u001b[39;00m \u001b[38;5;28mself\u001b[39m\u001b[38;5;241m.\u001b[39m_call_impl(\u001b[38;5;241m*\u001b[39margs, \u001b[38;5;241m*\u001b[39m\u001b[38;5;241m*\u001b[39mkwargs)\n",
      "File \u001b[1;32mc:\\Users\\dell\\AppData\\Local\\Programs\\Python\\Python310\\lib\\site-packages\\torch\\nn\\modules\\module.py:1520\u001b[0m, in \u001b[0;36mModule._call_impl\u001b[1;34m(self, *args, **kwargs)\u001b[0m\n\u001b[0;32m   1515\u001b[0m \u001b[38;5;66;03m# If we don't have any hooks, we want to skip the rest of the logic in\u001b[39;00m\n\u001b[0;32m   1516\u001b[0m \u001b[38;5;66;03m# this function, and just call forward.\u001b[39;00m\n\u001b[0;32m   1517\u001b[0m \u001b[38;5;28;01mif\u001b[39;00m \u001b[38;5;129;01mnot\u001b[39;00m (\u001b[38;5;28mself\u001b[39m\u001b[38;5;241m.\u001b[39m_backward_hooks \u001b[38;5;129;01mor\u001b[39;00m \u001b[38;5;28mself\u001b[39m\u001b[38;5;241m.\u001b[39m_backward_pre_hooks \u001b[38;5;129;01mor\u001b[39;00m \u001b[38;5;28mself\u001b[39m\u001b[38;5;241m.\u001b[39m_forward_hooks \u001b[38;5;129;01mor\u001b[39;00m \u001b[38;5;28mself\u001b[39m\u001b[38;5;241m.\u001b[39m_forward_pre_hooks\n\u001b[0;32m   1518\u001b[0m         \u001b[38;5;129;01mor\u001b[39;00m _global_backward_pre_hooks \u001b[38;5;129;01mor\u001b[39;00m _global_backward_hooks\n\u001b[0;32m   1519\u001b[0m         \u001b[38;5;129;01mor\u001b[39;00m _global_forward_hooks \u001b[38;5;129;01mor\u001b[39;00m _global_forward_pre_hooks):\n\u001b[1;32m-> 1520\u001b[0m     \u001b[38;5;28;01mreturn\u001b[39;00m forward_call(\u001b[38;5;241m*\u001b[39margs, \u001b[38;5;241m*\u001b[39m\u001b[38;5;241m*\u001b[39mkwargs)\n\u001b[0;32m   1522\u001b[0m \u001b[38;5;28;01mtry\u001b[39;00m:\n\u001b[0;32m   1523\u001b[0m     result \u001b[38;5;241m=\u001b[39m \u001b[38;5;28;01mNone\u001b[39;00m\n",
      "File \u001b[1;32mc:\\Users\\dell\\AppData\\Local\\Programs\\Python\\Python310\\lib\\site-packages\\ultralytics\\nn\\autobackend.py:384\u001b[0m, in \u001b[0;36mAutoBackend.forward\u001b[1;34m(self, im, augment, visualize, embed)\u001b[0m\n\u001b[0;32m    381\u001b[0m     im \u001b[38;5;241m=\u001b[39m im\u001b[38;5;241m.\u001b[39mpermute(\u001b[38;5;241m0\u001b[39m, \u001b[38;5;241m2\u001b[39m, \u001b[38;5;241m3\u001b[39m, \u001b[38;5;241m1\u001b[39m)  \u001b[38;5;66;03m# torch BCHW to numpy BHWC shape(1,320,192,3)\u001b[39;00m\n\u001b[0;32m    383\u001b[0m \u001b[38;5;28;01mif\u001b[39;00m \u001b[38;5;28mself\u001b[39m\u001b[38;5;241m.\u001b[39mpt \u001b[38;5;129;01mor\u001b[39;00m \u001b[38;5;28mself\u001b[39m\u001b[38;5;241m.\u001b[39mnn_module:  \u001b[38;5;66;03m# PyTorch\u001b[39;00m\n\u001b[1;32m--> 384\u001b[0m     y \u001b[38;5;241m=\u001b[39m \u001b[38;5;28;43mself\u001b[39;49m\u001b[38;5;241;43m.\u001b[39;49m\u001b[43mmodel\u001b[49m\u001b[43m(\u001b[49m\u001b[43mim\u001b[49m\u001b[43m,\u001b[49m\u001b[43m \u001b[49m\u001b[43maugment\u001b[49m\u001b[38;5;241;43m=\u001b[39;49m\u001b[43maugment\u001b[49m\u001b[43m,\u001b[49m\u001b[43m \u001b[49m\u001b[43mvisualize\u001b[49m\u001b[38;5;241;43m=\u001b[39;49m\u001b[43mvisualize\u001b[49m\u001b[43m,\u001b[49m\u001b[43m \u001b[49m\u001b[43membed\u001b[49m\u001b[38;5;241;43m=\u001b[39;49m\u001b[43membed\u001b[49m\u001b[43m)\u001b[49m\n\u001b[0;32m    385\u001b[0m \u001b[38;5;28;01melif\u001b[39;00m \u001b[38;5;28mself\u001b[39m\u001b[38;5;241m.\u001b[39mjit:  \u001b[38;5;66;03m# TorchScript\u001b[39;00m\n\u001b[0;32m    386\u001b[0m     y \u001b[38;5;241m=\u001b[39m \u001b[38;5;28mself\u001b[39m\u001b[38;5;241m.\u001b[39mmodel(im)\n",
      "File \u001b[1;32mc:\\Users\\dell\\AppData\\Local\\Programs\\Python\\Python310\\lib\\site-packages\\torch\\nn\\modules\\module.py:1511\u001b[0m, in \u001b[0;36mModule._wrapped_call_impl\u001b[1;34m(self, *args, **kwargs)\u001b[0m\n\u001b[0;32m   1509\u001b[0m     \u001b[38;5;28;01mreturn\u001b[39;00m \u001b[38;5;28mself\u001b[39m\u001b[38;5;241m.\u001b[39m_compiled_call_impl(\u001b[38;5;241m*\u001b[39margs, \u001b[38;5;241m*\u001b[39m\u001b[38;5;241m*\u001b[39mkwargs)  \u001b[38;5;66;03m# type: ignore[misc]\u001b[39;00m\n\u001b[0;32m   1510\u001b[0m \u001b[38;5;28;01melse\u001b[39;00m:\n\u001b[1;32m-> 1511\u001b[0m     \u001b[38;5;28;01mreturn\u001b[39;00m \u001b[38;5;28mself\u001b[39m\u001b[38;5;241m.\u001b[39m_call_impl(\u001b[38;5;241m*\u001b[39margs, \u001b[38;5;241m*\u001b[39m\u001b[38;5;241m*\u001b[39mkwargs)\n",
      "File \u001b[1;32mc:\\Users\\dell\\AppData\\Local\\Programs\\Python\\Python310\\lib\\site-packages\\torch\\nn\\modules\\module.py:1520\u001b[0m, in \u001b[0;36mModule._call_impl\u001b[1;34m(self, *args, **kwargs)\u001b[0m\n\u001b[0;32m   1515\u001b[0m \u001b[38;5;66;03m# If we don't have any hooks, we want to skip the rest of the logic in\u001b[39;00m\n\u001b[0;32m   1516\u001b[0m \u001b[38;5;66;03m# this function, and just call forward.\u001b[39;00m\n\u001b[0;32m   1517\u001b[0m \u001b[38;5;28;01mif\u001b[39;00m \u001b[38;5;129;01mnot\u001b[39;00m (\u001b[38;5;28mself\u001b[39m\u001b[38;5;241m.\u001b[39m_backward_hooks \u001b[38;5;129;01mor\u001b[39;00m \u001b[38;5;28mself\u001b[39m\u001b[38;5;241m.\u001b[39m_backward_pre_hooks \u001b[38;5;129;01mor\u001b[39;00m \u001b[38;5;28mself\u001b[39m\u001b[38;5;241m.\u001b[39m_forward_hooks \u001b[38;5;129;01mor\u001b[39;00m \u001b[38;5;28mself\u001b[39m\u001b[38;5;241m.\u001b[39m_forward_pre_hooks\n\u001b[0;32m   1518\u001b[0m         \u001b[38;5;129;01mor\u001b[39;00m _global_backward_pre_hooks \u001b[38;5;129;01mor\u001b[39;00m _global_backward_hooks\n\u001b[0;32m   1519\u001b[0m         \u001b[38;5;129;01mor\u001b[39;00m _global_forward_hooks \u001b[38;5;129;01mor\u001b[39;00m _global_forward_pre_hooks):\n\u001b[1;32m-> 1520\u001b[0m     \u001b[38;5;28;01mreturn\u001b[39;00m forward_call(\u001b[38;5;241m*\u001b[39margs, \u001b[38;5;241m*\u001b[39m\u001b[38;5;241m*\u001b[39mkwargs)\n\u001b[0;32m   1522\u001b[0m \u001b[38;5;28;01mtry\u001b[39;00m:\n\u001b[0;32m   1523\u001b[0m     result \u001b[38;5;241m=\u001b[39m \u001b[38;5;28;01mNone\u001b[39;00m\n",
      "File \u001b[1;32mc:\\Users\\dell\\AppData\\Local\\Programs\\Python\\Python310\\lib\\site-packages\\ultralytics\\nn\\tasks.py:80\u001b[0m, in \u001b[0;36mBaseModel.forward\u001b[1;34m(self, x, *args, **kwargs)\u001b[0m\n\u001b[0;32m     78\u001b[0m \u001b[38;5;28;01mif\u001b[39;00m \u001b[38;5;28misinstance\u001b[39m(x, \u001b[38;5;28mdict\u001b[39m):  \u001b[38;5;66;03m# for cases of training and validating while training.\u001b[39;00m\n\u001b[0;32m     79\u001b[0m     \u001b[38;5;28;01mreturn\u001b[39;00m \u001b[38;5;28mself\u001b[39m\u001b[38;5;241m.\u001b[39mloss(x, \u001b[38;5;241m*\u001b[39margs, \u001b[38;5;241m*\u001b[39m\u001b[38;5;241m*\u001b[39mkwargs)\n\u001b[1;32m---> 80\u001b[0m \u001b[38;5;28;01mreturn\u001b[39;00m \u001b[38;5;28mself\u001b[39m\u001b[38;5;241m.\u001b[39mpredict(x, \u001b[38;5;241m*\u001b[39margs, \u001b[38;5;241m*\u001b[39m\u001b[38;5;241m*\u001b[39mkwargs)\n",
      "File \u001b[1;32mc:\\Users\\dell\\AppData\\Local\\Programs\\Python\\Python310\\lib\\site-packages\\ultralytics\\nn\\tasks.py:98\u001b[0m, in \u001b[0;36mBaseModel.predict\u001b[1;34m(self, x, profile, visualize, augment, embed)\u001b[0m\n\u001b[0;32m     96\u001b[0m \u001b[38;5;28;01mif\u001b[39;00m augment:\n\u001b[0;32m     97\u001b[0m     \u001b[38;5;28;01mreturn\u001b[39;00m \u001b[38;5;28mself\u001b[39m\u001b[38;5;241m.\u001b[39m_predict_augment(x)\n\u001b[1;32m---> 98\u001b[0m \u001b[38;5;28;01mreturn\u001b[39;00m \u001b[38;5;28;43mself\u001b[39;49m\u001b[38;5;241;43m.\u001b[39;49m\u001b[43m_predict_once\u001b[49m\u001b[43m(\u001b[49m\u001b[43mx\u001b[49m\u001b[43m,\u001b[49m\u001b[43m \u001b[49m\u001b[43mprofile\u001b[49m\u001b[43m,\u001b[49m\u001b[43m \u001b[49m\u001b[43mvisualize\u001b[49m\u001b[43m,\u001b[49m\u001b[43m \u001b[49m\u001b[43membed\u001b[49m\u001b[43m)\u001b[49m\n",
      "File \u001b[1;32mc:\\Users\\dell\\AppData\\Local\\Programs\\Python\\Python310\\lib\\site-packages\\ultralytics\\nn\\tasks.py:119\u001b[0m, in \u001b[0;36mBaseModel._predict_once\u001b[1;34m(self, x, profile, visualize, embed)\u001b[0m\n\u001b[0;32m    117\u001b[0m \u001b[38;5;28;01mif\u001b[39;00m profile:\n\u001b[0;32m    118\u001b[0m     \u001b[38;5;28mself\u001b[39m\u001b[38;5;241m.\u001b[39m_profile_one_layer(m, x, dt)\n\u001b[1;32m--> 119\u001b[0m x \u001b[38;5;241m=\u001b[39m \u001b[43mm\u001b[49m\u001b[43m(\u001b[49m\u001b[43mx\u001b[49m\u001b[43m)\u001b[49m  \u001b[38;5;66;03m# run\u001b[39;00m\n\u001b[0;32m    120\u001b[0m y\u001b[38;5;241m.\u001b[39mappend(x \u001b[38;5;28;01mif\u001b[39;00m m\u001b[38;5;241m.\u001b[39mi \u001b[38;5;129;01min\u001b[39;00m \u001b[38;5;28mself\u001b[39m\u001b[38;5;241m.\u001b[39msave \u001b[38;5;28;01melse\u001b[39;00m \u001b[38;5;28;01mNone\u001b[39;00m)  \u001b[38;5;66;03m# save output\u001b[39;00m\n\u001b[0;32m    121\u001b[0m \u001b[38;5;28;01mif\u001b[39;00m visualize:\n",
      "File \u001b[1;32mc:\\Users\\dell\\AppData\\Local\\Programs\\Python\\Python310\\lib\\site-packages\\torch\\nn\\modules\\module.py:1511\u001b[0m, in \u001b[0;36mModule._wrapped_call_impl\u001b[1;34m(self, *args, **kwargs)\u001b[0m\n\u001b[0;32m   1509\u001b[0m     \u001b[38;5;28;01mreturn\u001b[39;00m \u001b[38;5;28mself\u001b[39m\u001b[38;5;241m.\u001b[39m_compiled_call_impl(\u001b[38;5;241m*\u001b[39margs, \u001b[38;5;241m*\u001b[39m\u001b[38;5;241m*\u001b[39mkwargs)  \u001b[38;5;66;03m# type: ignore[misc]\u001b[39;00m\n\u001b[0;32m   1510\u001b[0m \u001b[38;5;28;01melse\u001b[39;00m:\n\u001b[1;32m-> 1511\u001b[0m     \u001b[38;5;28;01mreturn\u001b[39;00m \u001b[38;5;28mself\u001b[39m\u001b[38;5;241m.\u001b[39m_call_impl(\u001b[38;5;241m*\u001b[39margs, \u001b[38;5;241m*\u001b[39m\u001b[38;5;241m*\u001b[39mkwargs)\n",
      "File \u001b[1;32mc:\\Users\\dell\\AppData\\Local\\Programs\\Python\\Python310\\lib\\site-packages\\torch\\nn\\modules\\module.py:1520\u001b[0m, in \u001b[0;36mModule._call_impl\u001b[1;34m(self, *args, **kwargs)\u001b[0m\n\u001b[0;32m   1515\u001b[0m \u001b[38;5;66;03m# If we don't have any hooks, we want to skip the rest of the logic in\u001b[39;00m\n\u001b[0;32m   1516\u001b[0m \u001b[38;5;66;03m# this function, and just call forward.\u001b[39;00m\n\u001b[0;32m   1517\u001b[0m \u001b[38;5;28;01mif\u001b[39;00m \u001b[38;5;129;01mnot\u001b[39;00m (\u001b[38;5;28mself\u001b[39m\u001b[38;5;241m.\u001b[39m_backward_hooks \u001b[38;5;129;01mor\u001b[39;00m \u001b[38;5;28mself\u001b[39m\u001b[38;5;241m.\u001b[39m_backward_pre_hooks \u001b[38;5;129;01mor\u001b[39;00m \u001b[38;5;28mself\u001b[39m\u001b[38;5;241m.\u001b[39m_forward_hooks \u001b[38;5;129;01mor\u001b[39;00m \u001b[38;5;28mself\u001b[39m\u001b[38;5;241m.\u001b[39m_forward_pre_hooks\n\u001b[0;32m   1518\u001b[0m         \u001b[38;5;129;01mor\u001b[39;00m _global_backward_pre_hooks \u001b[38;5;129;01mor\u001b[39;00m _global_backward_hooks\n\u001b[0;32m   1519\u001b[0m         \u001b[38;5;129;01mor\u001b[39;00m _global_forward_hooks \u001b[38;5;129;01mor\u001b[39;00m _global_forward_pre_hooks):\n\u001b[1;32m-> 1520\u001b[0m     \u001b[38;5;28;01mreturn\u001b[39;00m forward_call(\u001b[38;5;241m*\u001b[39margs, \u001b[38;5;241m*\u001b[39m\u001b[38;5;241m*\u001b[39mkwargs)\n\u001b[0;32m   1522\u001b[0m \u001b[38;5;28;01mtry\u001b[39;00m:\n\u001b[0;32m   1523\u001b[0m     result \u001b[38;5;241m=\u001b[39m \u001b[38;5;28;01mNone\u001b[39;00m\n",
      "File \u001b[1;32mc:\\Users\\dell\\AppData\\Local\\Programs\\Python\\Python310\\lib\\site-packages\\ultralytics\\nn\\modules\\block.py:222\u001b[0m, in \u001b[0;36mC2f.forward\u001b[1;34m(self, x)\u001b[0m\n\u001b[0;32m    220\u001b[0m y \u001b[38;5;241m=\u001b[39m \u001b[38;5;28mlist\u001b[39m(\u001b[38;5;28mself\u001b[39m\u001b[38;5;241m.\u001b[39mcv1(x)\u001b[38;5;241m.\u001b[39mchunk(\u001b[38;5;241m2\u001b[39m, \u001b[38;5;241m1\u001b[39m))\n\u001b[0;32m    221\u001b[0m y\u001b[38;5;241m.\u001b[39mextend(m(y[\u001b[38;5;241m-\u001b[39m\u001b[38;5;241m1\u001b[39m]) \u001b[38;5;28;01mfor\u001b[39;00m m \u001b[38;5;129;01min\u001b[39;00m \u001b[38;5;28mself\u001b[39m\u001b[38;5;241m.\u001b[39mm)\n\u001b[1;32m--> 222\u001b[0m \u001b[38;5;28;01mreturn\u001b[39;00m \u001b[38;5;28;43mself\u001b[39;49m\u001b[38;5;241;43m.\u001b[39;49m\u001b[43mcv2\u001b[49m\u001b[43m(\u001b[49m\u001b[43mtorch\u001b[49m\u001b[38;5;241;43m.\u001b[39;49m\u001b[43mcat\u001b[49m\u001b[43m(\u001b[49m\u001b[43my\u001b[49m\u001b[43m,\u001b[49m\u001b[43m \u001b[49m\u001b[38;5;241;43m1\u001b[39;49m\u001b[43m)\u001b[49m\u001b[43m)\u001b[49m\n",
      "File \u001b[1;32mc:\\Users\\dell\\AppData\\Local\\Programs\\Python\\Python310\\lib\\site-packages\\torch\\nn\\modules\\module.py:1511\u001b[0m, in \u001b[0;36mModule._wrapped_call_impl\u001b[1;34m(self, *args, **kwargs)\u001b[0m\n\u001b[0;32m   1509\u001b[0m     \u001b[38;5;28;01mreturn\u001b[39;00m \u001b[38;5;28mself\u001b[39m\u001b[38;5;241m.\u001b[39m_compiled_call_impl(\u001b[38;5;241m*\u001b[39margs, \u001b[38;5;241m*\u001b[39m\u001b[38;5;241m*\u001b[39mkwargs)  \u001b[38;5;66;03m# type: ignore[misc]\u001b[39;00m\n\u001b[0;32m   1510\u001b[0m \u001b[38;5;28;01melse\u001b[39;00m:\n\u001b[1;32m-> 1511\u001b[0m     \u001b[38;5;28;01mreturn\u001b[39;00m \u001b[38;5;28mself\u001b[39m\u001b[38;5;241m.\u001b[39m_call_impl(\u001b[38;5;241m*\u001b[39margs, \u001b[38;5;241m*\u001b[39m\u001b[38;5;241m*\u001b[39mkwargs)\n",
      "File \u001b[1;32mc:\\Users\\dell\\AppData\\Local\\Programs\\Python\\Python310\\lib\\site-packages\\torch\\nn\\modules\\module.py:1520\u001b[0m, in \u001b[0;36mModule._call_impl\u001b[1;34m(self, *args, **kwargs)\u001b[0m\n\u001b[0;32m   1515\u001b[0m \u001b[38;5;66;03m# If we don't have any hooks, we want to skip the rest of the logic in\u001b[39;00m\n\u001b[0;32m   1516\u001b[0m \u001b[38;5;66;03m# this function, and just call forward.\u001b[39;00m\n\u001b[0;32m   1517\u001b[0m \u001b[38;5;28;01mif\u001b[39;00m \u001b[38;5;129;01mnot\u001b[39;00m (\u001b[38;5;28mself\u001b[39m\u001b[38;5;241m.\u001b[39m_backward_hooks \u001b[38;5;129;01mor\u001b[39;00m \u001b[38;5;28mself\u001b[39m\u001b[38;5;241m.\u001b[39m_backward_pre_hooks \u001b[38;5;129;01mor\u001b[39;00m \u001b[38;5;28mself\u001b[39m\u001b[38;5;241m.\u001b[39m_forward_hooks \u001b[38;5;129;01mor\u001b[39;00m \u001b[38;5;28mself\u001b[39m\u001b[38;5;241m.\u001b[39m_forward_pre_hooks\n\u001b[0;32m   1518\u001b[0m         \u001b[38;5;129;01mor\u001b[39;00m _global_backward_pre_hooks \u001b[38;5;129;01mor\u001b[39;00m _global_backward_hooks\n\u001b[0;32m   1519\u001b[0m         \u001b[38;5;129;01mor\u001b[39;00m _global_forward_hooks \u001b[38;5;129;01mor\u001b[39;00m _global_forward_pre_hooks):\n\u001b[1;32m-> 1520\u001b[0m     \u001b[38;5;28;01mreturn\u001b[39;00m forward_call(\u001b[38;5;241m*\u001b[39margs, \u001b[38;5;241m*\u001b[39m\u001b[38;5;241m*\u001b[39mkwargs)\n\u001b[0;32m   1522\u001b[0m \u001b[38;5;28;01mtry\u001b[39;00m:\n\u001b[0;32m   1523\u001b[0m     result \u001b[38;5;241m=\u001b[39m \u001b[38;5;28;01mNone\u001b[39;00m\n",
      "File \u001b[1;32mc:\\Users\\dell\\AppData\\Local\\Programs\\Python\\Python310\\lib\\site-packages\\ultralytics\\nn\\modules\\conv.py:54\u001b[0m, in \u001b[0;36mConv.forward_fuse\u001b[1;34m(self, x)\u001b[0m\n\u001b[0;32m     52\u001b[0m \u001b[38;5;28;01mdef\u001b[39;00m \u001b[38;5;21mforward_fuse\u001b[39m(\u001b[38;5;28mself\u001b[39m, x):\n\u001b[0;32m     53\u001b[0m     \u001b[38;5;124;03m\"\"\"Perform transposed convolution of 2D data.\"\"\"\u001b[39;00m\n\u001b[1;32m---> 54\u001b[0m     \u001b[38;5;28;01mreturn\u001b[39;00m \u001b[38;5;28;43mself\u001b[39;49m\u001b[38;5;241;43m.\u001b[39;49m\u001b[43mact\u001b[49m\u001b[43m(\u001b[49m\u001b[38;5;28;43mself\u001b[39;49m\u001b[38;5;241;43m.\u001b[39;49m\u001b[43mconv\u001b[49m\u001b[43m(\u001b[49m\u001b[43mx\u001b[49m\u001b[43m)\u001b[49m\u001b[43m)\u001b[49m\n",
      "File \u001b[1;32mc:\\Users\\dell\\AppData\\Local\\Programs\\Python\\Python310\\lib\\site-packages\\torch\\nn\\modules\\module.py:1511\u001b[0m, in \u001b[0;36mModule._wrapped_call_impl\u001b[1;34m(self, *args, **kwargs)\u001b[0m\n\u001b[0;32m   1509\u001b[0m     \u001b[38;5;28;01mreturn\u001b[39;00m \u001b[38;5;28mself\u001b[39m\u001b[38;5;241m.\u001b[39m_compiled_call_impl(\u001b[38;5;241m*\u001b[39margs, \u001b[38;5;241m*\u001b[39m\u001b[38;5;241m*\u001b[39mkwargs)  \u001b[38;5;66;03m# type: ignore[misc]\u001b[39;00m\n\u001b[0;32m   1510\u001b[0m \u001b[38;5;28;01melse\u001b[39;00m:\n\u001b[1;32m-> 1511\u001b[0m     \u001b[38;5;28;01mreturn\u001b[39;00m \u001b[38;5;28mself\u001b[39m\u001b[38;5;241m.\u001b[39m_call_impl(\u001b[38;5;241m*\u001b[39margs, \u001b[38;5;241m*\u001b[39m\u001b[38;5;241m*\u001b[39mkwargs)\n",
      "File \u001b[1;32mc:\\Users\\dell\\AppData\\Local\\Programs\\Python\\Python310\\lib\\site-packages\\torch\\nn\\modules\\module.py:1520\u001b[0m, in \u001b[0;36mModule._call_impl\u001b[1;34m(self, *args, **kwargs)\u001b[0m\n\u001b[0;32m   1515\u001b[0m \u001b[38;5;66;03m# If we don't have any hooks, we want to skip the rest of the logic in\u001b[39;00m\n\u001b[0;32m   1516\u001b[0m \u001b[38;5;66;03m# this function, and just call forward.\u001b[39;00m\n\u001b[0;32m   1517\u001b[0m \u001b[38;5;28;01mif\u001b[39;00m \u001b[38;5;129;01mnot\u001b[39;00m (\u001b[38;5;28mself\u001b[39m\u001b[38;5;241m.\u001b[39m_backward_hooks \u001b[38;5;129;01mor\u001b[39;00m \u001b[38;5;28mself\u001b[39m\u001b[38;5;241m.\u001b[39m_backward_pre_hooks \u001b[38;5;129;01mor\u001b[39;00m \u001b[38;5;28mself\u001b[39m\u001b[38;5;241m.\u001b[39m_forward_hooks \u001b[38;5;129;01mor\u001b[39;00m \u001b[38;5;28mself\u001b[39m\u001b[38;5;241m.\u001b[39m_forward_pre_hooks\n\u001b[0;32m   1518\u001b[0m         \u001b[38;5;129;01mor\u001b[39;00m _global_backward_pre_hooks \u001b[38;5;129;01mor\u001b[39;00m _global_backward_hooks\n\u001b[0;32m   1519\u001b[0m         \u001b[38;5;129;01mor\u001b[39;00m _global_forward_hooks \u001b[38;5;129;01mor\u001b[39;00m _global_forward_pre_hooks):\n\u001b[1;32m-> 1520\u001b[0m     \u001b[38;5;28;01mreturn\u001b[39;00m forward_call(\u001b[38;5;241m*\u001b[39margs, \u001b[38;5;241m*\u001b[39m\u001b[38;5;241m*\u001b[39mkwargs)\n\u001b[0;32m   1522\u001b[0m \u001b[38;5;28;01mtry\u001b[39;00m:\n\u001b[0;32m   1523\u001b[0m     result \u001b[38;5;241m=\u001b[39m \u001b[38;5;28;01mNone\u001b[39;00m\n",
      "File \u001b[1;32mc:\\Users\\dell\\AppData\\Local\\Programs\\Python\\Python310\\lib\\site-packages\\torch\\nn\\modules\\activation.py:393\u001b[0m, in \u001b[0;36mSiLU.forward\u001b[1;34m(self, input)\u001b[0m\n\u001b[0;32m    392\u001b[0m \u001b[38;5;28;01mdef\u001b[39;00m \u001b[38;5;21mforward\u001b[39m(\u001b[38;5;28mself\u001b[39m, \u001b[38;5;28minput\u001b[39m: Tensor) \u001b[38;5;241m-\u001b[39m\u001b[38;5;241m>\u001b[39m Tensor:\n\u001b[1;32m--> 393\u001b[0m     \u001b[38;5;28;01mreturn\u001b[39;00m \u001b[43mF\u001b[49m\u001b[38;5;241;43m.\u001b[39;49m\u001b[43msilu\u001b[49m\u001b[43m(\u001b[49m\u001b[38;5;28;43minput\u001b[39;49m\u001b[43m,\u001b[49m\u001b[43m \u001b[49m\u001b[43minplace\u001b[49m\u001b[38;5;241;43m=\u001b[39;49m\u001b[38;5;28;43mself\u001b[39;49m\u001b[38;5;241;43m.\u001b[39;49m\u001b[43minplace\u001b[49m\u001b[43m)\u001b[49m\n",
      "File \u001b[1;32mc:\\Users\\dell\\AppData\\Local\\Programs\\Python\\Python310\\lib\\site-packages\\torch\\nn\\functional.py:2074\u001b[0m, in \u001b[0;36msilu\u001b[1;34m(input, inplace)\u001b[0m\n\u001b[0;32m   2072\u001b[0m     \u001b[38;5;28;01mreturn\u001b[39;00m handle_torch_function(silu, (\u001b[38;5;28minput\u001b[39m,), \u001b[38;5;28minput\u001b[39m, inplace\u001b[38;5;241m=\u001b[39minplace)\n\u001b[0;32m   2073\u001b[0m \u001b[38;5;28;01mif\u001b[39;00m inplace:\n\u001b[1;32m-> 2074\u001b[0m     \u001b[38;5;28;01mreturn\u001b[39;00m \u001b[43mtorch\u001b[49m\u001b[38;5;241;43m.\u001b[39;49m\u001b[43m_C\u001b[49m\u001b[38;5;241;43m.\u001b[39;49m\u001b[43m_nn\u001b[49m\u001b[38;5;241;43m.\u001b[39;49m\u001b[43msilu_\u001b[49m\u001b[43m(\u001b[49m\u001b[38;5;28;43minput\u001b[39;49m\u001b[43m)\u001b[49m\n\u001b[0;32m   2075\u001b[0m \u001b[38;5;28;01mreturn\u001b[39;00m torch\u001b[38;5;241m.\u001b[39m_C\u001b[38;5;241m.\u001b[39m_nn\u001b[38;5;241m.\u001b[39msilu(\u001b[38;5;28minput\u001b[39m)\n",
      "\u001b[1;31mKeyboardInterrupt\u001b[0m: "
     ]
    },
    {
     "ename": "",
     "evalue": "",
     "output_type": "error",
     "traceback": [
      "\u001b[1;31mThe Kernel crashed while executing code in the current cell or a previous cell. \n",
      "\u001b[1;31mPlease review the code in the cell(s) to identify a possible cause of the failure. \n",
      "\u001b[1;31mClick <a href='https://aka.ms/vscodeJupyterKernelCrash'>here</a> for more info. \n",
      "\u001b[1;31mView Jupyter <a href='command:jupyter.viewOutput'>log</a> for further details."
     ]
    }
   ],
   "source": [
    "################################# tester le model sur la camera de mon pc\n",
    "from ultralytics import YOLO\n",
    "import cv2\n",
    "\n",
    "# Chargez le modèle YOLOv8 avec les poids pré-entraînés (best.pt)\n",
    "model = YOLO('C:/Users/dell/OneDrive/Bureau/mastere2/projet_fin_etude/runs/detect/train9/weights/best.pt')\n",
    "\n",
    "# Accédez à la webcam\n",
    "cap = cv2.VideoCapture(0)\n",
    "\n",
    "# Boucle de traitement\n",
    "while True:\n",
    "    # Lisez une trame\n",
    "    ret, frame = cap.read()\n",
    "\n",
    "    # Exécutez l'inférence sur la trame\n",
    "    results = model(frame)\n",
    "\n",
    "    # Dessinez les boîtes englobantes sur la trame\n",
    "    for detection in results[0].boxes.xyxy:\n",
    "        # Récupérez les coordonnées de la boîte\n",
    "        x1, y1, x2, y2 = map(int, detection[:4])\n",
    "        # Dessinez la boîte sur la trame\n",
    "        cv2.rectangle(frame, (x1, y1), (x2, y2), (0, 255, 0), 2)\n",
    "\n",
    "    # Affichez la trame avec les boîtes englobantes\n",
    "    cv2.imshow('Webcam', frame)\n",
    "\n",
    "    # Quittez la boucle si la touche 'q' est pressée\n",
    "    if cv2.waitKey(1) & 0xFF == ord('q'):\n",
    "        break\n",
    "\n",
    "# Libérez la capture de la webcam\n",
    "cap.release()\n",
    "\n",
    "# Détruisez toutes les fenêtres\n",
    "cv2.destroyAllWindows()\n"
   ]
  },
  {
   "cell_type": "code",
   "execution_count": 9,
   "metadata": {},
   "outputs": [
    {
     "name": "stdout",
     "output_type": "stream",
     "text": [
      "\n",
      "0: 352x640 1 Il/elle dort sur le dos, 1 Il/elle bâille, 588.0ms\n",
      "Speed: 5.0ms preprocess, 588.0ms inference, 4.5ms postprocess per image at shape (1, 3, 352, 640)\n",
      "\n",
      "0: 352x640 1 Il/elle dort sur le dos, 1 Il/elle bâille, 529.8ms\n",
      "Speed: 18.4ms preprocess, 529.8ms inference, 4.2ms postprocess per image at shape (1, 3, 352, 640)\n",
      "\n",
      "0: 352x640 1 Il/elle dort sur le dos, 1 Il/elle bâille, 404.2ms\n",
      "Speed: 7.9ms preprocess, 404.2ms inference, 1.0ms postprocess per image at shape (1, 3, 352, 640)\n",
      "\n",
      "0: 352x640 1 Il/elle dort sur le dos, 1 Il/elle bâille, 357.0ms\n",
      "Speed: 11.9ms preprocess, 357.0ms inference, 5.0ms postprocess per image at shape (1, 3, 352, 640)\n",
      "\n",
      "0: 352x640 1 Il/elle dort sur le dos, 1 Il/elle bâille, 390.9ms\n",
      "Speed: 8.3ms preprocess, 390.9ms inference, 4.9ms postprocess per image at shape (1, 3, 352, 640)\n",
      "\n",
      "0: 352x640 1 Il/elle dort sur le dos, 1 Il/elle bâille, 393.7ms\n",
      "Speed: 6.5ms preprocess, 393.7ms inference, 3.6ms postprocess per image at shape (1, 3, 352, 640)\n",
      "\n",
      "0: 352x640 1 Il/elle dort sur le dos, 1 Il/elle bâille, 400.2ms\n",
      "Speed: 6.3ms preprocess, 400.2ms inference, 5.1ms postprocess per image at shape (1, 3, 352, 640)\n",
      "\n",
      "0: 352x640 1 Il/elle dort sur le dos, 1 Il/elle bâille, 356.4ms\n",
      "Speed: 7.4ms preprocess, 356.4ms inference, 2.0ms postprocess per image at shape (1, 3, 352, 640)\n",
      "\n",
      "0: 352x640 1 Il/elle dort sur le dos, 1 Il/elle bâille, 351.0ms\n",
      "Speed: 8.2ms preprocess, 351.0ms inference, 3.2ms postprocess per image at shape (1, 3, 352, 640)\n",
      "\n",
      "0: 352x640 1 Il/elle dort sur le dos, 1 Il/elle bâille, 298.5ms\n",
      "Speed: 7.3ms preprocess, 298.5ms inference, 1.5ms postprocess per image at shape (1, 3, 352, 640)\n",
      "\n",
      "0: 352x640 1 Il/elle dort sur le dos, 1 Il/elle bâille, 393.7ms\n",
      "Speed: 6.2ms preprocess, 393.7ms inference, 2.9ms postprocess per image at shape (1, 3, 352, 640)\n",
      "\n",
      "0: 352x640 1 Il/elle dort sur le dos, 1 Il/elle bâille, 329.7ms\n",
      "Speed: 6.0ms preprocess, 329.7ms inference, 3.6ms postprocess per image at shape (1, 3, 352, 640)\n",
      "\n",
      "0: 352x640 1 Il/elle dort sur le dos, 1 Il/elle bâille, 336.1ms\n",
      "Speed: 7.4ms preprocess, 336.1ms inference, 3.5ms postprocess per image at shape (1, 3, 352, 640)\n",
      "\n",
      "0: 352x640 1 Il/elle dort sur le dos, 1 Il/elle bâille, 362.7ms\n",
      "Speed: 5.7ms preprocess, 362.7ms inference, 2.0ms postprocess per image at shape (1, 3, 352, 640)\n",
      "\n",
      "0: 352x640 1 Il/elle dort sur le dos, 1 Il/elle bâille, 356.3ms\n",
      "Speed: 12.0ms preprocess, 356.3ms inference, 4.4ms postprocess per image at shape (1, 3, 352, 640)\n",
      "\n",
      "0: 352x640 1 Il/elle dort sur le dos, 1 Il/elle bâille, 412.8ms\n",
      "Speed: 7.7ms preprocess, 412.8ms inference, 2.0ms postprocess per image at shape (1, 3, 352, 640)\n",
      "\n",
      "0: 352x640 1 Il/elle dort sur le dos, 1 Il/elle bâille, 359.7ms\n",
      "Speed: 9.0ms preprocess, 359.7ms inference, 3.7ms postprocess per image at shape (1, 3, 352, 640)\n",
      "\n",
      "0: 352x640 1 Il/elle dort sur le dos, 1 Il/elle bâille, 310.4ms\n",
      "Speed: 12.8ms preprocess, 310.4ms inference, 3.0ms postprocess per image at shape (1, 3, 352, 640)\n",
      "\n",
      "0: 352x640 1 Il/elle dort sur le dos, 1 Il/elle bâille, 325.2ms\n",
      "Speed: 8.2ms preprocess, 325.2ms inference, 4.1ms postprocess per image at shape (1, 3, 352, 640)\n",
      "\n",
      "0: 352x640 1 Il/elle dort sur le dos, 1 Il/elle bâille, 297.5ms\n",
      "Speed: 7.0ms preprocess, 297.5ms inference, 2.5ms postprocess per image at shape (1, 3, 352, 640)\n",
      "\n",
      "0: 352x640 1 Il/elle bâille, 507.9ms\n",
      "Speed: 8.8ms preprocess, 507.9ms inference, 11.0ms postprocess per image at shape (1, 3, 352, 640)\n",
      "\n",
      "0: 352x640 1 Il/elle bâille, 415.0ms\n",
      "Speed: 11.6ms preprocess, 415.0ms inference, 4.0ms postprocess per image at shape (1, 3, 352, 640)\n",
      "\n",
      "0: 352x640 1 Il/elle bâille, 472.9ms\n",
      "Speed: 26.4ms preprocess, 472.9ms inference, 2.0ms postprocess per image at shape (1, 3, 352, 640)\n",
      "\n",
      "0: 352x640 1 Il/elle bâille, 388.2ms\n",
      "Speed: 38.5ms preprocess, 388.2ms inference, 2.0ms postprocess per image at shape (1, 3, 352, 640)\n",
      "\n",
      "0: 352x640 1 Il/elle bâille, 387.6ms\n",
      "Speed: 9.1ms preprocess, 387.6ms inference, 2.1ms postprocess per image at shape (1, 3, 352, 640)\n",
      "\n",
      "0: 352x640 1 Il/elle bâille, 362.4ms\n",
      "Speed: 12.9ms preprocess, 362.4ms inference, 2.0ms postprocess per image at shape (1, 3, 352, 640)\n",
      "\n",
      "0: 352x640 1 Il/elle bâille, 361.8ms\n",
      "Speed: 18.9ms preprocess, 361.8ms inference, 4.1ms postprocess per image at shape (1, 3, 352, 640)\n",
      "\n",
      "0: 352x640 1 Il/elle bâille, 381.5ms\n",
      "Speed: 10.2ms preprocess, 381.5ms inference, 1.2ms postprocess per image at shape (1, 3, 352, 640)\n",
      "\n",
      "0: 352x640 1 Il/elle bâille, 300.8ms\n",
      "Speed: 9.2ms preprocess, 300.8ms inference, 1.0ms postprocess per image at shape (1, 3, 352, 640)\n",
      "\n",
      "0: 352x640 1 Il/elle dort sur le dos, 1 Il/elle bâille, 265.7ms\n",
      "Speed: 17.3ms preprocess, 265.7ms inference, 2.0ms postprocess per image at shape (1, 3, 352, 640)\n",
      "\n",
      "0: 352x640 1 Il/elle dort sur le dos, 1 Il/elle bâille, 277.2ms\n",
      "Speed: 15.2ms preprocess, 277.2ms inference, 1.0ms postprocess per image at shape (1, 3, 352, 640)\n",
      "\n",
      "0: 352x640 1 Il/elle dort sur le dos, 1 Il/elle bâille, 353.1ms\n",
      "Speed: 6.7ms preprocess, 353.1ms inference, 2.0ms postprocess per image at shape (1, 3, 352, 640)\n",
      "\n",
      "0: 352x640 1 Il/elle dort sur le dos, 1 Il/elle bâille, 312.7ms\n",
      "Speed: 7.5ms preprocess, 312.7ms inference, 1.5ms postprocess per image at shape (1, 3, 352, 640)\n",
      "\n",
      "0: 352x640 1 Il/elle dort sur le dos, 1 Il/elle bâille, 278.9ms\n",
      "Speed: 17.7ms preprocess, 278.9ms inference, 5.1ms postprocess per image at shape (1, 3, 352, 640)\n",
      "\n",
      "0: 352x640 1 Il/elle dort sur le dos, 1 Il/elle bâille, 288.0ms\n",
      "Speed: 7.6ms preprocess, 288.0ms inference, 2.0ms postprocess per image at shape (1, 3, 352, 640)\n",
      "\n",
      "0: 352x640 1 Il/elle dort sur le dos, 1 Il/elle bâille, 280.1ms\n",
      "Speed: 3.3ms preprocess, 280.1ms inference, 1.5ms postprocess per image at shape (1, 3, 352, 640)\n",
      "\n",
      "0: 352x640 1 Il/elle dort sur le dos, 1 Il/elle bâille, 349.0ms\n",
      "Speed: 6.9ms preprocess, 349.0ms inference, 2.6ms postprocess per image at shape (1, 3, 352, 640)\n",
      "\n",
      "0: 352x640 1 Il/elle dort sur le dos, 1 Il/elle bâille, 341.2ms\n",
      "Speed: 9.2ms preprocess, 341.2ms inference, 3.0ms postprocess per image at shape (1, 3, 352, 640)\n",
      "\n",
      "0: 352x640 1 Il/elle dort sur le dos, 1 Il/elle bâille, 329.2ms\n",
      "Speed: 8.8ms preprocess, 329.2ms inference, 3.5ms postprocess per image at shape (1, 3, 352, 640)\n",
      "\n",
      "0: 352x640 1 Il/elle dort sur le dos, 1 Il/elle bâille, 292.1ms\n",
      "Speed: 39.8ms preprocess, 292.1ms inference, 2.0ms postprocess per image at shape (1, 3, 352, 640)\n",
      "\n",
      "0: 352x640 1 Il/elle dort sur le dos, 1 Il/elle bâille, 549.5ms\n",
      "Speed: 10.3ms preprocess, 549.5ms inference, 2.0ms postprocess per image at shape (1, 3, 352, 640)\n",
      "\n",
      "0: 352x640 1 Il/elle dort sur le dos, 1 Il/elle bâille, 568.8ms\n",
      "Speed: 9.6ms preprocess, 568.8ms inference, 2.2ms postprocess per image at shape (1, 3, 352, 640)\n",
      "\n",
      "0: 352x640 1 Il/elle dort sur le dos, 1 Il/elle bâille, 362.4ms\n",
      "Speed: 18.7ms preprocess, 362.4ms inference, 3.0ms postprocess per image at shape (1, 3, 352, 640)\n",
      "\n",
      "0: 352x640 1 Il/elle dort sur le dos, 1 Il/elle bâille, 401.4ms\n",
      "Speed: 9.1ms preprocess, 401.4ms inference, 3.0ms postprocess per image at shape (1, 3, 352, 640)\n",
      "\n",
      "0: 352x640 1 Il/elle dort sur le dos, 1 Il/elle bâille, 432.7ms\n",
      "Speed: 18.9ms preprocess, 432.7ms inference, 7.1ms postprocess per image at shape (1, 3, 352, 640)\n",
      "\n",
      "0: 352x640 1 Il/elle dort sur le dos, 1 Il/elle bâille, 403.8ms\n",
      "Speed: 13.2ms preprocess, 403.8ms inference, 2.1ms postprocess per image at shape (1, 3, 352, 640)\n",
      "\n",
      "0: 352x640 1 Il/elle dort sur le dos, 1 Il/elle bâille, 371.1ms\n",
      "Speed: 21.4ms preprocess, 371.1ms inference, 3.0ms postprocess per image at shape (1, 3, 352, 640)\n",
      "\n",
      "0: 352x640 1 Il/elle dort sur le dos, 1 Il/elle bâille, 352.0ms\n",
      "Speed: 5.0ms preprocess, 352.0ms inference, 4.0ms postprocess per image at shape (1, 3, 352, 640)\n",
      "\n",
      "0: 352x640 1 Il/elle dort sur le dos, 1 Il/elle bâille, 317.9ms\n",
      "Speed: 6.1ms preprocess, 317.9ms inference, 3.0ms postprocess per image at shape (1, 3, 352, 640)\n",
      "\n",
      "0: 352x640 1 Il/elle dort sur le dos, 1 Il/elle bâille, 271.9ms\n",
      "Speed: 7.1ms preprocess, 271.9ms inference, 3.0ms postprocess per image at shape (1, 3, 352, 640)\n",
      "\n",
      "0: 352x640 1 Il/elle dort sur le dos, 1 Il/elle bâille, 281.3ms\n",
      "Speed: 8.1ms preprocess, 281.3ms inference, 2.0ms postprocess per image at shape (1, 3, 352, 640)\n",
      "\n",
      "0: 352x640 1 Il/elle dort sur le dos, 1 Il/elle bâille, 336.9ms\n",
      "Speed: 7.9ms preprocess, 336.9ms inference, 3.0ms postprocess per image at shape (1, 3, 352, 640)\n",
      "\n",
      "0: 352x640 1 Il/elle dort sur le dos, 1 Il/elle bâille, 482.3ms\n",
      "Speed: 9.6ms preprocess, 482.3ms inference, 4.4ms postprocess per image at shape (1, 3, 352, 640)\n",
      "\n",
      "0: 352x640 1 Il/elle dort sur le dos, 1 Il/elle bâille, 587.8ms\n",
      "Speed: 36.5ms preprocess, 587.8ms inference, 12.1ms postprocess per image at shape (1, 3, 352, 640)\n",
      "\n",
      "0: 352x640 1 Il/elle dort sur le dos, 1 Il/elle bâille, 2332.9ms\n",
      "Speed: 29.2ms preprocess, 2332.9ms inference, 4.7ms postprocess per image at shape (1, 3, 352, 640)\n",
      "\n",
      "0: 352x640 1 Il/elle dort sur le dos, 1 Il/elle bâille, 413.3ms\n",
      "Speed: 11.0ms preprocess, 413.3ms inference, 2.0ms postprocess per image at shape (1, 3, 352, 640)\n",
      "\n",
      "0: 352x640 1 Il/elle dort sur le dos, 1 Il/elle bâille, 257.6ms\n",
      "Speed: 7.5ms preprocess, 257.6ms inference, 2.1ms postprocess per image at shape (1, 3, 352, 640)\n",
      "\n",
      "0: 352x640 1 Il/elle dort sur le dos, 1 Il/elle bâille, 353.3ms\n",
      "Speed: 7.2ms preprocess, 353.3ms inference, 2.2ms postprocess per image at shape (1, 3, 352, 640)\n",
      "\n",
      "0: 352x640 1 Il/elle dort sur le dos, 1 Il/elle bâille, 289.6ms\n",
      "Speed: 9.6ms preprocess, 289.6ms inference, 3.0ms postprocess per image at shape (1, 3, 352, 640)\n",
      "\n",
      "0: 352x640 1 Il/elle dort sur le dos, 1 Il/elle bâille, 277.3ms\n",
      "Speed: 5.5ms preprocess, 277.3ms inference, 1.0ms postprocess per image at shape (1, 3, 352, 640)\n",
      "\n",
      "0: 352x640 1 Il/elle dort sur le dos, 1 Il/elle bâille, 325.1ms\n",
      "Speed: 5.1ms preprocess, 325.1ms inference, 2.0ms postprocess per image at shape (1, 3, 352, 640)\n",
      "\n",
      "0: 352x640 1 Il/elle dort sur le dos, 1 Il/elle bâille, 278.7ms\n",
      "Speed: 6.6ms preprocess, 278.7ms inference, 2.1ms postprocess per image at shape (1, 3, 352, 640)\n",
      "\n",
      "0: 352x640 1 Il/elle dort sur le dos, 1 Il/elle bâille, 286.8ms\n",
      "Speed: 4.5ms preprocess, 286.8ms inference, 3.0ms postprocess per image at shape (1, 3, 352, 640)\n",
      "\n",
      "0: 352x640 1 Il/elle dort sur le dos, 1 Il/elle bâille, 267.9ms\n",
      "Speed: 15.6ms preprocess, 267.9ms inference, 2.5ms postprocess per image at shape (1, 3, 352, 640)\n",
      "\n",
      "0: 352x640 1 Il/elle dort sur le dos, 1 Il/elle bâille, 236.7ms\n",
      "Speed: 7.0ms preprocess, 236.7ms inference, 2.0ms postprocess per image at shape (1, 3, 352, 640)\n",
      "\n",
      "0: 352x640 1 Il/elle dort sur le dos, 1 Il/elle bâille, 252.4ms\n",
      "Speed: 4.5ms preprocess, 252.4ms inference, 3.0ms postprocess per image at shape (1, 3, 352, 640)\n",
      "\n",
      "0: 352x640 1 Il/elle dort sur le dos, 1 Il/elle bâille, 230.0ms\n",
      "Speed: 7.4ms preprocess, 230.0ms inference, 1.4ms postprocess per image at shape (1, 3, 352, 640)\n",
      "\n",
      "0: 352x640 1 Il/elle dort sur le dos, 1 Il/elle bâille, 334.4ms\n",
      "Speed: 4.5ms preprocess, 334.4ms inference, 3.5ms postprocess per image at shape (1, 3, 352, 640)\n",
      "\n",
      "0: 352x640 1 Il/elle dort sur le dos, 1 Il/elle bâille, 264.6ms\n",
      "Speed: 20.0ms preprocess, 264.6ms inference, 3.3ms postprocess per image at shape (1, 3, 352, 640)\n",
      "\n",
      "0: 352x640 1 Il/elle dort sur le dos, 1 Il/elle bâille, 263.0ms\n",
      "Speed: 7.1ms preprocess, 263.0ms inference, 2.0ms postprocess per image at shape (1, 3, 352, 640)\n",
      "\n",
      "0: 352x640 1 Il/elle dort sur le dos, 1 Il/elle bâille, 301.8ms\n",
      "Speed: 5.4ms preprocess, 301.8ms inference, 3.0ms postprocess per image at shape (1, 3, 352, 640)\n",
      "\n",
      "0: 352x640 1 Il/elle dort sur le dos, 1 Il/elle bâille, 305.8ms\n",
      "Speed: 8.9ms preprocess, 305.8ms inference, 2.0ms postprocess per image at shape (1, 3, 352, 640)\n",
      "\n",
      "0: 352x640 1 Il/elle dort sur le dos, 1 Il/elle bâille, 282.8ms\n",
      "Speed: 12.0ms preprocess, 282.8ms inference, 1.0ms postprocess per image at shape (1, 3, 352, 640)\n",
      "\n",
      "0: 352x640 1 Il/elle dort sur le dos, 1 Il/elle bâille, 359.7ms\n",
      "Speed: 8.1ms preprocess, 359.7ms inference, 2.4ms postprocess per image at shape (1, 3, 352, 640)\n",
      "\n",
      "0: 352x640 1 Il/elle dort sur le dos, 1 Il/elle bâille, 438.5ms\n",
      "Speed: 6.5ms preprocess, 438.5ms inference, 3.5ms postprocess per image at shape (1, 3, 352, 640)\n",
      "\n",
      "0: 352x640 1 Il/elle dort sur le dos, 1 Il/elle bâille, 483.7ms\n",
      "Speed: 47.5ms preprocess, 483.7ms inference, 2.5ms postprocess per image at shape (1, 3, 352, 640)\n",
      "\n",
      "0: 352x640 1 Il/elle dort sur le dos, 1 Il/elle bâille, 400.9ms\n",
      "Speed: 13.0ms preprocess, 400.9ms inference, 2.5ms postprocess per image at shape (1, 3, 352, 640)\n",
      "\n",
      "0: 352x640 1 Il/elle dort sur le dos, 1 Il/elle bâille, 407.1ms\n",
      "Speed: 10.5ms preprocess, 407.1ms inference, 2.9ms postprocess per image at shape (1, 3, 352, 640)\n",
      "\n",
      "0: 352x640 1 Il/elle dort sur le dos, 1 Il/elle bâille, 405.7ms\n",
      "Speed: 8.1ms preprocess, 405.7ms inference, 3.7ms postprocess per image at shape (1, 3, 352, 640)\n",
      "\n",
      "0: 352x640 1 Il/elle dort sur le dos, 1 Il/elle bâille, 340.4ms\n",
      "Speed: 7.5ms preprocess, 340.4ms inference, 2.3ms postprocess per image at shape (1, 3, 352, 640)\n",
      "\n",
      "0: 352x640 1 Il/elle dort sur le dos, 1 Il/elle bâille, 461.4ms\n",
      "Speed: 9.1ms preprocess, 461.4ms inference, 2.2ms postprocess per image at shape (1, 3, 352, 640)\n",
      "\n",
      "0: 352x640 1 Il/elle dort sur le dos, 1 Il/elle bâille, 292.8ms\n",
      "Speed: 6.1ms preprocess, 292.8ms inference, 2.0ms postprocess per image at shape (1, 3, 352, 640)\n",
      "\n",
      "0: 352x640 1 Il/elle dort sur le dos, 1 Il/elle bâille, 285.6ms\n",
      "Speed: 19.2ms preprocess, 285.6ms inference, 6.2ms postprocess per image at shape (1, 3, 352, 640)\n",
      "\n",
      "0: 352x640 1 Il/elle dort sur le dos, 1 Il/elle bâille, 352.5ms\n",
      "Speed: 6.9ms preprocess, 352.5ms inference, 5.2ms postprocess per image at shape (1, 3, 352, 640)\n",
      "\n",
      "0: 352x640 1 Il/elle dort sur le dos, 1 Il/elle bâille, 319.9ms\n",
      "Speed: 7.3ms preprocess, 319.9ms inference, 2.5ms postprocess per image at shape (1, 3, 352, 640)\n",
      "\n",
      "0: 352x640 1 Il/elle dort sur le dos, 1 Il/elle bâille, 249.0ms\n",
      "Speed: 4.8ms preprocess, 249.0ms inference, 2.6ms postprocess per image at shape (1, 3, 352, 640)\n",
      "\n",
      "0: 352x640 1 Il/elle dort sur le dos, 1 Il/elle bâille, 280.6ms\n",
      "Speed: 8.3ms preprocess, 280.6ms inference, 2.0ms postprocess per image at shape (1, 3, 352, 640)\n",
      "\n",
      "0: 352x640 1 Il/elle dort sur le dos, 1 Il/elle bâille, 281.6ms\n",
      "Speed: 6.0ms preprocess, 281.6ms inference, 3.0ms postprocess per image at shape (1, 3, 352, 640)\n",
      "\n",
      "0: 352x640 1 Il/elle dort sur le dos, 1 Il/elle bâille, 327.9ms\n",
      "Speed: 8.5ms preprocess, 327.9ms inference, 2.4ms postprocess per image at shape (1, 3, 352, 640)\n",
      "\n",
      "0: 352x640 1 Il/elle dort sur le dos, 1 Il/elle bâille, 255.5ms\n",
      "Speed: 4.6ms preprocess, 255.5ms inference, 2.5ms postprocess per image at shape (1, 3, 352, 640)\n",
      "\n",
      "0: 352x640 1 Il/elle dort sur le dos, 1 Il/elle bâille, 268.9ms\n",
      "Speed: 5.3ms preprocess, 268.9ms inference, 3.7ms postprocess per image at shape (1, 3, 352, 640)\n",
      "\n",
      "0: 352x640 1 Il/elle dort sur le dos, 1 Il/elle bâille, 308.5ms\n",
      "Speed: 6.1ms preprocess, 308.5ms inference, 2.1ms postprocess per image at shape (1, 3, 352, 640)\n",
      "\n",
      "0: 352x640 1 Il/elle dort sur le dos, 1 Il/elle bâille, 290.0ms\n",
      "Speed: 3.9ms preprocess, 290.0ms inference, 6.2ms postprocess per image at shape (1, 3, 352, 640)\n",
      "\n",
      "0: 352x640 1 Il/elle dort sur le dos, 1 Il/elle bâille, 399.2ms\n",
      "Speed: 6.7ms preprocess, 399.2ms inference, 3.6ms postprocess per image at shape (1, 3, 352, 640)\n",
      "\n",
      "0: 352x640 1 Il/elle dort sur le dos, 1 Il/elle bâille, 390.1ms\n",
      "Speed: 13.0ms preprocess, 390.1ms inference, 2.0ms postprocess per image at shape (1, 3, 352, 640)\n",
      "\n",
      "0: 352x640 1 Il/elle dort sur le dos, 1 Il/elle bâille, 314.7ms\n",
      "Speed: 7.6ms preprocess, 314.7ms inference, 1.0ms postprocess per image at shape (1, 3, 352, 640)\n",
      "\n",
      "0: 352x640 1 Il/elle dort sur le dos, 1 Il/elle bâille, 267.0ms\n",
      "Speed: 8.4ms preprocess, 267.0ms inference, 2.4ms postprocess per image at shape (1, 3, 352, 640)\n",
      "\n",
      "0: 352x640 1 Il/elle dort sur le dos, 1 Il/elle bâille, 342.8ms\n",
      "Speed: 14.0ms preprocess, 342.8ms inference, 2.0ms postprocess per image at shape (1, 3, 352, 640)\n",
      "\n",
      "0: 352x640 1 Il/elle dort sur le dos, 1 Il/elle bâille, 255.5ms\n",
      "Speed: 8.5ms preprocess, 255.5ms inference, 1.0ms postprocess per image at shape (1, 3, 352, 640)\n",
      "\n",
      "0: 352x640 1 Il/elle dort sur le dos, 1 Il/elle bâille, 244.9ms\n",
      "Speed: 5.4ms preprocess, 244.9ms inference, 3.0ms postprocess per image at shape (1, 3, 352, 640)\n",
      "\n",
      "0: 352x640 1 Il/elle dort sur le dos, 1 Il/elle bâille, 246.9ms\n",
      "Speed: 3.1ms preprocess, 246.9ms inference, 3.0ms postprocess per image at shape (1, 3, 352, 640)\n",
      "\n",
      "0: 352x640 1 Il/elle bâille, 237.7ms\n",
      "Speed: 5.8ms preprocess, 237.7ms inference, 2.0ms postprocess per image at shape (1, 3, 352, 640)\n",
      "\n",
      "0: 352x640 1 Il/elle dort sur le dos, 1 Il/elle bâille, 256.0ms\n",
      "Speed: 6.4ms preprocess, 256.0ms inference, 2.0ms postprocess per image at shape (1, 3, 352, 640)\n",
      "\n",
      "0: 352x640 1 Il/elle dort sur le dos, 1 Il/elle bâille, 242.1ms\n",
      "Speed: 4.2ms preprocess, 242.1ms inference, 2.0ms postprocess per image at shape (1, 3, 352, 640)\n",
      "\n",
      "0: 352x640 1 Il/elle dort sur le dos, 1 Il/elle bâille, 252.4ms\n",
      "Speed: 4.9ms preprocess, 252.4ms inference, 3.0ms postprocess per image at shape (1, 3, 352, 640)\n",
      "\n",
      "0: 352x640 1 Il/elle dort sur le dos, 1 Il/elle bâille, 268.1ms\n",
      "Speed: 4.0ms preprocess, 268.1ms inference, 4.1ms postprocess per image at shape (1, 3, 352, 640)\n",
      "\n",
      "0: 352x640 1 Il/elle dort sur le dos, 257.0ms\n",
      "Speed: 89.9ms preprocess, 257.0ms inference, 2.0ms postprocess per image at shape (1, 3, 352, 640)\n",
      "\n",
      "0: 352x640 1 Il/elle dort sur le dos, 252.6ms\n",
      "Speed: 17.4ms preprocess, 252.6ms inference, 5.1ms postprocess per image at shape (1, 3, 352, 640)\n",
      "\n",
      "0: 352x640 1 Il/elle dort sur le dos, 1 Il/elle bâille, 274.2ms\n",
      "Speed: 6.0ms preprocess, 274.2ms inference, 2.0ms postprocess per image at shape (1, 3, 352, 640)\n",
      "\n",
      "0: 352x640 1 Il/elle dort sur le dos, 1 Il/elle bâille, 265.3ms\n",
      "Speed: 5.0ms preprocess, 265.3ms inference, 3.0ms postprocess per image at shape (1, 3, 352, 640)\n",
      "\n",
      "0: 352x640 1 Il/elle dort sur le dos, 1 Il/elle bâille, 248.8ms\n",
      "Speed: 5.5ms preprocess, 248.8ms inference, 3.0ms postprocess per image at shape (1, 3, 352, 640)\n",
      "\n",
      "0: 352x640 1 Il/elle dort sur le dos, 1 Il/elle bâille, 275.8ms\n",
      "Speed: 12.1ms preprocess, 275.8ms inference, 3.2ms postprocess per image at shape (1, 3, 352, 640)\n",
      "\n",
      "0: 352x640 1 Il/elle dort sur le dos, 1 Il/elle bâille, 247.9ms\n",
      "Speed: 6.1ms preprocess, 247.9ms inference, 2.0ms postprocess per image at shape (1, 3, 352, 640)\n",
      "\n",
      "0: 352x640 1 Il/elle dort sur le dos, 1 Il/elle bâille, 244.9ms\n",
      "Speed: 7.0ms preprocess, 244.9ms inference, 3.0ms postprocess per image at shape (1, 3, 352, 640)\n",
      "\n",
      "0: 352x640 1 Il/elle dort sur le dos, 245.7ms\n",
      "Speed: 6.8ms preprocess, 245.7ms inference, 2.5ms postprocess per image at shape (1, 3, 352, 640)\n",
      "\n",
      "0: 352x640 1 Il/elle dort sur le dos, 235.5ms\n",
      "Speed: 5.6ms preprocess, 235.5ms inference, 2.0ms postprocess per image at shape (1, 3, 352, 640)\n",
      "\n",
      "0: 352x640 1 Il/elle dort sur le dos, 222.2ms\n",
      "Speed: 8.0ms preprocess, 222.2ms inference, 2.5ms postprocess per image at shape (1, 3, 352, 640)\n",
      "\n",
      "0: 352x640 1 Il/elle dort sur le dos, 265.2ms\n",
      "Speed: 16.6ms preprocess, 265.2ms inference, 2.2ms postprocess per image at shape (1, 3, 352, 640)\n",
      "\n",
      "0: 352x640 1 Il/elle dort sur le dos, 242.5ms\n",
      "Speed: 4.5ms preprocess, 242.5ms inference, 2.0ms postprocess per image at shape (1, 3, 352, 640)\n",
      "\n",
      "0: 352x640 1 Il/elle dort sur le dos, 296.4ms\n",
      "Speed: 113.5ms preprocess, 296.4ms inference, 1.0ms postprocess per image at shape (1, 3, 352, 640)\n",
      "\n",
      "0: 352x640 1 Il/elle dort sur le dos, 259.4ms\n",
      "Speed: 8.0ms preprocess, 259.4ms inference, 2.5ms postprocess per image at shape (1, 3, 352, 640)\n",
      "\n",
      "0: 352x640 1 Il/elle dort sur le dos, 272.0ms\n",
      "Speed: 5.0ms preprocess, 272.0ms inference, 2.0ms postprocess per image at shape (1, 3, 352, 640)\n",
      "\n",
      "0: 352x640 1 Il/elle dort sur le dos, 272.4ms\n",
      "Speed: 4.5ms preprocess, 272.4ms inference, 2.5ms postprocess per image at shape (1, 3, 352, 640)\n",
      "\n",
      "0: 352x640 1 Il/elle dort sur le dos, 249.2ms\n",
      "Speed: 24.2ms preprocess, 249.2ms inference, 10.6ms postprocess per image at shape (1, 3, 352, 640)\n",
      "\n",
      "0: 352x640 1 Il/elle dort sur le dos, 274.5ms\n",
      "Speed: 3.3ms preprocess, 274.5ms inference, 3.0ms postprocess per image at shape (1, 3, 352, 640)\n",
      "\n",
      "0: 352x640 1 Il/elle dort sur le dos, 251.9ms\n",
      "Speed: 8.2ms preprocess, 251.9ms inference, 4.7ms postprocess per image at shape (1, 3, 352, 640)\n",
      "\n",
      "0: 352x640 1 Il/elle dort sur le dos, 245.9ms\n",
      "Speed: 5.4ms preprocess, 245.9ms inference, 3.0ms postprocess per image at shape (1, 3, 352, 640)\n",
      "\n",
      "0: 352x640 1 Il/elle dort sur le dos, 271.4ms\n",
      "Speed: 6.0ms preprocess, 271.4ms inference, 2.7ms postprocess per image at shape (1, 3, 352, 640)\n",
      "\n",
      "0: 352x640 1 Il/elle dort sur le dos, 242.8ms\n",
      "Speed: 5.0ms preprocess, 242.8ms inference, 3.0ms postprocess per image at shape (1, 3, 352, 640)\n",
      "\n",
      "0: 352x640 1 Il/elle dort sur le dos, 261.6ms\n",
      "Speed: 4.3ms preprocess, 261.6ms inference, 2.0ms postprocess per image at shape (1, 3, 352, 640)\n",
      "\n",
      "0: 352x640 1 Il/elle dort sur le dos, 255.1ms\n",
      "Speed: 96.8ms preprocess, 255.1ms inference, 3.5ms postprocess per image at shape (1, 3, 352, 640)\n",
      "\n",
      "0: 352x640 1 Il/elle dort sur le dos, 255.8ms\n",
      "Speed: 4.3ms preprocess, 255.8ms inference, 3.7ms postprocess per image at shape (1, 3, 352, 640)\n",
      "\n",
      "0: 352x640 2 Il/elle dort sur le doss, 258.8ms\n",
      "Speed: 6.9ms preprocess, 258.8ms inference, 3.0ms postprocess per image at shape (1, 3, 352, 640)\n",
      "\n",
      "0: 352x640 2 Il/elle dort sur le doss, 287.1ms\n",
      "Speed: 18.8ms preprocess, 287.1ms inference, 2.0ms postprocess per image at shape (1, 3, 352, 640)\n",
      "\n",
      "0: 352x640 1 Il/elle dort sur le dos, 326.1ms\n",
      "Speed: 10.6ms preprocess, 326.1ms inference, 3.1ms postprocess per image at shape (1, 3, 352, 640)\n",
      "\n",
      "0: 352x640 1 Il/elle dort sur le dos, 297.6ms\n",
      "Speed: 19.3ms preprocess, 297.6ms inference, 6.7ms postprocess per image at shape (1, 3, 352, 640)\n",
      "\n",
      "0: 352x640 1 Il/elle dort sur le dos, 327.8ms\n",
      "Speed: 5.8ms preprocess, 327.8ms inference, 1.0ms postprocess per image at shape (1, 3, 352, 640)\n",
      "\n",
      "0: 352x640 1 Il/elle dort sur le dos, 312.1ms\n",
      "Speed: 8.3ms preprocess, 312.1ms inference, 3.8ms postprocess per image at shape (1, 3, 352, 640)\n",
      "\n",
      "0: 352x640 1 Il/elle dort sur le dos, 265.0ms\n",
      "Speed: 5.0ms preprocess, 265.0ms inference, 2.5ms postprocess per image at shape (1, 3, 352, 640)\n",
      "\n",
      "0: 352x640 1 Il/elle dort sur le dos, 244.0ms\n",
      "Speed: 5.9ms preprocess, 244.0ms inference, 2.0ms postprocess per image at shape (1, 3, 352, 640)\n",
      "\n",
      "0: 352x640 1 Il/elle dort sur le dos, 230.1ms\n",
      "Speed: 5.6ms preprocess, 230.1ms inference, 1.5ms postprocess per image at shape (1, 3, 352, 640)\n",
      "\n",
      "0: 352x640 1 Il/elle dort sur le dos, 262.8ms\n",
      "Speed: 5.5ms preprocess, 262.8ms inference, 3.0ms postprocess per image at shape (1, 3, 352, 640)\n",
      "\n",
      "0: 352x640 1 Il/elle dort sur le dos, 263.0ms\n",
      "Speed: 12.3ms preprocess, 263.0ms inference, 2.0ms postprocess per image at shape (1, 3, 352, 640)\n",
      "\n",
      "0: 352x640 1 Il/elle dort sur le dos, 270.6ms\n",
      "Speed: 5.0ms preprocess, 270.6ms inference, 2.0ms postprocess per image at shape (1, 3, 352, 640)\n",
      "\n",
      "0: 352x640 2 Il/elle dort sur le doss, 264.6ms\n",
      "Speed: 7.2ms preprocess, 264.6ms inference, 3.6ms postprocess per image at shape (1, 3, 352, 640)\n",
      "\n",
      "0: 352x640 2 Il/elle dort sur le doss, 269.9ms\n",
      "Speed: 4.5ms preprocess, 269.9ms inference, 3.2ms postprocess per image at shape (1, 3, 352, 640)\n",
      "\n",
      "0: 352x640 2 Il/elle dort sur le doss, 266.8ms\n",
      "Speed: 16.0ms preprocess, 266.8ms inference, 1.8ms postprocess per image at shape (1, 3, 352, 640)\n",
      "\n",
      "0: 352x640 2 Il/elle dort sur le doss, 281.8ms\n",
      "Speed: 21.1ms preprocess, 281.8ms inference, 2.0ms postprocess per image at shape (1, 3, 352, 640)\n",
      "\n",
      "0: 352x640 1 Il/elle dort sur le dos, 256.9ms\n",
      "Speed: 9.7ms preprocess, 256.9ms inference, 2.4ms postprocess per image at shape (1, 3, 352, 640)\n",
      "\n",
      "0: 352x640 1 Il/elle dort sur le dos, 281.2ms\n",
      "Speed: 6.5ms preprocess, 281.2ms inference, 3.2ms postprocess per image at shape (1, 3, 352, 640)\n",
      "\n",
      "0: 352x640 1 Il/elle dort sur le dos, 350.9ms\n",
      "Speed: 9.1ms preprocess, 350.9ms inference, 2.5ms postprocess per image at shape (1, 3, 352, 640)\n",
      "\n",
      "0: 352x640 2 Il/elle dort sur le doss, 276.5ms\n",
      "Speed: 4.5ms preprocess, 276.5ms inference, 5.2ms postprocess per image at shape (1, 3, 352, 640)\n",
      "\n",
      "0: 352x640 1 Il/elle dort sur le dos, 241.6ms\n",
      "Speed: 7.5ms preprocess, 241.6ms inference, 3.0ms postprocess per image at shape (1, 3, 352, 640)\n",
      "\n",
      "0: 352x640 2 Il/elle dort sur le doss, 231.5ms\n",
      "Speed: 2.5ms preprocess, 231.5ms inference, 2.5ms postprocess per image at shape (1, 3, 352, 640)\n",
      "\n",
      "0: 352x640 2 Il/elle dort sur le doss, 326.4ms\n",
      "Speed: 5.7ms preprocess, 326.4ms inference, 3.0ms postprocess per image at shape (1, 3, 352, 640)\n",
      "\n",
      "0: 352x640 2 Il/elle dort sur le doss, 260.6ms\n",
      "Speed: 5.3ms preprocess, 260.6ms inference, 2.0ms postprocess per image at shape (1, 3, 352, 640)\n",
      "\n",
      "0: 352x640 2 Il/elle dort sur le doss, 226.8ms\n",
      "Speed: 7.2ms preprocess, 226.8ms inference, 1.0ms postprocess per image at shape (1, 3, 352, 640)\n",
      "\n",
      "0: 352x640 2 Il/elle dort sur le doss, 251.0ms\n",
      "Speed: 7.4ms preprocess, 251.0ms inference, 3.0ms postprocess per image at shape (1, 3, 352, 640)\n",
      "\n",
      "0: 352x640 2 Il/elle dort sur le doss, 254.8ms\n",
      "Speed: 8.0ms preprocess, 254.8ms inference, 5.0ms postprocess per image at shape (1, 3, 352, 640)\n",
      "\n",
      "0: 352x640 1 Il/elle dort sur le dos, 275.9ms\n",
      "Speed: 10.6ms preprocess, 275.9ms inference, 2.0ms postprocess per image at shape (1, 3, 352, 640)\n",
      "\n",
      "0: 352x640 1 Il/elle dort sur le dos, 265.8ms\n",
      "Speed: 9.6ms preprocess, 265.8ms inference, 3.0ms postprocess per image at shape (1, 3, 352, 640)\n",
      "\n",
      "0: 352x640 1 Il/elle dort sur le dos, 298.2ms\n",
      "Speed: 6.4ms preprocess, 298.2ms inference, 4.6ms postprocess per image at shape (1, 3, 352, 640)\n",
      "\n",
      "0: 352x640 1 Il/elle dort sur le dos, 258.7ms\n",
      "Speed: 6.8ms preprocess, 258.7ms inference, 1.5ms postprocess per image at shape (1, 3, 352, 640)\n",
      "\n",
      "0: 352x640 1 Il/elle dort sur le dos, 278.4ms\n",
      "Speed: 9.7ms preprocess, 278.4ms inference, 2.9ms postprocess per image at shape (1, 3, 352, 640)\n",
      "\n",
      "0: 352x640 1 Il/elle dort sur le dos, 261.7ms\n",
      "Speed: 9.2ms preprocess, 261.7ms inference, 3.4ms postprocess per image at shape (1, 3, 352, 640)\n",
      "\n",
      "0: 352x640 1 Il/elle dort sur le dos, 340.8ms\n",
      "Speed: 4.0ms preprocess, 340.8ms inference, 2.0ms postprocess per image at shape (1, 3, 352, 640)\n",
      "\n",
      "0: 352x640 1 Il/elle dort sur le dos, 238.7ms\n",
      "Speed: 7.2ms preprocess, 238.7ms inference, 1.0ms postprocess per image at shape (1, 3, 352, 640)\n",
      "\n",
      "0: 352x640 1 Il/elle dort sur le dos, 306.9ms\n",
      "Speed: 3.6ms preprocess, 306.9ms inference, 1.5ms postprocess per image at shape (1, 3, 352, 640)\n",
      "\n",
      "0: 352x640 1 Il/elle dort sur le dos, 270.7ms\n",
      "Speed: 6.5ms preprocess, 270.7ms inference, 2.2ms postprocess per image at shape (1, 3, 352, 640)\n",
      "\n",
      "0: 352x640 1 Il/elle dort sur le dos, 265.0ms\n",
      "Speed: 9.1ms preprocess, 265.0ms inference, 2.0ms postprocess per image at shape (1, 3, 352, 640)\n",
      "\n",
      "0: 352x640 1 Il/elle dort sur le dos, 245.2ms\n",
      "Speed: 5.0ms preprocess, 245.2ms inference, 4.1ms postprocess per image at shape (1, 3, 352, 640)\n",
      "\n",
      "0: 352x640 1 Il/elle dort sur le dos, 276.2ms\n",
      "Speed: 6.9ms preprocess, 276.2ms inference, 2.2ms postprocess per image at shape (1, 3, 352, 640)\n",
      "\n",
      "0: 352x640 1 Il/elle dort sur le dos, 312.9ms\n",
      "Speed: 12.7ms preprocess, 312.9ms inference, 2.0ms postprocess per image at shape (1, 3, 352, 640)\n",
      "\n",
      "0: 352x640 1 Il/elle dort sur le dos, 322.5ms\n",
      "Speed: 12.2ms preprocess, 322.5ms inference, 2.0ms postprocess per image at shape (1, 3, 352, 640)\n",
      "\n",
      "0: 352x640 1 Il/elle dort sur le dos, 310.7ms\n",
      "Speed: 4.2ms preprocess, 310.7ms inference, 3.0ms postprocess per image at shape (1, 3, 352, 640)\n",
      "\n",
      "0: 352x640 1 Il/elle dort sur le dos, 357.6ms\n",
      "Speed: 6.8ms preprocess, 357.6ms inference, 1.0ms postprocess per image at shape (1, 3, 352, 640)\n",
      "\n",
      "0: 352x640 1 Il/elle dort sur le dos, 1 Il/elle bâille, 375.8ms\n",
      "Speed: 7.0ms preprocess, 375.8ms inference, 3.0ms postprocess per image at shape (1, 3, 352, 640)\n",
      "\n",
      "0: 352x640 1 Il/elle dort sur le dos, 1 Il/elle bâille, 259.2ms\n",
      "Speed: 5.6ms preprocess, 259.2ms inference, 2.0ms postprocess per image at shape (1, 3, 352, 640)\n",
      "\n",
      "0: 352x640 1 Il/elle dort sur le dos, 1 Il/elle bâille, 250.6ms\n",
      "Speed: 5.8ms preprocess, 250.6ms inference, 2.0ms postprocess per image at shape (1, 3, 352, 640)\n",
      "\n",
      "0: 352x640 1 Il/elle dort sur le dos, 1 Il/elle bâille, 231.8ms\n",
      "Speed: 5.3ms preprocess, 231.8ms inference, 2.0ms postprocess per image at shape (1, 3, 352, 640)\n",
      "\n",
      "0: 352x640 1 Il/elle dort sur le dos, 1 Il/elle bâille, 224.9ms\n",
      "Speed: 4.0ms preprocess, 224.9ms inference, 2.5ms postprocess per image at shape (1, 3, 352, 640)\n",
      "\n",
      "0: 352x640 1 Il/elle dort sur le dos, 1 Il/elle bâille, 241.0ms\n",
      "Speed: 8.4ms preprocess, 241.0ms inference, 3.0ms postprocess per image at shape (1, 3, 352, 640)\n",
      "\n",
      "0: 352x640 1 Il/elle dort sur le dos, 1 Il/elle bâille, 271.6ms\n",
      "Speed: 6.8ms preprocess, 271.6ms inference, 3.6ms postprocess per image at shape (1, 3, 352, 640)\n",
      "\n",
      "0: 352x640 1 Il/elle dort sur le dos, 1 Il/elle bâille, 223.2ms\n",
      "Speed: 6.3ms preprocess, 223.2ms inference, 5.3ms postprocess per image at shape (1, 3, 352, 640)\n",
      "\n",
      "0: 352x640 1 Il/elle dort sur le dos, 1 Il/elle bâille, 264.2ms\n",
      "Speed: 6.0ms preprocess, 264.2ms inference, 3.0ms postprocess per image at shape (1, 3, 352, 640)\n",
      "\n",
      "0: 352x640 1 Il/elle dort sur le dos, 1 Il/elle bâille, 262.8ms\n",
      "Speed: 9.3ms preprocess, 262.8ms inference, 2.0ms postprocess per image at shape (1, 3, 352, 640)\n",
      "\n",
      "0: 352x640 1 Il/elle dort sur le dos, 1 Il/elle bâille, 268.5ms\n",
      "Speed: 4.7ms preprocess, 268.5ms inference, 2.0ms postprocess per image at shape (1, 3, 352, 640)\n",
      "\n",
      "0: 352x640 1 Il/elle dort sur le dos, 1 Il/elle bâille, 360.5ms\n",
      "Speed: 16.1ms preprocess, 360.5ms inference, 2.0ms postprocess per image at shape (1, 3, 352, 640)\n",
      "\n",
      "0: 352x640 1 Il/elle dort sur le dos, 289.2ms\n",
      "Speed: 25.1ms preprocess, 289.2ms inference, 1.0ms postprocess per image at shape (1, 3, 352, 640)\n",
      "\n",
      "0: 352x640 1 Il/elle dort sur le dos, 1 Il/elle bâille, 311.5ms\n",
      "Speed: 7.0ms preprocess, 311.5ms inference, 3.0ms postprocess per image at shape (1, 3, 352, 640)\n",
      "\n",
      "0: 352x640 1 Il/elle dort sur le dos, 291.9ms\n",
      "Speed: 4.7ms preprocess, 291.9ms inference, 2.7ms postprocess per image at shape (1, 3, 352, 640)\n",
      "\n",
      "0: 352x640 1 Il/elle dort sur le dos, 226.9ms\n",
      "Speed: 8.1ms preprocess, 226.9ms inference, 1.0ms postprocess per image at shape (1, 3, 352, 640)\n",
      "\n",
      "0: 352x640 1 Il/elle dort sur le dos, 222.9ms\n",
      "Speed: 6.2ms preprocess, 222.9ms inference, 2.5ms postprocess per image at shape (1, 3, 352, 640)\n",
      "\n",
      "0: 352x640 1 Il/elle dort sur le dos, 251.6ms\n",
      "Speed: 5.0ms preprocess, 251.6ms inference, 2.0ms postprocess per image at shape (1, 3, 352, 640)\n",
      "\n",
      "0: 352x640 1 Il/elle dort sur le dos, 259.7ms\n",
      "Speed: 8.5ms preprocess, 259.7ms inference, 2.3ms postprocess per image at shape (1, 3, 352, 640)\n",
      "\n",
      "0: 352x640 1 Il/elle dort sur le dos, 272.3ms\n",
      "Speed: 10.2ms preprocess, 272.3ms inference, 4.3ms postprocess per image at shape (1, 3, 352, 640)\n",
      "\n",
      "0: 352x640 1 Il/elle dort sur le dos, 263.0ms\n",
      "Speed: 7.4ms preprocess, 263.0ms inference, 2.5ms postprocess per image at shape (1, 3, 352, 640)\n",
      "\n",
      "0: 352x640 1 Il/elle dort sur le dos, 359.8ms\n",
      "Speed: 17.1ms preprocess, 359.8ms inference, 2.0ms postprocess per image at shape (1, 3, 352, 640)\n",
      "\n",
      "0: 352x640 1 Il/elle dort sur le dos, 270.7ms\n",
      "Speed: 5.5ms preprocess, 270.7ms inference, 3.0ms postprocess per image at shape (1, 3, 352, 640)\n",
      "\n",
      "0: 352x640 1 Il/elle dort sur le dos, 243.5ms\n",
      "Speed: 18.9ms preprocess, 243.5ms inference, 2.0ms postprocess per image at shape (1, 3, 352, 640)\n",
      "\n",
      "0: 352x640 1 Il/elle dort sur le dos, 275.1ms\n",
      "Speed: 5.0ms preprocess, 275.1ms inference, 2.5ms postprocess per image at shape (1, 3, 352, 640)\n",
      "\n",
      "0: 352x640 1 Il/elle dort sur le dos, 257.4ms\n",
      "Speed: 5.4ms preprocess, 257.4ms inference, 2.0ms postprocess per image at shape (1, 3, 352, 640)\n",
      "\n",
      "0: 352x640 1 Il/elle dort sur le dos, 269.8ms\n",
      "Speed: 35.9ms preprocess, 269.8ms inference, 2.6ms postprocess per image at shape (1, 3, 352, 640)\n",
      "\n",
      "0: 352x640 1 Il/elle dort sur le dos, 265.3ms\n",
      "Speed: 3.1ms preprocess, 265.3ms inference, 2.8ms postprocess per image at shape (1, 3, 352, 640)\n",
      "\n",
      "0: 352x640 1 Il/elle dort sur le dos, 249.0ms\n",
      "Speed: 4.4ms preprocess, 249.0ms inference, 4.2ms postprocess per image at shape (1, 3, 352, 640)\n",
      "\n",
      "0: 352x640 1 Il/elle dort sur le dos, 225.2ms\n",
      "Speed: 5.5ms preprocess, 225.2ms inference, 2.0ms postprocess per image at shape (1, 3, 352, 640)\n",
      "\n",
      "0: 352x640 1 Il/elle dort sur le dos, 245.6ms\n",
      "Speed: 5.0ms preprocess, 245.6ms inference, 3.0ms postprocess per image at shape (1, 3, 352, 640)\n",
      "\n",
      "0: 352x640 1 Il/elle dort sur le dos, 318.2ms\n",
      "Speed: 4.7ms preprocess, 318.2ms inference, 2.0ms postprocess per image at shape (1, 3, 352, 640)\n",
      "\n",
      "0: 352x640 1 Il/elle dort sur le dos, 1 Il/elle bâille, 257.2ms\n",
      "Speed: 10.1ms preprocess, 257.2ms inference, 1.5ms postprocess per image at shape (1, 3, 352, 640)\n",
      "\n",
      "0: 352x640 1 Il/elle dort sur le dos, 1 Il/elle bâille, 237.4ms\n",
      "Speed: 4.7ms preprocess, 237.4ms inference, 2.5ms postprocess per image at shape (1, 3, 352, 640)\n",
      "\n",
      "0: 352x640 1 Il/elle dort sur le dos, 1 Il/elle bâille, 237.7ms\n",
      "Speed: 5.1ms preprocess, 237.7ms inference, 2.0ms postprocess per image at shape (1, 3, 352, 640)\n",
      "\n",
      "0: 352x640 1 Il/elle dort sur le dos, 1 Il/elle bâille, 241.2ms\n",
      "Speed: 9.8ms preprocess, 241.2ms inference, 2.2ms postprocess per image at shape (1, 3, 352, 640)\n",
      "\n",
      "0: 352x640 1 Il/elle dort sur le dos, 1 Il/elle bâille, 269.6ms\n",
      "Speed: 5.8ms preprocess, 269.6ms inference, 1.5ms postprocess per image at shape (1, 3, 352, 640)\n",
      "\n",
      "0: 352x640 1 Il/elle dort sur le dos, 1 Il/elle bâille, 248.7ms\n",
      "Speed: 9.0ms preprocess, 248.7ms inference, 1.5ms postprocess per image at shape (1, 3, 352, 640)\n",
      "\n",
      "0: 352x640 1 Il/elle dort sur le dos, 1 Il/elle bâille, 326.8ms\n",
      "Speed: 7.6ms preprocess, 326.8ms inference, 4.0ms postprocess per image at shape (1, 3, 352, 640)\n",
      "\n",
      "0: 352x640 1 Il/elle dort sur le dos, 1 Il/elle bâille, 264.7ms\n",
      "Speed: 5.4ms preprocess, 264.7ms inference, 2.0ms postprocess per image at shape (1, 3, 352, 640)\n",
      "\n",
      "0: 352x640 1 Il/elle dort sur le dos, 1 Il/elle bâille, 262.1ms\n",
      "Speed: 12.8ms preprocess, 262.1ms inference, 4.6ms postprocess per image at shape (1, 3, 352, 640)\n",
      "\n",
      "0: 352x640 1 Il/elle dort sur le dos, 1 Il/elle bâille, 340.9ms\n",
      "Speed: 5.5ms preprocess, 340.9ms inference, 3.4ms postprocess per image at shape (1, 3, 352, 640)\n",
      "\n",
      "0: 352x640 1 Il/elle dort sur le dos, 1 Il/elle bâille, 278.2ms\n",
      "Speed: 5.6ms preprocess, 278.2ms inference, 3.0ms postprocess per image at shape (1, 3, 352, 640)\n",
      "\n",
      "0: 352x640 1 Il/elle dort sur le dos, 1 Il/elle bâille, 257.6ms\n",
      "Speed: 5.0ms preprocess, 257.6ms inference, 3.1ms postprocess per image at shape (1, 3, 352, 640)\n",
      "\n",
      "0: 352x640 1 Il/elle dort sur le dos, 1 Il/elle bâille, 263.9ms\n",
      "Speed: 6.9ms preprocess, 263.9ms inference, 3.4ms postprocess per image at shape (1, 3, 352, 640)\n",
      "\n",
      "0: 352x640 1 Il/elle dort sur le dos, 1 Il/elle bâille, 235.4ms\n",
      "Speed: 5.1ms preprocess, 235.4ms inference, 1.0ms postprocess per image at shape (1, 3, 352, 640)\n",
      "\n",
      "0: 352x640 1 Il/elle dort sur le dos, 1 Il/elle bâille, 274.4ms\n",
      "Speed: 4.2ms preprocess, 274.4ms inference, 2.5ms postprocess per image at shape (1, 3, 352, 640)\n",
      "\n",
      "0: 352x640 1 Il/elle dort sur le dos, 1 Il/elle bâille, 245.9ms\n",
      "Speed: 6.5ms preprocess, 245.9ms inference, 3.5ms postprocess per image at shape (1, 3, 352, 640)\n",
      "\n",
      "0: 352x640 1 Il/elle dort sur le dos, 1 Il/elle bâille, 290.2ms\n",
      "Speed: 6.6ms preprocess, 290.2ms inference, 3.0ms postprocess per image at shape (1, 3, 352, 640)\n",
      "\n",
      "0: 352x640 1 Il/elle dort sur le dos, 1 Il/elle bâille, 264.2ms\n",
      "Speed: 4.6ms preprocess, 264.2ms inference, 2.0ms postprocess per image at shape (1, 3, 352, 640)\n",
      "\n",
      "0: 352x640 1 Il/elle dort sur le dos, 1 Il/elle bâille, 253.3ms\n",
      "Speed: 8.9ms preprocess, 253.3ms inference, 1.9ms postprocess per image at shape (1, 3, 352, 640)\n",
      "\n",
      "0: 352x640 1 Il/elle dort sur le dos, 1 Il/elle bâille, 360.4ms\n",
      "Speed: 8.0ms preprocess, 360.4ms inference, 2.0ms postprocess per image at shape (1, 3, 352, 640)\n",
      "\n",
      "0: 352x640 1 Il/elle dort sur le dos, 1 Il/elle bâille, 238.7ms\n",
      "Speed: 16.5ms preprocess, 238.7ms inference, 3.5ms postprocess per image at shape (1, 3, 352, 640)\n",
      "\n",
      "0: 352x640 1 Il/elle dort sur le dos, 1 Il/elle bâille, 275.1ms\n",
      "Speed: 11.0ms preprocess, 275.1ms inference, 2.3ms postprocess per image at shape (1, 3, 352, 640)\n",
      "\n",
      "0: 352x640 1 Il/elle dort sur le dos, 1 Il/elle bâille, 258.0ms\n",
      "Speed: 7.6ms preprocess, 258.0ms inference, 2.0ms postprocess per image at shape (1, 3, 352, 640)\n",
      "\n",
      "0: 352x640 1 Il/elle dort sur le dos, 1 Il/elle bâille, 282.4ms\n",
      "Speed: 6.9ms preprocess, 282.4ms inference, 4.2ms postprocess per image at shape (1, 3, 352, 640)\n",
      "\n",
      "0: 352x640 1 Il/elle dort sur le dos, 1 Il/elle bâille, 242.6ms\n",
      "Speed: 31.6ms preprocess, 242.6ms inference, 3.6ms postprocess per image at shape (1, 3, 352, 640)\n",
      "\n",
      "0: 352x640 1 Il/elle dort sur le dos, 1 Il/elle bâille, 231.8ms\n",
      "Speed: 5.4ms preprocess, 231.8ms inference, 1.2ms postprocess per image at shape (1, 3, 352, 640)\n",
      "\n",
      "0: 352x640 1 Il/elle dort sur le dos, 1 Il/elle bâille, 232.1ms\n",
      "Speed: 4.0ms preprocess, 232.1ms inference, 2.0ms postprocess per image at shape (1, 3, 352, 640)\n",
      "\n",
      "0: 352x640 1 Il/elle dort sur le dos, 2 Il/elle bâilles, 231.1ms\n",
      "Speed: 12.1ms preprocess, 231.1ms inference, 3.0ms postprocess per image at shape (1, 3, 352, 640)\n",
      "\n",
      "0: 352x640 1 Il/elle dort sur le dos, 2 Il/elle bâilles, 236.5ms\n",
      "Speed: 8.2ms preprocess, 236.5ms inference, 1.0ms postprocess per image at shape (1, 3, 352, 640)\n",
      "\n",
      "0: 352x640 1 Il/elle dort sur le dos, 1 Il/elle bâille, 230.1ms\n",
      "Speed: 12.4ms preprocess, 230.1ms inference, 4.5ms postprocess per image at shape (1, 3, 352, 640)\n",
      "\n",
      "0: 352x640 1 Il/elle dort sur le dos, 1 Il/elle bâille, 389.3ms\n",
      "Speed: 9.3ms preprocess, 389.3ms inference, 3.0ms postprocess per image at shape (1, 3, 352, 640)\n",
      "\n",
      "0: 352x640 1 Il/elle dort sur le dos, 1 Il/elle bâille, 267.6ms\n",
      "Speed: 15.2ms preprocess, 267.6ms inference, 2.7ms postprocess per image at shape (1, 3, 352, 640)\n",
      "\n",
      "0: 352x640 1 Il/elle dort sur le dos, 2 Il/elle bâilles, 293.2ms\n",
      "Speed: 7.5ms preprocess, 293.2ms inference, 5.6ms postprocess per image at shape (1, 3, 352, 640)\n",
      "\n",
      "0: 352x640 1 Il/elle dort sur le dos, 1 Il/elle bâille, 254.2ms\n",
      "Speed: 4.9ms preprocess, 254.2ms inference, 5.6ms postprocess per image at shape (1, 3, 352, 640)\n",
      "\n",
      "0: 352x640 1 Il/elle dort sur le dos, 1 Il/elle bâille, 263.7ms\n",
      "Speed: 6.9ms preprocess, 263.7ms inference, 2.0ms postprocess per image at shape (1, 3, 352, 640)\n",
      "\n",
      "0: 352x640 1 Il/elle dort sur le dos, 1 Il/elle bâille, 285.4ms\n",
      "Speed: 11.8ms preprocess, 285.4ms inference, 3.2ms postprocess per image at shape (1, 3, 352, 640)\n",
      "\n",
      "0: 352x640 1 Il/elle dort sur le dos, 1 Il/elle bâille, 302.9ms\n",
      "Speed: 8.0ms preprocess, 302.9ms inference, 2.5ms postprocess per image at shape (1, 3, 352, 640)\n",
      "\n",
      "0: 352x640 1 Il/elle dort sur le dos, 240.2ms\n",
      "Speed: 6.0ms preprocess, 240.2ms inference, 3.0ms postprocess per image at shape (1, 3, 352, 640)\n",
      "\n",
      "0: 352x640 1 Il/elle dort sur le dos, 237.1ms\n",
      "Speed: 5.1ms preprocess, 237.1ms inference, 2.5ms postprocess per image at shape (1, 3, 352, 640)\n",
      "\n",
      "0: 352x640 1 Il/elle dort sur le dos, 330.0ms\n",
      "Speed: 4.1ms preprocess, 330.0ms inference, 2.0ms postprocess per image at shape (1, 3, 352, 640)\n",
      "\n",
      "0: 352x640 1 Il/elle dort sur le dos, 1 Il/elle bâille, 257.4ms\n",
      "Speed: 4.8ms preprocess, 257.4ms inference, 3.0ms postprocess per image at shape (1, 3, 352, 640)\n",
      "\n",
      "0: 352x640 1 Il/elle dort sur le dos, 1 Il/elle bâille, 245.4ms\n",
      "Speed: 7.5ms preprocess, 245.4ms inference, 2.2ms postprocess per image at shape (1, 3, 352, 640)\n",
      "\n",
      "0: 352x640 1 Il/elle dort sur le dos, 1 Il/elle bâille, 245.8ms\n",
      "Speed: 5.1ms preprocess, 245.8ms inference, 2.0ms postprocess per image at shape (1, 3, 352, 640)\n",
      "\n",
      "0: 352x640 1 Il/elle dort sur le dos, 1 Il/elle bâille, 278.1ms\n",
      "Speed: 5.8ms preprocess, 278.1ms inference, 2.7ms postprocess per image at shape (1, 3, 352, 640)\n",
      "\n",
      "0: 352x640 1 Il/elle dort sur le dos, 1 Il/elle bâille, 268.9ms\n",
      "Speed: 4.6ms preprocess, 268.9ms inference, 2.8ms postprocess per image at shape (1, 3, 352, 640)\n",
      "\n",
      "0: 352x640 1 Il/elle dort sur le dos, 1 Il/elle bâille, 307.0ms\n",
      "Speed: 10.7ms preprocess, 307.0ms inference, 3.0ms postprocess per image at shape (1, 3, 352, 640)\n",
      "\n",
      "0: 352x640 1 Il/elle dort sur le dos, 1 Il/elle bâille, 294.7ms\n",
      "Speed: 14.4ms preprocess, 294.7ms inference, 2.0ms postprocess per image at shape (1, 3, 352, 640)\n",
      "\n",
      "0: 352x640 1 Il/elle dort sur le dos, 1 Il/elle bâille, 272.8ms\n",
      "Speed: 2.9ms preprocess, 272.8ms inference, 1.5ms postprocess per image at shape (1, 3, 352, 640)\n",
      "\n",
      "0: 352x640 1 Il/elle dort sur le dos, 1 Il/elle bâille, 289.0ms\n",
      "Speed: 26.8ms preprocess, 289.0ms inference, 2.0ms postprocess per image at shape (1, 3, 352, 640)\n",
      "\n",
      "0: 352x640 1 Il/elle dort sur le dos, 1 Il/elle bâille, 366.9ms\n",
      "Speed: 6.9ms preprocess, 366.9ms inference, 4.3ms postprocess per image at shape (1, 3, 352, 640)\n",
      "\n",
      "0: 352x640 1 Il/elle dort sur le dos, 1 Il/elle bâille, 236.8ms\n",
      "Speed: 11.0ms preprocess, 236.8ms inference, 2.0ms postprocess per image at shape (1, 3, 352, 640)\n",
      "\n",
      "0: 352x640 1 Il/elle dort sur le dos, 1 Il/elle bâille, 235.1ms\n",
      "Speed: 4.5ms preprocess, 235.1ms inference, 2.0ms postprocess per image at shape (1, 3, 352, 640)\n",
      "\n",
      "0: 352x640 1 Il/elle dort sur le dos, 1 Il/elle bâille, 260.2ms\n",
      "Speed: 7.7ms preprocess, 260.2ms inference, 3.0ms postprocess per image at shape (1, 3, 352, 640)\n",
      "\n",
      "0: 352x640 1 Il/elle dort sur le dos, 1 Il/elle bâille, 260.5ms\n",
      "Speed: 5.6ms preprocess, 260.5ms inference, 3.1ms postprocess per image at shape (1, 3, 352, 640)\n",
      "\n",
      "0: 352x640 1 Il/elle dort sur le dos, 1 Il/elle bâille, 242.8ms\n",
      "Speed: 11.1ms preprocess, 242.8ms inference, 2.4ms postprocess per image at shape (1, 3, 352, 640)\n",
      "\n",
      "0: 352x640 1 Il/elle dort sur le dos, 1 Il/elle bâille, 267.9ms\n",
      "Speed: 4.4ms preprocess, 267.9ms inference, 2.0ms postprocess per image at shape (1, 3, 352, 640)\n",
      "\n",
      "0: 352x640 1 Il/elle dort sur le dos, 1 Il/elle bâille, 278.6ms\n",
      "Speed: 3.4ms preprocess, 278.6ms inference, 28.1ms postprocess per image at shape (1, 3, 352, 640)\n",
      "\n",
      "0: 352x640 1 Il/elle dort sur le dos, 1 Il/elle bâille, 315.7ms\n",
      "Speed: 9.4ms preprocess, 315.7ms inference, 4.1ms postprocess per image at shape (1, 3, 352, 640)\n",
      "\n",
      "0: 352x640 1 Il/elle dort sur le dos, 1 Il/elle bâille, 384.7ms\n",
      "Speed: 7.6ms preprocess, 384.7ms inference, 4.8ms postprocess per image at shape (1, 3, 352, 640)\n",
      "\n",
      "0: 352x640 1 Il/elle dort sur le dos, 1 Il/elle bâille, 271.3ms\n",
      "Speed: 10.3ms preprocess, 271.3ms inference, 2.5ms postprocess per image at shape (1, 3, 352, 640)\n",
      "\n",
      "0: 352x640 1 Il/elle dort sur le dos, 1 Il/elle bâille, 280.6ms\n",
      "Speed: 9.2ms preprocess, 280.6ms inference, 3.5ms postprocess per image at shape (1, 3, 352, 640)\n",
      "\n",
      "0: 352x640 1 Il/elle dort sur le dos, 1 Il/elle bâille, 276.6ms\n",
      "Speed: 5.0ms preprocess, 276.6ms inference, 3.0ms postprocess per image at shape (1, 3, 352, 640)\n",
      "\n",
      "0: 352x640 1 Il/elle dort sur le dos, 1 Il/elle bâille, 294.5ms\n",
      "Speed: 4.4ms preprocess, 294.5ms inference, 2.0ms postprocess per image at shape (1, 3, 352, 640)\n",
      "\n",
      "0: 352x640 1 Il/elle dort sur le dos, 1 Il/elle bâille, 245.6ms\n",
      "Speed: 6.2ms preprocess, 245.6ms inference, 2.5ms postprocess per image at shape (1, 3, 352, 640)\n",
      "\n",
      "0: 352x640 1 Il/elle dort sur le dos, 1 Il/elle bâille, 250.3ms\n",
      "Speed: 6.6ms preprocess, 250.3ms inference, 2.3ms postprocess per image at shape (1, 3, 352, 640)\n",
      "\n",
      "0: 352x640 1 Il/elle dort sur le dos, 1 Il/elle bâille, 270.8ms\n",
      "Speed: 4.3ms preprocess, 270.8ms inference, 2.0ms postprocess per image at shape (1, 3, 352, 640)\n",
      "\n",
      "0: 352x640 1 Il/elle dort sur le dos, 1 Il/elle bâille, 229.2ms\n",
      "Speed: 10.5ms preprocess, 229.2ms inference, 2.0ms postprocess per image at shape (1, 3, 352, 640)\n",
      "\n",
      "0: 352x640 1 Il/elle dort sur le dos, 1 Il/elle bâille, 236.8ms\n",
      "Speed: 5.3ms preprocess, 236.8ms inference, 2.5ms postprocess per image at shape (1, 3, 352, 640)\n",
      "\n",
      "0: 352x640 1 Il/elle dort sur le dos, 1 Il/elle bâille, 245.3ms\n",
      "Speed: 87.0ms preprocess, 245.3ms inference, 1.5ms postprocess per image at shape (1, 3, 352, 640)\n",
      "\n",
      "0: 352x640 1 Il/elle dort sur le dos, 1 Il/elle bâille, 304.2ms\n",
      "Speed: 5.4ms preprocess, 304.2ms inference, 3.0ms postprocess per image at shape (1, 3, 352, 640)\n",
      "\n",
      "0: 352x640 1 Il/elle dort sur le dos, 1 Il/elle bâille, 420.6ms\n",
      "Speed: 14.7ms preprocess, 420.6ms inference, 3.0ms postprocess per image at shape (1, 3, 352, 640)\n",
      "\n",
      "0: 352x640 1 Il/elle dort sur le dos, 1 Il/elle bâille, 316.6ms\n",
      "Speed: 7.3ms preprocess, 316.6ms inference, 2.5ms postprocess per image at shape (1, 3, 352, 640)\n",
      "\n",
      "0: 352x640 1 Il/elle dort sur le dos, 1 Il/elle bâille, 294.9ms\n",
      "Speed: 8.2ms preprocess, 294.9ms inference, 2.0ms postprocess per image at shape (1, 3, 352, 640)\n",
      "\n",
      "0: 352x640 1 Il/elle dort sur le dos, 1 Il/elle bâille, 319.4ms\n",
      "Speed: 6.0ms preprocess, 319.4ms inference, 3.0ms postprocess per image at shape (1, 3, 352, 640)\n",
      "\n",
      "0: 352x640 1 Il/elle dort sur le dos, 1 Il/elle bâille, 271.5ms\n",
      "Speed: 8.7ms preprocess, 271.5ms inference, 2.0ms postprocess per image at shape (1, 3, 352, 640)\n",
      "\n",
      "0: 352x640 1 Il/elle dort sur le dos, 1 Il/elle bâille, 271.3ms\n",
      "Speed: 6.7ms preprocess, 271.3ms inference, 2.5ms postprocess per image at shape (1, 3, 352, 640)\n",
      "\n",
      "0: 352x640 1 Il/elle dort sur le dos, 1 Il/elle bâille, 247.6ms\n",
      "Speed: 12.0ms preprocess, 247.6ms inference, 2.0ms postprocess per image at shape (1, 3, 352, 640)\n",
      "\n",
      "0: 352x640 1 Il/elle dort sur le dos, 1 Il/elle bâille, 235.9ms\n",
      "Speed: 13.6ms preprocess, 235.9ms inference, 4.5ms postprocess per image at shape (1, 3, 352, 640)\n",
      "\n",
      "0: 352x640 1 Il/elle dort sur le dos, 1 Il/elle bâille, 342.2ms\n",
      "Speed: 3.6ms preprocess, 342.2ms inference, 3.0ms postprocess per image at shape (1, 3, 352, 640)\n",
      "\n",
      "0: 352x640 1 Il/elle dort sur le dos, 1 Il/elle bâille, 242.3ms\n",
      "Speed: 4.8ms preprocess, 242.3ms inference, 1.1ms postprocess per image at shape (1, 3, 352, 640)\n",
      "\n",
      "0: 352x640 1 Il/elle dort sur le dos, 2 Il/elle bâilles, 241.0ms\n",
      "Speed: 6.0ms preprocess, 241.0ms inference, 2.0ms postprocess per image at shape (1, 3, 352, 640)\n",
      "\n",
      "0: 352x640 1 Il/elle dort sur le dos, 2 Il/elle bâilles, 260.4ms\n",
      "Speed: 7.1ms preprocess, 260.4ms inference, 2.4ms postprocess per image at shape (1, 3, 352, 640)\n",
      "\n",
      "0: 352x640 1 Il/elle dort sur le dos, 1 Il/elle bâille, 266.3ms\n",
      "Speed: 7.4ms preprocess, 266.3ms inference, 2.0ms postprocess per image at shape (1, 3, 352, 640)\n",
      "\n",
      "0: 352x640 1 Il/elle dort sur le dos, 1 Il/elle bâille, 278.8ms\n",
      "Speed: 7.0ms preprocess, 278.8ms inference, 3.3ms postprocess per image at shape (1, 3, 352, 640)\n",
      "\n",
      "0: 352x640 1 Il/elle dort sur le dos, 1 Il/elle bâille, 254.7ms\n",
      "Speed: 10.0ms preprocess, 254.7ms inference, 3.5ms postprocess per image at shape (1, 3, 352, 640)\n",
      "\n",
      "0: 352x640 1 Il/elle dort sur le dos, 1 Il/elle bâille, 312.8ms\n",
      "Speed: 3.5ms preprocess, 312.8ms inference, 2.6ms postprocess per image at shape (1, 3, 352, 640)\n",
      "\n",
      "0: 352x640 1 Il/elle dort sur le dos, 2 Il/elle bâilles, 384.1ms\n",
      "Speed: 7.5ms preprocess, 384.1ms inference, 8.1ms postprocess per image at shape (1, 3, 352, 640)\n",
      "\n",
      "0: 352x640 1 Il/elle dort sur le dos, 1 Il/elle bâille, 272.8ms\n",
      "Speed: 7.6ms preprocess, 272.8ms inference, 2.0ms postprocess per image at shape (1, 3, 352, 640)\n",
      "\n",
      "0: 352x640 1 Il/elle dort sur le dos, 2 Il/elle bâilles, 308.3ms\n",
      "Speed: 9.8ms preprocess, 308.3ms inference, 2.0ms postprocess per image at shape (1, 3, 352, 640)\n",
      "\n",
      "0: 352x640 1 Il/elle dort sur le dos, 1 Il/elle bâille, 256.1ms\n",
      "Speed: 12.3ms preprocess, 256.1ms inference, 3.9ms postprocess per image at shape (1, 3, 352, 640)\n",
      "\n",
      "0: 352x640 1 Il/elle dort sur le dos, 1 Il/elle bâille, 263.6ms\n",
      "Speed: 5.7ms preprocess, 263.6ms inference, 2.5ms postprocess per image at shape (1, 3, 352, 640)\n",
      "\n",
      "0: 352x640 1 Il/elle dort sur le dos, 2 Il/elle bâilles, 260.4ms\n",
      "Speed: 4.1ms preprocess, 260.4ms inference, 1.5ms postprocess per image at shape (1, 3, 352, 640)\n",
      "\n",
      "0: 352x640 1 Il/elle dort sur le dos, 1 Il/elle bâille, 259.0ms\n",
      "Speed: 6.0ms preprocess, 259.0ms inference, 3.0ms postprocess per image at shape (1, 3, 352, 640)\n",
      "\n",
      "0: 352x640 1 Il/elle dort sur le dos, 1 Il/elle bâille, 256.5ms\n",
      "Speed: 8.5ms preprocess, 256.5ms inference, 2.0ms postprocess per image at shape (1, 3, 352, 640)\n",
      "\n",
      "0: 352x640 1 Il/elle dort sur le dos, 1 Il/elle bâille, 336.3ms\n",
      "Speed: 5.0ms preprocess, 336.3ms inference, 3.5ms postprocess per image at shape (1, 3, 352, 640)\n",
      "\n",
      "0: 352x640 1 Il/elle dort sur le dos, 1 Il/elle bâille, 381.8ms\n",
      "Speed: 6.6ms preprocess, 381.8ms inference, 3.0ms postprocess per image at shape (1, 3, 352, 640)\n",
      "\n",
      "0: 352x640 1 Il/elle dort sur le dos, 1 Il/elle bâille, 278.3ms\n",
      "Speed: 5.5ms preprocess, 278.3ms inference, 4.0ms postprocess per image at shape (1, 3, 352, 640)\n",
      "\n",
      "0: 352x640 1 Il/elle dort sur le dos, 1 Il/elle bâille, 310.9ms\n",
      "Speed: 6.8ms preprocess, 310.9ms inference, 3.0ms postprocess per image at shape (1, 3, 352, 640)\n",
      "\n",
      "0: 352x640 1 Il/elle dort sur le dos, 1 Il/elle bâille, 277.8ms\n",
      "Speed: 16.3ms preprocess, 277.8ms inference, 2.0ms postprocess per image at shape (1, 3, 352, 640)\n",
      "\n",
      "0: 352x640 1 Il/elle dort sur le dos, 1 Il/elle bâille, 264.7ms\n",
      "Speed: 5.5ms preprocess, 264.7ms inference, 2.2ms postprocess per image at shape (1, 3, 352, 640)\n",
      "\n",
      "0: 352x640 1 Il/elle dort sur le dos, 1 Il/elle bâille, 272.2ms\n",
      "Speed: 29.6ms preprocess, 272.2ms inference, 3.0ms postprocess per image at shape (1, 3, 352, 640)\n",
      "\n",
      "0: 352x640 1 Il/elle dort sur le dos, 2 Il/elle bâilles, 276.5ms\n",
      "Speed: 4.0ms preprocess, 276.5ms inference, 3.7ms postprocess per image at shape (1, 3, 352, 640)\n",
      "\n",
      "0: 352x640 1 Il/elle dort sur le dos, 2 Il/elle bâilles, 335.4ms\n",
      "Speed: 6.4ms preprocess, 335.4ms inference, 2.5ms postprocess per image at shape (1, 3, 352, 640)\n",
      "\n",
      "0: 352x640 1 Il/elle dort sur le dos, 2 Il/elle bâilles, 236.2ms\n",
      "Speed: 5.8ms preprocess, 236.2ms inference, 3.5ms postprocess per image at shape (1, 3, 352, 640)\n",
      "\n",
      "0: 352x640 1 Il/elle dort sur le dos, 2 Il/elle bâilles, 240.0ms\n",
      "Speed: 3.9ms preprocess, 240.0ms inference, 1.5ms postprocess per image at shape (1, 3, 352, 640)\n",
      "\n",
      "0: 352x640 1 Il/elle dort sur le dos, 1 Il/elle bâille, 248.8ms\n",
      "Speed: 4.4ms preprocess, 248.8ms inference, 2.4ms postprocess per image at shape (1, 3, 352, 640)\n",
      "\n",
      "0: 352x640 1 Il/elle dort sur le dos, 1 Il/elle bâille, 256.8ms\n",
      "Speed: 4.0ms preprocess, 256.8ms inference, 2.0ms postprocess per image at shape (1, 3, 352, 640)\n",
      "\n",
      "0: 352x640 1 Il/elle dort sur le dos, 1 Il/elle bâille, 258.6ms\n",
      "Speed: 6.0ms preprocess, 258.6ms inference, 2.8ms postprocess per image at shape (1, 3, 352, 640)\n",
      "\n",
      "0: 352x640 1 Il/elle dort sur le dos, 1 Il/elle bâille, 270.3ms\n",
      "Speed: 7.2ms preprocess, 270.3ms inference, 6.6ms postprocess per image at shape (1, 3, 352, 640)\n",
      "\n",
      "0: 352x640 1 Il/elle dort sur le dos, 1 Il/elle bâille, 266.3ms\n",
      "Speed: 5.2ms preprocess, 266.3ms inference, 2.2ms postprocess per image at shape (1, 3, 352, 640)\n",
      "\n",
      "0: 352x640 1 Il/elle dort sur le dos, 1 Il/elle bâille, 381.2ms\n",
      "Speed: 7.5ms preprocess, 381.2ms inference, 2.2ms postprocess per image at shape (1, 3, 352, 640)\n",
      "\n",
      "0: 352x640 1 Il/elle dort sur le dos, 1 Il/elle bâille, 295.6ms\n",
      "Speed: 16.1ms preprocess, 295.6ms inference, 2.0ms postprocess per image at shape (1, 3, 352, 640)\n",
      "\n",
      "0: 352x640 1 Il/elle dort sur le dos, 1 Il/elle bâille, 255.8ms\n",
      "Speed: 7.0ms preprocess, 255.8ms inference, 2.0ms postprocess per image at shape (1, 3, 352, 640)\n",
      "\n",
      "0: 352x640 1 Il/elle dort sur le dos, 1 Il/elle bâille, 294.5ms\n",
      "Speed: 5.3ms preprocess, 294.5ms inference, 2.0ms postprocess per image at shape (1, 3, 352, 640)\n",
      "\n",
      "0: 352x640 1 Il/elle dort sur le dos, 1 Il/elle bâille, 258.1ms\n",
      "Speed: 8.0ms preprocess, 258.1ms inference, 2.5ms postprocess per image at shape (1, 3, 352, 640)\n",
      "\n",
      "0: 352x640 1 Il/elle dort sur le dos, 1 Il/elle bâille, 246.6ms\n",
      "Speed: 5.7ms preprocess, 246.6ms inference, 2.0ms postprocess per image at shape (1, 3, 352, 640)\n",
      "\n",
      "0: 352x640 1 Il/elle dort sur le dos, 1 Il/elle bâille, 244.9ms\n",
      "Speed: 4.8ms preprocess, 244.9ms inference, 2.0ms postprocess per image at shape (1, 3, 352, 640)\n",
      "\n",
      "0: 352x640 1 Il/elle dort sur le dos, 1 Il/elle bâille, 249.4ms\n",
      "Speed: 4.8ms preprocess, 249.4ms inference, 2.4ms postprocess per image at shape (1, 3, 352, 640)\n",
      "\n",
      "0: 352x640 1 Il/elle dort sur le dos, 1 Il/elle bâille, 252.2ms\n",
      "Speed: 3.3ms preprocess, 252.2ms inference, 3.0ms postprocess per image at shape (1, 3, 352, 640)\n",
      "\n",
      "0: 352x640 1 Il/elle dort sur le dos, 1 Il/elle bâille, 316.8ms\n",
      "Speed: 5.5ms preprocess, 316.8ms inference, 1.5ms postprocess per image at shape (1, 3, 352, 640)\n",
      "\n",
      "0: 352x640 1 Il/elle dort sur le dos, 1 Il/elle bâille, 327.0ms\n",
      "Speed: 4.0ms preprocess, 327.0ms inference, 2.4ms postprocess per image at shape (1, 3, 352, 640)\n",
      "\n",
      "0: 352x640 1 Il/elle dort sur le dos, 1 Il/elle bâille, 312.2ms\n",
      "Speed: 8.2ms preprocess, 312.2ms inference, 2.6ms postprocess per image at shape (1, 3, 352, 640)\n",
      "\n",
      "0: 352x640 1 Il/elle dort sur le dos, 1 Il/elle bâille, 290.9ms\n",
      "Speed: 9.8ms preprocess, 290.9ms inference, 4.5ms postprocess per image at shape (1, 3, 352, 640)\n",
      "\n",
      "0: 352x640 1 Il/elle dort sur le dos, 1 Il/elle bâille, 297.1ms\n",
      "Speed: 12.7ms preprocess, 297.1ms inference, 7.1ms postprocess per image at shape (1, 3, 352, 640)\n",
      "\n",
      "0: 352x640 1 Il/elle dort sur le dos, 1 Il/elle bâille, 278.4ms\n",
      "Speed: 5.0ms preprocess, 278.4ms inference, 2.0ms postprocess per image at shape (1, 3, 352, 640)\n",
      "\n",
      "0: 352x640 1 Il/elle dort sur le dos, 1 Il/elle bâille, 275.2ms\n",
      "Speed: 3.2ms preprocess, 275.2ms inference, 2.5ms postprocess per image at shape (1, 3, 352, 640)\n",
      "\n",
      "0: 352x640 1 Il/elle dort sur le dos, 1 Il/elle bâille, 282.5ms\n",
      "Speed: 4.5ms preprocess, 282.5ms inference, 2.5ms postprocess per image at shape (1, 3, 352, 640)\n",
      "\n",
      "0: 352x640 1 Il/elle dort sur le dos, 1 Il/elle bâille, 264.1ms\n",
      "Speed: 118.6ms preprocess, 264.1ms inference, 3.5ms postprocess per image at shape (1, 3, 352, 640)\n",
      "\n",
      "0: 352x640 1 Il/elle dort sur le dos, 1 Il/elle bâille, 237.3ms\n",
      "Speed: 4.7ms preprocess, 237.3ms inference, 2.6ms postprocess per image at shape (1, 3, 352, 640)\n",
      "\n",
      "0: 352x640 1 Il/elle dort sur le dos, 1 Il/elle bâille, 233.1ms\n",
      "Speed: 14.7ms preprocess, 233.1ms inference, 3.0ms postprocess per image at shape (1, 3, 352, 640)\n",
      "\n",
      "0: 352x640 1 Il/elle dort sur le dos, 1 Il/elle bâille, 259.1ms\n",
      "Speed: 5.5ms preprocess, 259.1ms inference, 2.0ms postprocess per image at shape (1, 3, 352, 640)\n",
      "\n",
      "0: 352x640 1 Il/elle dort sur le dos, 1 Il/elle bâille, 240.6ms\n",
      "Speed: 4.7ms preprocess, 240.6ms inference, 3.0ms postprocess per image at shape (1, 3, 352, 640)\n",
      "\n",
      "0: 352x640 1 Il/elle dort sur le dos, 1 Il/elle bâille, 231.7ms\n",
      "Speed: 7.6ms preprocess, 231.7ms inference, 2.5ms postprocess per image at shape (1, 3, 352, 640)\n",
      "\n",
      "0: 352x640 1 Il/elle dort sur le dos, 1 Il/elle bâille, 242.8ms\n",
      "Speed: 5.7ms preprocess, 242.8ms inference, 2.4ms postprocess per image at shape (1, 3, 352, 640)\n",
      "\n",
      "0: 352x640 1 Il/elle dort sur le dos, 1 Il/elle bâille, 293.0ms\n",
      "Speed: 4.8ms preprocess, 293.0ms inference, 3.0ms postprocess per image at shape (1, 3, 352, 640)\n",
      "\n",
      "0: 352x640 1 Il/elle dort sur le dos, 1 Il/elle bâille, 377.0ms\n",
      "Speed: 7.5ms preprocess, 377.0ms inference, 3.0ms postprocess per image at shape (1, 3, 352, 640)\n",
      "\n",
      "0: 352x640 1 Il/elle dort sur le dos, 1 Il/elle bâille, 287.4ms\n",
      "Speed: 10.6ms preprocess, 287.4ms inference, 3.5ms postprocess per image at shape (1, 3, 352, 640)\n",
      "\n",
      "0: 352x640 1 Il/elle dort sur le dos, 1 Il/elle bâille, 279.1ms\n",
      "Speed: 6.4ms preprocess, 279.1ms inference, 1.5ms postprocess per image at shape (1, 3, 352, 640)\n",
      "\n",
      "0: 352x640 1 Il/elle dort sur le dos, 1 Il/elle bâille, 272.6ms\n",
      "Speed: 8.4ms preprocess, 272.6ms inference, 4.0ms postprocess per image at shape (1, 3, 352, 640)\n",
      "\n",
      "0: 352x640 1 Il/elle dort sur le dos, 1 Il/elle bâille, 253.0ms\n",
      "Speed: 3.5ms preprocess, 253.0ms inference, 2.0ms postprocess per image at shape (1, 3, 352, 640)\n",
      "\n",
      "0: 352x640 1 Il/elle dort sur le dos, 1 Il/elle bâille, 277.6ms\n",
      "Speed: 4.0ms preprocess, 277.6ms inference, 3.0ms postprocess per image at shape (1, 3, 352, 640)\n",
      "\n",
      "0: 352x640 1 Il/elle dort sur le dos, 1 Il/elle bâille, 249.9ms\n",
      "Speed: 4.7ms preprocess, 249.9ms inference, 2.4ms postprocess per image at shape (1, 3, 352, 640)\n",
      "\n",
      "0: 352x640 1 Il/elle dort sur le dos, 1 Il/elle bâille, 358.2ms\n",
      "Speed: 6.9ms preprocess, 358.2ms inference, 2.5ms postprocess per image at shape (1, 3, 352, 640)\n",
      "\n",
      "0: 352x640 1 Il/elle dort sur le dos, 1 Il/elle bâille, 253.9ms\n",
      "Speed: 4.5ms preprocess, 253.9ms inference, 3.0ms postprocess per image at shape (1, 3, 352, 640)\n",
      "\n",
      "0: 352x640 1 Il/elle dort sur le dos, 1 Il/elle bâille, 247.7ms\n",
      "Speed: 10.5ms preprocess, 247.7ms inference, 1.2ms postprocess per image at shape (1, 3, 352, 640)\n",
      "\n",
      "0: 352x640 1 Il/elle dort sur le dos, 1 Il/elle bâille, 323.9ms\n",
      "Speed: 5.5ms preprocess, 323.9ms inference, 2.0ms postprocess per image at shape (1, 3, 352, 640)\n",
      "\n",
      "0: 352x640 1 Il/elle dort sur le dos, 1 Il/elle bâille, 257.5ms\n",
      "Speed: 7.6ms preprocess, 257.5ms inference, 2.8ms postprocess per image at shape (1, 3, 352, 640)\n",
      "\n",
      "0: 352x640 1 Il/elle bâille, 263.1ms\n",
      "Speed: 4.1ms preprocess, 263.1ms inference, 1.9ms postprocess per image at shape (1, 3, 352, 640)\n",
      "\n",
      "0: 352x640 1 Il/elle dort sur le dos, 1 Il/elle bâille, 299.3ms\n",
      "Speed: 15.1ms preprocess, 299.3ms inference, 4.5ms postprocess per image at shape (1, 3, 352, 640)\n",
      "\n",
      "0: 352x640 1 Il/elle dort sur le dos, 1 Il/elle bâille, 397.5ms\n",
      "Speed: 7.2ms preprocess, 397.5ms inference, 3.5ms postprocess per image at shape (1, 3, 352, 640)\n",
      "\n",
      "0: 352x640 1 Il/elle dort sur le dos, 1 Il/elle bâille, 279.8ms\n",
      "Speed: 6.4ms preprocess, 279.8ms inference, 3.8ms postprocess per image at shape (1, 3, 352, 640)\n",
      "\n",
      "0: 352x640 1 Il/elle dort sur le dos, 1 Il/elle bâille, 273.5ms\n",
      "Speed: 4.3ms preprocess, 273.5ms inference, 2.0ms postprocess per image at shape (1, 3, 352, 640)\n",
      "\n",
      "0: 352x640 1 Il/elle dort sur le dos, 321.0ms\n",
      "Speed: 9.3ms preprocess, 321.0ms inference, 2.0ms postprocess per image at shape (1, 3, 352, 640)\n",
      "\n",
      "0: 352x640 1 Il/elle dort sur le dos, 286.1ms\n",
      "Speed: 10.5ms preprocess, 286.1ms inference, 2.5ms postprocess per image at shape (1, 3, 352, 640)\n",
      "\n",
      "0: 352x640 1 Il/elle dort sur le dos, 238.6ms\n",
      "Speed: 7.3ms preprocess, 238.6ms inference, 2.0ms postprocess per image at shape (1, 3, 352, 640)\n",
      "\n",
      "0: 352x640 1 Il/elle dort sur le dos, 248.6ms\n",
      "Speed: 3.4ms preprocess, 248.6ms inference, 2.0ms postprocess per image at shape (1, 3, 352, 640)\n",
      "\n",
      "0: 352x640 1 Il/elle dort sur le dos, 324.3ms\n",
      "Speed: 4.3ms preprocess, 324.3ms inference, 2.0ms postprocess per image at shape (1, 3, 352, 640)\n",
      "\n",
      "0: 352x640 1 Il/elle dort sur le dos, 236.1ms\n",
      "Speed: 8.9ms preprocess, 236.1ms inference, 2.0ms postprocess per image at shape (1, 3, 352, 640)\n",
      "\n",
      "0: 352x640 1 Il/elle dort sur le dos, 238.6ms\n",
      "Speed: 15.0ms preprocess, 238.6ms inference, 3.0ms postprocess per image at shape (1, 3, 352, 640)\n",
      "\n",
      "0: 352x640 1 Il/elle dort sur le dos, 254.4ms\n",
      "Speed: 5.4ms preprocess, 254.4ms inference, 2.0ms postprocess per image at shape (1, 3, 352, 640)\n",
      "\n",
      "0: 352x640 1 Il/elle dort sur le dos, 259.5ms\n",
      "Speed: 7.2ms preprocess, 259.5ms inference, 2.5ms postprocess per image at shape (1, 3, 352, 640)\n",
      "\n",
      "0: 352x640 1 Il/elle dort sur le dos, 313.9ms\n",
      "Speed: 8.3ms preprocess, 313.9ms inference, 3.0ms postprocess per image at shape (1, 3, 352, 640)\n",
      "\n",
      "0: 352x640 1 Il/elle dort sur le dos, 281.5ms\n",
      "Speed: 4.1ms preprocess, 281.5ms inference, 2.2ms postprocess per image at shape (1, 3, 352, 640)\n",
      "\n",
      "0: 352x640 1 Il/elle dort sur le dos, 363.9ms\n",
      "Speed: 3.5ms preprocess, 363.9ms inference, 2.5ms postprocess per image at shape (1, 3, 352, 640)\n",
      "\n",
      "0: 352x640 1 Il/elle dort sur le dos, 250.0ms\n",
      "Speed: 6.8ms preprocess, 250.0ms inference, 3.0ms postprocess per image at shape (1, 3, 352, 640)\n",
      "\n",
      "0: 352x640 1 Il/elle dort sur le dos, 262.4ms\n",
      "Speed: 4.8ms preprocess, 262.4ms inference, 3.6ms postprocess per image at shape (1, 3, 352, 640)\n",
      "\n",
      "0: 352x640 1 Il/elle dort sur le dos, 278.9ms\n",
      "Speed: 7.2ms preprocess, 278.9ms inference, 3.0ms postprocess per image at shape (1, 3, 352, 640)\n",
      "\n",
      "0: 352x640 1 Il/elle dort sur le dos, 244.8ms\n",
      "Speed: 6.2ms preprocess, 244.8ms inference, 2.0ms postprocess per image at shape (1, 3, 352, 640)\n",
      "\n",
      "0: 352x640 1 Il/elle dort sur le dos, 273.9ms\n",
      "Speed: 12.3ms preprocess, 273.9ms inference, 2.0ms postprocess per image at shape (1, 3, 352, 640)\n",
      "\n",
      "0: 352x640 1 Il/elle dort sur le dos, 327.5ms\n",
      "Speed: 6.5ms preprocess, 327.5ms inference, 2.1ms postprocess per image at shape (1, 3, 352, 640)\n",
      "\n",
      "0: 352x640 1 Il/elle dort sur le dos, 325.1ms\n",
      "Speed: 6.6ms preprocess, 325.1ms inference, 2.6ms postprocess per image at shape (1, 3, 352, 640)\n",
      "\n",
      "0: 352x640 1 Il/elle dort sur le dos, 274.0ms\n",
      "Speed: 6.3ms preprocess, 274.0ms inference, 1.0ms postprocess per image at shape (1, 3, 352, 640)\n",
      "\n",
      "0: 352x640 1 Il/elle dort sur le dos, 273.2ms\n",
      "Speed: 4.6ms preprocess, 273.2ms inference, 2.0ms postprocess per image at shape (1, 3, 352, 640)\n",
      "\n",
      "0: 352x640 1 Il/elle dort sur le dos, 281.4ms\n",
      "Speed: 8.9ms preprocess, 281.4ms inference, 1.5ms postprocess per image at shape (1, 3, 352, 640)\n",
      "\n",
      "0: 352x640 1 Il/elle dort sur le dos, 252.9ms\n",
      "Speed: 5.4ms preprocess, 252.9ms inference, 2.1ms postprocess per image at shape (1, 3, 352, 640)\n",
      "\n",
      "0: 352x640 1 Il/elle dort sur le dos, 272.9ms\n",
      "Speed: 3.3ms preprocess, 272.9ms inference, 2.2ms postprocess per image at shape (1, 3, 352, 640)\n",
      "\n",
      "0: 352x640 1 Il/elle dort sur le dos, 283.0ms\n",
      "Speed: 7.9ms preprocess, 283.0ms inference, 2.0ms postprocess per image at shape (1, 3, 352, 640)\n",
      "\n",
      "0: 352x640 1 Il/elle dort sur le dos, 282.6ms\n",
      "Speed: 4.5ms preprocess, 282.6ms inference, 3.0ms postprocess per image at shape (1, 3, 352, 640)\n",
      "\n",
      "0: 352x640 1 Il/elle dort sur le dos, 275.6ms\n",
      "Speed: 92.2ms preprocess, 275.6ms inference, 2.0ms postprocess per image at shape (1, 3, 352, 640)\n",
      "\n",
      "0: 352x640 1 Il/elle dort sur le dos, 283.9ms\n",
      "Speed: 11.7ms preprocess, 283.9ms inference, 2.0ms postprocess per image at shape (1, 3, 352, 640)\n",
      "\n",
      "0: 352x640 1 Il/elle dort sur le dos, 277.2ms\n",
      "Speed: 5.2ms preprocess, 277.2ms inference, 3.0ms postprocess per image at shape (1, 3, 352, 640)\n",
      "\n",
      "0: 352x640 1 Il/elle dort sur le dos, 249.3ms\n",
      "Speed: 9.0ms preprocess, 249.3ms inference, 0.0ms postprocess per image at shape (1, 3, 352, 640)\n",
      "\n",
      "0: 352x640 1 Il/elle dort sur le dos, 254.4ms\n",
      "Speed: 6.6ms preprocess, 254.4ms inference, 2.5ms postprocess per image at shape (1, 3, 352, 640)\n",
      "\n",
      "0: 352x640 1 Il/elle dort sur le dos, 261.7ms\n",
      "Speed: 4.3ms preprocess, 261.7ms inference, 3.0ms postprocess per image at shape (1, 3, 352, 640)\n",
      "\n",
      "0: 352x640 1 Il/elle dort sur le dos, 241.3ms\n",
      "Speed: 4.6ms preprocess, 241.3ms inference, 2.0ms postprocess per image at shape (1, 3, 352, 640)\n",
      "\n",
      "0: 352x640 1 Il/elle dort sur le dos, 347.1ms\n",
      "Speed: 10.0ms preprocess, 347.1ms inference, 2.0ms postprocess per image at shape (1, 3, 352, 640)\n",
      "\n",
      "0: 352x640 1 Il/elle dort sur le dos, 286.1ms\n",
      "Speed: 12.6ms preprocess, 286.1ms inference, 1.7ms postprocess per image at shape (1, 3, 352, 640)\n",
      "\n",
      "0: 352x640 1 Il/elle dort sur le dos, 267.4ms\n",
      "Speed: 5.4ms preprocess, 267.4ms inference, 1.0ms postprocess per image at shape (1, 3, 352, 640)\n",
      "\n",
      "0: 352x640 1 Il/elle dort sur le dos, 1 Il/elle bâille, 262.0ms\n",
      "Speed: 4.9ms preprocess, 262.0ms inference, 5.1ms postprocess per image at shape (1, 3, 352, 640)\n",
      "\n",
      "0: 352x640 1 Il/elle bâille, 282.1ms\n",
      "Speed: 17.4ms preprocess, 282.1ms inference, 2.0ms postprocess per image at shape (1, 3, 352, 640)\n",
      "\n",
      "0: 352x640 1 Il/elle dort sur le dos, 1 Il/elle bâille, 270.2ms\n",
      "Speed: 6.3ms preprocess, 270.2ms inference, 2.0ms postprocess per image at shape (1, 3, 352, 640)\n",
      "\n",
      "0: 352x640 1 Il/elle dort sur le dos, 1 Il/elle bâille, 270.5ms\n",
      "Speed: 9.1ms preprocess, 270.5ms inference, 1.5ms postprocess per image at shape (1, 3, 352, 640)\n",
      "\n",
      "0: 352x640 1 Il/elle dort sur le dos, 1 Il/elle bâille, 291.1ms\n",
      "Speed: 6.0ms preprocess, 291.1ms inference, 2.1ms postprocess per image at shape (1, 3, 352, 640)\n",
      "\n",
      "0: 352x640 1 Il/elle dort sur le dos, 1 Il/elle bâille, 349.0ms\n",
      "Speed: 6.2ms preprocess, 349.0ms inference, 2.0ms postprocess per image at shape (1, 3, 352, 640)\n",
      "\n",
      "0: 352x640 1 Il/elle dort sur le dos, 1 Il/elle bâille, 241.2ms\n",
      "Speed: 8.3ms preprocess, 241.2ms inference, 2.6ms postprocess per image at shape (1, 3, 352, 640)\n",
      "\n",
      "0: 352x640 1 Il/elle dort sur le dos, 1 Il/elle bâille, 242.5ms\n",
      "Speed: 11.1ms preprocess, 242.5ms inference, 2.2ms postprocess per image at shape (1, 3, 352, 640)\n",
      "\n",
      "0: 352x640 1 Il/elle bâille, 248.5ms\n",
      "Speed: 18.0ms preprocess, 248.5ms inference, 2.5ms postprocess per image at shape (1, 3, 352, 640)\n",
      "\n",
      "0: 352x640 1 Il/elle bâille, 225.9ms\n",
      "Speed: 3.4ms preprocess, 225.9ms inference, 2.0ms postprocess per image at shape (1, 3, 352, 640)\n",
      "\n",
      "0: 352x640 1 Il/elle bâille, 235.7ms\n",
      "Speed: 6.1ms preprocess, 235.7ms inference, 2.0ms postprocess per image at shape (1, 3, 352, 640)\n",
      "\n",
      "0: 352x640 1 Il/elle bâille, 396.8ms\n",
      "Speed: 6.8ms preprocess, 396.8ms inference, 3.3ms postprocess per image at shape (1, 3, 352, 640)\n",
      "\n",
      "0: 352x640 1 Il/elle dort sur le dos, 1 Il/elle bâille, 308.8ms\n",
      "Speed: 27.2ms preprocess, 308.8ms inference, 3.4ms postprocess per image at shape (1, 3, 352, 640)\n",
      "\n",
      "0: 352x640 1 Il/elle dort sur le dos, 1 Il/elle bâille, 398.8ms\n",
      "Speed: 4.5ms preprocess, 398.8ms inference, 4.0ms postprocess per image at shape (1, 3, 352, 640)\n",
      "\n",
      "0: 352x640 1 Il/elle dort sur le dos, 1 Il/elle bâille, 277.3ms\n",
      "Speed: 6.9ms preprocess, 277.3ms inference, 2.0ms postprocess per image at shape (1, 3, 352, 640)\n",
      "\n",
      "0: 352x640 1 Il/elle dort sur le dos, 1 Il/elle bâille, 257.7ms\n",
      "Speed: 8.3ms preprocess, 257.7ms inference, 2.0ms postprocess per image at shape (1, 3, 352, 640)\n",
      "\n",
      "0: 352x640 1 Il/elle bâille, 264.0ms\n",
      "Speed: 7.1ms preprocess, 264.0ms inference, 2.1ms postprocess per image at shape (1, 3, 352, 640)\n",
      "\n",
      "0: 352x640 1 Il/elle bâille, 302.5ms\n",
      "Speed: 13.4ms preprocess, 302.5ms inference, 2.0ms postprocess per image at shape (1, 3, 352, 640)\n",
      "\n",
      "0: 352x640 1 Il/elle bâille, 267.2ms\n",
      "Speed: 6.7ms preprocess, 267.2ms inference, 2.0ms postprocess per image at shape (1, 3, 352, 640)\n",
      "\n",
      "0: 352x640 1 Il/elle dort sur le dos, 1 Il/elle bâille, 321.4ms\n",
      "Speed: 5.6ms preprocess, 321.4ms inference, 2.5ms postprocess per image at shape (1, 3, 352, 640)\n",
      "\n",
      "0: 352x640 1 Il/elle dort sur le dos, 1 Il/elle bâille, 245.2ms\n",
      "Speed: 104.7ms preprocess, 245.2ms inference, 2.0ms postprocess per image at shape (1, 3, 352, 640)\n",
      "\n",
      "0: 352x640 1 Il/elle dort sur le dos, 1 Il/elle bâille, 252.2ms\n",
      "Speed: 4.5ms preprocess, 252.2ms inference, 2.4ms postprocess per image at shape (1, 3, 352, 640)\n",
      "\n",
      "0: 352x640 1 Il/elle dort sur le dos, 1 Il/elle bâille, 241.2ms\n",
      "Speed: 5.0ms preprocess, 241.2ms inference, 1.3ms postprocess per image at shape (1, 3, 352, 640)\n",
      "\n",
      "0: 352x640 1 Il/elle dort sur le dos, 1 Il/elle bâille, 270.0ms\n",
      "Speed: 4.9ms preprocess, 270.0ms inference, 2.3ms postprocess per image at shape (1, 3, 352, 640)\n",
      "\n",
      "0: 352x640 1 Il/elle dort sur le dos, 1 Il/elle bâille, 271.4ms\n",
      "Speed: 8.5ms preprocess, 271.4ms inference, 2.0ms postprocess per image at shape (1, 3, 352, 640)\n",
      "\n",
      "0: 352x640 1 Il/elle dort sur le dos, 1 Il/elle bâille, 234.6ms\n",
      "Speed: 8.3ms preprocess, 234.6ms inference, 3.0ms postprocess per image at shape (1, 3, 352, 640)\n",
      "\n",
      "0: 352x640 1 Il/elle dort sur le dos, 271.8ms\n",
      "Speed: 6.5ms preprocess, 271.8ms inference, 1.3ms postprocess per image at shape (1, 3, 352, 640)\n",
      "\n",
      "0: 352x640 1 Il/elle dort sur le dos, 1 Il/elle bâille, 428.3ms\n",
      "Speed: 6.2ms preprocess, 428.3ms inference, 2.0ms postprocess per image at shape (1, 3, 352, 640)\n",
      "\n",
      "0: 352x640 1 Il/elle dort sur le dos, 255.4ms\n",
      "Speed: 3.5ms preprocess, 255.4ms inference, 3.6ms postprocess per image at shape (1, 3, 352, 640)\n",
      "\n",
      "0: 352x640 1 Il/elle dort sur le dos, 277.7ms\n",
      "Speed: 8.2ms preprocess, 277.7ms inference, 1.5ms postprocess per image at shape (1, 3, 352, 640)\n",
      "\n",
      "0: 352x640 1 Il/elle dort sur le dos, 283.7ms\n",
      "Speed: 8.9ms preprocess, 283.7ms inference, 4.1ms postprocess per image at shape (1, 3, 352, 640)\n",
      "\n",
      "0: 352x640 1 Il/elle dort sur le dos, 1 Il/elle bâille, 219.7ms\n",
      "Speed: 10.2ms preprocess, 219.7ms inference, 2.0ms postprocess per image at shape (1, 3, 352, 640)\n",
      "\n",
      "0: 352x640 1 Il/elle dort sur le dos, 1 Il/elle bâille, 272.6ms\n",
      "Speed: 6.9ms preprocess, 272.6ms inference, 2.1ms postprocess per image at shape (1, 3, 352, 640)\n",
      "\n",
      "0: 352x640 1 Il/elle dort sur le dos, 1 Il/elle bâille, 258.6ms\n",
      "Speed: 5.6ms preprocess, 258.6ms inference, 2.3ms postprocess per image at shape (1, 3, 352, 640)\n",
      "\n",
      "0: 352x640 1 Il/elle dort sur le dos, 1 Il/elle bâille, 243.4ms\n",
      "Speed: 5.3ms preprocess, 243.4ms inference, 3.0ms postprocess per image at shape (1, 3, 352, 640)\n",
      "\n",
      "0: 352x640 1 Il/elle dort sur le dos, 1 Il/elle bâille, 396.3ms\n",
      "Speed: 6.8ms preprocess, 396.3ms inference, 2.0ms postprocess per image at shape (1, 3, 352, 640)\n",
      "\n",
      "0: 352x640 1 Il/elle dort sur le dos, 262.7ms\n",
      "Speed: 6.0ms preprocess, 262.7ms inference, 1.4ms postprocess per image at shape (1, 3, 352, 640)\n",
      "\n",
      "0: 352x640 1 Il/elle dort sur le dos, 1 Il/elle bâille, 290.5ms\n",
      "Speed: 5.5ms preprocess, 290.5ms inference, 4.7ms postprocess per image at shape (1, 3, 352, 640)\n",
      "\n",
      "0: 352x640 1 Il/elle bâille, 275.8ms\n",
      "Speed: 6.1ms preprocess, 275.8ms inference, 3.0ms postprocess per image at shape (1, 3, 352, 640)\n",
      "\n",
      "0: 352x640 1 Il/elle bâille, 278.2ms\n",
      "Speed: 5.8ms preprocess, 278.2ms inference, 3.8ms postprocess per image at shape (1, 3, 352, 640)\n",
      "\n",
      "0: 352x640 1 Il/elle bâille, 263.4ms\n",
      "Speed: 3.4ms preprocess, 263.4ms inference, 4.3ms postprocess per image at shape (1, 3, 352, 640)\n",
      "\n",
      "0: 352x640 1 Il/elle bâille, 295.2ms\n",
      "Speed: 3.4ms preprocess, 295.2ms inference, 2.5ms postprocess per image at shape (1, 3, 352, 640)\n",
      "\n",
      "0: 352x640 1 Il/elle bâille, 368.9ms\n",
      "Speed: 4.5ms preprocess, 368.9ms inference, 3.1ms postprocess per image at shape (1, 3, 352, 640)\n",
      "\n",
      "0: 352x640 1 Il/elle bâille, 255.5ms\n",
      "Speed: 19.6ms preprocess, 255.5ms inference, 1.0ms postprocess per image at shape (1, 3, 352, 640)\n",
      "\n",
      "0: 352x640 1 Il/elle bâille, 291.9ms\n",
      "Speed: 5.9ms preprocess, 291.9ms inference, 2.0ms postprocess per image at shape (1, 3, 352, 640)\n",
      "\n",
      "0: 352x640 1 Il/elle bâille, 229.0ms\n",
      "Speed: 4.0ms preprocess, 229.0ms inference, 3.2ms postprocess per image at shape (1, 3, 352, 640)\n",
      "\n",
      "0: 352x640 1 Il/elle bâille, 257.5ms\n",
      "Speed: 7.6ms preprocess, 257.5ms inference, 3.0ms postprocess per image at shape (1, 3, 352, 640)\n",
      "\n",
      "0: 352x640 1 Il/elle bâille, 246.1ms\n",
      "Speed: 8.5ms preprocess, 246.1ms inference, 2.8ms postprocess per image at shape (1, 3, 352, 640)\n",
      "\n",
      "0: 352x640 1 Il/elle bâille, 253.4ms\n",
      "Speed: 5.7ms preprocess, 253.4ms inference, 3.9ms postprocess per image at shape (1, 3, 352, 640)\n",
      "\n",
      "0: 352x640 1 Il/elle bâille, 268.1ms\n",
      "Speed: 5.4ms preprocess, 268.1ms inference, 5.3ms postprocess per image at shape (1, 3, 352, 640)\n",
      "\n",
      "0: 352x640 1 Il/elle bâille, 388.2ms\n",
      "Speed: 6.0ms preprocess, 388.2ms inference, 2.1ms postprocess per image at shape (1, 3, 352, 640)\n",
      "\n",
      "0: 352x640 1 Il/elle bâille, 272.6ms\n",
      "Speed: 10.5ms preprocess, 272.6ms inference, 2.0ms postprocess per image at shape (1, 3, 352, 640)\n",
      "\n",
      "0: 352x640 1 Il/elle bâille, 280.0ms\n",
      "Speed: 5.1ms preprocess, 280.0ms inference, 2.4ms postprocess per image at shape (1, 3, 352, 640)\n",
      "\n",
      "0: 352x640 1 Il/elle bâille, 343.9ms\n",
      "Speed: 4.8ms preprocess, 343.9ms inference, 2.0ms postprocess per image at shape (1, 3, 352, 640)\n",
      "\n",
      "0: 352x640 1 Il/elle bâille, 304.3ms\n",
      "Speed: 14.0ms preprocess, 304.3ms inference, 2.0ms postprocess per image at shape (1, 3, 352, 640)\n",
      "\n",
      "0: 352x640 1 Il/elle bâille, 307.5ms\n",
      "Speed: 7.3ms preprocess, 307.5ms inference, 2.2ms postprocess per image at shape (1, 3, 352, 640)\n",
      "\n",
      "0: 352x640 1 Il/elle bâille, 249.9ms\n",
      "Speed: 14.1ms preprocess, 249.9ms inference, 2.0ms postprocess per image at shape (1, 3, 352, 640)\n",
      "\n",
      "0: 352x640 1 Il/elle bâille, 321.7ms\n",
      "Speed: 7.2ms preprocess, 321.7ms inference, 2.6ms postprocess per image at shape (1, 3, 352, 640)\n",
      "\n",
      "0: 352x640 1 Il/elle bâille, 270.2ms\n",
      "Speed: 5.0ms preprocess, 270.2ms inference, 2.2ms postprocess per image at shape (1, 3, 352, 640)\n",
      "\n",
      "0: 352x640 2 Il/elle bâilles, 251.9ms\n",
      "Speed: 104.2ms preprocess, 251.9ms inference, 3.0ms postprocess per image at shape (1, 3, 352, 640)\n",
      "\n",
      "0: 352x640 2 Il/elle bâilles, 245.3ms\n",
      "Speed: 4.4ms preprocess, 245.3ms inference, 2.0ms postprocess per image at shape (1, 3, 352, 640)\n",
      "\n",
      "0: 352x640 2 Il/elle bâilles, 303.8ms\n",
      "Speed: 3.5ms preprocess, 303.8ms inference, 4.8ms postprocess per image at shape (1, 3, 352, 640)\n",
      "\n",
      "0: 352x640 1 Il/elle bâille, 289.9ms\n",
      "Speed: 6.9ms preprocess, 289.9ms inference, 6.8ms postprocess per image at shape (1, 3, 352, 640)\n",
      "\n",
      "0: 352x640 1 Il/elle bâille, 401.9ms\n",
      "Speed: 6.0ms preprocess, 401.9ms inference, 2.0ms postprocess per image at shape (1, 3, 352, 640)\n",
      "\n",
      "0: 352x640 1 Il/elle bâille, 294.1ms\n",
      "Speed: 13.6ms preprocess, 294.1ms inference, 2.0ms postprocess per image at shape (1, 3, 352, 640)\n",
      "\n",
      "0: 352x640 1 Il/elle bâille, 273.0ms\n",
      "Speed: 13.6ms preprocess, 273.0ms inference, 2.1ms postprocess per image at shape (1, 3, 352, 640)\n",
      "\n",
      "0: 352x640 1 Il/elle bâille, 288.4ms\n",
      "Speed: 4.0ms preprocess, 288.4ms inference, 2.8ms postprocess per image at shape (1, 3, 352, 640)\n",
      "\n",
      "0: 352x640 1 Il/elle bâille, 276.5ms\n",
      "Speed: 10.9ms preprocess, 276.5ms inference, 1.0ms postprocess per image at shape (1, 3, 352, 640)\n",
      "\n",
      "0: 352x640 1 Il/elle bâille, 270.4ms\n",
      "Speed: 10.2ms preprocess, 270.4ms inference, 3.0ms postprocess per image at shape (1, 3, 352, 640)\n",
      "\n",
      "0: 352x640 2 Il/elle bâilles, 251.5ms\n",
      "Speed: 6.1ms preprocess, 251.5ms inference, 1.5ms postprocess per image at shape (1, 3, 352, 640)\n",
      "\n",
      "0: 352x640 1 Il/elle bâille, 348.2ms\n",
      "Speed: 3.0ms preprocess, 348.2ms inference, 3.5ms postprocess per image at shape (1, 3, 352, 640)\n",
      "\n",
      "0: 352x640 1 Il/elle bâille, 236.7ms\n",
      "Speed: 6.7ms preprocess, 236.7ms inference, 2.1ms postprocess per image at shape (1, 3, 352, 640)\n",
      "\n",
      "0: 352x640 1 Il/elle bâille, 242.7ms\n",
      "Speed: 7.9ms preprocess, 242.7ms inference, 2.5ms postprocess per image at shape (1, 3, 352, 640)\n",
      "\n",
      "0: 352x640 2 Il/elle bâilles, 241.4ms\n",
      "Speed: 5.4ms preprocess, 241.4ms inference, 3.4ms postprocess per image at shape (1, 3, 352, 640)\n",
      "\n",
      "0: 352x640 1 Il/elle bâille, 259.6ms\n",
      "Speed: 5.0ms preprocess, 259.6ms inference, 2.0ms postprocess per image at shape (1, 3, 352, 640)\n",
      "\n",
      "0: 352x640 1 Il/elle bâille, 284.8ms\n",
      "Speed: 7.5ms preprocess, 284.8ms inference, 2.0ms postprocess per image at shape (1, 3, 352, 640)\n",
      "\n",
      "0: 352x640 1 Il/elle bâille, 393.3ms\n",
      "Speed: 3.7ms preprocess, 393.3ms inference, 1.0ms postprocess per image at shape (1, 3, 352, 640)\n",
      "\n",
      "0: 352x640 1 Il/elle bâille, 294.9ms\n",
      "Speed: 6.1ms preprocess, 294.9ms inference, 2.5ms postprocess per image at shape (1, 3, 352, 640)\n",
      "\n",
      "0: 352x640 2 Il/elle bâilles, 271.6ms\n",
      "Speed: 4.6ms preprocess, 271.6ms inference, 2.5ms postprocess per image at shape (1, 3, 352, 640)\n",
      "\n",
      "0: 352x640 2 Il/elle bâilles, 274.6ms\n",
      "Speed: 14.2ms preprocess, 274.6ms inference, 2.0ms postprocess per image at shape (1, 3, 352, 640)\n",
      "\n",
      "0: 352x640 1 Il/elle bâille, 387.8ms\n",
      "Speed: 9.7ms preprocess, 387.8ms inference, 2.2ms postprocess per image at shape (1, 3, 352, 640)\n",
      "\n",
      "0: 352x640 1 Il/elle bâille, 254.1ms\n",
      "Speed: 6.4ms preprocess, 254.1ms inference, 3.3ms postprocess per image at shape (1, 3, 352, 640)\n",
      "\n",
      "0: 352x640 2 Il/elle bâilles, 346.8ms\n",
      "Speed: 6.2ms preprocess, 346.8ms inference, 2.1ms postprocess per image at shape (1, 3, 352, 640)\n",
      "\n",
      "0: 352x640 2 Il/elle bâilles, 260.1ms\n",
      "Speed: 14.8ms preprocess, 260.1ms inference, 2.2ms postprocess per image at shape (1, 3, 352, 640)\n",
      "\n",
      "0: 352x640 1 Il/elle bâille, 255.9ms\n",
      "Speed: 4.2ms preprocess, 255.9ms inference, 1.6ms postprocess per image at shape (1, 3, 352, 640)\n",
      "\n",
      "0: 352x640 1 Il/elle bâille, 263.0ms\n",
      "Speed: 6.9ms preprocess, 263.0ms inference, 2.0ms postprocess per image at shape (1, 3, 352, 640)\n",
      "\n",
      "0: 352x640 1 Il/elle bâille, 241.5ms\n",
      "Speed: 11.1ms preprocess, 241.5ms inference, 2.5ms postprocess per image at shape (1, 3, 352, 640)\n",
      "\n",
      "0: 352x640 1 Il/elle bâille, 282.6ms\n",
      "Speed: 5.6ms preprocess, 282.6ms inference, 4.4ms postprocess per image at shape (1, 3, 352, 640)\n",
      "\n",
      "0: 352x640 1 Il/elle bâille, 359.8ms\n",
      "Speed: 5.4ms preprocess, 359.8ms inference, 2.7ms postprocess per image at shape (1, 3, 352, 640)\n",
      "\n",
      "0: 352x640 1 Il/elle bâille, 275.7ms\n",
      "Speed: 9.3ms preprocess, 275.7ms inference, 4.3ms postprocess per image at shape (1, 3, 352, 640)\n",
      "\n",
      "0: 352x640 1 Il/elle bâille, 284.2ms\n",
      "Speed: 19.5ms preprocess, 284.2ms inference, 2.0ms postprocess per image at shape (1, 3, 352, 640)\n",
      "\n",
      "0: 352x640 1 Il/elle bâille, 293.1ms\n",
      "Speed: 11.0ms preprocess, 293.1ms inference, 1.0ms postprocess per image at shape (1, 3, 352, 640)\n",
      "\n",
      "0: 352x640 1 Il/elle bâille, 323.7ms\n",
      "Speed: 7.7ms preprocess, 323.7ms inference, 2.8ms postprocess per image at shape (1, 3, 352, 640)\n",
      "\n",
      "0: 352x640 1 Il/elle bâille, 283.5ms\n",
      "Speed: 10.7ms preprocess, 283.5ms inference, 2.5ms postprocess per image at shape (1, 3, 352, 640)\n",
      "\n",
      "0: 352x640 1 Il/elle bâille, 324.9ms\n",
      "Speed: 4.8ms preprocess, 324.9ms inference, 2.0ms postprocess per image at shape (1, 3, 352, 640)\n",
      "\n",
      "0: 352x640 1 Il/elle bâille, 257.7ms\n",
      "Speed: 4.8ms preprocess, 257.7ms inference, 3.0ms postprocess per image at shape (1, 3, 352, 640)\n",
      "\n",
      "0: 352x640 (no detections), 255.3ms\n",
      "Speed: 4.9ms preprocess, 255.3ms inference, 2.0ms postprocess per image at shape (1, 3, 352, 640)\n",
      "\n",
      "0: 352x640 (no detections), 260.6ms\n",
      "Speed: 9.6ms preprocess, 260.6ms inference, 1.0ms postprocess per image at shape (1, 3, 352, 640)\n",
      "\n",
      "0: 352x640 (no detections), 264.9ms\n",
      "Speed: 3.4ms preprocess, 264.9ms inference, 1.0ms postprocess per image at shape (1, 3, 352, 640)\n",
      "\n",
      "0: 352x640 (no detections), 262.6ms\n",
      "Speed: 6.0ms preprocess, 262.6ms inference, 1.5ms postprocess per image at shape (1, 3, 352, 640)\n",
      "\n",
      "0: 352x640 (no detections), 368.7ms\n",
      "Speed: 6.0ms preprocess, 368.7ms inference, 1.0ms postprocess per image at shape (1, 3, 352, 640)\n",
      "\n",
      "0: 352x640 (no detections), 289.7ms\n",
      "Speed: 5.6ms preprocess, 289.7ms inference, 1.1ms postprocess per image at shape (1, 3, 352, 640)\n",
      "\n",
      "0: 352x640 (no detections), 299.0ms\n",
      "Speed: 8.2ms preprocess, 299.0ms inference, 4.4ms postprocess per image at shape (1, 3, 352, 640)\n",
      "\n",
      "0: 352x640 (no detections), 307.6ms\n",
      "Speed: 5.1ms preprocess, 307.6ms inference, 2.5ms postprocess per image at shape (1, 3, 352, 640)\n",
      "\n",
      "0: 352x640 (no detections), 352.1ms\n",
      "Speed: 3.6ms preprocess, 352.1ms inference, 1.0ms postprocess per image at shape (1, 3, 352, 640)\n",
      "\n",
      "0: 352x640 1 Il/elle dort sur le dos, 255.2ms\n",
      "Speed: 12.5ms preprocess, 255.2ms inference, 3.0ms postprocess per image at shape (1, 3, 352, 640)\n",
      "\n",
      "0: 352x640 (no detections), 370.2ms\n",
      "Speed: 5.7ms preprocess, 370.2ms inference, 1.0ms postprocess per image at shape (1, 3, 352, 640)\n",
      "\n",
      "0: 352x640 (no detections), 272.1ms\n",
      "Speed: 8.7ms preprocess, 272.1ms inference, 1.1ms postprocess per image at shape (1, 3, 352, 640)\n",
      "\n",
      "0: 352x640 (no detections), 250.9ms\n",
      "Speed: 4.5ms preprocess, 250.9ms inference, 1.0ms postprocess per image at shape (1, 3, 352, 640)\n",
      "\n",
      "0: 352x640 (no detections), 270.9ms\n",
      "Speed: 6.6ms preprocess, 270.9ms inference, 2.3ms postprocess per image at shape (1, 3, 352, 640)\n",
      "\n",
      "0: 352x640 (no detections), 264.5ms\n",
      "Speed: 10.7ms preprocess, 264.5ms inference, 1.4ms postprocess per image at shape (1, 3, 352, 640)\n",
      "\n",
      "0: 352x640 (no detections), 250.8ms\n",
      "Speed: 6.0ms preprocess, 250.8ms inference, 1.2ms postprocess per image at shape (1, 3, 352, 640)\n",
      "\n",
      "0: 352x640 (no detections), 394.7ms\n",
      "Speed: 5.1ms preprocess, 394.7ms inference, 1.0ms postprocess per image at shape (1, 3, 352, 640)\n",
      "\n",
      "0: 352x640 (no detections), 282.0ms\n",
      "Speed: 5.7ms preprocess, 282.0ms inference, 1.0ms postprocess per image at shape (1, 3, 352, 640)\n",
      "\n",
      "0: 352x640 (no detections), 282.4ms\n",
      "Speed: 6.6ms preprocess, 282.4ms inference, 2.0ms postprocess per image at shape (1, 3, 352, 640)\n",
      "\n",
      "0: 352x640 (no detections), 303.6ms\n",
      "Speed: 6.5ms preprocess, 303.6ms inference, 2.0ms postprocess per image at shape (1, 3, 352, 640)\n",
      "\n",
      "0: 352x640 (no detections), 282.8ms\n",
      "Speed: 9.1ms preprocess, 282.8ms inference, 1.0ms postprocess per image at shape (1, 3, 352, 640)\n"
     ]
    }
   ],
   "source": [
    "############################################ tester le model sur  une video \n",
    "from ultralytics import YOLO\n",
    "import cv2\n",
    "\n",
    "# Chargez le modèle YOLOv8 avec les poids pré-entraînés (best.pt)\n",
    "model = YOLO('C:/Users/dell/OneDrive/Bureau/mastere2/projet_fin_etude/runs/detect/train9/weights/best.pt')\n",
    "\n",
    "# Définissez le chemin d'accès à la vidéo\n",
    "video_path = 'C:/Users/dell/Downloads/432071402_7261582527287617_156936221514137622_n.mp4'\n",
    "\n",
    "# Ouvrez la vidéo\n",
    "cap = cv2.VideoCapture(video_path)\n",
    "\n",
    "# Boucle de traitement\n",
    "while True:\n",
    "    # Lisez une trame\n",
    "    ret, frame = cap.read()\n",
    "\n",
    "    # Si la fin de la vidéo est atteinte, quittez la boucle\n",
    "    if not ret:\n",
    "        break\n",
    "\n",
    "    # Exécutez l'inférence sur la trame\n",
    "    results = model(frame)\n",
    "\n",
    "    # Dessinez les boîtes englobantes sur la trame\n",
    "    for detection in results[0].boxes.xyxy:\n",
    "        # Récupérez les coordonnées de la boîte\n",
    "        x1, y1, x2, y2 = map(int, detection[:4])\n",
    "        # Dessinez la boîte sur la trame\n",
    "        cv2.rectangle(frame, (x1, y1), (x2, y2), (0, 255, 0), 2)\n",
    "\n",
    "    # Affichez la trame avec les boîtes englobantes\n",
    "    cv2.imshow('Video', frame)\n",
    "\n",
    "    # Quittez la boucle si la touche 'q' est pressée\n",
    "    if cv2.waitKey(1) & 0xFF == ord('q'):\n",
    "        break\n",
    "\n",
    "# Libérez la capture de la vidéo\n",
    "cap.release()\n",
    "\n",
    "# Détruisez toutes les fenêtres\n",
    "cv2.destroyAllWindows()\n"
   ]
  }
 ],
 "metadata": {
  "kernelspec": {
   "display_name": "Python 3",
   "language": "python",
   "name": "python3"
  },
  "language_info": {
   "codemirror_mode": {
    "name": "ipython",
    "version": 3
   },
   "file_extension": ".py",
   "mimetype": "text/x-python",
   "name": "python",
   "nbconvert_exporter": "python",
   "pygments_lexer": "ipython3",
   "version": "3.10.4"
  }
 },
 "nbformat": 4,
 "nbformat_minor": 2
}
